{
 "cells": [
  {
   "cell_type": "markdown",
   "metadata": {},
   "source": [
    "## RIHAD VARIAWA, Data Scientist - Who has fun LEARNING, EXPLORING & GROWING\n",
    "## Data Cleanup"
   ]
  },
  {
   "cell_type": "markdown",
   "metadata": {},
   "source": [
    "## Business and Data Understanding\n",
    "\n",
    "Pawdacity, a leading pet store chain in Wyoming, needs recommendation on where to open its 14th store.  \n",
    "Some of the data required in order to inform this decision are _city_, _2010 census population_, _Pawdacity sales in other stores_, _competitor sales_, _household with under 18_, _land area_, _population density_ and _total families_.\n"
   ]
  },
  {
   "cell_type": "markdown",
   "metadata": {},
   "source": [
    "## Building the Training Set\n",
    "\n",
    "By performing the select, formula, data cleansing and filter functions on 4 datasets, the averages for the variables below were obtained. Also attached below is the workflow to obtain the averages.\n",
    "\n",
    "| Column                   | Sum       | Average    |\n",
    "| :----------------------- | ---------:| ----------:|\n",
    "| Census Population        | 213,862   | 19,442     |\n",
    "| Total Pawdacity Sales\t   | 3,773,304 | 343,027.64 |\n",
    "| Households with Under 18 | 34,064    | 3,096.73   |\n",
    "| Land Area\t               | 33,071    | 3,006.49   |\n",
    "| Population Density       | 63        | 5.71       |\n",
    "| Total Families           | 62,653    | 5,695.71   |\n",
    "\n",
    "<p style=\"text-align: center;\">Table 1: Sums and Averages of Variables</p>"
   ]
  },
  {
   "cell_type": "markdown",
   "metadata": {},
   "source": [
    "## Dealing with Outliers\n",
    "\n",
    "<img src=\"https://user-images.githubusercontent.com/14093302/29740795-8137a894-8a91-11e7-951b-0a2db114cdfe.png\" alt=\"Figure 1\" width=\"800\" height=\"400\" />\n",
    "\n",
    "<p style=\"text-align: center;\">Figure 1: Scatterplots of Population-related variables versus Pawdacity Total Sales</p>\n",
    "\n",
    "Based on the 5 scatterplots above, the city of **Gillette** and **Cheyenne*** seem to be the outliers as their sales data are higher than expected. \n",
    "\n",
    "When the scatterplots are extrapolated, Cheyenne’s sales data falls within the expected range when extrapolated.  \n",
    "Thus, Gillette would be the outlier in this case when compared against all other cities due to its greatest distance from the linear trend.  \n",
    "Since the relationships between Gillette’s population related variables and total sales are still correlated, Gillette should be kept for analysis. "
   ]
  },
  {
   "cell_type": "markdown",
   "metadata": {},
   "source": [
    "## Alteryx Workflow\n",
    "\n",
    "<img src=\"https://user-images.githubusercontent.com/14093302/29740794-800c5be0-8a91-11e7-90ac-fb80125ac513.png\" alt=\"Figure 2\" width=\"600\" height=\"400\" />\n",
    "\n",
    "<p style=\"text-align: center;\">Figure 2: Workflow to obtain sums and averages of variables</p>\n",
    "\n",
    "\n"
   ]
  }
 ],
 "metadata": {
  "kernelspec": {
   "display_name": "Python 3",
   "language": "python",
   "name": "python3"
  },
  "language_info": {
   "codemirror_mode": {
    "name": "ipython",
    "version": 3
   },
   "file_extension": ".py",
   "mimetype": "text/x-python",
   "name": "python",
   "nbconvert_exporter": "python",
   "pygments_lexer": "ipython3",
   "version": "3.6.2"
  }
 },
 "nbformat": 4,
 "nbformat_minor": 2
}
