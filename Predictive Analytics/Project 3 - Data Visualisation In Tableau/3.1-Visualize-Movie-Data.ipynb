{
 "cells": [
  {
   "cell_type": "markdown",
   "metadata": {},
   "source": [
    "## RIHAD VARIAWA, Data Scientist - Who has fun LEARNING, EXPLORING & GROWING\n",
    "## Visualizing Movie Data"
   ]
  },
  {
   "cell_type": "markdown",
   "metadata": {},
   "source": [
    "## Data Cleanup and Attribute Selection\n",
    "\n",
    "* Attributes to be explored further in this project are _popularity_, _release year_, _genre_, _production company_, _budget adj_, _revenue adj_ and _gross margin_ (calculated field)\n",
    "* List of movies with 0 budget or revenue are removed. That leaves us with 3855 rows of data out of 10866 rows. Even though a large number of data are being excluded, the exclusion will help with the data investigation as budget and revenue are the main variables to be studied\n",
    "* When sorted by _popularity_, majority of movies with 0 budget or revenue are poorly ranked and should not skew the data, thus decision to remove them are justified\n",
    "\n",
    "#### Tableau Visualizations \n",
    "Public Profile:  \n",
    "https://public.tableau.com/profile/kaishengteh#!/vizhome/P3_VisulaizeMovieData/Q4\n"
   ]
  },
  {
   "cell_type": "markdown",
   "metadata": {},
   "source": [
    "## Question 1 Story: How have movie genres changed over time?\n",
    "\n",
    "#### Page 1: \n",
    "![p3 q1-1](https://user-images.githubusercontent.com/14093302/29742890-e4d71b6e-8ab9-11e7-91a6-27da56aa70e2.png)\n",
    "Movies of top 4 genres, i.e. Adventure, Action, Comedy and Drama are filtered out in order to better study the relationship between budget, revenue and number of movie release. Post-1990, there is a strong growth in number of movie release for these 4 genres with Drama registering the strongest growth while Adventure having the 4th strongest growth.\n",
    "\n",
    "#### Page 2: \n",
    "![p3 q1-2](https://user-images.githubusercontent.com/14093302/29742891-e4d70aca-8ab9-11e7-8136-f32344741964.png) \n",
    "On the budget side, Adventure genre movies has been allocated higher budget over the year followed by Action despite having lower number of movie release. There implies an opposite relationship between average budget allocated and number of movies release by genre.\n",
    "\n",
    "#### Page 3:\n",
    "![p3 q1-3](https://user-images.githubusercontent.com/14093302/29742889-e4cf6022-8ab9-11e7-8c85-3aed4628ae01.png)\n",
    "Revenue of movies is heavily influenced by the budget of the movies. Genre with higher budget typically enjoys higher revenue. This can be explains by lower number of movie release and thus having less direct competition and is able to monopolize a larger pie of audience market."
   ]
  },
  {
   "cell_type": "markdown",
   "metadata": {},
   "source": [
    "## Question 2: How do the attributes differ between Universal Pictures and Paramount Pictures?\n",
    "\n",
    "![p3 q2](https://user-images.githubusercontent.com/14093302/29742887-e4bca36a-8ab9-11e7-816b-b6507451c400.png) \n",
    "\n",
    "Universal Pictures (UP) releases more movies every year when compared to Paramount Pictures (PP). \n",
    "\n",
    "UP also enjoys higher revenue per movie when adjusted on average. Even though PP occasionally overtook UP, UP has always managed to improve its revenue. In fact, UP last year’s movies have registered the highest revenue in history, over 3 times the revenue of PP’s. \n",
    "\n",
    "Looking at the list of most popular movies, UP’s movies are consistently ranked higher than PP’s movies\n",
    "While it is not known whether UP’s popularity and revenue advantages is due to its higher number of movie release or the other way round, UP is definitely performing better than PP."
   ]
  },
  {
   "cell_type": "markdown",
   "metadata": {},
   "source": [
    "## Question 3: How have movies based on novels performed relative to movies not based on novels?\n",
    "\n",
    "![p3 q3](https://user-images.githubusercontent.com/14093302/29742888-e4bf5d44-8ab9-11e7-8cfc-0c808d5b0ba6.png)\n",
    "Even though number of novel based movie release yearly is small, its average revenue has been higher than non-novel based revenue after year 1990. Its popularity has also improved and is consistently higher."
   ]
  },
  {
   "cell_type": "markdown",
   "metadata": {},
   "source": [
    "## Question 4: What is the relationship between gross margin and budget of a movie?\n",
    "\n",
    "![p3 q4](https://user-images.githubusercontent.com/14093302/29742886-e4b933c4-8ab9-11e7-99f5-65b1a32ef7aa.png)\n",
    "In order or calculate gross margin, a field is created where the adjusted budget is subtracted from the adjusted revenue.\n",
    "\n",
    "When aggregating the data by genre and year, there is a clear trend that higher budget movies lead to higher gross margin. That might be the reason why budget allocated has ballooned over the years in order to chase after profit. Adventure and Action movies’ ability to guarantee hefty returns despite its high price tag might be one of the reasons they are among the top 4 genres in number of movie release (from Q1).\n",
    "\n",
    "When zooming down to each movie title level, there seems to be 3 trend lines. The trend line with the steepest positive slope indicated successful movies which register much higher gross margin despite having low budget. They are among the outliers. Majority of the movies follow the other 2 trend lines with gradual slopes. As observed, increase in budget also increases the probability of raking in higher gross margin/loss. \n",
    "\n",
    "This is in line with the expectation that investment with higher return comes with higher risk. However, majority of the movies registered positive gross margin and that is why most production companies are still willing to invest heavily to produce more movies over the years.\n",
    "\n",
    " \n",
    "\n"
   ]
  }
 ],
 "metadata": {
  "kernelspec": {
   "display_name": "Python 3",
   "language": "python",
   "name": "python3"
  },
  "language_info": {
   "codemirror_mode": {
    "name": "ipython",
    "version": 3
   },
   "file_extension": ".py",
   "mimetype": "text/x-python",
   "name": "python",
   "nbconvert_exporter": "python",
   "pygments_lexer": "ipython3",
   "version": "3.6.2"
  }
 },
 "nbformat": 4,
 "nbformat_minor": 2
}
