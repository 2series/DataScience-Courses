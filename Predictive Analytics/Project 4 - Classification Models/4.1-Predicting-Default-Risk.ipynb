{
 "cells": [
  {
   "cell_type": "markdown",
   "metadata": {},
   "source": [
    "## RIHAD VARIAWA, Data Scientist - Who has fun LEARNING, EXPLORING & GROWING\n",
    "W# Creditworthiness"
   ]
  },
  {
   "cell_type": "markdown",
   "metadata": {},
   "source": [
    "## Business and Data Understanding\n",
    "\n",
    "#### 1. What decisions needs to be made?\n",
    "\n",
    "The objective is to identify whether customers who applied for loan are creditworthy to be extended one.\n",
    "\n",
    "#### 2. What data is needed to inform those decisions?\n",
    "\n",
    "Data on past applications such as Account Balance and Credit Amount and list of customers to be processed are required in order to inform those decisions\n",
    "\n",
    "#### 3. What kind of model (Continuous, Binary, Non-Binary, Time-Series) do we need to use to help make these decisions?\n",
    "\n",
    "Binary classification models such as logistics regression, decision tree, forest model and boosted tree will be used to analyze and determine creditworthy customers"
   ]
  },
  {
   "cell_type": "markdown",
   "metadata": {},
   "source": [
    "## Building the Training Set\n",
    "\n",
    "An association analysis is performed on the numerical variables and there are no variables which are highly correlated with each other, i.e. a correlation of higher than 0.7. \n",
    "\n",
    "<img src=\"https://user-images.githubusercontent.com/14093302/29741244-5a877170-8a9b-11e7-90a8-eb5180944f8d.png\" alt=\"Figure 1\" width=\"400\" height=\"400\" />\n",
    "\n",
    "<p style=\"text-align: center;\">Figure 1: Correlation Matrix of variables</p>\n",
    "\n",
    "When summarizing all data fields, _Duration in Current Address_ has 69% missing data and should be removed. While _Age Years_ has 2% missing data, it is appropriate to impute the missing data with the median age. Median age is used instead of mean as the data is skewed to the left as shown below.\n",
    "\n",
    "In addition, _Concurrent Credits_ and _Occupation_ has one value while _Guarantors_, _Foreign Worker_ and _No of Dependents_ show low variability where more than 80% of the data skewed towards one data. These data should be removed in order not to skew our analysis results.\n",
    "\n",
    "_Telephone_ field should also be removed due to its irrelevancy to the customer creditworthy.\n",
    "\n",
    "<img src=\"https://user-images.githubusercontent.com/14093302/29741243-5a70fe18-8a9b-11e7-85f0-8f2e06d1f272.png\" alt=\"Figure 2-1\" width=\"800\" height=\"600\" />\n",
    "<img src=\"https://user-images.githubusercontent.com/14093302/29741242-5a667920-8a9b-11e7-9be8-c6b0f052411d.png\" alt=\"Figure 2-2\" width=\"800\" height=\"450\" />\n",
    "<p style=\"text-align: center;\">Figure 2: Field Summary of all variables</p>"
   ]
  },
  {
   "cell_type": "markdown",
   "metadata": {},
   "source": [
    "## Train your Classification Models\n",
    "\n",
    "#### a.\tLogistic Regression (Stepwise)\n",
    "\n",
    "Using _Credit Application Result_ as the target variables, _Account Balance_, _Purpose_ and _Credit Amount_ are the top 3 most significant variables with p-value of less than 0.05.\n",
    "\n",
    "<img src=\"https://user-images.githubusercontent.com/14093302/29741241-5a668b2c-8a9b-11e7-870c-368225e00c5e.png\" alt=\"Figure 3\" width=\"600\" height=\"300\" />\n",
    "<p style=\"text-align: center;\">Figure 3: Summary Report for Stepwise Logistic Regression Model</p>\n",
    "\n",
    "Overall accuracy is around 76.0% while accuracy for creditworthy is higher than non-creditworthy at 80.0% and 62.9% respectively. The model is biased towards predicting customers as non-creditworthy.\n",
    "\n",
    "![Figure 4](https://user-images.githubusercontent.com/14093302/29741239-5a600f4a-8a9b-11e7-8d1f-64aa50509ddf.png)\n",
    "<p style=\"text-align: center;\">Figure 4: Model Comparison Report for Stepwise Logistic Regression Model</p>\n",
    "\n",
    "#### b. Decision Tree\n",
    "\n",
    "Using Credit Application Result as the target variables, Account Balance, Value Savings Stocks and Duration of Credit Month are the top 3 most important variables. The overall accuracy is 74.7%. \n",
    "\n",
    "Accuracy for creditworthy is 79.1% while accuracy for non-creditworthy is 60.0%. The model seems to be biased towards predicting customers as non-creditworthy.\n",
    "\n",
    "<img src=\"https://user-images.githubusercontent.com/14093302/29741240-5a60c6c4-8a9b-11e7-9049-8cd5209c1c92.png\" alt=\"Figure 5\" width=\"800\" height=\"400\" />\n",
    "<p style=\"text-align: center;\">Figure 5: Decision Tree, Variable Importance and Confusion Matrix</p>\n",
    "\n",
    "![Figure 6](https://user-images.githubusercontent.com/14093302/29741238-5a5c89ce-8a9b-11e7-96ed-25af0a3ccad0.png)  \n",
    "<p style=\"text-align: center;\">Figure 6: Model Comparison Report for Decision Tree</p>\n",
    "\n",
    "#### c. Forest Model\n",
    "\n",
    "Using Credit Application Result as the target variables, Credit Amount, Age Years and Duration of Credit Month are the 3 most important variables.\n",
    "\n",
    "Overall accuracy is 80.0%. The model isn’t biased as the accuracies for creditworthy and non-creditworthy are 79.1% and 85.7% respectively, which are comparable.\n",
    " \n",
    "<img src=\"https://user-images.githubusercontent.com/14093302/29741237-5a412ed6-8a9b-11e7-8952-f47f806242cd.png\" alt=\"Figure 7\" width=\"800\" height=\"400\" />\n",
    "<p style=\"text-align: center;\">Figure 7: Percentage Error for Different Number of Trees and Variable Importance Plot</p>\n",
    "\n",
    "![Figure 8](https://user-images.githubusercontent.com/14093302/29741235-5a38827c-8a9b-11e7-9404-77cfcf83665c.png)\n",
    "<p style=\"text-align: center;\">Figure 8: Model Comparison Report for Forest Model</p>\n",
    "\n",
    "#### d. Boosted Model\n",
    "\n",
    "Account Balance and Credit Amount are the most significant variables from figure 10. \n",
    "Overall accuracy for is 76.7%. Accuracies for creditworthy and non-creditworthy are 76.7% and 78.3% respectively which indicates a lack of bias in predicting credit-worthiness of customers.\n",
    "\n",
    "<img src=\"https://user-images.githubusercontent.com/14093302/29741236-5a38923a-8a9b-11e7-9862-4c663ea64ea1.png\" alt=\"Figure 9\" width=\"400\" height=\"250\" />\n",
    "<p style=\"text-align: center;\">Figure 9: Variable Importance Plot for Boosted Model</p>\n",
    "\n",
    "![Figure 10](https://user-images.githubusercontent.com/14093302/29741233-5a348c58-8a9b-11e7-9451-e95b1ae83688.png)\n",
    "<p style=\"text-align: center;\">Figure 10: Model Comparison Report for Boosted Model</p>"
   ]
  },
  {
   "cell_type": "markdown",
   "metadata": {},
   "source": [
    "## Write-Up\n",
    "Forest model is chosen as it offers the highest accuracy at 80% against validation set.  \n",
    "Its accuracies for creditworthy and non-creditworthy are among the highest of all.\n",
    "\n",
    "Forest model reaches the true positive rate at the fastes rate. The accuracy difference between creditworthy and non-creditworthy are also comparable which makes it least bias towards any decisions. This is crucial in avoiding lending money to customers with high probability of defaulting while ensuring opportunities are not overlooked by not loaning to creditworthy customers.\n",
    "\n",
    "Tthere are **408 creditworthy cutomers** using forest models to score new customers.\n",
    "\n",
    "![Figure 11](https://user-images.githubusercontent.com/14093302/29741234-5a3599d6-8a9b-11e7-8764-dc4d81fc1e21.png)\n",
    "<p style=\"text-align: center;\">Figure 11: Model Comparison Report for all 4 classification models</p>\n",
    "\n",
    "![Figure 12](https://user-images.githubusercontent.com/14093302/29741232-5a31739c-8a9b-11e7-9ae5-d1e73caf64c7.png) \n",
    "<p style=\"text-align: center;\">Figure 12: ROC curve for all 4 classification models</p>\n"
   ]
  },
  {
   "cell_type": "markdown",
   "metadata": {},
   "source": [
    "## Alteryx Flow\n",
    "\n",
    "![Figure 13](https://user-images.githubusercontent.com/14093302/29741245-5a8c4074-8a9b-11e7-9ddb-17bdba28ca9f.png)"
   ]
  }
 ],
 "metadata": {
  "kernelspec": {
   "display_name": "Python 3",
   "language": "python",
   "name": "python3"
  },
  "language_info": {
   "codemirror_mode": {
    "name": "ipython",
    "version": 3
   },
   "file_extension": ".py",
   "mimetype": "text/x-python",
   "name": "python",
   "nbconvert_exporter": "python",
   "pygments_lexer": "ipython3",
   "version": "3.6.2"
  }
 },
 "nbformat": 4,
 "nbformat_minor": 2
}
