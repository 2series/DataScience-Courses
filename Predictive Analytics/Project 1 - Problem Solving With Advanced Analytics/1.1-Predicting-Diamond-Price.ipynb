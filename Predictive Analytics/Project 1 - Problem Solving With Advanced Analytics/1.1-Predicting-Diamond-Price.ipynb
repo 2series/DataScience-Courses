{
 "cells": [
  {
   "cell_type": "markdown",
   "metadata": {
    "collapsed": true
   },
   "source": [
    "## RIHAD VARIAWA, Data Scientist - Who has fun LEARNING, EXPLORING & GROWING\n",
    "## Diamond Prices"
   ]
  },
  {
   "cell_type": "markdown",
   "metadata": {},
   "source": [
    "## Understanding the Model\n",
    "\n",
    "#### 1. According to the linear model provided, if a diamond is 1 carat heavier than another with the same cut and clarity, how much more should we expect to pay? Why?\n",
    "\n",
    "A diamond 1 carat heavier than another is **$8,413 more**, with the cut quality and the clarity being the same.\n",
    "\n",
    "##### 2. If you were interested in a 1.5 carat diamond with a Very Good cut (represented by a 3 in the model) and a VS2 clarity rating (represented by a 5 in the model), how much would the model predict you should pay for it?\n",
    "\n",
    "Price = _- 5,269 + 8,413 x Carat + 158.1 x Cut + 454 x Clarity_  \n",
    "&nbsp;&nbsp;&nbsp;&nbsp;&nbsp;&nbsp;&nbsp;&nbsp;&nbsp;_= - 5269 + 8413 x (1.5) + 158.1 x (3) + 454 x (5)_  \n",
    "&nbsp;&nbsp;&nbsp;&nbsp;&nbsp;&nbsp;&nbsp;&nbsp;&nbsp;_= $10094.8_\n",
    "  \n",
    "Using linear regression model, it would cost **$10,094.80**."
   ]
  },
  {
   "cell_type": "markdown",
   "metadata": {},
   "source": [
    "## Visualize the Data\n",
    "\n",
    "##### 1.\tPlot 1 - Plot the data for the diamonds in the database, with carat on the x-axis and price on the y-axis. \n",
    "\n",
    "![Image of Plot 1](https://user-images.githubusercontent.com/14093302/29494458-396a130c-85dd-11e7-9fc8-86c8ec0cad46.png) \n",
    "\n",
    "##### 2.\tPlot 2 - Plot the data for the diamonds for which you are predicting prices with carat on the x-axis and predicted price on the y-axis. \n",
    "\n",
    "![Image of Plot 2](https://user-images.githubusercontent.com/14093302/29494459-399221e4-85dd-11e7-8216-b4f4fe2c837e.png)\n",
    "    \n",
    "##### 3.\tWhat strikes you about this comparison? After seeing this plot, do you feel confident in the model’s ability to predict prices? \n",
    "\n",
    "* The relationship between price and carat are less obvious when the diamond carat is less than 0.5 because the predicted price can often fall below $0 which is not possible\n",
    "\n",
    "* It also predicts a higher price for diamond larger than 3 carat\n",
    "    \n",
    "* There should be more factors in determining the price of diamond\n",
    "\n",
    "* The model shows a strong correlation between carat and price when carat is between 0.5 to 2"
   ]
  },
  {
   "cell_type": "markdown",
   "metadata": {},
   "source": [
    "## Make a Recommendation\n",
    "\n",
    "##### 1.\tWhat price do you recommend the jewelry company to bid? Please explain how you arrived at that number. HINT: The number should be 7 digits.\n",
    "\n",
    "* Each diamond price is predicted using linear regression model\n",
    "\n",
    "* The predicted prices are summed up\n",
    "\n",
    "* Apply a 70% on the summation for all predicted prices for bidding price\n",
    "\n",
    "The bid price is recommended to be **$8,213,466**."
   ]
  }
 ],
 "metadata": {
  "kernelspec": {
   "display_name": "Python 3",
   "language": "python",
   "name": "python3"
  },
  "language_info": {
   "codemirror_mode": {
    "name": "ipython",
    "version": 3
   },
   "file_extension": ".py",
   "mimetype": "text/x-python",
   "name": "python",
   "nbconvert_exporter": "python",
   "pygments_lexer": "ipython3",
   "version": "3.6.2"
  }
 },
 "nbformat": 4,
 "nbformat_minor": 2
}
