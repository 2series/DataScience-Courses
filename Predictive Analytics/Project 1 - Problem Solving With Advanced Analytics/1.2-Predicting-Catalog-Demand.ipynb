{
 "cells": [
  {
   "cell_type": "markdown",
   "metadata": {},
   "source": [
    "## RIHAD VARIAWA, Data Scientist - Who has fun LEARNING, EXPLORING & GROWING\n",
    "## Predicting Catalog Demand"
   ]
  },
  {
   "cell_type": "markdown",
   "metadata": {},
   "source": [
    "## Business and Data Understanding\n",
    "\n",
    "#### 1. What decisions needs to be made?\n",
    "\n",
    "The decision to be made is whether to send the catalog to these 250 new customers based on expected profit calculated.\t\n",
    "\n",
    "#### 2. What data is needed to inform those decisions?\n",
    "\n",
    "Some of the data needed to predict sales and calculate expected profit are _Customer Segment_, _Average Number of Product Purchased_, _Score_Yes_, _Margin_ and _Cost of Catalog_. "
   ]
  },
  {
   "cell_type": "markdown",
   "metadata": {},
   "source": [
    "## Analysis, Modeling, and Validation\n",
    "\n",
    "#### 1. How and why did you select the predictor variables (see supplementary text) in your model? \n",
    "\n",
    "A linear regression study is performed on all variables against Average Sale Amount. As shown below, only Average Number of Product and Customer Segment have a p-value of less 0.05 which implies statistical significance. Scatterplots of Average Number of Product and Customer Segment versus Average Sale Amount are also plotted to study the linearity.\n",
    " \n",
    "<img src=\"https://user-images.githubusercontent.com/14093302/29737956-8df4c14e-8a4a-11e7-85a3-aa2b5bf3519d.png\" alt=\"Figure 1\" width=\"800\" height=\"400\" />\n",
    "    \n",
    "<p style=\"text-align: center;\">Figure 1: Report for Linear Model Predictor_Variables</p>\n",
    "\n",
    "<img src=\"https://user-images.githubusercontent.com/14093302/29737961-8f4da7b8-8a4a-11e7-8eb5-7fc4d08749e8.png\" alt=\"Figure 2\" width=\"400\" height=\"400\" />\n",
    "    \n",
    "<p style=\"text-align: center;\">Figure 2: Scatterplots of Avg Number of Products Purchased</p>\n",
    "\n",
    "<img src=\"https://user-images.githubusercontent.com/14093302/29737962-914953dc-8a4a-11e7-8266-55ae0f1cb8e5.png\" alt=\"Figure 3\" width=\"400\" height=\"400\" />\n",
    "\n",
    "<p style=\"text-align: center;\">Figure 3: Scatterplots of Customer Segment vs Avg Sale Amount</p>\n",
    "\n",
    "#### 2. Explain why you believe your linear model is a good model.\n",
    "\n",
    "The Alteryx linear regression function is used to determine the strength of the linear and the statistical result shows an adjusted R-squared value of 0.8366 which is a high value. Customer Segment and Average Number of Products also have a p-value lower than 0.05, implying their statistical significance. Thus, the model is considered a good one.\n",
    "\n",
    "<img src=\"https://user-images.githubusercontent.com/14093302/29737964-917eb5b8-8a4a-11e7-8492-c175cba9d9c5.png\" alt=\"Figure 4\" width=\"800\" height=\"400\" />\n",
    "\n",
    "<p style=\"text-align: center;\">Figure 4: Report for Statistical Result</p>\n",
    "\n",
    "#### 3. What is the best linear regression equation based on the available data? Each coefficient should have no more than 2 digits after the decimal (ex: 1.28)\n",
    "\n",
    "Avg_Sale_Amount = \t303.46 – 149.36 x (If Type: Loyalty Club Only) + 281.84 x (If Type: Loyalty Club and Credit Card) – 245.42 x (If Type: Store Mailing List)  \n",
    "&nbsp;&nbsp;&nbsp;&nbsp;&nbsp;&nbsp;&nbsp;&nbsp;&nbsp;&nbsp;&nbsp;&nbsp;&nbsp;&nbsp;&nbsp;&nbsp;&nbsp;&nbsp;&nbsp;&nbsp;&nbsp;&nbsp;&nbsp;&nbsp;&nbsp;&nbsp;&nbsp;&nbsp;&nbsp;&nbsp;&nbsp;+ 0 x (If Type: Credit Card Only) + 66.98 x (Avg_Num_Products_Purchased)"
   ]
  },
  {
   "cell_type": "markdown",
   "metadata": {},
   "source": [
    "## Presentation/Visualization\n",
    "\n",
    "#### 1. What is your recommendation? Should the company send the catalog to these 250 customers?\n",
    "    \n",
    "The company should send the catalog to these 250 new customers.\n",
    "\n",
    "#### 2. How did you come up with your recommendation? (Please explain your process so reviewers can give you feedback on your process)\n",
    "    \n",
    "Using linear regression model, the expected revenue from each customer is determined by multiplying expected sale amount with Score_Yes value.  \n",
    "With a gross margin of 50%, 50% is deducted from the sum of expected revenue before the cost of catalog ($6.50) is subtracted to obtain net profit.\n",
    "\n",
    "#### 3. What is the expected profit from the new catalog (assuming the catalog is sent to these 250 customers)?\n",
    "\n",
    "Expected Profit = _(Sum of expected revenue x Gross Margin) – (Cost of Catalog x 250)_\n",
    "\n",
    "&nbsp;&nbsp;&nbsp;&nbsp;&nbsp;&nbsp;&nbsp;&nbsp;&nbsp;&nbsp;&nbsp;&nbsp;&nbsp;&nbsp;&nbsp;&nbsp;&nbsp;&nbsp;&nbsp;&nbsp;&nbsp;&nbsp;&nbsp;&nbsp;&nbsp;&nbsp;= _(47,225.87 x 0.5) – (6.50 x 250)_\n",
    "\n",
    "&nbsp;&nbsp;&nbsp;&nbsp;&nbsp;&nbsp;&nbsp;&nbsp;&nbsp;&nbsp;&nbsp;&nbsp;&nbsp;&nbsp;&nbsp;&nbsp;&nbsp;&nbsp;&nbsp;&nbsp;&nbsp;&nbsp;&nbsp;&nbsp;&nbsp;&nbsp;= _23,612.44 – 1,625_\n",
    "\n",
    "&nbsp;&nbsp;&nbsp;&nbsp;&nbsp;&nbsp;&nbsp;&nbsp;&nbsp;&nbsp;&nbsp;&nbsp;&nbsp;&nbsp;&nbsp;&nbsp;&nbsp;&nbsp;&nbsp;&nbsp;&nbsp;&nbsp;&nbsp;&nbsp;&nbsp;&nbsp;= _$21,987.44_"
   ]
  },
  {
   "cell_type": "markdown",
   "metadata": {},
   "source": [
    "## Variables Distribution\n",
    "\n",
    "Variables such as _Address_, _Name_, _State_, _Customer ID_, _Store Number_ and _ZIP_ are not important predictor variables as they are either unique to each value or irrelevant in predicting the sale using common sense.\n",
    "\n",
    "_City_, _Responded to Last Catalog_ and _# Years as Customer_ might seem to be a good predictor as they are not unique ID but linear regression model showed that they are statistically insignificant.\n",
    "\n",
    "More data from category of items purchased, items turnover duration will be helpful to understand customer’s buying behavior where we can exploit it to segment our customers and customize the catalog.\n",
    "\n",
    "<img src=\"https://user-images.githubusercontent.com/14093302/29737963-91752462-8a4a-11e7-93f4-26029ffe3a57.png\" alt=\"Figure 5\" width=\"1000\" height=\"600\" />\n",
    "\n",
    "<p style=\"text-align: center;\">Figure 5: Distribution of each variable in the Customer List dataset</p>"
   ]
  },
  {
   "cell_type": "markdown",
   "metadata": {},
   "source": [
    "## Alteryx Workflow\n",
    "\n",
    "<img src=\"https://user-images.githubusercontent.com/14093302/29740529-0626a340-8a8b-11e7-8237-04d1088d670f.png\" alt=\"Figure 6\" width=\"500\" height=\"250\" />"
   ]
  }
 ],
 "metadata": {
  "kernelspec": {
   "display_name": "Python 3",
   "language": "python",
   "name": "python3"
  },
  "language_info": {
   "codemirror_mode": {
    "name": "ipython",
    "version": 3
   },
   "file_extension": ".py",
   "mimetype": "text/x-python",
   "name": "python",
   "nbconvert_exporter": "python",
   "pygments_lexer": "ipython3",
   "version": "3.6.2"
  }
 },
 "nbformat": 4,
 "nbformat_minor": 2
}
