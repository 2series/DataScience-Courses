{
 "cells": [
  {
   "cell_type": "markdown",
   "metadata": {},
   "source": [
    "## RIHAD VARIAWA, Data Scientist - Who has fun LEARNING, EXPLORING & GROWING\n",
    "## Forecasting Sales"
   ]
  },
  {
   "cell_type": "markdown",
   "metadata": {},
   "source": [
    "## Plan Your Analysis\n",
    "\n",
    "#### 1. Does the dataset meet the criteria of a time series dataset? Make sure to explore all four key characteristics of a time series data.\n",
    "To meet the criteria of a time series dataset, each measurement of data taken across a continuous time interval is sequential and of equal intervals, each time unit having at most one data point, ordering matters in the list of observations and dependency of time.\n",
    "\n",
    "#### 2. Which records should be used as the holdout sample?\n",
    "Holdout sample size depends on how far the prediction is. Since we need to predict the sales for the next 4 months, a 4-month long holdout sample from Jun-13 till Sept-13 should be used. \n"
   ]
  },
  {
   "cell_type": "markdown",
   "metadata": {},
   "source": [
    "## Determine Trend, Seasonal, and Error components \n",
    "\n",
    "#### 1. What are the trend, seasonality, and error of the time series? Show how you were able to determine the components using time series plots. Include the graphs.\n",
    "\n",
    "<img src=\"https://user-images.githubusercontent.com/14093302/29741690-60ce87f4-8aa4-11e7-8d51-01b8ae4c4a55.png\" alt=\"Figure 1-1\" width=\"500\" height=\"500\" />\n",
    "<img src=\"https://user-images.githubusercontent.com/14093302/29741688-60a94a84-8aa4-11e7-82fb-ace0b1fd641f.png\" alt=\"Figure 1-2\" width=\"500\" height=\"500\" />\n",
    "\n",
    "The time series and decomposition plots are generated using TS plot function.  \n",
    "The seasonality and trend show increasing trends, thus multiplication and addition should be applied respectively.  \n",
    "For error plot, there isn’t a trend but rather fluctuations and thus should be applied multiplicatively as well. \n"
   ]
  },
  {
   "cell_type": "markdown",
   "metadata": {},
   "source": [
    "## Build your Models\n",
    "\n",
    "### ETS Model\n",
    "\n",
    "#### 1. What are the model terms for ETS? Explain why you chose those terms.\n",
    "ETS(M,A,M) is chosen based on the decomposition plot above. A dampened and non-dampened ETS models are run with a holdout sample of 4 months.\n",
    "\n",
    "**Non-dampened ETS model:**\n",
    "<img src=\"https://user-images.githubusercontent.com/14093302/29741689-60abc020-8aa4-11e7-8136-1fbcf12ee0ec.png\" alt=\"Figure 2-1\" width=\"400\" height=\"800\" />\n",
    "<img src=\"https://user-images.githubusercontent.com/14093302/29742025-2f1da4c8-8aaa-11e7-9d48-6e65cc6b75ce.png\" alt=\"Figure 2-2\" width=\"400\" height=\"300\" />\n",
    "\n",
    "The AIC value is **1639.74**, RMSE (Moot Mean Square Error) is **32992.73** and MASE (Mean Absolute Percentage Error) is **0.3727**.\n",
    "\n",
    "**Dampened ETS Model:**\n",
    "<img src=\"https://user-images.githubusercontent.com/14093302/29741685-60a29572-8aa4-11e7-9840-8aa0e01e5d5c.png\" alt=\"Figure 3-1\" width=\"400\" height=\"80\" />\n",
    "<img src=\"https://user-images.githubusercontent.com/14093302/29741686-60a3e792-8aa4-11e7-9d97-7db1099096fd.png\" alt=\"Figure 3-2\" width=\"400\" height=\"300\" />\n",
    " \n",
    "The AIC value is **1639.47**, RMSE is **33153.53** and MASE is **0.3675**.\n",
    "\n",
    "**Non-Dampened:**\n",
    "<img src=\"https://user-images.githubusercontent.com/14093302/29741684-60a14cc6-8aa4-11e7-9196-585c7a03c9eb.png\" alt=\"Figure 4\" width=\"400\" height=\"250\" />\n",
    "\n",
    "**Dampened:**\n",
    "<img src=\"https://user-images.githubusercontent.com/14093302/29741705-613821aa-8aa4-11e7-8602-c1e2f8deb658.png\" alt=\"Figure 12-2\" width=\"400\" height=\"250\" />\n",
    "\t\t\t\t       \n",
    "By comparing the forecast and actual results, **dampened model** is chosen due to its higher accuracy.\n",
    "The dampened model’s RMSE & MASE are lower and could offset its marginally lower AIC.\n",
    "\n",
    "### ARIMA Model\n",
    "\n",
    "#### 2. What are the model terms for ARIMA? Explain why you chose those terms. \n",
    "<img src=\"https://user-images.githubusercontent.com/14093302/29741704-612d8a56-8aa4-11e7-8583-6f5f2eaee75a.png\" alt=\"Figure 6\" width=\"400\" height=\"150\" />\n",
    "\n",
    "Without differencing, the time series and seasonal component’s Auto-Correlation Function (ACF) shows high correlation and the Partial Autocorrelation Function (PACF) shows a significant lag at period 13 which is due to seasonal effect.\n",
    "\n",
    "<img src=\"https://user-images.githubusercontent.com/14093302/29741703-612d7426-8aa4-11e7-9e16-8208b76c673f.png\" alt=\"Figure 7\" width=\"800\" height=\"300\" />\n",
    "A seasonal difference is then taken. However, the ACF still shows high correlation while the data doesn’t have strong correlation in PACF after a seasonal difference is applied.\n",
    "\n",
    "<img src=\"https://user-images.githubusercontent.com/14093302/29741702-612c6d56-8aa4-11e7-9dd9-40758c99a289.png\" alt=\"Figure 8\" width=\"800\" height=\"300\" />\n",
    "A seasonal first difference is performed and ACF plot doesn’t show strong correlation anymore. \n",
    "\n",
    "<img src=\"https://user-images.githubusercontent.com/14093302/29741700-610c17e0-8aa4-11e7-924f-088663863a6f.png\" alt=\"Figure 9\" width=\"800\" height=\"300\" />\n",
    "ARIMA(0,1,1)(0,1,0)12 is used as lag-1 is negative and the number of period is 12 months.\n",
    "\n",
    "<img src=\"https://user-images.githubusercontent.com/14093302/29742227-a9aef7c0-8aad-11e7-9952-5e6412b6bc70.png\" alt=\"Figure 10\" width=\"400\" height=\"300\" />\n",
    "As shown above, the AIC is **1256.60**, RMSE is **36761.53** and **MASE is 0.3646**.\n",
    "\n",
    "<img src=\"https://user-images.githubusercontent.com/14093302/29741699-610a3dee-8aa4-11e7-8bf1-e0e45047a5ec.png\" alt=\"Figure 11\" width=\"400\" height=\"250\" />\n",
    "Both ACF and PACF doesn’t shows significant correlation and no additional AR or MA terms needed.\n"
   ]
  },
  {
   "cell_type": "markdown",
   "metadata": {},
   "source": [
    "## Forecast\n",
    "\n",
    "#### 1. Which model did you choose? Justify your answer by showing: in-sample error measurements and forecast error measurements against the holdout sample.\n",
    "\n",
    "<img src=\"https://user-images.githubusercontent.com/14093302/29742264-6301af92-8aae-11e7-9c9b-6fabf9346f25.png\" alt=\"Figure 12\" width=\"800\" height=\"300\" />\n",
    "\n",
    "ARIMA model is better at forecasting sales using holdout sample as validation data as the MAPE and ME value are lower than ETS model.\n",
    "\n",
    "The RMSE for ARIMA is **33999.79** compared to ETS’ RMSE at **60176.47**. ARIMA’s MASE value of **0.4532** is also lower than ETS’ MASE value of **0.8116**. It is clear that ARIMA model is better since its in-sample error measurements and forecast error measurements are smaller.\n",
    "\n",
    "#### 2. What is the forecast for the next four periods? Graph the results using 95% and 80% confidence intervals.\n",
    "\n",
    "<img src=\"https://user-images.githubusercontent.com/14093302/29741695-60da9b98-8aa4-11e7-8d50-42d572de4d57.png\" alt=\"Figure 13\" width=\"600\" height=\"400\" />\n",
    "\n",
    "The forecast for the next 4 periods (Oct-13 till Jan-14) are **754,854**, **785,854**, **684,654** and **687,854**.\n"
   ]
  },
  {
   "cell_type": "markdown",
   "metadata": {},
   "source": [
    "## Alteryx Workflow\n",
    "\n",
    "<img src=\"https://user-images.githubusercontent.com/14093302/29741691-60cef09a-8aa4-11e7-94a8-c9bb7b7a3657.png\" alt=\"Figure 16\" width=\"600\" height=\"400\" />\n",
    "<p style=\"text-align: center;\">Workflow 1: ARIMA Workflow</p>\n",
    "\n",
    "<img src=\"https://user-images.githubusercontent.com/14093302/29741692-60d03c98-8aa4-11e7-88cd-5796bb6b0102.png\" alt=\"Figure 17\" width=\"600\" height=\"400\" />\n",
    "<p style=\"text-align: center;\">Workflow 2: ETS Workflow</p>"
   ]
  }
 ],
 "metadata": {
  "kernelspec": {
   "display_name": "Python 3",
   "language": "python",
   "name": "python3"
  },
  "language_info": {
   "codemirror_mode": {
    "name": "ipython",
    "version": 3
   },
   "file_extension": ".py",
   "mimetype": "text/x-python",
   "name": "python",
   "nbconvert_exporter": "python",
   "pygments_lexer": "ipython3",
   "version": "3.6.2"
  }
 },
 "nbformat": 4,
 "nbformat_minor": 2
}
