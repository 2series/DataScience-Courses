{
 "cells": [
  {
   "cell_type": "markdown",
   "metadata": {},
   "source": [
    "# Mean Normalization\n",
    "\n",
    "In machine learning we use large amounts of data to train our models. Some machine learning algorithms may require that the data is *normalized* in order to work correctly. The idea of normalization, also known as *feature scaling*, is to ensure that all the data is on a similar scale, *i.e.* that all the data takes on a similar range of values. For example, we might have a dataset that has values between 0 and 5,000. By normalizing the data we can make the range of values be between 0 and 1.\n",
    "\n",
    "In this lab, you will be performing a different kind of feature scaling known as *mean normalization*. Mean normalization will scale the data, but instead of making the values be between 0 and 1, it will distribute the values evenly in some small interval around zero. For example, if we have a dataset that has values between 0 and 5,000, after mean normalization the range of values will be distributed in some small range around 0, for example between -3 to 3. Because the range of values are distributed evenly around zero, this guarantees that the average (mean) of all elements will be zero. Therefore, when you perform *mean normalization* your data will not only be scaled but it will also have an average of zero. \n",
    "\n",
    "# To Do:\n",
    "\n",
    "You will start by importing NumPy and creating a rank 2 ndarray of random integers between 0 and 5,000 (inclusive) with 1000 rows and 20 columns. This array will simulate a dataset with a wide range of values. Fill in the code below"
   ]
  },
  {
   "cell_type": "code",
   "execution_count": 4,
   "metadata": {},
   "outputs": [
    {
     "name": "stdout",
     "output_type": "stream",
     "text": [
      "(1000, 20)\n"
     ]
    }
   ],
   "source": [
    "# import NumPy into Python\n",
    "import numpy as np\n",
    "\n",
    "\n",
    "# Create a 1000 x 20 ndarray with random integers in the half-open interval [0, 5001).\n",
    "X = np.random.randint(0,5001,(1000,20))\n",
    "\n",
    "# print the shape of X\n",
    "print(X.shape)\n"
   ]
  },
  {
   "cell_type": "markdown",
   "metadata": {},
   "source": [
    "Now that you created the array we will mean normalize it. We will perform mean normalization using the following equation:\n",
    "\n",
    "$\\mbox{Norm_Col}_i = \\frac{\\mbox{Col}_i - \\mu_i}{\\sigma_i}$\n",
    "\n",
    "where $\\mbox{Col}_i$ is the $i$th column of $X$, $\\mu_i$ is average of the values in the $i$th column of $X$, and $\\sigma_i$ is the standard deviation of the values in the $i$th column of $X$. In other words, mean normalization is performed by subtracting from each column of $X$ the average of its values, and then by dividing by the standard deviation of its values. In the space below, you will first calculate the average and standard deviation of each column of $X$. "
   ]
  },
  {
   "cell_type": "code",
   "execution_count": 13,
   "metadata": {},
   "outputs": [
    {
     "name": "stdout",
     "output_type": "stream",
     "text": [
      "(20,)\n"
     ]
    }
   ],
   "source": [
    "# Average of the values in each column of X\n",
    "ave_cols = X.mean(axis=0)\n",
    "\n",
    "# Standard Deviation of the values in each column of X\n",
    "std_cols = X.std(axis=0)\n"
   ]
  },
  {
   "cell_type": "markdown",
   "metadata": {},
   "source": [
    "If you have done the above calculations correctly, then `ave_cols` and `std_cols`, should both be vectors with shape `(20,)` since $X$ has 20 columns. You can verify this by filling the code below:"
   ]
  },
  {
   "cell_type": "code",
   "execution_count": 15,
   "metadata": {},
   "outputs": [
    {
     "name": "stdout",
     "output_type": "stream",
     "text": [
      "(20,)\n",
      "(20,)\n"
     ]
    }
   ],
   "source": [
    "# Print the shape of ave_cols\n",
    "print(ave_cols.shape)\n",
    "\n",
    "# Print the shape of std_cols\n",
    "print(std_cols.shape)\n"
   ]
  },
  {
   "cell_type": "markdown",
   "metadata": {},
   "source": [
    "You can now take advantage of Broadcasting to calculate the mean normalized version of $X$ in just one line of code using the equation above. Fill in the code below"
   ]
  },
  {
   "cell_type": "code",
   "execution_count": 25,
   "metadata": {},
   "outputs": [],
   "source": [
    "# Mean normalize X\n",
    "X_norm = (X - ave_cols) / std_cols"
   ]
  },
  {
   "cell_type": "markdown",
   "metadata": {},
   "source": [
    "If you have performed the mean normalization correctly, then the average of all the elements in $X_{\\tiny{\\mbox{norm}}}$ should be close to zero, and they should be evenly distributed in some small interval around zero. You can verify this by filing the code below:"
   ]
  },
  {
   "cell_type": "code",
   "execution_count": 29,
   "metadata": {},
   "outputs": [
    {
     "name": "stdout",
     "output_type": "stream",
     "text": [
      "0.0\n",
      "-1.72373400532\n",
      "1.72975162862\n"
     ]
    }
   ],
   "source": [
    "# Print the average of all the values of X_norm\n",
    "print(np.mean(X_norm))\n",
    "\n",
    "# Print the average of the minimum value in each column of X_norm\n",
    "print(X_norm.min(axis=0).mean())\n",
    "\n",
    "# Print the average of the maximum value in each column of X_norm\n",
    "print(X_norm.max(axis=0).mean())\n"
   ]
  },
  {
   "cell_type": "markdown",
   "metadata": {},
   "source": [
    "You should note that since $X$ was created using random integers, the above values will vary. \n",
    "\n",
    "# Data Separation\n",
    "\n",
    "After the data has been mean normalized, it is customary in machine learnig to split our dataset into three sets:\n",
    "\n",
    "1. A Training Set\n",
    "2. A Cross Validation Set\n",
    "3. A Test Set\n",
    "\n",
    "The dataset is usually divided such that the Training Set contains 60% of the data, the Cross Validation Set contains 20% of the data, and the Test Set contains 20% of the data. \n",
    "\n",
    "In this part of the lab you will separate `X_norm` into a Training Set, Cross Validation Set, and a Test Set. Each data set will contain rows of `X_norm` chosen at random, making sure that we don't pick the same row twice. This will guarantee that all the rows of `X_norm` are chosen and randomly distributed among the three new sets.\n",
    "\n",
    "You will start by creating a rank 1 ndarray that contains a random permutation of the row indices of `X_norm`. You can do this by using the `np.random.permutation()` function. The `np.random.permutation(N)` function creates a random permutation of integers from 0 to `N - 1`. Let's see an example:"
   ]
  },
  {
   "cell_type": "code",
   "execution_count": 32,
   "metadata": {},
   "outputs": [
    {
     "data": {
      "text/plain": [
       "array([4, 0, 1, 3, 2])"
      ]
     },
     "execution_count": 32,
     "metadata": {},
     "output_type": "execute_result"
    }
   ],
   "source": [
    "# We create a random permutation of integers 0 to 4\n",
    "np.random.permutation(5)"
   ]
  },
  {
   "cell_type": "markdown",
   "metadata": {},
   "source": [
    "# To Do\n",
    "\n",
    "In the space below create a rank 1 ndarray that contains a random permutation of the row indices of `X_norm`. You can do this in one line of code by extracting the number of rows of `X_norm` using the `shape` attribute and then passing it to the  `np.random.permutation()` function. Remember the `shape` attribute returns a tuple with two numbers in the form `(rows,columns)`."
   ]
  },
  {
   "cell_type": "code",
   "execution_count": 37,
   "metadata": {},
   "outputs": [
    {
     "name": "stdout",
     "output_type": "stream",
     "text": [
      "[509 155 548 172 140 940 471 284 619 741 649 768 912 175 703 487 148 439\n",
      "  41 376  94 353 166 581 164 134 189 319 484 396  80 277 543 863 738 733\n",
      " 815 578 587 633 138  46 579 652 117 436 552 802 237  25  36 338   7 393\n",
      " 397 566 423 718   5 390 358 596 441 335 187 982 906 655 412 322 258 679\n",
      " 454 623 726 204 821 860 640 818 904 884 866 220 970  52 986 769 625  58\n",
      "  75 303 483  87 275 886 364 752 437 235  32 891 489 754 799 727  96 503\n",
      " 717   2 404 774 598 779 682 174 413 416 714 588 944 926 188  31 725 570\n",
      " 160  45 263 327 194 491 271 485 928 109 936 820 677 296 805 456 110 429\n",
      " 307 375 120 340 972 731 711 861  33 373 384 223 932 984 108 332 837 639\n",
      " 289 806 902 628 406 261 395 707 556 976 253 987 658 880 952 510 361 242\n",
      " 427  21 156 529 710  16  84 870 527 382 697 663  70 869  57 214 642 841\n",
      " 943 536 541 226 559   0 875 118 895 230 898 666 661 288 699 966 730 929\n",
      " 459 580 290 265 469 147 236 414  11 463 538 403 946 567 638  85   4 641\n",
      " 594 247 474 135 670 917 477 282 465 159  69 783 627 654 257 834 514  28\n",
      "  23 961 951 211 468 551 811 786 800 308 326 945 464  97 141 369 100 363\n",
      " 400 761 960 673 564 643 680 554 539 829 634 170 822 807 205 195 568 318\n",
      " 450 212 796 601 113 701 613 704 675 782  86   9 355 283 709 883  38 735\n",
      " 496  93 297 293 737 221 616 611 900 162 826 202 550 668 472 181 415 993\n",
      " 706 572 227 374 844 574 939 981 449 569 760 298 121 801   3 977  18 482\n",
      " 239 432 317 618 956 602  53 958 791 809 745 565 646  73 157 831 914 563\n",
      " 755 301 644 635 409 814 687 991 723   1 919 728 770 344 651 757 111 350\n",
      " 337 705 690 992 825 858 689 103 387 610 624 546 216 150 116 217 589 922\n",
      " 329 792 698 910 693 999 348 268 419 995  62 520 142 207 203 127 965 857\n",
      " 854  56 252 784 410  79 775  91 787 927 615 836 672 255 508 577  10 399\n",
      "  13 762 190 969 428 448  89 851 931  30 442 377 269 732 716 133 692 346\n",
      " 305 316 647 470  82 158 425 372 790 747  76 823 495 817  49 475 228 517\n",
      " 168 729 853 722 617 603 435 830  77  27 245 530 114 631 973 249 700  60\n",
      " 198 280 955 789 246 342 209 561  59 867  74  54 126 191  92 426 422 128\n",
      " 813 367 405  17 177 819 467 492 488 490 916 694 285 525 560 378 193 907\n",
      " 231 521 816 899 294 115 420 850 144 773 365 325 742 354 748 455 137 273\n",
      "  71 498 391 918 715 771  40 421 686 998 433 676 173 328 793 506 968 937\n",
      " 107 724 959 740 386 664 540 695 123 381 407 997 122 911 744 336 996 524\n",
      " 331 878 299 657 532 505 523 855  68 746 440  90 349 196  48 176 903 913\n",
      " 500 112 146  67 874 954 894  63 824 896 398  19 183 767 180 607 276 302\n",
      " 988 776 185 626  29 408 637 590 810 321 139   8 948 612 292 656 315 286\n",
      " 424 371 576 750 323 780 571 512 691 979 888 438 479 238 964 494 368 153\n",
      " 215 466 145 200  12 309 763 279 149 848 983 461 306 179 636 169 648 962\n",
      " 167 887 777 743 124 104 352 751 585 544 669 184 586 259 222 980  42 901\n",
      " 847 671 224 925 846 445 178 555 665 808 605 549 481  61 924 876 129 324\n",
      " 130 447 957 545 460  65  26 333 310 256 411 753 151 632 531 734 885 660\n",
      " 163  64 513 161 629 370 264 583 897 758 909  72 537 872 766 152 963 795\n",
      " 553 480 915 272 736 935 362  78 696 383 702 334 765 812 803  47 385 838\n",
      " 739  15 827 357 210 154 143 994 462 849 862 171 674 938 772 511 595 788\n",
      "  66 515 949 606 678 893 401 934 291 234 359 380 418 493 165 443 248 241\n",
      " 573 921 845  81 620 785 219 244 650 262 974 978 360 295 871 313 502 835\n",
      " 868 312 507 314 889 953 347 879 417 947 599 608 281 908 430 457 597 614\n",
      " 497 645 379 989 749 865 394 392 562 287 192  39 721 920 304 839 341 199\n",
      "  22 478 877 533 708 186 843 756  50 584 201 431 759 225 218 558 859 535\n",
      " 453  95 274 593 182 476 446 930 534  43 473 950 402 990 967 712 339 713\n",
      " 856 719 797 366 389 542 213 434  51 975 941 311 852 232 609 351 458 131\n",
      " 254 499 971 933 575 942 892 547 681 105 688 653  99 778 592 864 504 444\n",
      " 832  44 101 842   6 250 840 667  88 528 229 197 662 243 106 260 781 267\n",
      "  55 270 343 798 604  14 591 720 136 600 345  98 519 132 486 300 452 522\n",
      " 683 206 119 266 881 890 526 659 516 233  35 873  24 684 985 582 622 923\n",
      " 501 240 804 356 518 833 388 764 330 320 125 451 557 630 621  20 882 685\n",
      " 208 794 251 905  37  34 828 102  83 278]\n"
     ]
    }
   ],
   "source": [
    "# Create a rank 1 ndarray that contains a random permutation of the row indices of `X_norm`\n",
    "row_indices = np.random.permutation(X_norm.shape[0])"
   ]
  },
  {
   "cell_type": "markdown",
   "metadata": {},
   "source": [
    "Now you can create the three datasets using the `row_indices` ndarray to select the rows that will go into each dataset. Rememeber that the Training Set contains 60% of the data, the Cross Validation Set contains 20% of the data, and the Test Set contains 20% of the data. Each set requires just one line of code to create. Fill in the code below"
   ]
  },
  {
   "cell_type": "code",
   "execution_count": 62,
   "metadata": {},
   "outputs": [
    {
     "name": "stdout",
     "output_type": "stream",
     "text": [
      "(600, 20)\n",
      "(200, 20)\n",
      "(200, 20)\n"
     ]
    }
   ],
   "source": [
    "# Make any necessary calculations.\n",
    "# You can save your calculations into variables to use later.\n",
    "\n",
    "\n",
    "# Create a Training Set\n",
    "X_train = X_norm[row_indices < 600,:]\n",
    "\n",
    "# Create a Cross Validation Set\n",
    "X_crossVal = X_norm[np.logical_and(row_indices > 600,row_indices <= 800),:]\n",
    "\n",
    "# Create a Test Set\n",
    "X_test = X_norm[row_indices >= 800,:]"
   ]
  },
  {
   "cell_type": "markdown",
   "metadata": {},
   "source": [
    "If you performed the above calculations correctly, then `X_tain` should have 600 rows and 20 columns, `X_crossVal` should have 200 rows and 20 columns, and `X_test` should have 200 rows and 20 columns. You can verify this by filling the code below:"
   ]
  },
  {
   "cell_type": "code",
   "execution_count": null,
   "metadata": {},
   "outputs": [],
   "source": [
    "# Print the shape of X_train\n",
    "\n",
    "\n",
    "# Print the shape of X_crossVal\n",
    "\n",
    "\n",
    "# Print the shape of X_test\n"
   ]
  },
  {
   "cell_type": "code",
   "execution_count": null,
   "metadata": {},
   "outputs": [],
   "source": []
  }
 ],
 "metadata": {
  "kernelspec": {
   "display_name": "Python 3",
   "language": "python",
   "name": "python3"
  },
  "language_info": {
   "codemirror_mode": {
    "name": "ipython",
    "version": 3
   },
   "file_extension": ".py",
   "mimetype": "text/x-python",
   "name": "python",
   "nbconvert_exporter": "python",
   "pygments_lexer": "ipython3",
   "version": "3.6.3"
  }
 },
 "nbformat": 4,
 "nbformat_minor": 2
}
