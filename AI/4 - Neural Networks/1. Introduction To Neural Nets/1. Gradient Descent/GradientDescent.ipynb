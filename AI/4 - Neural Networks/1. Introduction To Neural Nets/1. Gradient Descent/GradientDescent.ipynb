{
 "cells": [
  {
   "cell_type": "markdown",
   "metadata": {},
   "source": [
    "# Implementing the Gradient Descent Algorithm\n",
    "\n",
    "In this lab, we'll implement the basic functions of the Gradient Descent algorithm to find the boundary in a small dataset. First, we'll start with some functions that will help us plot and visualize the data."
   ]
  },
  {
   "cell_type": "code",
   "execution_count": 1,
   "metadata": {},
   "outputs": [],
   "source": [
    "import matplotlib.pyplot as plt\n",
    "import numpy as np\n",
    "import pandas as pd\n",
    "\n",
    "#Some helper functions for plotting and drawing lines\n",
    "\n",
    "def plot_points(X, y):\n",
    "    admitted = X[np.argwhere(y==1)]\n",
    "    rejected = X[np.argwhere(y==0)]\n",
    "    plt.scatter([s[0][0] for s in rejected], [s[0][1] for s in rejected], s = 25, color = 'blue', edgecolor = 'k')\n",
    "    plt.scatter([s[0][0] for s in admitted], [s[0][1] for s in admitted], s = 25, color = 'red', edgecolor = 'k')\n",
    "\n",
    "def display(m, b, color='g--'):\n",
    "    plt.xlim(-0.05,1.05)\n",
    "    plt.ylim(-0.05,1.05)\n",
    "    x = np.arange(-10, 10, 0.1)\n",
    "    plt.plot(x, m*x+b, color)"
   ]
  },
  {
   "cell_type": "markdown",
   "metadata": {},
   "source": [
    "## Reading and plotting the data"
   ]
  },
  {
   "cell_type": "code",
   "execution_count": 2,
   "metadata": {},
   "outputs": [
    {
     "data": {
      "image/png": "[encoded data removed]",
      "text/plain": [
       "<matplotlib.figure.Figure at 0x7fb8f9be6a58>"
      ]
     },
     "metadata": {},
     "output_type": "display_data"
    }
   ],
   "source": [
    "data = pd.read_csv('data.csv', header=None)\n",
    "X = np.array(data[[0,1]])\n",
    "y = np.array(data[2])\n",
    "plot_points(X,y)\n",
    "plt.show()"
   ]
  },
  {
   "cell_type": "markdown",
   "metadata": {},
   "source": [
    "## TODO: Implementing the basic functions\n",
    "Here is your turn to shine. Implement the following formulas, as explained in the text.\n",
    "- Sigmoid activation function\n",
    "\n",
    "$$\\sigma(x) = \\frac{1}{1+e^{-x}}$$\n",
    "\n",
    "- Output (prediction) formula\n",
    "\n",
    "$$\\hat{y} = \\sigma(w_1 x_1 + w_2 x_2 + b)$$\n",
    "\n",
    "- Error function\n",
    "\n",
    "$$Error(y, \\hat{y}) = - y \\log(\\hat{y}) - (1-y) \\log(1-\\hat{y})$$\n",
    "\n",
    "- The function that updates the weights\n",
    "\n",
    "$$ w_i \\longrightarrow w_i + \\alpha (y - \\hat{y}) x_i$$\n",
    "\n",
    "$$ b \\longrightarrow b + \\alpha (y - \\hat{y})$$"
   ]
  },
  {
   "cell_type": "code",
   "execution_count": 3,
   "metadata": {},
   "outputs": [],
   "source": [
    "# Implement the following functions\n",
    "\n",
    "# Activation (sigmoid) function\n",
    "def sigmoid(x):\n",
    "    return (1 / (1 + np.exp(-x)))\n",
    "\n",
    "# Output (prediction) formula\n",
    "def output_formula(features, weights, bias):\n",
    "    return sigmoid(np.matmul(features, weights) + bias)\n",
    "    \n",
    "\n",
    "# Error (log-loss) formula\n",
    "def error_formula(y, output):\n",
    "    return - y * np.log(output) - (1 - y) * np.log(1 - output)\n",
    "\n",
    "# Gradient descent step\n",
    "def update_weights(x, y, weights, bias, learnrate):\n",
    "    yhat = output_formula(x, weights, bias)\n",
    "    weights = weights + learnrate * (y - yhat) * x\n",
    "    bias = bias + learnrate * (y - yhat)\n",
    "    return weights, bias"
   ]
  },
  {
   "cell_type": "markdown",
   "metadata": {},
   "source": [
    "## Training function\n",
    "This function will help us iterate the gradient descent algorithm through all the data, for a number of epochs. It will also plot the data, and some of the boundary lines obtained as we run the algorithm."
   ]
  },
  {
   "cell_type": "code",
   "execution_count": 4,
   "metadata": {},
   "outputs": [],
   "source": [
    "np.random.seed(44)\n",
    "\n",
    "epochs = 100\n",
    "learnrate = 0.01\n",
    "\n",
    "def train(features, targets, epochs, learnrate, graph_lines=False):\n",
    "    \n",
    "    errors = []\n",
    "    n_records, n_features = features.shape\n",
    "    last_loss = None\n",
    "    weights = np.random.normal(scale=1 / n_features**.5, size=n_features)\n",
    "    bias = 0\n",
    "    for e in range(epochs):\n",
    "        print(\"starting epoch:{}\".format(e))\n",
    "        del_w = np.zeros(weights.shape)\n",
    "        for x, y in zip(features, targets):\n",
    "            output = output_formula(x, weights, bias)\n",
    "            error = error_formula(y, output)\n",
    "            weights, bias = update_weights(x, y, weights, bias, learnrate)\n",
    "        \n",
    "        # Printing out the log-loss error on the training set\n",
    "        out = output_formula(features, weights, bias)\n",
    "        loss = np.mean(error_formula(targets, out))\n",
    "        errors.append(loss)\n",
    "        if e % (epochs / 10) == 0:\n",
    "            print(\"\\n========== Epoch\", e,\"==========\")\n",
    "            if last_loss and last_loss < loss:\n",
    "                print(\"Train loss: \", loss, \"  WARNING - Loss Increasing\")\n",
    "            else:\n",
    "                print(\"Train loss: \", loss)\n",
    "            last_loss = loss\n",
    "            predictions = out > 0.5\n",
    "            accuracy = np.mean(predictions == targets)\n",
    "            print(\"Accuracy: \", accuracy)\n",
    "    \n",
    "    return weights, bias, errors\n",
    "\n",
    "def train_plot(features,targets,weights,bias):\n",
    "    # Plotting the solution boundary\n",
    "    plt.title(\"Solution boundary\")\n",
    "    display(-weights[0]/weights[1], -bias/weights[1], 'black')\n",
    "    plot_points(features, targets)\n",
    "    plt.show()\n",
    "\n",
    "def train_err(errors):\n",
    "    plt.title(\"Error Plot\")\n",
    "    plt.xlabel('Number of epochs')\n",
    "    plt.ylabel('Error')\n",
    "    plt.plot(errors)\n",
    "    plt.show()"
   ]
  },
  {
   "cell_type": "markdown",
   "metadata": {},
   "source": [
    "## Time to train the algorithm!\n",
    "When we run the function, we'll obtain the following:\n",
    "- 10 updates with the current training loss and accuracy\n",
    "- A plot of the data and some of the boundary lines obtained. The final one is in black. Notice how the lines get closer and closer to the best fit, as we go through more epochs.\n",
    "- A plot of the error function. Notice how it decreases as we go through more epochs."
   ]
  },
  {
   "cell_type": "code",
   "execution_count": 5,
   "metadata": {},
   "outputs": [
    {
     "name": "stdout",
     "output_type": "stream",
     "text": [
      "starting epoch:0\n",
      "\n",
      "========== Epoch 0 ==========\n",
      "Train loss:  0.713584519538\n",
      "Accuracy:  0.4\n",
      "starting epoch:1\n",
      "starting epoch:2\n",
      "starting epoch:3\n",
      "starting epoch:4\n",
      "starting epoch:5\n",
      "starting epoch:6\n",
      "starting epoch:7\n",
      "starting epoch:8\n",
      "starting epoch:9\n",
      "starting epoch:10\n",
      "\n",
      "========== Epoch 10 ==========\n",
      "Train loss:  0.622583521045\n",
      "Accuracy:  0.59\n",
      "starting epoch:11\n",
      "starting epoch:12\n",
      "starting epoch:13\n",
      "starting epoch:14\n",
      "starting epoch:15\n",
      "starting epoch:16\n",
      "starting epoch:17\n",
      "starting epoch:18\n",
      "starting epoch:19\n",
      "starting epoch:20\n",
      "\n",
      "========== Epoch 20 ==========\n",
      "Train loss:  0.554874408367\n",
      "Accuracy:  0.74\n",
      "starting epoch:21\n",
      "starting epoch:22\n",
      "starting epoch:23\n",
      "starting epoch:24\n",
      "starting epoch:25\n",
      "starting epoch:26\n",
      "starting epoch:27\n",
      "starting epoch:28\n",
      "starting epoch:29\n",
      "starting epoch:30\n",
      "\n",
      "========== Epoch 30 ==========\n",
      "Train loss:  0.501606141872\n",
      "Accuracy:  0.84\n",
      "starting epoch:31\n",
      "starting epoch:32\n",
      "starting epoch:33\n",
      "starting epoch:34\n",
      "starting epoch:35\n",
      "starting epoch:36\n",
      "starting epoch:37\n",
      "starting epoch:38\n",
      "starting epoch:39\n",
      "starting epoch:40\n",
      "\n",
      "========== Epoch 40 ==========\n",
      "Train loss:  0.459333464186\n",
      "Accuracy:  0.86\n",
      "starting epoch:41\n",
      "starting epoch:42\n",
      "starting epoch:43\n",
      "starting epoch:44\n",
      "starting epoch:45\n",
      "starting epoch:46\n",
      "starting epoch:47\n",
      "starting epoch:48\n",
      "starting epoch:49\n",
      "starting epoch:50\n",
      "\n",
      "========== Epoch 50 ==========\n",
      "Train loss:  0.425255434335\n",
      "Accuracy:  0.93\n",
      "starting epoch:51\n",
      "starting epoch:52\n",
      "starting epoch:53\n",
      "starting epoch:54\n",
      "starting epoch:55\n",
      "starting epoch:56\n",
      "starting epoch:57\n",
      "starting epoch:58\n",
      "starting epoch:59\n",
      "starting epoch:60\n",
      "\n",
      "========== Epoch 60 ==========\n",
      "Train loss:  0.397346157167\n",
      "Accuracy:  0.93\n",
      "starting epoch:61\n",
      "starting epoch:62\n",
      "starting epoch:63\n",
      "starting epoch:64\n",
      "starting epoch:65\n",
      "starting epoch:66\n",
      "starting epoch:67\n",
      "starting epoch:68\n",
      "starting epoch:69\n",
      "starting epoch:70\n",
      "\n",
      "========== Epoch 70 ==========\n",
      "Train loss:  0.374146976524\n",
      "Accuracy:  0.93\n",
      "starting epoch:71\n",
      "starting epoch:72\n",
      "starting epoch:73\n",
      "starting epoch:74\n",
      "starting epoch:75\n",
      "starting epoch:76\n",
      "starting epoch:77\n",
      "starting epoch:78\n",
      "starting epoch:79\n",
      "starting epoch:80\n",
      "\n",
      "========== Epoch 80 ==========\n",
      "Train loss:  0.354599733682\n",
      "Accuracy:  0.94\n",
      "starting epoch:81\n",
      "starting epoch:82\n",
      "starting epoch:83\n",
      "starting epoch:84\n",
      "starting epoch:85\n",
      "starting epoch:86\n",
      "starting epoch:87\n",
      "starting epoch:88\n",
      "starting epoch:89\n",
      "starting epoch:90\n",
      "\n",
      "========== Epoch 90 ==========\n",
      "Train loss:  0.337927365888\n",
      "Accuracy:  0.94\n",
      "starting epoch:91\n",
      "starting epoch:92\n",
      "starting epoch:93\n",
      "starting epoch:94\n",
      "starting epoch:95\n",
      "starting epoch:96\n",
      "starting epoch:97\n",
      "starting epoch:98\n",
      "starting epoch:99\n"
     ]
    }
   ],
   "source": [
    "weights, bias, errors = train(X, y, epochs, learnrate, True)\n",
    "\n"
   ]
  },
  {
   "cell_type": "code",
   "execution_count": 6,
   "metadata": {},
   "outputs": [
    {
     "data": {
      "image/png": "[encoded data removed]",
      "text/plain": [
       "<matplotlib.figure.Figure at 0x7fb8d4251d68>"
      ]
     },
     "metadata": {},
     "output_type": "display_data"
    }
   ],
   "source": [
    "train_plot(X, y, weights,bias)"
   ]
  },
  {
   "cell_type": "code",
   "execution_count": 7,
   "metadata": {},
   "outputs": [
    {
     "data": {
      "image/png": "[encoded data removed]",
      "text/plain": [
       "<matplotlib.figure.Figure at 0x7fb8d4251978>"
      ]
     },
     "metadata": {},
     "output_type": "display_data"
    }
   ],
   "source": [
    "train_err(errors)"
   ]
  },
  {
   "cell_type": "code",
   "execution_count": null,
   "metadata": {},
   "outputs": [],
   "source": []
  }
 ],
 "metadata": {
  "kernelspec": {
   "display_name": "Python 3",
   "language": "python",
   "name": "python3"
  },
  "language_info": {
   "codemirror_mode": {
    "name": "ipython",
    "version": 3
   },
   "file_extension": ".py",
   "mimetype": "text/x-python",
   "name": "python",
   "nbconvert_exporter": "python",
   "pygments_lexer": "ipython3",
   "version": "3.6.3"
  }
 },
 "nbformat": 4,
 "nbformat_minor": 2
}
