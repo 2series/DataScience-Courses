{
  "nbformat": 4,
  "nbformat_minor": 0,
  "metadata": {
    "colab": {
      "name": "lendingclub_prediction.ipynb",
      "version": "0.3.2",
      "provenance": [],
      "collapsed_sections": []
    },
    "kernelspec": {
      "name": "python3",
      "display_name": "Python 3"
    },
    "accelerator": "GPU"
  },
  "cells": [
    {
      "metadata": {
        "_uuid": "95fd0bd0486a2b3639c532b0c5730a8364d83ec9",
        "id": "TqYD5KakAwcy",
        "colab_type": "text"
      },
      "cell_type": "markdown",
      "source": [
        "# Prediction of LendingClub loan defaulters\n",
        "#### RIHAD VARIAWA\n",
        "#### 09-03-2019\n",
        "\n",
        "The dataset used for this analysis can be found using the following [link](https://www.kaggle.com/wendykan/lending-club-loan-data)\n",
        "\n",
        "## About LendingClub:\n",
        "LendingClub is a US peer-to-peer lending company, headquartered in San Francisco, California. It was the first peer-to-peer lender to register its offerings as securities with the Securities and Exchange Commission (SEC), and to offer loan trading on a secondary market. Lending Club is the world's largest peer-to-peer lending platform.The company claims that $ 15.98 billion in loans had been originated through its platform up to December 31, 2015.\n",
        "\n",
        "Lending Club enables borrowers to create unsecured personal loans between $$1,000 and $ 40,000. The standard loan period is three years. Investors can search and browse the loan listings on Lending Club website and select loans that they want to invest in based on the information supplied about the borrower, amount of loan, loan grade, and loan purpose. Investors make money from interest. Lending Club makes money by charging borrowers an origination fee and investors a service fee.\n",
        "\n",
        "\n",
        "## About the Dataset\n",
        "These files contain complete loan data for all loans issued through the 2007-2015, including the current loan status (Current, Late, Fully Paid, etc.) and latest payment information. The file containing loan data through the \"present\" contains complete loan data for all loans issued through the previous completed calendar quarter. Additional features include credit scores, number of finance inquiries, address including zip codes, and state, and collections among others. The file is a matrix of about 890 thousand observations and 75 variables. A data dictionary is provided in a separate file. k\n",
        "\n",
        "## Purpose of this analysis\n",
        "We will go step by step for building a machine learning algorith for the prediction of loan defaulters based on certain variables present in the dataset. Our main goal is to correctly identifying defaulter's (True positives) so that lending club can decide whether a person is fit for sanctioning a loan or not in the future.\n"
      ]
    },
    {
      "metadata": {
        "id": "dmX7Bh8SKSaP",
        "colab_type": "text"
      },
      "cell_type": "markdown",
      "source": [
        "## How Lending Club Works?\n",
        "<img src=\"http://echeck.org/wp-content/uploads/2016/12/Showing-how-the-lending-club-works-and-makes-money-1.png\">"
      ]
    },
    {
      "metadata": {
        "_uuid": "e08e625d4bd4f3884b79295e37163abfa8b458ec",
        "id": "9uqGsK31Awcz",
        "colab_type": "text"
      },
      "cell_type": "markdown",
      "source": [
        "### Packages\n",
        "We will start by importing the packages that will be used throughout the analysis"
      ]
    },
    {
      "metadata": {
        "trusted": true,
        "_uuid": "edce02b2d198e896f7b3a91760d8dafe6111cb4d",
        "id": "wJF0JBdXAwc0",
        "colab_type": "code",
        "colab": {}
      },
      "cell_type": "code",
      "source": [
        "# data manipulations and prepocessing\n",
        "import pandas as pd\n",
        "import numpy as np\n",
        "\n",
        "# data visualization\n",
        "import seaborn as sns\n",
        "import matplotlib.pyplot as plt\n",
        "from sklearn.model_selection import train_test_split\n",
        "from sklearn.model_selection import cross_val_score\n",
        "from sklearn.model_selection import GridSearchCV\n",
        "from sklearn.preprocessing import StandardScaler\n",
        "from sklearn.metrics import confusion_matrix\n",
        "from sklearn.metrics import roc_auc_score\n",
        "from sklearn.metrics import roc_curve\n",
        "from scipy.stats import boxcox"
      ],
      "execution_count": 0,
      "outputs": []
    },
    {
      "metadata": {
        "id": "pZI7y3_YA7jJ",
        "colab_type": "code",
        "outputId": "55adaeb7-c2c7-4ccd-959e-b1c8d4fd8fe5",
        "colab": {
          "resources": {
            "http://localhost:8080/nbextensions/google.colab/files.js": {
              "data": "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",
              "ok": true,
              "headers": [
                [
                  "content-type",
                  "application/javascript"
                ]
              ],
              "status": 200,
              "status_text": ""
            }
          },
          "base_uri": "https://localhost:8080/",
          "height": 72
        }
      },
      "cell_type": "code",
      "source": [
        "from google.colab import files\n",
        "files.upload()"
      ],
      "execution_count": 0,
      "outputs": [
        {
          "output_type": "display_data",
          "data": {
            "text/html": [
              "\n",
              "     <input type=\"file\" id=\"files-bf8b83c7-db15-4e95-89a7-d46a6d28c3e9\" name=\"files[]\" multiple disabled />\n",
              "     <output id=\"result-bf8b83c7-db15-4e95-89a7-d46a6d28c3e9\">\n",
              "      Upload widget is only available when the cell has been executed in the\n",
              "      current browser session. Please rerun this cell to enable.\n",
              "      </output>\n",
              "      <script src=\"/nbextensions/google.colab/files.js\"></script> "
            ],
            "text/plain": [
              "<IPython.core.display.HTML object>"
            ]
          },
          "metadata": {
            "tags": []
          }
        },
        {
          "output_type": "stream",
          "text": [
            "Saving loan.csv.zip to loan.csv.zip\n"
          ],
          "name": "stdout"
        }
      ]
    },
    {
      "metadata": {
        "id": "HIk9wImkBWJ8",
        "colab_type": "code",
        "colab": {}
      },
      "cell_type": "code",
      "source": [
        "!ls"
      ],
      "execution_count": 0,
      "outputs": []
    },
    {
      "metadata": {
        "id": "0Wo38IbBBYKQ",
        "colab_type": "code",
        "colab": {}
      },
      "cell_type": "code",
      "source": [
        "!unzip loan.csv.zip"
      ],
      "execution_count": 0,
      "outputs": []
    },
    {
      "metadata": {
        "trusted": true,
        "_uuid": "6d8e0238e9700d35f850eec1e0fc15bc15b5734e",
        "id": "x6JpxsQZAwc4",
        "colab_type": "code",
        "colab": {}
      },
      "cell_type": "code",
      "source": [
        "# read the dataset\n",
        "df = pd.read_csv(\"loan.csv\", low_memory=False)\n",
        "df.head(3)"
      ],
      "execution_count": 0,
      "outputs": []
    },
    {
      "metadata": {
        "_uuid": "aff77007bcedfcf597f23806d8f89ccd2bfafea0",
        "id": "3UeVZzY5Awc7",
        "colab_type": "text"
      },
      "cell_type": "markdown",
      "source": [
        "## Data Cleaning"
      ]
    },
    {
      "metadata": {
        "trusted": true,
        "_uuid": "48420d5feb0d5d9cf8762ba528e7a391a57b17bf",
        "id": "z028MIU_Awc8",
        "colab_type": "code",
        "colab": {}
      },
      "cell_type": "code",
      "source": [
        "# find the count and percentage of values that are missing in the dataframe.\n",
        "df_null = pd.DataFrame({'Count': df.isnull().sum(), 'Percent': 100*df.isnull().sum()/len(df)})\n",
        "\n",
        "# print columns with null count more than 0\n",
        "df_null[df_null['Count'] > 0] "
      ],
      "execution_count": 0,
      "outputs": []
    },
    {
      "metadata": {
        "_uuid": "fa68a0e27bdc1af6ddf4adf84189baf39dbb8509",
        "id": "vVRHi58zAwc_",
        "colab_type": "text"
      },
      "cell_type": "markdown",
      "source": [
        "As you can see, there are a lot of columns which have huge chunk of data missing. These columns are not necessary for our \n",
        "analysis. The following part will drop any columns where 80% or more data is missing. This will help us clean the Dataset \n",
        "a little bit."
      ]
    },
    {
      "metadata": {
        "trusted": true,
        "_uuid": "a14af76a43cbf285a905d2c5a0af38c2a25fe3fa",
        "id": "3wi2YU7KAwdB",
        "colab_type": "code",
        "colab": {}
      },
      "cell_type": "code",
      "source": [
        "df1 = df.dropna(axis=1, thresh=int(0.80*len(df)))"
      ],
      "execution_count": 0,
      "outputs": []
    },
    {
      "metadata": {
        "trusted": true,
        "_uuid": "e5d7d9e135785bc96f5f660a0b698218d96580dc",
        "id": "xFO3Hw7IAwdG",
        "colab_type": "code",
        "colab": {}
      },
      "cell_type": "code",
      "source": [
        "df1.head(5)"
      ],
      "execution_count": 0,
      "outputs": []
    },
    {
      "metadata": {
        "_uuid": "4d033827dfaeba46e77394e965e76e1f5af52570",
        "id": "oXiZ9iUzAwdK",
        "colab_type": "text"
      },
      "cell_type": "markdown",
      "source": [
        "Now that we explored the whole dataframe easily, we will now select the columns that are necessary for our analysis."
      ]
    },
    {
      "metadata": {
        "trusted": true,
        "_uuid": "02b4af81218d30fd0ff979ad3e077ecd6210f0eb",
        "id": "OTcXi8x3AwdL",
        "colab_type": "code",
        "colab": {}
      },
      "cell_type": "code",
      "source": [
        "\n",
        "df_LC = df1.filter(['loan_amnt','term','int_rate','installment','grade','sub_grade','emp_length','home_ownership',\n",
        "                    'annual_inc','verification_status','purpose','dti','delinq_2yrs','loan_status'])\n",
        "df_LC.dtypes"
      ],
      "execution_count": 0,
      "outputs": []
    },
    {
      "metadata": {
        "_uuid": "66c9b2fe5f83e096ca06e901fbe75b0865757602",
        "id": "576nc8cVAwdO",
        "colab_type": "text"
      },
      "cell_type": "markdown",
      "source": [
        "### Finding the correlation between variables\n",
        "We will now look at the correlation structure between our variables that we selected above. This will tell us about any dependencies between different variables and help us reduce the dimensionality a little bit more"
      ]
    },
    {
      "metadata": {
        "trusted": true,
        "_uuid": "0edd35b1ed1aff129da1e7822c147f09c011643d",
        "id": "rUn-_3V2AwdP",
        "colab_type": "code",
        "colab": {}
      },
      "cell_type": "code",
      "source": [
        "plt.figure(figsize=(20,20))\n",
        "sns.set_context(\"paper\", font_scale=1)\n",
        "\n",
        "# find the correllation matrix and changing the categorical data to category for the plot.\n",
        "sns.heatmap(df_LC.assign(grade=df_LC.grade.astype('category').cat.codes,\n",
        "                         sub_g=df_LC.sub_grade.astype('category').cat.codes,\n",
        "                         term=df_LC.term.astype('category').cat.codes,\n",
        "                        emp_l=df_LC.emp_length.astype('category').cat.codes,\n",
        "                         ver =df_LC.verification_status.astype('category').cat.codes,\n",
        "                        home=df_LC.home_ownership.astype('category').cat.codes,\n",
        "                        purp=df_LC.purpose.astype('category').cat.codes).corr(), \n",
        "                         annot=True, cmap='bwr',vmin=-1, vmax=1, square=True, linewidths=0.5)"
      ],
      "execution_count": 0,
      "outputs": []
    },
    {
      "metadata": {
        "_uuid": "55c7944a24dc84f385b4c716c566c610294d8b5c",
        "id": "oqKyyOdxAwdT",
        "colab_type": "text"
      },
      "cell_type": "markdown",
      "source": [
        "It can be seen from the plot above that loan amount and installment have a very high correlation amongst each other (0.94). This is intuitive since a person who takes a large sum of loan would require extra time to repay it back. Also, interest rate, sub grade and grade have a very high correlation between them. This is obvious since interest rate is decided by grades once the grades are decided, a subgrade is assigned to that loan (leading to high correlation).\n",
        "\n",
        "Let's drop the three categories alongwith term and verification status(since it doesn't provide any valuable info) for further analysis.\n"
      ]
    },
    {
      "metadata": {
        "trusted": true,
        "_uuid": "8007bef8d99b748eae1402c2badb1531329a7460",
        "id": "Oqhv2fVCAwdU",
        "colab_type": "code",
        "colab": {}
      },
      "cell_type": "code",
      "source": [
        "df_LC.drop(['installment','grade','sub_grade','verification_status','term']\n",
        "           , axis=1, inplace = True)"
      ],
      "execution_count": 0,
      "outputs": []
    },
    {
      "metadata": {
        "trusted": true,
        "_uuid": "8e5b31b88f5e9f23d921f3ed171ca21534a33737",
        "id": "CCiUo8VNAwdY",
        "colab_type": "code",
        "colab": {}
      },
      "cell_type": "code",
      "source": [
        "# print the count and null values in the dataframe\n",
        "dflc_null = pd.DataFrame({'Count': df_LC.isnull().sum(), 'Percent': 100*df_LC.isnull().sum()/len(df_LC)})\n",
        "dflc_null[dflc_null['Count'] > 0]"
      ],
      "execution_count": 0,
      "outputs": []
    },
    {
      "metadata": {
        "trusted": true,
        "_uuid": "1dbc63e25943b1742698dd24da09cf4a2509a239",
        "id": "A_z3fBeaAwda",
        "colab_type": "code",
        "colab": {}
      },
      "cell_type": "code",
      "source": [
        "# dropping the null rows since we have sufficient amount of data and there is no need to fill the null values.\n",
        "df_LC.dropna(axis=0)"
      ],
      "execution_count": 0,
      "outputs": []
    },
    {
      "metadata": {
        "trusted": true,
        "_uuid": "a7e86ee569533be9cc154f2379f1b59950da85cb",
        "id": "Ao41aj4EAwdd",
        "colab_type": "code",
        "colab": {}
      },
      "cell_type": "code",
      "source": [
        "# print unique statuses in the loan status column (dependent variable)\n",
        "df_LC['loan_status'].unique()"
      ],
      "execution_count": 0,
      "outputs": []
    },
    {
      "metadata": {
        "_uuid": "3213c7515944ce86d26ebdf6f241dc26babe5dd4",
        "id": "aurJ2-yfAwde",
        "colab_type": "text"
      },
      "cell_type": "markdown",
      "source": [
        "## Distribution of the loan status values\n",
        "Let us now see how the values in the status column are distributed. We will plot an histogram of values against count of times the status appears on the dataframe"
      ]
    },
    {
      "metadata": {
        "trusted": true,
        "_uuid": "f09a6568a162d0ae5be915d11a501c69ef126a13",
        "id": "mdXzKglQAwdf",
        "colab_type": "code",
        "colab": {}
      },
      "cell_type": "code",
      "source": [
        "m =df_LC['loan_status'].value_counts()\n",
        "m = m.to_frame()\n",
        "m.reset_index(inplace=True)\n",
        "m.columns = ['Loan Status','Count']\n",
        "plt.subplots(figsize=(20,8))\n",
        "sns.barplot(y='Count', x='Loan Status', data=m)\n",
        "plt.xlabel(\"Length\")\n",
        "plt.ylabel(\"Count\")\n",
        "plt.title(\"Distribution of Loan Status in our Dataset\")\n",
        "plt.show()"
      ],
      "execution_count": 0,
      "outputs": []
    },
    {
      "metadata": {
        "_uuid": "0da0de61d8ef101102de7e03d706b87ae42e2c87",
        "id": "k4FKmCr6Awdh",
        "colab_type": "text"
      },
      "cell_type": "markdown",
      "source": [
        "As you can see, we have a lot of loans which are current with fair amount of fully paid loans. other categories (including) default have a really low number. This means the data is imbalanced and we might need to do something about this later in the analysis. For now we will drop all the columns except 'Fully Paid', 'Default' and 'Charged off'. We will also merge 'Charged off' and 'Default' together meaning that anyone who fell into this category defaulted their loan. The following two parts tries to implement this."
      ]
    },
    {
      "metadata": {
        "trusted": true,
        "_uuid": "3766eca19f3822bf1fb55811f3f1cd6fc1665623",
        "id": "DxizKNkGAwdj",
        "colab_type": "code",
        "colab": {}
      },
      "cell_type": "code",
      "source": [
        "df_LC = df_LC[df_LC.loan_status != 'Current']\n",
        "df_LC = df_LC[df_LC.loan_status != 'In Grace Period']\n",
        "df_LC = df_LC[df_LC.loan_status != 'Late (16-30 days)']\n",
        "df_LC = df_LC[df_LC.loan_status != 'Late (31-120 days)']\n",
        "df_LC = df_LC[df_LC.loan_status != 'Does not meet the credit policy. Status:Fully Paid']\n",
        "df_LC = df_LC[df_LC.loan_status != 'Does not meet the credit policy. Status:Charged Off']\n",
        "df_LC = df_LC[df_LC.loan_status != 'Issued']"
      ],
      "execution_count": 0,
      "outputs": []
    },
    {
      "metadata": {
        "trusted": true,
        "_uuid": "926468e01b192d8ff64dfb3c059fd2cbbe7dc7c4",
        "id": "mUvPmUYOAwdl",
        "colab_type": "code",
        "colab": {}
      },
      "cell_type": "code",
      "source": [
        "df_LC['loan_status'] = df_LC['loan_status'].replace({'Charged Off':'Default'})\n",
        "df_LC['loan_status'].value_counts()"
      ],
      "execution_count": 0,
      "outputs": []
    },
    {
      "metadata": {
        "_uuid": "9a59890269d1fa160ddaeae971492dfb92a93480",
        "id": "fEAReWdJAwdq",
        "colab_type": "text"
      },
      "cell_type": "markdown",
      "source": [
        "We will now encode the two categories listed above as 0 or 1 for our analysis. This will help us in predicting whether a person defaulted their loan or not. 0 means he deaulted and 1 means he paid off his loan."
      ]
    },
    {
      "metadata": {
        "trusted": true,
        "_uuid": "cf8f49193546656f8ecbd46ec655af3f0fece460",
        "id": "Ho1GD3BEAwdq",
        "colab_type": "code",
        "colab": {}
      },
      "cell_type": "code",
      "source": [
        "\n",
        "df_LC.loan_status=df_LC.loan_status.astype('category').cat.codes\n",
        "df_LC.delinq_2yrs=df_LC.delinq_2yrs.astype('category').cat.codes\n",
        "df_LC.head()\n",
        "df_LC['loan_status'].value_counts()\n",
        "#df_LC = pd.get_dummies(df_LC, drop_first=True)\n",
        "#df_LC"
      ],
      "execution_count": 0,
      "outputs": []
    },
    {
      "metadata": {
        "trusted": true,
        "_uuid": "a92d783993991cc6ba81efc32f0fe4bcffb2fdc0",
        "id": "ntuPtlAwAwdv",
        "colab_type": "code",
        "colab": {}
      },
      "cell_type": "code",
      "source": [
        "df_LC.dtypes"
      ],
      "execution_count": 0,
      "outputs": []
    },
    {
      "metadata": {
        "_uuid": "d27cc399aecfe4618a8c06a41c05e5c0ce6a7c99",
        "id": "89MhG-XYAwdy",
        "colab_type": "text"
      },
      "cell_type": "markdown",
      "source": [
        "## Transformation\n",
        "Before training the data, we would first transform the data to account for any skewness in the variable distribution. Various transformation techniques ranging from log transform to power transformation are available. For our analysis, we'll be using Box-cox transformation. It is used to modify the distributional shape of a set of data to be more normally distributed so that tests and confidence limits that require normality can be appropriately used."
      ]
    },
    {
      "metadata": {
        "trusted": true,
        "_uuid": "cce52461f8fbd199cf5f040dff202a7b80314997",
        "id": "sSoYmKUuAwdz",
        "colab_type": "code",
        "colab": {}
      },
      "cell_type": "code",
      "source": [
        "numerical = df_LC.columns[df_LC.dtypes == 'float64']\n",
        "for i in numerical:\n",
        "    if df_LC[i].min() > 0:\n",
        "        transformed, lamb = boxcox(df_LC.loc[df[i].notnull(), i])\n",
        "        if np.abs(1 - lamb) > 0.02:\n",
        "            df_LC.loc[df[i].notnull(), i] = transformed"
      ],
      "execution_count": 0,
      "outputs": []
    },
    {
      "metadata": {
        "_uuid": "7ead37e75ebe651a1d89ccd0c89d5a3791b1336c",
        "id": "N7ayQ3IgAwd1",
        "colab_type": "text"
      },
      "cell_type": "markdown",
      "source": [
        "## One Hot Encoding\n",
        "Since we have some categorical variables for the analysis and the machne learning algorithms doesn't take categorical and string variables directly, we have to creat dummy variables for them. We can either encode them using label encoder available for python, but it would be wrong in our analysis since a lot of these variables have multiple categories. Just using weights can cause discrepencies in the algorithm. Instead, we will one hot encode these so that we have a 1 wherever that category turns up and 0 otherwise. This will also create seperate columns for each level of category. Also, we'll be dropping one of the categories so that we have N-1 columns instead of N."
      ]
    },
    {
      "metadata": {
        "trusted": true,
        "_uuid": "5d52d8efa085fcdeba318eae3081d8068f3ff7a9",
        "id": "LohIcn1IAwd2",
        "colab_type": "code",
        "colab": {}
      },
      "cell_type": "code",
      "source": [
        "df_LC = pd.get_dummies(df_LC, drop_first=True)"
      ],
      "execution_count": 0,
      "outputs": []
    },
    {
      "metadata": {
        "_uuid": "ae94c89ad888f74440a5995420a38bca1ecdc6ad",
        "id": "UHHGiCsYAwd5",
        "colab_type": "text"
      },
      "cell_type": "markdown",
      "source": [
        "Now splitting the data using scikitlearn's train_test_split and using 60% data for training and 40% for testing."
      ]
    },
    {
      "metadata": {
        "trusted": true,
        "_uuid": "507a8a6b685d1258980081c945a1fcf082f0767e",
        "id": "4yzq8gx3Awd5",
        "colab_type": "code",
        "colab": {}
      },
      "cell_type": "code",
      "source": [
        "traindata, testdata = train_test_split(df_LC, stratify=df_LC['loan_status'],test_size=.4, random_state=17)\n",
        "testdata.reset_index(drop=True, inplace=True)\n",
        "traindata.reset_index(drop=True, inplace=True)"
      ],
      "execution_count": 0,
      "outputs": []
    },
    {
      "metadata": {
        "_uuid": "7793b16c567badbe044c2d8f50c32964a184a866",
        "id": "jFMpsg2GAwd8",
        "colab_type": "text"
      },
      "cell_type": "markdown",
      "source": [
        "We'll now scale the data so that each column has a mean of zero and unit standard deviation. Xunb (unbalanced set) and yunb are the independent and target variable."
      ]
    },
    {
      "metadata": {
        "trusted": true,
        "_uuid": "075d4aae882158c4ecad2663271d65c4b84821c4",
        "id": "gp7umjeBAwd8",
        "colab_type": "code",
        "colab": {}
      },
      "cell_type": "code",
      "source": [
        "sc = StandardScaler()\n",
        "Xunb = traindata.drop('loan_status', axis=1)\n",
        "yunb = traindata['loan_status']\n",
        "numerical = Xunb.columns[(Xunb.dtypes == 'float64') | (Xunb.dtypes == 'int64')].tolist()\n",
        "Xunb[numerical] = sc.fit_transform(Xunb[numerical])"
      ],
      "execution_count": 0,
      "outputs": []
    },
    {
      "metadata": {
        "trusted": true,
        "_uuid": "693be2a52646a174020d3d463ebc80525ce25c0d",
        "id": "mXBw3COeAwd_",
        "colab_type": "code",
        "colab": {}
      },
      "cell_type": "code",
      "source": [
        "# preview the shape of training data\n",
        "yunb.shape"
      ],
      "execution_count": 0,
      "outputs": []
    },
    {
      "metadata": {
        "_uuid": "5dd154652ee8744a53e97daeaf31b3ece2aefc17",
        "id": "JCBoRCysAweB",
        "colab_type": "text"
      },
      "cell_type": "markdown",
      "source": [
        "## Model Selection\n",
        "\n",
        "We are now ready to build some models. The following would be our approach for building and selecting the best model:\n",
        "\n",
        "1. Build a model on the imbalance dataset we got from data cleaning.\n",
        "2. Balance the dataset by using equal amount of default and 'fully paid' loans.\n",
        "\n",
        "### Trying the Unbalanced Dataset\n",
        "\n",
        "Let's first try the unbalanced dataset.The function below computes the receiver operating characteristic (ROC) curves for each of the models. This function will be called later in the analysis."
      ]
    },
    {
      "metadata": {
        "trusted": true,
        "_uuid": "9bc3b219444c428060ffb560051a3268ff1ea400",
        "id": "38Csv51uAweB",
        "colab_type": "code",
        "colab": {}
      },
      "cell_type": "code",
      "source": [
        "# roc curve to find a good model that optimizes the trade off between\n",
        "# the False Positive Rate (FPR) and True Positive Rate (TPR)\n",
        "def createROC(models, X, y, Xte, yte):\n",
        "    false_p, true_p = [], [] # false postives and true positives\n",
        "\n",
        "    for i in models.keys():  # dict of models\n",
        "        models[i].fit(X, y)\n",
        "\n",
        "        fp, tp, threshold = roc_curve(yte, models[i].predict_proba(Xte)[:,1]) # roc_curve function\n",
        "\n",
        "        true_p.append(tp)\n",
        "        false_p.append(fp)\n",
        "    return true_p, false_p # returning the true postive and false positive"
      ],
      "execution_count": 0,
      "outputs": []
    },
    {
      "metadata": {
        "_uuid": "05a39621bff3e85ea65af9b410b4a164791b0f01",
        "id": "lUg1AjfZAweF",
        "colab_type": "text"
      },
      "cell_type": "markdown",
      "source": [
        "Let's try some models on the train dataset With 3 fold cross validation. We are going to use the following 4 machine learning algorithms:\n",
        "1. Linear Discriminant Analysis\n",
        "2. Multinomial Naive Bayes\n",
        "3. Random Forest (tree based model)\n",
        "4. Logistic Regression"
      ]
    },
    {
      "metadata": {
        "trusted": true,
        "_uuid": "e5b886a58820afb97ccff921d503a0dd030ef0af",
        "id": "LL1IjLqqAweF",
        "colab_type": "code",
        "colab": {}
      },
      "cell_type": "code",
      "source": [
        "from sklearn.discriminant_analysis import LinearDiscriminantAnalysis\n",
        "from sklearn.ensemble import RandomForestClassifier\n",
        "from sklearn.linear_model import LogisticRegression\n",
        "from sklearn.naive_bayes import MultinomialNB\n",
        "\n",
        "models = {'LDA': LinearDiscriminantAnalysis(),\n",
        "          'MNB': MultinomialNB(),\n",
        "          'RF': RandomForestClassifier(n_estimators=100),\n",
        "          'LR': LogisticRegression(C=1)}\n",
        "\n",
        "unbalset = {}\n",
        "for i in models.keys():\n",
        "    scores = cross_val_score(models[i], Xunb - np.min(Xunb) + 1,\n",
        "                                    yunb, cv=3)\n",
        "    unbalset[i] = scores\n",
        "    print(i, scores, np.mean(scores))"
      ],
      "execution_count": 0,
      "outputs": []
    },
    {
      "metadata": {
        "_uuid": "16f95e9b9dc15d98a1bb6811638ea503b08170e1",
        "id": "8og2IuScAweI",
        "colab_type": "text"
      },
      "cell_type": "markdown",
      "source": [
        "Looks like Logistic regression provides the best estimate and almost all of the models giving the same results. Because of the issue of collinearity in LDA, we are going to ignore that.\n",
        "\n",
        "Now creating the test set for the analysis and scaling it."
      ]
    },
    {
      "metadata": {
        "trusted": true,
        "_uuid": "6c32a1a2084883869c97a738fab0626106ad384f",
        "id": "G53NDdiwAweJ",
        "colab_type": "code",
        "colab": {}
      },
      "cell_type": "code",
      "source": [
        "Xte = testdata.drop('loan_status', axis=1)\n",
        "yte = testdata['loan_status']\n",
        "numerical = Xte.columns[(Xte.dtypes == 'float64') | (Xte.dtypes == 'int64')].tolist()\n",
        "Xte[numerical] = sc.fit_transform(Xte[numerical])"
      ],
      "execution_count": 0,
      "outputs": []
    },
    {
      "metadata": {
        "_uuid": "c57243b70773f1252c9de72944edda9b09750a95",
        "id": "chtrxCmdAweL",
        "colab_type": "text"
      },
      "cell_type": "markdown",
      "source": [
        "Computing the ROC curves for the models and finding the true positive and false positives."
      ]
    },
    {
      "metadata": {
        "trusted": true,
        "_uuid": "996b3f8e3b317f08c9670183f07d6504b8bf2677",
        "id": "jk6H_bx4AweM",
        "colab_type": "code",
        "colab": {}
      },
      "cell_type": "code",
      "source": [
        "tp_unbalset, fp_unbalset = createROC(models, Xunb - np.min(Xunb) + 1, yunb, Xte - np.min(Xte) + 1, yte)"
      ],
      "execution_count": 0,
      "outputs": []
    },
    {
      "metadata": {
        "_uuid": "c4e21f84d3bc3d6e20448728bf852846bd1f9789",
        "id": "kmiq0O8jAweQ",
        "colab_type": "text"
      },
      "cell_type": "markdown",
      "source": [
        "Fitting LR to the test set."
      ]
    },
    {
      "metadata": {
        "trusted": true,
        "_uuid": "dc370d28934d0e96393085c1389097f61c456356",
        "id": "ISJ-veyLAweR",
        "colab_type": "code",
        "colab": {}
      },
      "cell_type": "code",
      "source": [
        "model =  LogisticRegression(C=1)\n",
        "model.fit(Xunb, yunb)\n",
        "predict = model.predict(Xte) # prediction of Xte which can be used to test against yte (testdata values or true values of y)"
      ],
      "execution_count": 0,
      "outputs": []
    },
    {
      "metadata": {
        "trusted": true,
        "_uuid": "be3e8f63aaed57ea9044ac9c7eaab5c0b0679d3c",
        "id": "-m-Z2dvZAweU",
        "colab_type": "code",
        "colab": {}
      },
      "cell_type": "code",
      "source": [
        "m = yte.to_frame()\n",
        "m['loan_status'].value_counts()"
      ],
      "execution_count": 0,
      "outputs": []
    },
    {
      "metadata": {
        "_uuid": "559fc3208b835454bc6647b741a137a60c125298",
        "id": "7PEmsbYXAweX",
        "colab_type": "text"
      },
      "cell_type": "markdown",
      "source": [
        "We will now plot the cross-validation scores, ROC curves and confusion matrix of random forest model. X axis is the true value and Y axis is the predicted value. "
      ]
    },
    {
      "metadata": {
        "trusted": true,
        "_uuid": "f3ab0ae2bfc0216189a32c97239b61e0e0b77a2d",
        "id": "YtTOGPCKAweZ",
        "colab_type": "code",
        "colab": {}
      },
      "cell_type": "code",
      "source": [
        "fig, axes = plt.subplots(nrows=1, ncols=3, figsize=(18,5))\n",
        "\n",
        "ax = pd.DataFrame(unbalset).boxplot(widths=(0.9,0.9,0.9,0.9), grid=False, vert=False, ax=axes[0])\n",
        "ax.set_ylabel('Classifier')\n",
        "ax.set_xlabel('Cross-Validation Score')\n",
        "\n",
        "for i in range(0, len(tp_unbalset)):\n",
        "    axes[1].plot(fp_unbalset[i], tp_unbalset[i], lw=1)\n",
        "\n",
        "axes[1].plot([0, 1], [0, 1], '--k', lw=1)\n",
        "axes[1].legend(models.keys())\n",
        "axes[1].set_ylabel('True Positive Rate')\n",
        "axes[1].set_xlabel('False Positive Rate')\n",
        "axes[1].set_xlim(0,1)\n",
        "axes[1].set_ylim(0,1)\n",
        "\n",
        "cm = confusion_matrix(yte, predict).T\n",
        "cm = cm.astype('float')/cm.sum(axis=0)\n",
        "\n",
        "ax = sns.heatmap(cm, annot=True, cmap='Blues', ax=axes[2]);\n",
        "ax.set_xlabel('True Value')\n",
        "ax.set_ylabel('Predicted Value')\n",
        "ax.axis('equal')"
      ],
      "execution_count": 0,
      "outputs": []
    },
    {
      "metadata": {
        "_uuid": "56b570f83d9a6377b4e13746cef91f39547559cc",
        "id": "nWPuFTYyAweb",
        "colab_type": "text"
      },
      "cell_type": "markdown",
      "source": [
        "The cross-validation scores and ROC curves suggest the Logistic Regression is the best model, though the MNB and linear discriminant analysis models are pretty close behind. If we look at the confusion matrix, though, we see a big problem.The model can predict who are going to pay off the loan with a good accuracy of 99% but cannot predict who are going to default. The true positive rate of default (0 predicting 0) is almost 0. Since our main goal is to predict defaulter's, we have to do something about this. \n",
        "\n",
        "The reason this is happening could be because of high imbalance in our dataset and the algorithm is putting everything into 1. We have to chose a new prediction threshold according to the sensitivity and specificity of the model. This will create some balance in predicting the binary outcome. Let's look at the plots below."
      ]
    },
    {
      "metadata": {
        "trusted": true,
        "_uuid": "ef04d2bcfb45251a6dba9a4996886a03fd83a71f",
        "id": "ZAajjXojAwec",
        "colab_type": "code",
        "colab": {}
      },
      "cell_type": "code",
      "source": [
        "fp, tp, threshold = roc_curve(yte, model.predict_proba(Xte)[:,1]) #getting false and true positive from test set"
      ],
      "execution_count": 0,
      "outputs": []
    },
    {
      "metadata": {
        "trusted": true,
        "_uuid": "b6aac5d9a0c272e0fe726b6183ef1dfeec5a1453",
        "id": "GR6jceUAAwee",
        "colab_type": "code",
        "colab": {}
      },
      "cell_type": "code",
      "source": [
        "fig, ax = plt.subplots(nrows=1, ncols=2, figsize=(16,6))\n",
        "\n",
        "ax[0].plot(threshold, tp + (1 - fp))\n",
        "ax[0].set_xlabel('Threshold')\n",
        "ax[0].set_ylabel('Sensitivity + Specificity')\n",
        "\n",
        "ax[1].plot(threshold, tp, label=\"tp\")\n",
        "ax[1].plot(threshold, 1 - fp, label=\"1 - fp\")\n",
        "ax[1].legend()\n",
        "ax[1].set_xlabel('Threshold')\n",
        "ax[1].set_ylabel('True Positive & False Positive Rates')"
      ],
      "execution_count": 0,
      "outputs": []
    },
    {
      "metadata": {
        "trusted": true,
        "_uuid": "07d968e9f133133dd1fa9c867433d7d528c6448d",
        "id": "GjpdGZQ1Aweg",
        "colab_type": "code",
        "colab": {}
      },
      "cell_type": "code",
      "source": [
        "# finding the optimal threshold for the model \n",
        "function = tp + (1 - fp)\n",
        "index = np.argmax(function)\n",
        "\n",
        "optimal_threshold = threshold[np.argmax(function)]\n",
        "print('optimal threshold:', optimal_threshold)"
      ],
      "execution_count": 0,
      "outputs": []
    },
    {
      "metadata": {
        "_uuid": "cfabfe2f5debf9b08cfe5c662dfc7fcccbf17e95",
        "id": "FnRIAPi7Awen",
        "colab_type": "text"
      },
      "cell_type": "markdown",
      "source": [
        "The optimal threshold above is where the the two graphs meet.\n",
        "\n",
        "1. Sensitivity (also called the true positive rate, the recall, or probability of detection in some fields) measures the proportion of actual positives that are correctly identified as such (e.g., the percentage of sick people who are correctly identified as having the condition).\n",
        "\n",
        "2. Specificity (also called the true negative rate) measures the proportion of actual negatives that are correctly identified as such (e.g., the percentage of healthy people who are correctly identified as not having the condition)\n",
        "\n",
        "Now using this threshold for the model:"
      ]
    },
    {
      "metadata": {
        "trusted": true,
        "_uuid": "22dc3b8859cd46e4510136efa50ff057dd22528d",
        "id": "ScNpY7O4Aweo",
        "colab_type": "code",
        "colab": {}
      },
      "cell_type": "code",
      "source": [
        "predict = model.predict_proba(Xte)[:,1]\n",
        "predict = np.where(predict >= optimal_threshold, 1, 0)\n",
        "\n",
        "fig, axes = plt.subplots(figsize=(15,6))\n",
        "\n",
        "cm = confusion_matrix(yte, predict).T\n",
        "cm = cm.astype('float')/cm.sum(axis=0)\n",
        "\n",
        "ax = sns.heatmap(cm, annot=True, cmap='Blues');\n",
        "ax.set_xlabel('True Value')\n",
        "ax.set_ylabel('Predicted Value')\n",
        "ax.axis('equal')"
      ],
      "execution_count": 0,
      "outputs": []
    },
    {
      "metadata": {
        "_uuid": "5e558db09965f2db24ce9803ab6b391bb7197067",
        "id": "xr-GGpCyAwer",
        "colab_type": "text"
      },
      "cell_type": "markdown",
      "source": [
        "That's great! The optimum threshold for the classifier have increased out models prediction power of Default (0). Even now the model doesn't provide a lot of prediction power and we have to train the model again using a different algorithm with some tweaks.\n",
        "\n",
        "## Part2 : Balancing the training dataset and creating a new model\n",
        "Now we will try to use a balanced dataset with equal amount of zeroes and 1's. The following part does the same."
      ]
    },
    {
      "metadata": {
        "trusted": true,
        "_uuid": "8cecfe0df1f91c1d817a2cf5b4c5f31f1b289a0f",
        "id": "_o2kLW2KAweu",
        "colab_type": "code",
        "colab": {}
      },
      "cell_type": "code",
      "source": [
        "y_default = traindata[traindata['loan_status'] == 0]\n",
        "n_paid = traindata[traindata['loan_status'] == 1].sample(n=len(y_default), random_state=17) # chosing equal amount of 1's\n",
        "\n",
        "# creating a new dataframe for balanced set\n",
        "data = y_default.append(n_paid) \n",
        "\n",
        "# creating the independent and dependent array\n",
        "Xbal = data.drop('loan_status', axis=1)\n",
        "ybal = data['loan_status']"
      ],
      "execution_count": 0,
      "outputs": []
    },
    {
      "metadata": {
        "trusted": true,
        "_uuid": "63c260225ccf449bac76c0a67d2abf28ece6f47d",
        "id": "A8eXTi8uAwex",
        "colab_type": "code",
        "colab": {}
      },
      "cell_type": "code",
      "source": [
        "# scaling it again\n",
        "numerical = Xbal.columns[(Xbal.dtypes == 'float64') | (Xbal.dtypes == 'int64')].tolist()\n",
        "Xbal[numerical] = sc.fit_transform(Xbal[numerical])"
      ],
      "execution_count": 0,
      "outputs": []
    },
    {
      "metadata": {
        "_uuid": "05aacadda078a27ef7bb160eceaece728c5432b3",
        "id": "pgnmJDxOAwe1",
        "colab_type": "text"
      },
      "cell_type": "markdown",
      "source": [
        "Training the model on the balanced set"
      ]
    },
    {
      "metadata": {
        "trusted": true,
        "_uuid": "575442e119d9f4600768f2f982a7ad35e3989112",
        "id": "ypnC9BppAwe3",
        "colab_type": "code",
        "colab": {}
      },
      "cell_type": "code",
      "source": [
        "from sklearn.discriminant_analysis import LinearDiscriminantAnalysis\n",
        "from sklearn.ensemble import RandomForestClassifier\n",
        "from sklearn.linear_model import LogisticRegression\n",
        "from sklearn.naive_bayes import MultinomialNB\n",
        "\n",
        "models = {'LDA': LinearDiscriminantAnalysis(),\n",
        "          'MNB': MultinomialNB(),\n",
        "          'RF': RandomForestClassifier(n_estimators=100),\n",
        "          'LR': LogisticRegression(C=1)}\n",
        "\n",
        "balset = {}\n",
        "for i in models.keys():\n",
        "    scores = cross_val_score(models[i], Xbal - np.min(Xbal) + 1,\n",
        "                                    ybal, scoring='roc_auc', cv=3)\n",
        "    balset[i] = scores\n",
        "    print(i, scores, np.mean(scores))"
      ],
      "execution_count": 0,
      "outputs": []
    },
    {
      "metadata": {
        "_uuid": "5194dd76806fd2919b89e28c82980d12c70d682f",
        "id": "k31DUjzVAwe7",
        "colab_type": "text"
      },
      "cell_type": "markdown",
      "source": [
        "Even though we almost got the same result as before, This time we are going to select Random Forst method and will try to find the optimal number of trees using the gridsearchcv and try to make the predition based on this and lets see if there is any improvements in predicting 0's"
      ]
    },
    {
      "metadata": {
        "trusted": true,
        "_uuid": "ec1c3d8c3ecefadd605ecc2c7f5c26ba045e1f77",
        "id": "eiOS1gHYAwe9",
        "colab_type": "code",
        "colab": {}
      },
      "cell_type": "code",
      "source": [
        "model = RandomForestClassifier(n_estimators=100)\n",
        "model.fit(Xbal, ybal)\n",
        "predict = model.predict(Xte)"
      ],
      "execution_count": 0,
      "outputs": []
    },
    {
      "metadata": {
        "trusted": true,
        "_uuid": "5cff0b66d3f72afa044bb6905e5b54601905bbdc",
        "id": "-F3xVuVbAwfB",
        "colab_type": "code",
        "colab": {}
      },
      "cell_type": "code",
      "source": [
        "predict = model.predict(Xte)\n",
        "fig, axes = plt.subplots(figsize=(8,6))\n",
        "cm = confusion_matrix(yte, predict).T\n",
        "cm = cm.astype('float')/cm.sum(axis=0)\n",
        "ax = sns.heatmap(cm, annot=True, cmap='Blues');\n",
        "ax.set_xlabel('True Label')\n",
        "ax.set_ylabel('Predicted Label')\n",
        "ax.axis('equal')"
      ],
      "execution_count": 0,
      "outputs": []
    },
    {
      "metadata": {
        "_uuid": "d1397571a6bc0c582acc24dbee51684f42dcc389",
        "id": "I-V4ptgcAwfC",
        "colab_type": "text"
      },
      "cell_type": "markdown",
      "source": [
        "That's a significant improvement over the last model that we built using Logistic regression. \n",
        "\n",
        "Let's find the optimum number of estimators for this model and use that for prediction. This time we are going to use 5 fold cross validation."
      ]
    },
    {
      "metadata": {
        "trusted": true,
        "_uuid": "6104aa0cc70042d8270b7b9113fb03fce0214deb",
        "id": "rSBfP8SBAwfD",
        "colab_type": "code",
        "colab": {}
      },
      "cell_type": "code",
      "source": [
        "params = {'n_estimators': [50, 100, 200, 400, 600, 800]}\n",
        "grid_search = GridSearchCV(RandomForestClassifier(), param_grid=params,\n",
        "                                   scoring='accuracy', cv=5, n_jobs=-1)\n",
        "grid_search.fit(Xbal, ybal)\n",
        "print(grid_search.best_params_)\n",
        "print(grid_search.best_score_)"
      ],
      "execution_count": 0,
      "outputs": []
    },
    {
      "metadata": {
        "_uuid": "395d1f31bb266db3773da54b8aa54e519c83b912",
        "id": "uMsJbbb8AwfF",
        "colab_type": "text"
      },
      "cell_type": "markdown",
      "source": [
        "The best model has 600 trees"
      ]
    },
    {
      "metadata": {
        "trusted": true,
        "_uuid": "0078385c156d244f8ddb87e2471f99c92be625e6",
        "id": "-lhrs76pAwfF",
        "colab_type": "code",
        "colab": {}
      },
      "cell_type": "code",
      "source": [
        "#r = pd.DataFrame()\n",
        "#r['x'] = [i for i in params.values()][0]\n",
        "#r['y'] = [i[1] for i in grid_search.cv_results_]\n",
        "#ax = r.plot(x='x', y='y', legend=False, linestyle='-', marker='o', figsize=(8,6))\n",
        "#ax.set_xlabel('n_estimators')\n",
        "#ax.set_ylabel('5-Fold Cross-Validation Score')"
      ],
      "execution_count": 0,
      "outputs": []
    },
    {
      "metadata": {
        "_uuid": "19635eaf425ec966395a507ed6b67b378aee80bb",
        "id": "AgQFv6svAwfH",
        "colab_type": "text"
      },
      "cell_type": "markdown",
      "source": [
        "As we can see, the score increases as we increase the number of estimators till 600 and then falls for 800 number of estimators.\n",
        "\n",
        "We will use this to estimate to fit the model."
      ]
    },
    {
      "metadata": {
        "trusted": true,
        "_uuid": "876151695cc7a1b478b0d23418e132eb0bdbd074",
        "id": "jmHLNKm6AwfI",
        "colab_type": "code",
        "colab": {}
      },
      "cell_type": "code",
      "source": [
        "grid_search.best_estimator_.fit(Xbal, ybal)\n",
        "predict = model.predict(Xte)"
      ],
      "execution_count": 0,
      "outputs": []
    },
    {
      "metadata": {
        "trusted": true,
        "_uuid": "b54f210b4401300e315787eb13493df780b697d8",
        "id": "mj2iTpcYAwfJ",
        "colab_type": "code",
        "colab": {}
      },
      "cell_type": "code",
      "source": [
        "fig, axes = plt.subplots(figsize=(15,9))\n",
        "cm = confusion_matrix(yte, predict).T\n",
        "cm = cm.astype('float')/cm.sum(axis=0)\n",
        "ax = sns.heatmap(cm, annot=True, cmap='Blues');\n",
        "ax.set_xlabel('True Label')\n",
        "ax.set_ylabel('Predicted Label')\n",
        "ax.axis('equal')"
      ],
      "execution_count": 0,
      "outputs": []
    },
    {
      "metadata": {
        "_uuid": "91c596adddbbf2aaf5d836267cde7f0420f4bacb",
        "id": "GCPMPk5LAwfN",
        "colab_type": "text"
      },
      "cell_type": "markdown",
      "source": [
        "Interestingly, this gives us the same output as the previous model. Even now we have a good accuracy of 71% predicting defaluter's as defaulter's.\n",
        "\n",
        "Since random forest is based on decision trees, we can also plot the variable importance. Variable importance tells us which variable had highest importance when predicting an outcome."
      ]
    },
    {
      "metadata": {
        "trusted": true,
        "_uuid": "bc89aa836d66b49b23630e0374da1f6b7b5cfc89",
        "id": "sdkHiWLIAwfN",
        "colab_type": "code",
        "colab": {}
      },
      "cell_type": "code",
      "source": [
        "r = pd.DataFrame(columns=['Feature','Importance'])\n",
        "ncomp = 15\n",
        "r['Feature'] = feat_labels = Xbal.columns\n",
        "r['Importance'] = model.feature_importances_\n",
        "r.set_index(r['Feature'], inplace=True)\n",
        "ax = r.sort_values('Importance', ascending=False)[:ncomp].plot.bar(width=0.9, legend=False, figsize=(15,8))\n",
        "ax.set_ylabel('Relative Importance')"
      ],
      "execution_count": 0,
      "outputs": []
    },
    {
      "metadata": {
        "_uuid": "c8064b1d65ebd73d39bf0540b57fd48dfa210ae3",
        "id": "8l98P5xEAwfP",
        "colab_type": "text"
      },
      "cell_type": "markdown",
      "source": [
        "As you can see, interest rate followed by debt to income ratio,annual income, and loan amount are the most important features in predicting the defaulter's. Lending Club might want to use this as the metric for identifying people defaulting on their loans. "
      ]
    },
    {
      "metadata": {
        "_uuid": "3f9062356bc85ef165a503758173dbb2d876c037",
        "id": "m66Fxcw4AwfQ",
        "colab_type": "text"
      },
      "cell_type": "markdown",
      "source": [
        "## Conclusion\n",
        "We have successfully built an machine learning algorithm to predict the people who might default on their loans. This can be further used by LendingClub for their analysis. Also, we might want to look on other techniques or variables to improve the prediction power of the algorthm. One of the drawbacks is just the limited number of people who defaulted on their loan in the 8 years of data (2007-2015) present on the dataset. We can use an updated dataframe which consist next 3 years values (2015-2018) and see how many of the current loans were paid off or defaulted or even charged off. Then these new data points can be used for predicting them or even used to train the model again to improve its accuracy.\n",
        "\n",
        "Since we had a lot of categorical data, we cannot apply PCA for dimensionality reduction. Because of this, we can try some different type of variable selection method like 'MULTIPLE CORRESPONDENCE ANALYSIS' to reduce the dimensionality and select the most important variables from the columns.\n",
        "\n",
        "Since the algorithm puts around 47% of non-defaulters in the default class, we might want to look further into this issue to make the model more robust."
      ]
    }
  ]
}