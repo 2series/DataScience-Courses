{
  "nbformat": 4,
  "nbformat_minor": 0,
  "metadata": {
    "colab": {
      "name": "k-means.ipynb",
      "version": "0.3.2",
      "provenance": [],
      "collapsed_sections": []
    },
    "kernelspec": {
      "name": "python3",
      "display_name": "Python 3"
    },
    "accelerator": "GPU"
  },
  "cells": [
    {
      "metadata": {
        "id": "Op-m4OyC_xnd",
        "colab_type": "text"
      },
      "cell_type": "markdown",
      "source": [
        "# Unsupervised Learning\n",
        "#### RIHAD VARIAWA\n",
        "#### 12-03-2019\n",
        "\n",
        "The dataset used for this analysis can be found in the  sklearn Library in Python.\n",
        "\n",
        "## About K-means clustering\n",
        "It creates ‘k’ similar clusters of data points. Data instances that fall outside of these groups could potentially be marked as anomalies.\n",
        "K means is an iterative clustering algorithm that aims to find local maxima in each iteration. Initially desired number of clusters are chosen. Since we know that there are 3 classes involved, we program the algorithm to group the data into 3 classes, by passing the parameter **n_clusters** into our KMeans model. Now randomly three points(inputs) are assigned into three cluster. Based on the centroid distance between each points the next given inputs are segregated into respected clusters. Now, re-computing the centroids for all the clusters.\n",
        "\n",
        "Each centroid of a cluster is a collection of feature values which define the resulting groups. Examining the centroid feature weights can be used to qualitatively interpret what kind of group each cluster represent.\n",
        "\n",
        "## Purpose of this analysis\n",
        "For our Unsupervised Algorithm we give these four features of the Iris flower and predict which class it belongs to."
      ]
    },
    {
      "metadata": {
        "id": "Mo5uGPAT_mUK",
        "colab_type": "code",
        "outputId": "4b4686fd-2af1-4e44-bef7-3b8d82945cb7",
        "colab": {
          "base_uri": "https://localhost:8080/",
          "height": 119
        }
      },
      "cell_type": "code",
      "source": [
        "# importing libraries\n",
        "from sklearn import datasets\n",
        "from sklearn.cluster import KMeans\n",
        "\n",
        "# loading the dataset\n",
        "iris_df = datasets.load_iris()\n",
        "\n",
        "# declaring the model\n",
        "model = KMeans(n_clusters=3)\n",
        "\n",
        "# fitting the model\n",
        "model.fit(iris_df.data)\n",
        "\n",
        "# predicitng a single input\n",
        "predicted_label = model.predict([[7.2, 3.5, 0.8, 1.6]])\n",
        "\n",
        "# prediction on the entire data\n",
        "all_predictions = model.predict(iris_df.data)\n",
        "\n",
        "# printing the predictions\n",
        "print(predicted_label)\n",
        "print(all_predictions)"
      ],
      "execution_count": 0,
      "outputs": [
        {
          "output_type": "stream",
          "text": [
            "[1]\n",
            "[1 1 1 1 1 1 1 1 1 1 1 1 1 1 1 1 1 1 1 1 1 1 1 1 1 1 1 1 1 1 1 1 1 1 1 1 1\n",
            " 1 1 1 1 1 1 1 1 1 1 1 1 1 0 0 2 0 0 0 0 0 0 0 0 0 0 0 0 0 0 0 0 0 0 0 0 0\n",
            " 0 0 0 2 0 0 0 0 0 0 0 0 0 0 0 0 0 0 0 0 0 0 0 0 0 0 2 0 2 2 2 2 0 2 2 2 2\n",
            " 2 2 0 0 2 2 2 2 0 2 0 2 0 2 2 0 0 2 2 2 2 2 0 2 2 2 2 0 2 2 2 0 2 2 2 0 2\n",
            " 2 0]\n"
          ],
          "name": "stdout"
        }
      ]
    }
  ]
}