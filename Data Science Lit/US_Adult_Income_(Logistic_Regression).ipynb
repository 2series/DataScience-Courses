{
  "nbformat": 4,
  "nbformat_minor": 0,
  "metadata": {
    "colab": {
      "name": "US_Adult_Income (Logistic_Regression).ipynb",
      "version": "0.3.2",
      "provenance": [],
      "collapsed_sections": []
    },
    "kernelspec": {
      "name": "python3",
      "display_name": "Python 3"
    },
    "accelerator": "GPU"
  },
  "cells": [
    {
      "metadata": {
        "_execution_state": "busy",
        "_uuid": "7235180c9df4e07d958acbf9273a1095d4846a38",
        "_cell_guid": "48f8772c-34cb-456b-946e-7172e63b0b58",
        "id": "fpFZtH6PIEo6",
        "colab_type": "text"
      },
      "cell_type": "markdown",
      "source": [
        "## US Adult Census data relating income to social factors such as Age, Education, race etc.\n",
        "\n",
        "## Prepared by: Rihad Variawa\n",
        "\n",
        "### 27-02-2019\n",
        "\n",
        "The Us Adult income dataset was extracted by Barry Becker from the 1994 US Census Database. The data set consists of anonymous information such as occupation, age, native country, race, capital gain, capital loss, education, work class and more. Each row is labelled as either having a salary greater than \">50K\" or \"<=50K\".\n",
        "\n",
        "The goal here is to train a binary classifier on the training dataset to predict the column income_bracket which has two possible values \">50K\" and \"<=50K\" and evaluate the accuracy of the classifier with the test dataset.\n",
        "\n",
        "Note that the dataset is made up of **categorical and continuous features.** It also contains missing values The **categorical columns are: workclass, education, marital_status, occupation, relationship, race, gender, native_country**\n",
        "\n",
        "The continuous columns are: age, education_num, capital_gain, capital_loss, hours_per_week\n",
        "\n",
        "This Dataset was obtained from the UCI repository, it can be found on [link](http://mlr.cs.umass.edu/ml/machine-learning-databases/adult/)\n",
        "\n",
        "USAGE This dataset is well suited to developing and testing wide linear classifiers, deep neutral network classifiers and a combination of both. For more info on Combined Deep and Wide Model classifiers, refer to the [Research Paper by Google](https://arxiv.org/abs/1606.07792)\n",
        "\n",
        "Refer to this kernel for sample usage : https://www.kaggle.com/johnolafenwa/wage-prediction\n"
      ]
    },
    {
      "metadata": {
        "id": "ZpqLWEc7wCB_",
        "colab_type": "text"
      },
      "cell_type": "markdown",
      "source": [
        "##Loading Packages"
      ]
    },
    {
      "metadata": {
        "id": "l4bjBQhOIkbU",
        "colab_type": "code",
        "outputId": "38b08294-689f-4258-bebc-bab6953c3bcd",
        "colab": {
          "base_uri": "https://localhost:8080/",
          "height": 224
        }
      },
      "cell_type": "code",
      "source": [
        "# access kaggle datasets\n",
        "!pip install kaggle"
      ],
      "execution_count": 0,
      "outputs": [
        {
          "output_type": "stream",
          "text": [
            "Requirement already satisfied: kaggle in /usr/local/lib/python3.6/dist-packages (1.5.3)\n",
            "Requirement already satisfied: urllib3<1.25,>=1.21.1 in /usr/local/lib/python3.6/dist-packages (from kaggle) (1.22)\n",
            "Requirement already satisfied: six>=1.10 in /usr/local/lib/python3.6/dist-packages (from kaggle) (1.11.0)\n",
            "Requirement already satisfied: certifi in /usr/local/lib/python3.6/dist-packages (from kaggle) (2018.11.29)\n",
            "Requirement already satisfied: python-dateutil in /usr/local/lib/python3.6/dist-packages (from kaggle) (2.5.3)\n",
            "Requirement already satisfied: requests in /usr/local/lib/python3.6/dist-packages (from kaggle) (2.18.4)\n",
            "Requirement already satisfied: tqdm in /usr/local/lib/python3.6/dist-packages (from kaggle) (4.28.1)\n",
            "Requirement already satisfied: python-slugify in /usr/local/lib/python3.6/dist-packages (from kaggle) (2.0.1)\n",
            "Requirement already satisfied: chardet<3.1.0,>=3.0.2 in /usr/local/lib/python3.6/dist-packages (from requests->kaggle) (3.0.4)\n",
            "Requirement already satisfied: idna<2.7,>=2.5 in /usr/local/lib/python3.6/dist-packages (from requests->kaggle) (2.6)\n",
            "Requirement already satisfied: Unidecode>=0.04.16 in /usr/local/lib/python3.6/dist-packages (from python-slugify->kaggle) (1.0.23)\n"
          ],
          "name": "stdout"
        }
      ]
    },
    {
      "metadata": {
        "_execution_state": "idle",
        "_uuid": "064594d03d51cd31aca828fd8093137bcfe0b5ec",
        "_cell_guid": "728beaab-e129-4274-92a9-6aef745452d0",
        "trusted": false,
        "id": "BwZUfx4sIEo8",
        "colab_type": "code",
        "colab": {}
      },
      "cell_type": "code",
      "source": [
        "# for data manipulation\n",
        "import pandas as pd \n",
        "import numpy as np \n",
        "\n",
        "from sklearn.metrics import accuracy_score\n",
        "import re"
      ],
      "execution_count": 0,
      "outputs": []
    },
    {
      "metadata": {
        "id": "8EIPHmnGwGXi",
        "colab_type": "text"
      },
      "cell_type": "markdown",
      "source": [
        "##Import Dataset"
      ]
    },
    {
      "metadata": {
        "id": "i-7AQdIlIl_B",
        "colab_type": "code",
        "outputId": "9c05e909-7318-43d0-ecb2-69497974c63c",
        "colab": {
          "resources": {
            "http://localhost:8080/nbextensions/google.colab/files.js": {
              "data": "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",
              "ok": true,
              "headers": [
                [
                  "content-type",
                  "application/javascript"
                ]
              ],
              "status": 200,
              "status_text": ""
            }
          },
          "base_uri": "https://localhost:8080/",
          "height": 71
        }
      },
      "cell_type": "code",
      "source": [
        "from google.colab import files\n",
        "uploaded = files.upload()"
      ],
      "execution_count": 0,
      "outputs": [
        {
          "output_type": "display_data",
          "data": {
            "text/html": [
              "\n",
              "     <input type=\"file\" id=\"files-2f80ec84-2b4d-49ca-b2a1-c655088a34bd\" name=\"files[]\" multiple disabled />\n",
              "     <output id=\"result-2f80ec84-2b4d-49ca-b2a1-c655088a34bd\">\n",
              "      Upload widget is only available when the cell has been executed in the\n",
              "      current browser session. Please rerun this cell to enable.\n",
              "      </output>\n",
              "      <script src=\"/nbextensions/google.colab/files.js\"></script> "
            ],
            "text/plain": [
              "<IPython.core.display.HTML object>"
            ]
          },
          "metadata": {
            "tags": []
          }
        },
        {
          "output_type": "stream",
          "text": [
            "Saving us-census-data.zip to us-census-data (1).zip\n"
          ],
          "name": "stdout"
        }
      ]
    },
    {
      "metadata": {
        "id": "Nh6VKSPdIqi1",
        "colab_type": "code",
        "outputId": "d49d4e81-b464-4b7d-a369-87607aab5d91",
        "colab": {
          "base_uri": "https://localhost:8080/",
          "height": 51
        }
      },
      "cell_type": "code",
      "source": [
        "!ls"
      ],
      "execution_count": 0,
      "outputs": [
        {
          "output_type": "stream",
          "text": [
            " adult-test.csv       sample_data\t        us-census-data.zip\n",
            " adult-training.csv  'us-census-data (1).zip'\n"
          ],
          "name": "stdout"
        }
      ]
    },
    {
      "metadata": {
        "id": "P6br6NITIrUl",
        "colab_type": "code",
        "outputId": "751b740f-2f9e-4223-8233-98c47cdfc2aa",
        "colab": {
          "base_uri": "https://localhost:8080/",
          "height": 68
        }
      },
      "cell_type": "code",
      "source": [
        "!unzip us-census-data.zip"
      ],
      "execution_count": 0,
      "outputs": [
        {
          "output_type": "stream",
          "text": [
            "Archive:  us-census-data.zip\n",
            "replace adult-test.csv? [y]es, [n]o, [A]ll, [N]one, [r]ename: n\n",
            "replace adult-training.csv? [y]es, [n]o, [A]ll, [N]one, [r]ename: n\n"
          ],
          "name": "stdout"
        }
      ]
    },
    {
      "metadata": {
        "id": "qWHWyg1pPjMe",
        "colab_type": "code",
        "colab": {}
      },
      "cell_type": "code",
      "source": [
        "train = pd.read_csv('adult-training.csv', names = columns)\n",
        "test = pd.read_csv('adult-test.csv', names = columns)\n",
        "\n",
        "columns = ['Age','Workclass','fnlgwt','Education','Education Num','Marital Status',\n",
        "           'Occupation','Relationship','Race','Sex','Capital Gain','Capital Loss',\n",
        "           'Hours/Week','Country','Above/Below 50K']"
      ],
      "execution_count": 0,
      "outputs": []
    },
    {
      "metadata": {
        "id": "ZSddSZtBg9CS",
        "colab_type": "text"
      },
      "cell_type": "markdown",
      "source": [
        "## Exploratory Data Analysis"
      ]
    },
    {
      "metadata": {
        "id": "Vr4m--USMP3_",
        "colab_type": "code",
        "outputId": "2aa04518-a17d-4b71-aae6-352e116c92ec",
        "colab": {
          "base_uri": "https://localhost:8080/",
          "height": 377
        }
      },
      "cell_type": "code",
      "source": [
        "# to see features\n",
        "train.head()"
      ],
      "execution_count": 0,
      "outputs": [
        {
          "output_type": "execute_result",
          "data": {
            "text/html": [
              "<div>\n",
              "<style scoped>\n",
              "    .dataframe tbody tr th:only-of-type {\n",
              "        vertical-align: middle;\n",
              "    }\n",
              "\n",
              "    .dataframe tbody tr th {\n",
              "        vertical-align: top;\n",
              "    }\n",
              "\n",
              "    .dataframe thead th {\n",
              "        text-align: right;\n",
              "    }\n",
              "</style>\n",
              "<table border=\"1\" class=\"dataframe\">\n",
              "  <thead>\n",
              "    <tr style=\"text-align: right;\">\n",
              "      <th></th>\n",
              "      <th>Age</th>\n",
              "      <th>Workclass</th>\n",
              "      <th>fnlgwt</th>\n",
              "      <th>Education</th>\n",
              "      <th>Education Num</th>\n",
              "      <th>Marital Status</th>\n",
              "      <th>Occupation</th>\n",
              "      <th>Relationship</th>\n",
              "      <th>Race</th>\n",
              "      <th>Sex</th>\n",
              "      <th>Capital Gain</th>\n",
              "      <th>Capital Loss</th>\n",
              "      <th>Hours/Week</th>\n",
              "      <th>Country</th>\n",
              "      <th>Above/Below 50K</th>\n",
              "    </tr>\n",
              "  </thead>\n",
              "  <tbody>\n",
              "    <tr>\n",
              "      <th>0</th>\n",
              "      <td>39</td>\n",
              "      <td>State-gov</td>\n",
              "      <td>77516</td>\n",
              "      <td>Bachelors</td>\n",
              "      <td>13</td>\n",
              "      <td>Never-married</td>\n",
              "      <td>Adm-clerical</td>\n",
              "      <td>Not-in-family</td>\n",
              "      <td>White</td>\n",
              "      <td>Male</td>\n",
              "      <td>2174</td>\n",
              "      <td>0</td>\n",
              "      <td>40</td>\n",
              "      <td>United-States</td>\n",
              "      <td>&lt;=50K</td>\n",
              "    </tr>\n",
              "    <tr>\n",
              "      <th>1</th>\n",
              "      <td>50</td>\n",
              "      <td>Self-emp-not-inc</td>\n",
              "      <td>83311</td>\n",
              "      <td>Bachelors</td>\n",
              "      <td>13</td>\n",
              "      <td>Married-civ-spouse</td>\n",
              "      <td>Exec-managerial</td>\n",
              "      <td>Husband</td>\n",
              "      <td>White</td>\n",
              "      <td>Male</td>\n",
              "      <td>0</td>\n",
              "      <td>0</td>\n",
              "      <td>13</td>\n",
              "      <td>United-States</td>\n",
              "      <td>&lt;=50K</td>\n",
              "    </tr>\n",
              "    <tr>\n",
              "      <th>2</th>\n",
              "      <td>38</td>\n",
              "      <td>Private</td>\n",
              "      <td>215646</td>\n",
              "      <td>HS-grad</td>\n",
              "      <td>9</td>\n",
              "      <td>Divorced</td>\n",
              "      <td>Handlers-cleaners</td>\n",
              "      <td>Not-in-family</td>\n",
              "      <td>White</td>\n",
              "      <td>Male</td>\n",
              "      <td>0</td>\n",
              "      <td>0</td>\n",
              "      <td>40</td>\n",
              "      <td>United-States</td>\n",
              "      <td>&lt;=50K</td>\n",
              "    </tr>\n",
              "    <tr>\n",
              "      <th>3</th>\n",
              "      <td>53</td>\n",
              "      <td>Private</td>\n",
              "      <td>234721</td>\n",
              "      <td>11th</td>\n",
              "      <td>7</td>\n",
              "      <td>Married-civ-spouse</td>\n",
              "      <td>Handlers-cleaners</td>\n",
              "      <td>Husband</td>\n",
              "      <td>Black</td>\n",
              "      <td>Male</td>\n",
              "      <td>0</td>\n",
              "      <td>0</td>\n",
              "      <td>40</td>\n",
              "      <td>United-States</td>\n",
              "      <td>&lt;=50K</td>\n",
              "    </tr>\n",
              "    <tr>\n",
              "      <th>4</th>\n",
              "      <td>28</td>\n",
              "      <td>Private</td>\n",
              "      <td>338409</td>\n",
              "      <td>Bachelors</td>\n",
              "      <td>13</td>\n",
              "      <td>Married-civ-spouse</td>\n",
              "      <td>Prof-specialty</td>\n",
              "      <td>Wife</td>\n",
              "      <td>Black</td>\n",
              "      <td>Female</td>\n",
              "      <td>0</td>\n",
              "      <td>0</td>\n",
              "      <td>40</td>\n",
              "      <td>Cuba</td>\n",
              "      <td>&lt;=50K</td>\n",
              "    </tr>\n",
              "  </tbody>\n",
              "</table>\n",
              "</div>"
            ],
            "text/plain": [
              "   Age          Workclass  fnlgwt   Education  Education Num  \\\n",
              "0   39          State-gov   77516   Bachelors             13   \n",
              "1   50   Self-emp-not-inc   83311   Bachelors             13   \n",
              "2   38            Private  215646     HS-grad              9   \n",
              "3   53            Private  234721        11th              7   \n",
              "4   28            Private  338409   Bachelors             13   \n",
              "\n",
              "        Marital Status          Occupation    Relationship    Race      Sex  \\\n",
              "0        Never-married        Adm-clerical   Not-in-family   White     Male   \n",
              "1   Married-civ-spouse     Exec-managerial         Husband   White     Male   \n",
              "2             Divorced   Handlers-cleaners   Not-in-family   White     Male   \n",
              "3   Married-civ-spouse   Handlers-cleaners         Husband   Black     Male   \n",
              "4   Married-civ-spouse      Prof-specialty            Wife   Black   Female   \n",
              "\n",
              "   Capital Gain  Capital Loss  Hours/Week         Country Above/Below 50K  \n",
              "0          2174             0          40   United-States           <=50K  \n",
              "1             0             0          13   United-States           <=50K  \n",
              "2             0             0          40   United-States           <=50K  \n",
              "3             0             0          40   United-States           <=50K  \n",
              "4             0             0          40            Cuba           <=50K  "
            ]
          },
          "metadata": {
            "tags": []
          },
          "execution_count": 14
        }
      ]
    },
    {
      "metadata": {
        "_uuid": "00e4e3b6476dabc905f2335e42d53fb7c1dd45c1",
        "_cell_guid": "8fc706d1-fe59-4f58-8cad-38e066882da7",
        "trusted": false,
        "id": "4rvC6VLfIEpD",
        "colab_type": "code",
        "colab": {}
      },
      "cell_type": "code",
      "source": [
        "# defining function for estimating missing values in each columns\n",
        "def missing_value(df):\n",
        "    miss = []\n",
        "    col_list = df.columns\n",
        "    for i in col_list:\n",
        "        missing = df[i].isnull().sum()\n",
        "        miss.append(missing)\n",
        "        list_of_missing = pd.DataFrame(list(zip(col_list,miss)))\n",
        "    return list_of_missing"
      ],
      "execution_count": 0,
      "outputs": []
    },
    {
      "metadata": {
        "_uuid": "4f64f169d5fd1e55c75125f2f8715b763d8e640a",
        "trusted": false,
        "id": "rJaZtXB5IEpF",
        "colab_type": "code",
        "outputId": "59146119-9ba2-4eed-fd9d-37207aea759c",
        "colab": {
          "base_uri": "https://localhost:8080/",
          "height": 514
        }
      },
      "cell_type": "code",
      "source": [
        "missing_value(test)\n",
        "missing_value(train)"
      ],
      "execution_count": 0,
      "outputs": [
        {
          "output_type": "execute_result",
          "data": {
            "text/html": [
              "<div>\n",
              "<style scoped>\n",
              "    .dataframe tbody tr th:only-of-type {\n",
              "        vertical-align: middle;\n",
              "    }\n",
              "\n",
              "    .dataframe tbody tr th {\n",
              "        vertical-align: top;\n",
              "    }\n",
              "\n",
              "    .dataframe thead th {\n",
              "        text-align: right;\n",
              "    }\n",
              "</style>\n",
              "<table border=\"1\" class=\"dataframe\">\n",
              "  <thead>\n",
              "    <tr style=\"text-align: right;\">\n",
              "      <th></th>\n",
              "      <th>0</th>\n",
              "      <th>1</th>\n",
              "    </tr>\n",
              "  </thead>\n",
              "  <tbody>\n",
              "    <tr>\n",
              "      <th>0</th>\n",
              "      <td>Age</td>\n",
              "      <td>0</td>\n",
              "    </tr>\n",
              "    <tr>\n",
              "      <th>1</th>\n",
              "      <td>Workclass</td>\n",
              "      <td>0</td>\n",
              "    </tr>\n",
              "    <tr>\n",
              "      <th>2</th>\n",
              "      <td>fnlgwt</td>\n",
              "      <td>0</td>\n",
              "    </tr>\n",
              "    <tr>\n",
              "      <th>3</th>\n",
              "      <td>Education</td>\n",
              "      <td>0</td>\n",
              "    </tr>\n",
              "    <tr>\n",
              "      <th>4</th>\n",
              "      <td>Education Num</td>\n",
              "      <td>0</td>\n",
              "    </tr>\n",
              "    <tr>\n",
              "      <th>5</th>\n",
              "      <td>Marital Status</td>\n",
              "      <td>0</td>\n",
              "    </tr>\n",
              "    <tr>\n",
              "      <th>6</th>\n",
              "      <td>Occupation</td>\n",
              "      <td>0</td>\n",
              "    </tr>\n",
              "    <tr>\n",
              "      <th>7</th>\n",
              "      <td>Relationship</td>\n",
              "      <td>0</td>\n",
              "    </tr>\n",
              "    <tr>\n",
              "      <th>8</th>\n",
              "      <td>Race</td>\n",
              "      <td>0</td>\n",
              "    </tr>\n",
              "    <tr>\n",
              "      <th>9</th>\n",
              "      <td>Sex</td>\n",
              "      <td>0</td>\n",
              "    </tr>\n",
              "    <tr>\n",
              "      <th>10</th>\n",
              "      <td>Capital Gain</td>\n",
              "      <td>0</td>\n",
              "    </tr>\n",
              "    <tr>\n",
              "      <th>11</th>\n",
              "      <td>Capital Loss</td>\n",
              "      <td>0</td>\n",
              "    </tr>\n",
              "    <tr>\n",
              "      <th>12</th>\n",
              "      <td>Hours/Week</td>\n",
              "      <td>0</td>\n",
              "    </tr>\n",
              "    <tr>\n",
              "      <th>13</th>\n",
              "      <td>Country</td>\n",
              "      <td>0</td>\n",
              "    </tr>\n",
              "    <tr>\n",
              "      <th>14</th>\n",
              "      <td>Above/Below 50K</td>\n",
              "      <td>0</td>\n",
              "    </tr>\n",
              "  </tbody>\n",
              "</table>\n",
              "</div>"
            ],
            "text/plain": [
              "                  0  1\n",
              "0               Age  0\n",
              "1         Workclass  0\n",
              "2            fnlgwt  0\n",
              "3         Education  0\n",
              "4     Education Num  0\n",
              "5    Marital Status  0\n",
              "6        Occupation  0\n",
              "7      Relationship  0\n",
              "8              Race  0\n",
              "9               Sex  0\n",
              "10     Capital Gain  0\n",
              "11     Capital Loss  0\n",
              "12       Hours/Week  0\n",
              "13          Country  0\n",
              "14  Above/Below 50K  0"
            ]
          },
          "metadata": {
            "tags": []
          },
          "execution_count": 18
        }
      ]
    },
    {
      "metadata": {
        "id": "6H0I3EtHSMtb",
        "colab_type": "code",
        "outputId": "2ed9a54b-6670-46ce-a8e4-81da3103dc3f",
        "colab": {
          "base_uri": "https://localhost:8080/",
          "height": 136
        }
      },
      "cell_type": "code",
      "source": [
        "# categorical feature\n",
        "train['Relationship'].value_counts()"
      ],
      "execution_count": 0,
      "outputs": [
        {
          "output_type": "execute_result",
          "data": {
            "text/plain": [
              " Husband           13193\n",
              " Not-in-family      8305\n",
              " Own-child          5068\n",
              " Unmarried          3446\n",
              " Wife               1568\n",
              " Other-relative      981\n",
              "Name: Relationship, dtype: int64"
            ]
          },
          "metadata": {
            "tags": []
          },
          "execution_count": 19
        }
      ]
    },
    {
      "metadata": {
        "_execution_state": "idle",
        "_uuid": "4003d845cb63bf97a6740a393a5866df11f2c84f",
        "_cell_guid": "04ea8eb3-d685-4d68-bc0d-95baa939cdfa",
        "trusted": false,
        "id": "vvCd3vSXIEpL",
        "colab_type": "code",
        "outputId": "df9854e6-09df-4333-aa61-e153ac017568",
        "colab": {
          "base_uri": "https://localhost:8080/",
          "height": 289
        }
      },
      "cell_type": "code",
      "source": [
        "# categorical feature\n",
        "test['Occupation'].value_counts()"
      ],
      "execution_count": 0,
      "outputs": [
        {
          "output_type": "execute_result",
          "data": {
            "text/plain": [
              " Prof-specialty       2032\n",
              " Exec-managerial      2020\n",
              " Craft-repair         2013\n",
              " Sales                1854\n",
              " Adm-clerical         1841\n",
              " Other-service        1628\n",
              " Machine-op-inspct    1020\n",
              " ?                     966\n",
              " Transport-moving      758\n",
              " Handlers-cleaners     702\n",
              " Tech-support          518\n",
              " Farming-fishing       496\n",
              " Protective-serv       334\n",
              " Priv-house-serv        93\n",
              " Armed-Forces            6\n",
              "Name: Occupation, dtype: int64"
            ]
          },
          "metadata": {
            "tags": []
          },
          "execution_count": 20
        }
      ]
    },
    {
      "metadata": {
        "_execution_state": "idle",
        "_uuid": "da278a3f5a16aec85c69edbe4e812dd3aafa701c",
        "_cell_guid": "01becc35-bd02-4c55-98ae-7e06ecb21c9f",
        "id": "tiByVbIzIEpO",
        "colab_type": "text"
      },
      "cell_type": "markdown",
      "source": [
        "### Data Cleaning"
      ]
    },
    {
      "metadata": {
        "id": "GzWFlBhsheAJ",
        "colab_type": "code",
        "outputId": "aa21ca45-bc69-4187-ee18-617fceb94dcf",
        "colab": {
          "base_uri": "https://localhost:8080/",
          "height": 377
        }
      },
      "cell_type": "code",
      "source": [
        "train.head()"
      ],
      "execution_count": 0,
      "outputs": [
        {
          "output_type": "execute_result",
          "data": {
            "text/html": [
              "<div>\n",
              "<style scoped>\n",
              "    .dataframe tbody tr th:only-of-type {\n",
              "        vertical-align: middle;\n",
              "    }\n",
              "\n",
              "    .dataframe tbody tr th {\n",
              "        vertical-align: top;\n",
              "    }\n",
              "\n",
              "    .dataframe thead th {\n",
              "        text-align: right;\n",
              "    }\n",
              "</style>\n",
              "<table border=\"1\" class=\"dataframe\">\n",
              "  <thead>\n",
              "    <tr style=\"text-align: right;\">\n",
              "      <th></th>\n",
              "      <th>Age</th>\n",
              "      <th>Workclass</th>\n",
              "      <th>fnlgwt</th>\n",
              "      <th>Education</th>\n",
              "      <th>Education Num</th>\n",
              "      <th>Marital Status</th>\n",
              "      <th>Occupation</th>\n",
              "      <th>Relationship</th>\n",
              "      <th>Race</th>\n",
              "      <th>Sex</th>\n",
              "      <th>Capital Gain</th>\n",
              "      <th>Capital Loss</th>\n",
              "      <th>Hours/Week</th>\n",
              "      <th>Country</th>\n",
              "      <th>Above/Below 50K</th>\n",
              "    </tr>\n",
              "  </thead>\n",
              "  <tbody>\n",
              "    <tr>\n",
              "      <th>0</th>\n",
              "      <td>39</td>\n",
              "      <td>State-gov</td>\n",
              "      <td>77516</td>\n",
              "      <td>Bachelors</td>\n",
              "      <td>13</td>\n",
              "      <td>Never-married</td>\n",
              "      <td>Adm-clerical</td>\n",
              "      <td>Not-in-family</td>\n",
              "      <td>White</td>\n",
              "      <td>Male</td>\n",
              "      <td>2174</td>\n",
              "      <td>0</td>\n",
              "      <td>40</td>\n",
              "      <td>United-States</td>\n",
              "      <td>&lt;=50K</td>\n",
              "    </tr>\n",
              "    <tr>\n",
              "      <th>1</th>\n",
              "      <td>50</td>\n",
              "      <td>Self-emp-not-inc</td>\n",
              "      <td>83311</td>\n",
              "      <td>Bachelors</td>\n",
              "      <td>13</td>\n",
              "      <td>Married-civ-spouse</td>\n",
              "      <td>Exec-managerial</td>\n",
              "      <td>Husband</td>\n",
              "      <td>White</td>\n",
              "      <td>Male</td>\n",
              "      <td>0</td>\n",
              "      <td>0</td>\n",
              "      <td>13</td>\n",
              "      <td>United-States</td>\n",
              "      <td>&lt;=50K</td>\n",
              "    </tr>\n",
              "    <tr>\n",
              "      <th>2</th>\n",
              "      <td>38</td>\n",
              "      <td>Private</td>\n",
              "      <td>215646</td>\n",
              "      <td>HS-grad</td>\n",
              "      <td>9</td>\n",
              "      <td>Divorced</td>\n",
              "      <td>Handlers-cleaners</td>\n",
              "      <td>Not-in-family</td>\n",
              "      <td>White</td>\n",
              "      <td>Male</td>\n",
              "      <td>0</td>\n",
              "      <td>0</td>\n",
              "      <td>40</td>\n",
              "      <td>United-States</td>\n",
              "      <td>&lt;=50K</td>\n",
              "    </tr>\n",
              "    <tr>\n",
              "      <th>3</th>\n",
              "      <td>53</td>\n",
              "      <td>Private</td>\n",
              "      <td>234721</td>\n",
              "      <td>11th</td>\n",
              "      <td>7</td>\n",
              "      <td>Married-civ-spouse</td>\n",
              "      <td>Handlers-cleaners</td>\n",
              "      <td>Husband</td>\n",
              "      <td>Black</td>\n",
              "      <td>Male</td>\n",
              "      <td>0</td>\n",
              "      <td>0</td>\n",
              "      <td>40</td>\n",
              "      <td>United-States</td>\n",
              "      <td>&lt;=50K</td>\n",
              "    </tr>\n",
              "    <tr>\n",
              "      <th>4</th>\n",
              "      <td>28</td>\n",
              "      <td>Private</td>\n",
              "      <td>338409</td>\n",
              "      <td>Bachelors</td>\n",
              "      <td>13</td>\n",
              "      <td>Married-civ-spouse</td>\n",
              "      <td>Prof-specialty</td>\n",
              "      <td>Wife</td>\n",
              "      <td>Black</td>\n",
              "      <td>Female</td>\n",
              "      <td>0</td>\n",
              "      <td>0</td>\n",
              "      <td>40</td>\n",
              "      <td>Cuba</td>\n",
              "      <td>&lt;=50K</td>\n",
              "    </tr>\n",
              "  </tbody>\n",
              "</table>\n",
              "</div>"
            ],
            "text/plain": [
              "   Age          Workclass  fnlgwt   Education  Education Num  \\\n",
              "0   39          State-gov   77516   Bachelors             13   \n",
              "1   50   Self-emp-not-inc   83311   Bachelors             13   \n",
              "2   38            Private  215646     HS-grad              9   \n",
              "3   53            Private  234721        11th              7   \n",
              "4   28            Private  338409   Bachelors             13   \n",
              "\n",
              "        Marital Status          Occupation    Relationship    Race      Sex  \\\n",
              "0        Never-married        Adm-clerical   Not-in-family   White     Male   \n",
              "1   Married-civ-spouse     Exec-managerial         Husband   White     Male   \n",
              "2             Divorced   Handlers-cleaners   Not-in-family   White     Male   \n",
              "3   Married-civ-spouse   Handlers-cleaners         Husband   Black     Male   \n",
              "4   Married-civ-spouse      Prof-specialty            Wife   Black   Female   \n",
              "\n",
              "   Capital Gain  Capital Loss  Hours/Week         Country Above/Below 50K  \n",
              "0          2174             0          40   United-States           <=50K  \n",
              "1             0             0          13   United-States           <=50K  \n",
              "2             0             0          40   United-States           <=50K  \n",
              "3             0             0          40   United-States           <=50K  \n",
              "4             0             0          40            Cuba           <=50K  "
            ]
          },
          "metadata": {
            "tags": []
          },
          "execution_count": 21
        }
      ]
    },
    {
      "metadata": {
        "_execution_state": "idle",
        "_uuid": "18798000dd3a63c234733dfaec1eeeb3800ad3fb",
        "_cell_guid": "0e6c8ded-0141-4c93-8950-904b96159e47",
        "trusted": false,
        "id": "8brvOXfHIEpP",
        "colab_type": "code",
        "outputId": "bea60a3a-f08c-4882-d7c5-1ffc04990b2c",
        "colab": {
          "base_uri": "https://localhost:8080/",
          "height": 51
        }
      },
      "cell_type": "code",
      "source": [
        "# deleted the firt rows of the both dataframes since these are errorneous\n",
        "train.drop(train.index[0]).head()\n",
        "test.drop(test.index[0]).head()\n",
        "\n",
        "print(train.shape)\n",
        "print(test.shape)"
      ],
      "execution_count": 0,
      "outputs": [
        {
          "output_type": "stream",
          "text": [
            "(32561, 15)\n",
            "(16282, 15)\n"
          ],
          "name": "stdout"
        }
      ]
    },
    {
      "metadata": {
        "_execution_state": "idle",
        "_uuid": "b17e405b6a106b2dfa624c6240a6e87fb88c9b07",
        "_cell_guid": "6f6d353b-6a64-4305-9f78-512739f111ff",
        "trusted": false,
        "id": "jEoLkc9eIEpR",
        "colab_type": "code",
        "colab": {}
      },
      "cell_type": "code",
      "source": [
        "# a swiss knife tool for separating string columns to separate list and numerical to separate list\n",
        "all_data = [train, test]\n",
        "str_list = []\n",
        "\n",
        "for data in all_data:\n",
        "    for colname, colvalue in data.iteritems(): \n",
        "        if type(colvalue[1]) == str:\n",
        "            str_list.append(colname) \n",
        "num_list = data.columns.difference(str_list)"
      ],
      "execution_count": 0,
      "outputs": []
    },
    {
      "metadata": {
        "_execution_state": "idle",
        "_uuid": "11e318a3f8a981d546a0b174e840bac380b4b078",
        "_cell_guid": "22580197-d853-4b72-8bfd-3c50e9d1ddf2",
        "trusted": false,
        "id": "vvmojQw-IEpX",
        "colab_type": "code",
        "outputId": "9710da45-6b16-4274-dde0-3fcaa46eafdc",
        "colab": {
          "base_uri": "https://localhost:8080/",
          "height": 289
        }
      },
      "cell_type": "code",
      "source": [
        "# no null values its good\n",
        "print(test.isnull().sum())"
      ],
      "execution_count": 0,
      "outputs": [
        {
          "output_type": "stream",
          "text": [
            "Age                0\n",
            "Workclass          1\n",
            "fnlgwt             1\n",
            "Education          1\n",
            "Education Num      1\n",
            "Marital Status     1\n",
            "Occupation         1\n",
            "Relationship       1\n",
            "Race               1\n",
            "Sex                1\n",
            "Capital Gain       1\n",
            "Capital Loss       1\n",
            "Hours/Week         1\n",
            "Country            1\n",
            "Above/Below 50K    1\n",
            "dtype: int64\n"
          ],
          "name": "stdout"
        }
      ]
    },
    {
      "metadata": {
        "_execution_state": "idle",
        "_uuid": "45f713e9b29a7801ad26240b73463aa2009a1272",
        "_cell_guid": "fb6d8371-b483-425c-92b7-cdd2e268c424",
        "id": "SW3M3f9-IEpa",
        "colab_type": "text"
      },
      "cell_type": "markdown",
      "source": [
        "Looking at the unique values for the categorical columns, it seems there are is special charatcers ' ?'\n",
        "inserted in the dataframe in place of null values we have to remove it and replace it wiyh nan and deleting the rows with Nan values..\n",
        "Picture is now clear. As you can see missing values in the WorkClass and Occupation are quite high. We will delete the missing value. "
      ]
    },
    {
      "metadata": {
        "_execution_state": "idle",
        "_uuid": "691f9138893529e334ca30e53d816b5a0a954bbe",
        "_cell_guid": "653e148c-cd3c-45d5-a7e1-dc6475c723c5",
        "trusted": false,
        "id": "bhRwpwmLIEpb",
        "colab_type": "code",
        "colab": {}
      },
      "cell_type": "code",
      "source": [
        "# the code will replace the special character to nan\n",
        "for data in all_data:\n",
        "    for i in data.columns:\n",
        "        data[i].replace(' ?', np.nan, inplace = True)\n",
        "    data.dropna(inplace = True)"
      ],
      "execution_count": 0,
      "outputs": []
    },
    {
      "metadata": {
        "_uuid": "e3ce1f14328835e256ba76b807e162e352eb0cbe",
        "_cell_guid": "d7319094-7774-4edc-8b08-2d5459c4ccc1",
        "trusted": false,
        "id": "0Ilc4fjvIEpf",
        "colab_type": "code",
        "outputId": "924fe12f-437f-4c46-d1c1-b9c743dbe347",
        "colab": {
          "base_uri": "https://localhost:8080/",
          "height": 289
        }
      },
      "cell_type": "code",
      "source": [
        "test.isnull().sum()"
      ],
      "execution_count": 0,
      "outputs": [
        {
          "output_type": "execute_result",
          "data": {
            "text/plain": [
              "Age                0\n",
              "Workclass          0\n",
              "fnlgwt             0\n",
              "Education          0\n",
              "Education Num      0\n",
              "Marital Status     0\n",
              "Occupation         0\n",
              "Relationship       0\n",
              "Race               0\n",
              "Sex                0\n",
              "Capital Gain       0\n",
              "Capital Loss       0\n",
              "Hours/Week         0\n",
              "Country            0\n",
              "Above/Below 50K    0\n",
              "dtype: int64"
            ]
          },
          "metadata": {
            "tags": []
          },
          "execution_count": 26
        }
      ]
    },
    {
      "metadata": {
        "_uuid": "db33030de9b83d16b40252ece310f3887ec1b6e7",
        "_cell_guid": "73025aa6-1039-4a81-a139-8c2efbc856a2",
        "id": "vZhTRrU4IEpi",
        "colab_type": "text"
      },
      "cell_type": "markdown",
      "source": [
        "### Feature Engineering"
      ]
    },
    {
      "metadata": {
        "_execution_state": "idle",
        "_uuid": "53a06421a812798164c3620d4f0bc8ede18cf133",
        "_cell_guid": "27fe48b7-0ad0-4b90-8b2f-86975a15ba13",
        "id": "woZHyOPoIEpj",
        "colab_type": "text"
      },
      "cell_type": "markdown",
      "source": [
        "Creating the target variable"
      ]
    },
    {
      "metadata": {
        "_execution_state": "idle",
        "_uuid": "69dac1f1a744e47bbd7d6fca6e6a0a9195f99d3b",
        "_cell_guid": "2b3cd09d-0206-4c4b-8a15-0fc88a5d29dc",
        "trusted": false,
        "id": "aAIdNhTMIEpj",
        "colab_type": "code",
        "colab": {}
      },
      "cell_type": "code",
      "source": [
        "# defining the target variable\n",
        "for data in all_data:\n",
        "    data['target'] = data['Above/Below 50K'].apply(lambda x: x.replace('.', ''))\n",
        "    data['target'] = data['target'].apply(lambda x: x.strip())\n",
        "    data['target'] = data['target'].apply(lambda x: 1 if x == '>50K' else 0)\n",
        "    data.drop(['Above/Below 50K'], axis = 1, inplace = True)"
      ],
      "execution_count": 0,
      "outputs": []
    },
    {
      "metadata": {
        "_execution_state": "idle",
        "_uuid": "c26f8c02048037a5732fd963e2e5255750ba6583",
        "_cell_guid": "a4239239-159c-4478-b3a2-8fc66c221805",
        "trusted": false,
        "id": "SLGd90AOIEpm",
        "colab_type": "code",
        "outputId": "993b9690-b527-4145-f4dc-cec12decbe19",
        "colab": {
          "base_uri": "https://localhost:8080/",
          "height": 34
        }
      },
      "cell_type": "code",
      "source": [
        "train.target.sum()/len(train)"
      ],
      "execution_count": 0,
      "outputs": [
        {
          "output_type": "execute_result",
          "data": {
            "text/plain": [
              "0.24892248524633645"
            ]
          },
          "metadata": {
            "tags": []
          },
          "execution_count": 28
        }
      ]
    },
    {
      "metadata": {
        "_uuid": "e4d879d2d3319c36507b9eb0ecd54998574d26f2",
        "_cell_guid": "3b33bc9e-4f09-41a6-a3a5-339ad5ddc41c",
        "id": "921OwN_3IEpo",
        "colab_type": "text"
      },
      "cell_type": "markdown",
      "source": [
        "Education and number of work hour/week looks to be a great variables deciding income. Lets create categories to further enhance its effect. We will create low, medium and high education. I will derive a generic function for creating bins"
      ]
    },
    {
      "metadata": {
        "_execution_state": "idle",
        "_uuid": "3f466543865982bb9517b12f6a54b21c6e3c5703",
        "_cell_guid": "b48debae-a79f-4975-9b8e-a9c8aa976408",
        "trusted": false,
        "id": "XdYZF0pZIEpq",
        "colab_type": "code",
        "colab": {}
      },
      "cell_type": "code",
      "source": [
        "# data can be train or test\n",
        "# var name is variable name: should be passed as strings within ('')\n",
        "# bins is list of numeric values like [0,6,10,11]\n",
        "# group names is list of groups you want to create in list form\n",
        "def bin_var(data, var, bins, group_names):\n",
        "    bin_value = bins\n",
        "    group = group_names\n",
        "    data[var + 'Cat'] = pd.cut(train[var], bin_value, labels = group)"
      ],
      "execution_count": 0,
      "outputs": []
    },
    {
      "metadata": {
        "_uuid": "0416f19a5dfe088d5fcc4b4a56ea539c981f4f6b",
        "_cell_guid": "b29bb91d-c404-4504-a5d4-2bff882e14a7",
        "id": "9wmBfVOeIEpt",
        "colab_type": "text"
      },
      "cell_type": "markdown",
      "source": [
        "Education can be divided into three groups 0-6 low and 7-11 medium and above that high "
      ]
    },
    {
      "metadata": {
        "_execution_state": "idle",
        "_uuid": "fb83d23a9a208984efd19bda65fbc9fcc84e06d1",
        "_cell_guid": "3e03a85e-4e82-4860-95d4-17c8ee8f663b",
        "trusted": false,
        "id": "EM3U-2BeIEpv",
        "colab_type": "code",
        "colab": {}
      },
      "cell_type": "code",
      "source": [
        "bin_var(train, 'Education Num', [0,6,11,16], ['Low', 'Medium', 'High'])\n",
        "bin_var(test, 'Education Num', [0,6,11,16], ['Low', 'Medium', 'High'])"
      ],
      "execution_count": 0,
      "outputs": []
    },
    {
      "metadata": {
        "_execution_state": "idle",
        "_uuid": "23dfe22381e9a2d4d921145d7dff9f3e5160ac65",
        "_cell_guid": "e24ab0a4-8f3b-4a80-9526-c65803a5fb1c",
        "trusted": false,
        "id": "kyS20NshIEp0",
        "colab_type": "code",
        "outputId": "96399c72-321a-437b-eb59-8de3599cee4b",
        "colab": {
          "base_uri": "https://localhost:8080/",
          "height": 173
        }
      },
      "cell_type": "code",
      "source": [
        "pd.crosstab(train['Education NumCat'], train['target'])"
      ],
      "execution_count": 0,
      "outputs": [
        {
          "output_type": "execute_result",
          "data": {
            "text/html": [
              "<div>\n",
              "<style scoped>\n",
              "    .dataframe tbody tr th:only-of-type {\n",
              "        vertical-align: middle;\n",
              "    }\n",
              "\n",
              "    .dataframe tbody tr th {\n",
              "        vertical-align: top;\n",
              "    }\n",
              "\n",
              "    .dataframe thead th {\n",
              "        text-align: right;\n",
              "    }\n",
              "</style>\n",
              "<table border=\"1\" class=\"dataframe\">\n",
              "  <thead>\n",
              "    <tr style=\"text-align: right;\">\n",
              "      <th>target</th>\n",
              "      <th>0</th>\n",
              "      <th>1</th>\n",
              "    </tr>\n",
              "    <tr>\n",
              "      <th>Education NumCat</th>\n",
              "      <th></th>\n",
              "      <th></th>\n",
              "    </tr>\n",
              "  </thead>\n",
              "  <tbody>\n",
              "    <tr>\n",
              "      <th>Low</th>\n",
              "      <td>2179</td>\n",
              "      <td>137</td>\n",
              "    </tr>\n",
              "    <tr>\n",
              "      <th>Medium</th>\n",
              "      <td>15865</td>\n",
              "      <td>3385</td>\n",
              "    </tr>\n",
              "    <tr>\n",
              "      <th>High</th>\n",
              "      <td>4610</td>\n",
              "      <td>3986</td>\n",
              "    </tr>\n",
              "  </tbody>\n",
              "</table>\n",
              "</div>"
            ],
            "text/plain": [
              "target                0     1\n",
              "Education NumCat             \n",
              "Low                2179   137\n",
              "Medium            15865  3385\n",
              "High               4610  3986"
            ]
          },
          "metadata": {
            "tags": []
          },
          "execution_count": 31
        }
      ]
    },
    {
      "metadata": {
        "_uuid": "5980ac3d92101597d758d054037a1ee75e9f78ab",
        "_cell_guid": "371b4873-d583-4f11-a7ce-b8083569e4e9",
        "id": "xHTXWNraIEp6",
        "colab_type": "text"
      },
      "cell_type": "markdown",
      "source": [
        "The same way we can bin the Hours/Week variable. Initial exploation suggest that 40 hours is the most fequent value which make sense that it is 8hr/day. Hence we will bin this variable around this value. "
      ]
    },
    {
      "metadata": {
        "_execution_state": "idle",
        "_uuid": "0522ff4e4ef9afe81ae0b712b56e699a8d6d544b",
        "_cell_guid": "69f373cb-9afd-4e94-860f-efed9ebcfb16",
        "trusted": false,
        "id": "hhxmURTUIEp7",
        "colab_type": "code",
        "colab": {}
      },
      "cell_type": "code",
      "source": [
        "bin_var(train, 'Hours/Week', [0,35,40,60,100], ['Low', 'Medium', 'High','VeryHigh'])\n",
        "bin_var(test, 'Hours/Week', [0,35,40,60,100], ['Low', 'Medium', 'High','VeryHigh'])"
      ],
      "execution_count": 0,
      "outputs": []
    },
    {
      "metadata": {
        "_execution_state": "idle",
        "_uuid": "fc1aee522fbae7d32dff4827c30c1d00d3b53acf",
        "_cell_guid": "4b6080a1-30ac-4ff1-a415-9fe0bc2edfd0",
        "trusted": false,
        "id": "_W6AlvDgIEp-",
        "colab_type": "code",
        "outputId": "ffce308c-6354-4065-c29f-e7609a720794",
        "colab": {
          "base_uri": "https://localhost:8080/",
          "height": 235
        }
      },
      "cell_type": "code",
      "source": [
        "pd.crosstab(train['Hours/WeekCat'], train['target'], margins = True)"
      ],
      "execution_count": 0,
      "outputs": [
        {
          "output_type": "execute_result",
          "data": {
            "text/html": [
              "<div>\n",
              "<style scoped>\n",
              "    .dataframe tbody tr th:only-of-type {\n",
              "        vertical-align: middle;\n",
              "    }\n",
              "\n",
              "    .dataframe tbody tr th {\n",
              "        vertical-align: top;\n",
              "    }\n",
              "\n",
              "    .dataframe thead th {\n",
              "        text-align: right;\n",
              "    }\n",
              "</style>\n",
              "<table border=\"1\" class=\"dataframe\">\n",
              "  <thead>\n",
              "    <tr style=\"text-align: right;\">\n",
              "      <th>target</th>\n",
              "      <th>0</th>\n",
              "      <th>1</th>\n",
              "      <th>All</th>\n",
              "    </tr>\n",
              "    <tr>\n",
              "      <th>Hours/WeekCat</th>\n",
              "      <th></th>\n",
              "      <th></th>\n",
              "      <th></th>\n",
              "    </tr>\n",
              "  </thead>\n",
              "  <tbody>\n",
              "    <tr>\n",
              "      <th>Low</th>\n",
              "      <td>5369</td>\n",
              "      <td>505</td>\n",
              "      <td>5874</td>\n",
              "    </tr>\n",
              "    <tr>\n",
              "      <th>Medium</th>\n",
              "      <td>11829</td>\n",
              "      <td>3262</td>\n",
              "      <td>15091</td>\n",
              "    </tr>\n",
              "    <tr>\n",
              "      <th>High</th>\n",
              "      <td>4796</td>\n",
              "      <td>3349</td>\n",
              "      <td>8145</td>\n",
              "    </tr>\n",
              "    <tr>\n",
              "      <th>VeryHigh</th>\n",
              "      <td>660</td>\n",
              "      <td>392</td>\n",
              "      <td>1052</td>\n",
              "    </tr>\n",
              "    <tr>\n",
              "      <th>All</th>\n",
              "      <td>22654</td>\n",
              "      <td>7508</td>\n",
              "      <td>30162</td>\n",
              "    </tr>\n",
              "  </tbody>\n",
              "</table>\n",
              "</div>"
            ],
            "text/plain": [
              "target             0     1    All\n",
              "Hours/WeekCat                    \n",
              "Low             5369   505   5874\n",
              "Medium         11829  3262  15091\n",
              "High            4796  3349   8145\n",
              "VeryHigh         660   392   1052\n",
              "All            22654  7508  30162"
            ]
          },
          "metadata": {
            "tags": []
          },
          "execution_count": 33
        }
      ]
    },
    {
      "metadata": {
        "_uuid": "5670a6f74cf03c538ac03a6965145ff5741c1f3f",
        "_cell_guid": "2017360d-9eed-4f73-a901-4e1a07b09510",
        "id": "VTzCtQuRIEqB",
        "colab_type": "text"
      },
      "cell_type": "markdown",
      "source": [
        "Classifying the occupation into Highly Skilled and low Skilled"
      ]
    },
    {
      "metadata": {
        "_uuid": "548a7da88827e78f653ed8674d2a3045adb0a48f",
        "_cell_guid": "3bfee7ef-b00e-47b7-95cc-1c833e99ed01",
        "trusted": false,
        "id": "PpAiZRi2IEqC",
        "colab_type": "code",
        "colab": {}
      },
      "cell_type": "code",
      "source": [
        "occu = pd.crosstab(train['Occupation'], train['target'], margins = True).reset_index()"
      ],
      "execution_count": 0,
      "outputs": []
    },
    {
      "metadata": {
        "_uuid": "4a338bcad5ca2cd318adab52cd53e69816e64afa",
        "_cell_guid": "381b18da-83f8-4391-adf4-7e52f7babf27",
        "trusted": false,
        "id": "dx2ea9RMIEqI",
        "colab_type": "code",
        "colab": {}
      },
      "cell_type": "code",
      "source": [
        "def occup(x):\n",
        "    if re.search('managerial', x):\n",
        "        return 'Highskill'\n",
        "    elif re.search('specialty',x):\n",
        "        return 'Highskill'\n",
        "    else:\n",
        "        return 'Lowskill'"
      ],
      "execution_count": 0,
      "outputs": []
    },
    {
      "metadata": {
        "_uuid": "06246ac6c4fa77ba807fcfc7bb0db0944d6a303b",
        "_cell_guid": "94ac1958-4906-4fea-a29c-8db64f2cd3f6",
        "trusted": false,
        "id": "KJwdwL4KIEqM",
        "colab_type": "code",
        "colab": {}
      },
      "cell_type": "code",
      "source": [
        "train['Occupa_cat'] = train.Occupation.apply(lambda x: x.strip()).apply(lambda x: occup(x))\n",
        "test['Occupa_cat'] = test.Occupation.apply(lambda x: x.strip()).apply(lambda x: occup(x))"
      ],
      "execution_count": 0,
      "outputs": []
    },
    {
      "metadata": {
        "_uuid": "d034a805595ae095daa38bce46ab90e246b3ce15",
        "_cell_guid": "2e6e8f40-0806-4481-bc00-1304163509ad",
        "trusted": false,
        "id": "fusqSMv5IEqO",
        "colab_type": "code",
        "outputId": "c55d886a-4b22-429f-e8c7-8fc2a9e15ed4",
        "colab": {
          "base_uri": "https://localhost:8080/",
          "height": 68
        }
      },
      "cell_type": "code",
      "source": [
        "train['Occupa_cat'].value_counts()"
      ],
      "execution_count": 0,
      "outputs": [
        {
          "output_type": "execute_result",
          "data": {
            "text/plain": [
              "Lowskill     22132\n",
              "Highskill     8030\n",
              "Name: Occupa_cat, dtype: int64"
            ]
          },
          "metadata": {
            "tags": []
          },
          "execution_count": 37
        }
      ]
    },
    {
      "metadata": {
        "_uuid": "4ed9aca78cfaec49e312d60add06ccbb0dcaf3c6",
        "_cell_guid": "21ce2839-8247-408e-aa4d-66d25d9164d3",
        "id": "20PLYVQbIEqQ",
        "colab_type": "text"
      },
      "cell_type": "markdown",
      "source": [
        "Same way we can bin the Age variable. The minimum age in train is 17 and max is 90. We can categorize them as young, middle_aged and old"
      ]
    },
    {
      "metadata": {
        "_execution_state": "idle",
        "_uuid": "f922988c9a19dbc2728789bc4e804f012fd30b0b",
        "_cell_guid": "54f005cc-a2c4-4543-ab05-680c3a0d3c2b",
        "trusted": false,
        "id": "JIctFNxfIEqS",
        "colab_type": "code",
        "colab": {}
      },
      "cell_type": "code",
      "source": [
        "bin_var(test, 'Age', [17,30,55,100], ['Young', 'Middle_aged', 'Old'])"
      ],
      "execution_count": 0,
      "outputs": []
    },
    {
      "metadata": {
        "_execution_state": "idle",
        "_uuid": "26a707c2af2447d8d54c57ab1c846351c997608c",
        "_cell_guid": "9d8b3776-61f7-432e-8640-3fa5ed0c151f",
        "trusted": false,
        "id": "0DYjdtVvIEqU",
        "colab_type": "code",
        "colab": {}
      },
      "cell_type": "code",
      "source": [
        "bin_var(train, 'Age', [17,30,55,100], ['Young', 'Middle_aged', 'Old'])"
      ],
      "execution_count": 0,
      "outputs": []
    },
    {
      "metadata": {
        "_uuid": "0661ce0f8bb4c2640bfd9caad8b0f2ded8f6f4d4",
        "_cell_guid": "67b956cc-a256-45f8-8d2b-2abf9733e783",
        "id": "Co7YNNHAIEqW",
        "colab_type": "text"
      },
      "cell_type": "markdown",
      "source": [
        "Marital status can also be binned"
      ]
    },
    {
      "metadata": {
        "_execution_state": "idle",
        "_uuid": "e9269a0074e656f5ff0aeb32d7921cc2e917fecb",
        "_cell_guid": "e4799804-ddea-42ee-b2fa-e9c63def77ce",
        "trusted": false,
        "id": "D3U_4jV8IEqY",
        "colab_type": "code",
        "colab": {}
      },
      "cell_type": "code",
      "source": [
        "train['Marital Status_cat']=train['Marital Status'].apply(lambda x: 'married' if x.startswith('Married',1) else 'Single')\n",
        "test['Marital Status_cat']=test['Marital Status'].apply(lambda x: 'married' if x.startswith('Married',1) else 'Single')"
      ],
      "execution_count": 0,
      "outputs": []
    },
    {
      "metadata": {
        "_uuid": "c6573db03ab289c578f9aba96f1add1e5ab8458d",
        "_cell_guid": "28c31d81-ca67-42f6-b46f-1fc28008b647",
        "collapsed": true,
        "id": "pLiJY2f4IEqd",
        "colab_type": "text"
      },
      "cell_type": "markdown",
      "source": [
        "Race has been binned into White and others"
      ]
    },
    {
      "metadata": {
        "_uuid": "76537904b5c5c94ecf899952ea2860b3dcfa291c",
        "_cell_guid": "92d83b90-02b6-4266-b278-3f6c626c9287",
        "trusted": false,
        "id": "Yf0UCrCLIEqd",
        "colab_type": "code",
        "outputId": "bf82864a-d722-4950-d748-b7792055e93b",
        "colab": {
          "base_uri": "https://localhost:8080/",
          "height": 266
        }
      },
      "cell_type": "code",
      "source": [
        "pd.crosstab(train['Race'], train['target'], margins = True)"
      ],
      "execution_count": 0,
      "outputs": [
        {
          "output_type": "execute_result",
          "data": {
            "text/html": [
              "<div>\n",
              "<style scoped>\n",
              "    .dataframe tbody tr th:only-of-type {\n",
              "        vertical-align: middle;\n",
              "    }\n",
              "\n",
              "    .dataframe tbody tr th {\n",
              "        vertical-align: top;\n",
              "    }\n",
              "\n",
              "    .dataframe thead th {\n",
              "        text-align: right;\n",
              "    }\n",
              "</style>\n",
              "<table border=\"1\" class=\"dataframe\">\n",
              "  <thead>\n",
              "    <tr style=\"text-align: right;\">\n",
              "      <th>target</th>\n",
              "      <th>0</th>\n",
              "      <th>1</th>\n",
              "      <th>All</th>\n",
              "    </tr>\n",
              "    <tr>\n",
              "      <th>Race</th>\n",
              "      <th></th>\n",
              "      <th></th>\n",
              "      <th></th>\n",
              "    </tr>\n",
              "  </thead>\n",
              "  <tbody>\n",
              "    <tr>\n",
              "      <th>Amer-Indian-Eskimo</th>\n",
              "      <td>252</td>\n",
              "      <td>34</td>\n",
              "      <td>286</td>\n",
              "    </tr>\n",
              "    <tr>\n",
              "      <th>Asian-Pac-Islander</th>\n",
              "      <td>647</td>\n",
              "      <td>248</td>\n",
              "      <td>895</td>\n",
              "    </tr>\n",
              "    <tr>\n",
              "      <th>Black</th>\n",
              "      <td>2451</td>\n",
              "      <td>366</td>\n",
              "      <td>2817</td>\n",
              "    </tr>\n",
              "    <tr>\n",
              "      <th>Other</th>\n",
              "      <td>210</td>\n",
              "      <td>21</td>\n",
              "      <td>231</td>\n",
              "    </tr>\n",
              "    <tr>\n",
              "      <th>White</th>\n",
              "      <td>19094</td>\n",
              "      <td>6839</td>\n",
              "      <td>25933</td>\n",
              "    </tr>\n",
              "    <tr>\n",
              "      <th>All</th>\n",
              "      <td>22654</td>\n",
              "      <td>7508</td>\n",
              "      <td>30162</td>\n",
              "    </tr>\n",
              "  </tbody>\n",
              "</table>\n",
              "</div>"
            ],
            "text/plain": [
              "target                   0     1    All\n",
              "Race                                   \n",
              " Amer-Indian-Eskimo    252    34    286\n",
              " Asian-Pac-Islander    647   248    895\n",
              " Black                2451   366   2817\n",
              " Other                 210    21    231\n",
              " White               19094  6839  25933\n",
              "All                  22654  7508  30162"
            ]
          },
          "metadata": {
            "tags": []
          },
          "execution_count": 41
        }
      ]
    },
    {
      "metadata": {
        "_uuid": "abce68a699f1cb4639b60d368bbcf644280997b7",
        "_cell_guid": "5cc005f9-ecc5-432b-98de-afb5ee4780fc",
        "trusted": false,
        "id": "U-M-c7IzIEqh",
        "colab_type": "code",
        "colab": {}
      },
      "cell_type": "code",
      "source": [
        "train['Race_cat'] = train['Race'].apply(lambda x: x.strip())\n",
        "train['Race_cat'] = train['Race_cat'].apply(lambda x: 'White' if x == 'White' else 'Other')\n",
        "test['Race_cat'] = test['Race'].apply(lambda x: x.strip())\n",
        "test['Race_cat'] = test['Race_cat'].apply(lambda x: 'White' if x == 'White' else 'Other')"
      ],
      "execution_count": 0,
      "outputs": []
    },
    {
      "metadata": {
        "_uuid": "a398748cf711816adca3f2c4f30100243ceb9e47",
        "_cell_guid": "73ae3f02-1c49-41d5-9d73-8ec649261f7e",
        "id": "AqoWzE_hIEql",
        "colab_type": "text"
      },
      "cell_type": "markdown",
      "source": [
        "Work Class is divided into three categories Private, Selfemployed, gov and others"
      ]
    },
    {
      "metadata": {
        "_uuid": "3b92b5a8de348bb7c6a3a3d17314f819d1843b56",
        "_cell_guid": "fc57ecd6-3114-4770-8f68-735103dbe725",
        "trusted": false,
        "id": "fXZCdvdOIEqm",
        "colab_type": "code",
        "outputId": "6e73c8fe-432c-42f9-cf83-71262efbbcd7",
        "colab": {
          "base_uri": "https://localhost:8080/",
          "height": 153
        }
      },
      "cell_type": "code",
      "source": [
        "train['Workclass'].value_counts()"
      ],
      "execution_count": 0,
      "outputs": [
        {
          "output_type": "execute_result",
          "data": {
            "text/plain": [
              " Private             22286\n",
              " Self-emp-not-inc     2499\n",
              " Local-gov            2067\n",
              " State-gov            1279\n",
              " Self-emp-inc         1074\n",
              " Federal-gov           943\n",
              " Without-pay            14\n",
              "Name: Workclass, dtype: int64"
            ]
          },
          "metadata": {
            "tags": []
          },
          "execution_count": 43
        }
      ]
    },
    {
      "metadata": {
        "_uuid": "d5f31941207f681348d0eea583370461da4458c3",
        "_cell_guid": "59b45ea3-eb1c-40c6-af05-955b86a0b9d3",
        "trusted": false,
        "id": "3KKUVAI3IEqr",
        "colab_type": "code",
        "colab": {}
      },
      "cell_type": "code",
      "source": [
        "def workclas(x):\n",
        "    if re.search('Private', x):\n",
        "        return 'Private'\n",
        "    elif re.search('Self', x):\n",
        "        return 'selfempl'\n",
        "    elif re.search('gov', x):\n",
        "        return 'gov'\n",
        "    else:\n",
        "        return 'others'"
      ],
      "execution_count": 0,
      "outputs": []
    },
    {
      "metadata": {
        "_uuid": "e533d1a67d96535a99cef087a889de70c889294d",
        "_cell_guid": "8abae262-efdf-4026-8269-4a68f3624ee3",
        "trusted": false,
        "id": "89lQC_1CIEqw",
        "colab_type": "code",
        "colab": {}
      },
      "cell_type": "code",
      "source": [
        "train['WorfClass_cat'] = train.Workclass.apply(lambda x: x.strip()).apply(lambda x: workclas(x))\n",
        "test['WorfClass_cat'] = test.Workclass.apply(lambda x: x.strip()).apply(lambda x: workclas(x))"
      ],
      "execution_count": 0,
      "outputs": []
    },
    {
      "metadata": {
        "_uuid": "d76b56ef9ee15fc005ff2dbba8b7a4b8a03358f4",
        "_cell_guid": "cac99a07-b93d-4963-b2df-01fea345ae2a",
        "trusted": false,
        "id": "QS8I9EVtIEqz",
        "colab_type": "code",
        "outputId": "470243a1-b5f2-4ce0-f4dd-054ea7d531f0",
        "colab": {
          "base_uri": "https://localhost:8080/",
          "height": 102
        }
      },
      "cell_type": "code",
      "source": [
        "train['WorfClass_cat'].value_counts()"
      ],
      "execution_count": 0,
      "outputs": [
        {
          "output_type": "execute_result",
          "data": {
            "text/plain": [
              "Private     22286\n",
              "gov          4289\n",
              "selfempl     3573\n",
              "others         14\n",
              "Name: WorfClass_cat, dtype: int64"
            ]
          },
          "metadata": {
            "tags": []
          },
          "execution_count": 46
        }
      ]
    },
    {
      "metadata": {
        "_execution_state": "idle",
        "_uuid": "bbf80a112427fa34fb6e39ff7659cba81276d591",
        "_cell_guid": "c9f5c406-d2c8-4941-ab93-50722e8b32c8",
        "id": "oqNQXb-gIEq1",
        "colab_type": "text"
      },
      "cell_type": "markdown",
      "source": [
        "* Assigning the targte to Y variable"
      ]
    },
    {
      "metadata": {
        "_execution_state": "idle",
        "_uuid": "2c231624f5e1bb2601bcf4197f760049a54fea53",
        "_cell_guid": "423f7734-839d-4440-b310-605a5dc19f56",
        "trusted": false,
        "id": "DAl5MgbRIEq2",
        "colab_type": "code",
        "colab": {}
      },
      "cell_type": "code",
      "source": [
        "# assigning the target to Y variable\n",
        "Y_tr = train['target']\n",
        "Y_te = test['target']"
      ],
      "execution_count": 0,
      "outputs": []
    },
    {
      "metadata": {
        "_execution_state": "idle",
        "_uuid": "541335780045d44489cc47d3d1dd249771cedc6d",
        "_cell_guid": "8a865048-5007-41c2-a5a4-854493c3d281",
        "trusted": false,
        "id": "smEQFduTIEq4",
        "colab_type": "code",
        "colab": {}
      },
      "cell_type": "code",
      "source": [
        "# since target is already assigned I Will drop the target from the train and test along with other unnecessary variables\n",
        "train.drop(['Education','Occupation','Race','Education Num','Age', 'Hours/Week', 'Marital Status','target','fnlgwt','Workclass', 'Capital Gain','Capital Loss', 'Country'], axis = 1, inplace = True)\n",
        "test.drop(['Education','Occupation','Race','Education Num','Age', 'Hours/Week', 'Marital Status','Workclass','target','fnlgwt', 'Capital Gain','Capital Loss', 'Country'], axis = 1, inplace = True)"
      ],
      "execution_count": 0,
      "outputs": []
    },
    {
      "metadata": {
        "_execution_state": "idle",
        "_uuid": "6587af079bda665eec8b795eaef946f998a37286",
        "_cell_guid": "a5a34ec6-8995-47be-99de-6e3d30820e7a",
        "id": "tcDnOIoBIEq7",
        "colab_type": "text"
      },
      "cell_type": "markdown",
      "source": [
        "I will now create dummies for the categorical variables"
      ]
    },
    {
      "metadata": {
        "_execution_state": "idle",
        "_uuid": "4926d7dc152ce9ee2cac743da3be6de2f3bd218f",
        "_cell_guid": "bdf9f602-7ea2-4397-9966-a0e504630f28",
        "trusted": false,
        "id": "oZtHT6kwIErA",
        "colab_type": "code",
        "colab": {}
      },
      "cell_type": "code",
      "source": [
        "str_list = ['WorfClass_cat','Education NumCat', 'AgeCat', 'Race_cat',\n",
        "            'Hours/WeekCat',\n",
        "            'Marital Status_cat',\n",
        "            'Occupa_cat',\n",
        "            'Relationship',\n",
        "            \n",
        "            'Sex']\n",
        "\n",
        "train_set = pd.get_dummies(train, columns=str_list)\n",
        "test_set = pd.get_dummies(test, columns=str_list)\n"
      ],
      "execution_count": 0,
      "outputs": []
    },
    {
      "metadata": {
        "_uuid": "4a3396de9625cf3944cbb4677d3c415796897490",
        "_cell_guid": "3f489ca6-bf06-448f-8ef7-322608b3f27d",
        "id": "7cRYCUV-IErF",
        "colab_type": "text"
      },
      "cell_type": "markdown",
      "source": [
        "### Feature Selection Using Variance Threshold"
      ]
    },
    {
      "metadata": {
        "_execution_state": "idle",
        "_uuid": "07e406e5741344c24abbc17a74ccc44d0db312c3",
        "_cell_guid": "8290030e-a1df-4ff7-9dc9-854de848370d",
        "id": "wHLNfDBuIErG",
        "colab_type": "text"
      },
      "cell_type": "markdown",
      "source": [
        "Variance Threshold is a univariate  approach to feature selection. It removes all features whose variance doesn’t meet some threshold. By default, it removes all zero-variance features, i.e. features that have the same value in all samples.\n",
        "As an example, suppose that we have a dataset with boolean features, and we want to remove all features that are either one or zero (on or off) in more than 80% of the samples. Boolean features are Bernoulli random variables, and the variance of such variables is given by\n",
        "The below approach removes variable which have more than 80% values are either 0 or 1"
      ]
    },
    {
      "metadata": {
        "_execution_state": "idle",
        "_uuid": "e363c25ef23de68ad918887d6800158bbf4d608a",
        "_cell_guid": "6581304c-1f07-4505-a4d7-4ad9cdf2c6b3",
        "trusted": false,
        "id": "O6-XALzbIErG",
        "colab_type": "code",
        "outputId": "40808c07-68f6-4902-ab79-508d64c512a7",
        "colab": {
          "base_uri": "https://localhost:8080/",
          "height": 221
        }
      },
      "cell_type": "code",
      "source": [
        "train_set.columns"
      ],
      "execution_count": 0,
      "outputs": [
        {
          "output_type": "execute_result",
          "data": {
            "text/plain": [
              "Index(['WorfClass_cat_Private', 'WorfClass_cat_gov', 'WorfClass_cat_others',\n",
              "       'WorfClass_cat_selfempl', 'Education NumCat_Low',\n",
              "       'Education NumCat_Medium', 'Education NumCat_High', 'AgeCat_Young',\n",
              "       'AgeCat_Middle_aged', 'AgeCat_Old', 'Race_cat_Other', 'Race_cat_White',\n",
              "       'Hours/WeekCat_Low', 'Hours/WeekCat_Medium', 'Hours/WeekCat_High',\n",
              "       'Hours/WeekCat_VeryHigh', 'Marital Status_cat_Single',\n",
              "       'Marital Status_cat_married', 'Occupa_cat_Highskill',\n",
              "       'Occupa_cat_Lowskill', 'Relationship_ Husband',\n",
              "       'Relationship_ Not-in-family', 'Relationship_ Other-relative',\n",
              "       'Relationship_ Own-child', 'Relationship_ Unmarried',\n",
              "       'Relationship_ Wife', 'Sex_ Female', 'Sex_ Male'],\n",
              "      dtype='object')"
            ]
          },
          "metadata": {
            "tags": []
          },
          "execution_count": 50
        }
      ]
    },
    {
      "metadata": {
        "_execution_state": "idle",
        "_uuid": "ebd295d304b1a7314b879f8e1e562284fd7fe164",
        "_cell_guid": "49e531a6-ea78-4924-a513-57413bfb92b4",
        "trusted": false,
        "id": "R8ty7gqQIErL",
        "colab_type": "code",
        "colab": {}
      },
      "cell_type": "code",
      "source": [
        "from sklearn.feature_selection import VarianceThreshold\n",
        "def variance_threshold_select(df, thresh = 0.0, na_replacement = -999):\n",
        "    \n",
        "    # Make a deep copy of the dataframe\n",
        "    df1 = df.copy(deep = True)\n",
        "    \n",
        "    # passing Threshold\n",
        "    selector = VarianceThreshold(thresh)\n",
        "    \n",
        "    # fill NA values as VarianceThreshold cannot deal with those\n",
        "    selector.fit(df1.fillna(na_replacement))\n",
        "    \n",
        "    # get new df with columns deleted that have NA values\n",
        "    df2 = df.loc[:,selector.get_support(indices = False)] \n",
        "    return df2"
      ],
      "execution_count": 0,
      "outputs": []
    },
    {
      "metadata": {
        "_execution_state": "idle",
        "_uuid": "3404a03229de1e00649b13e23f4ac5ab6ddd7c3a",
        "_cell_guid": "529e03bd-ed82-4aff-93a3-68f2a08149e5",
        "trusted": false,
        "id": "Xd5cZ6xZIErQ",
        "colab_type": "code",
        "colab": {}
      },
      "cell_type": "code",
      "source": [
        "df2 = variance_threshold_select(train_set, thresh = .8* (1 - .8))"
      ],
      "execution_count": 0,
      "outputs": []
    },
    {
      "metadata": {
        "_uuid": "434f767d3bcc4411e2cf05ea83cbcfe5db241660",
        "_cell_guid": "02777058-c5e9-4c4a-8725-b6fc2a043d91",
        "trusted": false,
        "id": "eFMLON8zIErT",
        "colab_type": "code",
        "outputId": "7a01e606-4fc9-4c1f-92f2-464e857fe0ef",
        "colab": {
          "base_uri": "https://localhost:8080/",
          "height": 136
        }
      },
      "cell_type": "code",
      "source": [
        "print(df2.columns)"
      ],
      "execution_count": 0,
      "outputs": [
        {
          "output_type": "stream",
          "text": [
            "Index(['WorfClass_cat_Private', 'Education NumCat_Medium',\n",
            "       'Education NumCat_High', 'AgeCat_Young', 'AgeCat_Middle_aged',\n",
            "       'Hours/WeekCat_Medium', 'Hours/WeekCat_High',\n",
            "       'Marital Status_cat_Single', 'Marital Status_cat_married',\n",
            "       'Occupa_cat_Highskill', 'Occupa_cat_Lowskill', 'Relationship_ Husband',\n",
            "       'Relationship_ Not-in-family', 'Sex_ Female', 'Sex_ Male'],\n",
            "      dtype='object')\n"
          ],
          "name": "stdout"
        }
      ]
    },
    {
      "metadata": {
        "_uuid": "f5e98f2c09aa50660e1bdc311a601156d067d5b1",
        "_cell_guid": "c84c5ba0-e94d-4325-9009-52aa0eb9f756",
        "id": "cp-FCHsUIErV",
        "colab_type": "text"
      },
      "cell_type": "markdown",
      "source": [
        "As you can see below the number of columns have been reduced to 15 because of the the variance threshold. The removed columns have the same value in 80% of the observations"
      ]
    },
    {
      "metadata": {
        "_execution_state": "idle",
        "_uuid": "efaf8def22c83ce48a969481d228011d76f6ad30",
        "_cell_guid": "d1d33c1d-14a0-4620-8b50-27f54a488411",
        "trusted": false,
        "id": "id2IT8N-IErW",
        "colab_type": "code",
        "colab": {}
      },
      "cell_type": "code",
      "source": [
        "# creates list of columns\n",
        "col_tr = df2.columns\n",
        "\n",
        "# creates list of columns for test\n",
        "col_te = test_set.columns \n",
        "\n",
        "# creates array of values of features\n",
        "X_tr=df2.values \n",
        "\n",
        "# subseting the test dataset to get the same variable as train and\n",
        "X_te = test_set[col_tr].values"
      ],
      "execution_count": 0,
      "outputs": []
    },
    {
      "metadata": {
        "_execution_state": "idle",
        "_uuid": "dc87167864072661b64ff0cbcf1c1a5e465c1153",
        "_cell_guid": "4c33e61c-3b88-4d76-9941-b64ea9d1ccac",
        "trusted": false,
        "id": "fij_ZYyQIEra",
        "colab_type": "code",
        "outputId": "0d273124-da9a-4c70-cf48-ad3613eb54a3",
        "colab": {
          "base_uri": "https://localhost:8080/",
          "height": 34
        }
      },
      "cell_type": "code",
      "source": [
        "len(col_tr)"
      ],
      "execution_count": 0,
      "outputs": [
        {
          "output_type": "execute_result",
          "data": {
            "text/plain": [
              "15"
            ]
          },
          "metadata": {
            "tags": []
          },
          "execution_count": 55
        }
      ]
    },
    {
      "metadata": {
        "_execution_state": "idle",
        "_uuid": "0020e034ebd95980e44ac2917a833ac717f8c536",
        "_cell_guid": "d6bd3d96-95d1-4a9c-9f4b-426f889831a9",
        "id": "mr3H8TBOIErd",
        "colab_type": "text"
      },
      "cell_type": "markdown",
      "source": [
        "### Modelling Process"
      ]
    },
    {
      "metadata": {
        "_execution_state": "idle",
        "_uuid": "5a8bf68d62506115b72d872a1422d15f8a6d347a",
        "_cell_guid": "d9119c73-b068-462f-8364-810bc59cb111",
        "trusted": false,
        "id": "hpB7fTIUIErd",
        "colab_type": "code",
        "colab": {}
      },
      "cell_type": "code",
      "source": [
        "import pandas as pd \n",
        "import matplotlib.pyplot as plt \n",
        "import numpy as np \n",
        "from sklearn.linear_model import LogisticRegression\n",
        "from sklearn.preprocessing import StandardScaler\n",
        "from sklearn.model_selection import StratifiedKFold\n",
        "from sklearn.metrics import confusion_matrix, classification_report, roc_curve, roc_auc_score\n",
        "import itertools\n",
        "\n",
        "def plot_confusion_matrix(cm, classes,\n",
        "                          normalize=False,\n",
        "                          title='Confusion matrix',\n",
        "                          cmap=plt.cm.Blues):\n",
        "    \"\"\"\n",
        "    This function prints and plots the confusion matrix.\n",
        "    Normalization can be applied by setting `normalize=True`.\n",
        "    \"\"\"\n",
        "    plt.imshow(cm, interpolation='nearest', cmap=cmap)\n",
        "    plt.title(title)\n",
        "    plt.colorbar()\n",
        "    tick_marks = np.arange(len(classes))\n",
        "    plt.xticks(tick_marks, classes, rotation=45)\n",
        "    plt.yticks(tick_marks, classes)\n",
        "\n",
        "    if normalize:\n",
        "        cm = cm.astype('float') / cm.sum(axis=1)[:, np.newaxis]\n",
        "        print(\"Normalized confusion matrix\")\n",
        "#    else:\n",
        "#        print('Confusion matrix, without normalization')\n",
        "\n",
        "#    print(cm)\n",
        "\n",
        "    thresh = cm.max() / 2.\n",
        "    for i, j in itertools.product(range(cm.shape[0]), range(cm.shape[1])):\n",
        "        plt.text(j, i, cm[i, j],\n",
        "                 horizontalalignment=\"center\",\n",
        "                 color=\"white\" if cm[i, j] > thresh else \"black\")\n",
        "\n",
        "    plt.tight_layout()\n",
        "    plt.ylabel('True label')\n",
        "    plt.xlabel('Predicted label')\n",
        "    plt.show()\n",
        "\n",
        "def show_data(cm, print_res = 0):\n",
        "    tp = cm[1,1]\n",
        "    fn = cm[1,0]\n",
        "    fp = cm[0,1]\n",
        "    tn = cm[0,0]\n",
        "    if print_res == 1:\n",
        "        print('Precision =     {:.3f}'.format(tp/(tp+fp)))\n",
        "        print('Recall (TPR) =  {:.3f}'.format(tp/(tp+fn)))\n",
        "        print('Fallout (FPR) = {:.3e}'.format(fp/(fp+tn)))\n",
        "    return tp/(tp+fp), tp/(tp+fn), fp/(fp+tn)"
      ],
      "execution_count": 0,
      "outputs": []
    },
    {
      "metadata": {
        "_execution_state": "idle",
        "_uuid": "91a1e8640683aecc32170e1f122afd69a4129432",
        "_cell_guid": "52a0100b-1b2c-4163-92c6-7fa3c725311b",
        "trusted": false,
        "id": "YN-7UtRkIErg",
        "colab_type": "code",
        "outputId": "d00a10db-f8be-4bcd-f8a5-2ba18e2bf44f",
        "colab": {
          "base_uri": "https://localhost:8080/",
          "height": 520
        }
      },
      "cell_type": "code",
      "source": [
        "lrn = LogisticRegression(penalty = 'l1', C = .001, class_weight = 'balanced')\n",
        "\n",
        "lrn.fit(X_tr, Y_tr)\n",
        "y_pred = lrn.predict(X_te)\n",
        "cm = confusion_matrix(Y_te, y_pred)\n",
        "if lrn.classes_[0] == 1:\n",
        "    cm = np.array([[cm[1,1], cm[1,0]], [cm[0,1], cm[0,0]]])\n",
        "\n",
        "plot_confusion_matrix(cm, ['0', '1'], )\n",
        "pr, tpr, fpr = show_data(cm, print_res = 1)"
      ],
      "execution_count": 0,
      "outputs": [
        {
          "output_type": "stream",
          "text": [
            "/usr/local/lib/python3.6/dist-packages/sklearn/linear_model/logistic.py:433: FutureWarning: Default solver will be changed to 'lbfgs' in 0.22. Specify a solver to silence this warning.\n",
            "  FutureWarning)\n"
          ],
          "name": "stderr"
        },
        {
          "output_type": "display_data",
          "data": {
            "image/png": "[encoded data removed]",
            "text/plain": [
              "<Figure size 576x396 with 2 Axes>"
            ]
          },
          "metadata": {
            "tags": []
          }
        },
        {
          "output_type": "stream",
          "text": [
            "Precision =     0.444\n",
            "Recall (TPR) =  0.863\n",
            "Fallout (FPR) = 3.513e-01\n"
          ],
          "name": "stdout"
        }
      ]
    },
    {
      "metadata": {
        "_uuid": "d85591f6a7e14c6c2f62f748845afeb97b745d20",
        "_cell_guid": "5cfe65a5-9126-4e62-aac4-2c7b5aab0ac9",
        "trusted": false,
        "id": "Pj_gAW_DIEri",
        "colab_type": "code",
        "outputId": "8951320b-e935-48ea-9913-92a69aa12c2b",
        "colab": {
          "base_uri": "https://localhost:8080/",
          "height": 51
        }
      },
      "cell_type": "code",
      "source": [
        "from sklearn.metrics import precision_score, \\\n",
        "    recall_score, confusion_matrix, classification_report, \\\n",
        "    accuracy_score, f1_score\n",
        "    \n",
        "print('Accuracy:', accuracy_score(Y_te, y_pred))\n",
        "print('F1 score:', f1_score(Y_te,y_pred))"
      ],
      "execution_count": 0,
      "outputs": [
        {
          "output_type": "stream",
          "text": [
            "Accuracy: 0.701261620185923\n",
            "F1 score: 0.5866029587429936\n"
          ],
          "name": "stdout"
        }
      ]
    },
    {
      "metadata": {
        "_uuid": "f35a7224e074fd8459dbf5ce890e94024b316b94",
        "_cell_guid": "aac582b7-2f18-4e92-a607-fa2070065a6d",
        "id": "q8gru7nBIErm",
        "colab_type": "text"
      },
      "cell_type": "markdown",
      "source": [
        "I achieved the accuracy of 72% with recall of 74% on test which is quite good."
      ]
    },
    {
      "metadata": {
        "_uuid": "58a774aa7c8893e44cf5319ed37312e15740b3be",
        "_cell_guid": "9ca6d8f2-4813-4961-b599-b4dbc374e61a",
        "id": "6XTsuBK5IErn",
        "colab_type": "text"
      },
      "cell_type": "markdown",
      "source": [
        "### Understanding Important features for High and Low Paying Jobs"
      ]
    },
    {
      "metadata": {
        "_uuid": "698ed4ff3453a1475178294ddaa21f1676839c32",
        "_cell_guid": "daf894f5-2431-4012-8b34-23ace27ea476",
        "trusted": false,
        "id": "Nwa16DpQIEro",
        "colab_type": "code",
        "outputId": "a965dba6-2597-4d89-cdbd-704c0270a09b",
        "colab": {
          "base_uri": "https://localhost:8080/",
          "height": 527
        }
      },
      "cell_type": "code",
      "source": [
        "# understanding the coefficients\n",
        "coff = pd.DataFrame(lrn.coef_).T \n",
        "col = pd.DataFrame(col_tr).T \n",
        "\n",
        "print(coff)\n",
        "print(col)"
      ],
      "execution_count": 0,
      "outputs": [
        {
          "output_type": "stream",
          "text": [
            "           0\n",
            "0   0.000000\n",
            "1   0.000000\n",
            "2   0.560629\n",
            "3  -0.275564\n",
            "4   0.001234\n",
            "5   0.000000\n",
            "6   0.078825\n",
            "7  -0.934614\n",
            "8   0.582120\n",
            "9   0.069669\n",
            "10 -0.295364\n",
            "11  0.000000\n",
            "12  0.000000\n",
            "13  0.000000\n",
            "14  0.000000\n",
            "                      0                        1                      2   \\\n",
            "0  WorfClass_cat_Private  Education NumCat_Medium  Education NumCat_High   \n",
            "\n",
            "             3                   4                     5                   6   \\\n",
            "0  AgeCat_Young  AgeCat_Middle_aged  Hours/WeekCat_Medium  Hours/WeekCat_High   \n",
            "\n",
            "                          7                           8   \\\n",
            "0  Marital Status_cat_Single  Marital Status_cat_married   \n",
            "\n",
            "                     9                    10                     11  \\\n",
            "0  Occupa_cat_Highskill  Occupa_cat_Lowskill  Relationship_ Husband   \n",
            "\n",
            "                            12           13         14  \n",
            "0  Relationship_ Not-in-family  Sex_ Female  Sex_ Male  \n"
          ],
          "name": "stdout"
        }
      ]
    },
    {
      "metadata": {
        "_uuid": "757a669b46de847b45001a907703d68a233f8ec8",
        "_cell_guid": "316cb1bd-e0c1-42b5-a923-fa883648b333",
        "id": "RD3xCbrMIEru",
        "colab_type": "text"
      },
      "cell_type": "markdown",
      "source": [
        "As you can see above positive coefficients are for high paying and neagtive for low paying.As you can see High number of years of education, high workhour/week are importand for getting high salary and vice versa"
      ]
    },
    {
      "metadata": {
        "scrolled": true,
        "_uuid": "3e52ce41f0326666a096a7e66216070c11dfc497",
        "_cell_guid": "0f2c6bbb-1e3c-416d-95b9-2e2f82748ea7",
        "trusted": false,
        "id": "MB0RSScpIErv",
        "colab_type": "code",
        "outputId": "af17a14c-ac3a-4ef1-e461-f1cdeac8076f",
        "colab": {
          "base_uri": "https://localhost:8080/",
          "height": 581
        }
      },
      "cell_type": "code",
      "source": [
        "from sklearn.feature_selection import RFE, f_regression\n",
        "\n",
        "# stop the search when only the last feature is left\n",
        "rfe = RFE(lrn, n_features_to_select=10, verbose = 3)\n",
        "rfe.fit(X_tr,Y_tr)\n",
        "list(zip(map(lambda x: round(x, 4), rfe.ranking_), col_tr))"
      ],
      "execution_count": 0,
      "outputs": [
        {
          "output_type": "stream",
          "text": [
            "Fitting estimator with 15 features.\n",
            "Fitting estimator with 14 features.\n",
            "Fitting estimator with 13 features.\n"
          ],
          "name": "stdout"
        },
        {
          "output_type": "stream",
          "text": [
            "/usr/local/lib/python3.6/dist-packages/sklearn/linear_model/logistic.py:433: FutureWarning: Default solver will be changed to 'lbfgs' in 0.22. Specify a solver to silence this warning.\n",
            "  FutureWarning)\n",
            "/usr/local/lib/python3.6/dist-packages/sklearn/linear_model/logistic.py:433: FutureWarning: Default solver will be changed to 'lbfgs' in 0.22. Specify a solver to silence this warning.\n",
            "  FutureWarning)\n",
            "/usr/local/lib/python3.6/dist-packages/sklearn/linear_model/logistic.py:433: FutureWarning: Default solver will be changed to 'lbfgs' in 0.22. Specify a solver to silence this warning.\n",
            "  FutureWarning)\n"
          ],
          "name": "stderr"
        },
        {
          "output_type": "stream",
          "text": [
            "Fitting estimator with 12 features.\n",
            "Fitting estimator with 11 features.\n"
          ],
          "name": "stdout"
        },
        {
          "output_type": "stream",
          "text": [
            "/usr/local/lib/python3.6/dist-packages/sklearn/linear_model/logistic.py:433: FutureWarning: Default solver will be changed to 'lbfgs' in 0.22. Specify a solver to silence this warning.\n",
            "  FutureWarning)\n",
            "/usr/local/lib/python3.6/dist-packages/sklearn/linear_model/logistic.py:433: FutureWarning: Default solver will be changed to 'lbfgs' in 0.22. Specify a solver to silence this warning.\n",
            "  FutureWarning)\n",
            "/usr/local/lib/python3.6/dist-packages/sklearn/linear_model/logistic.py:433: FutureWarning: Default solver will be changed to 'lbfgs' in 0.22. Specify a solver to silence this warning.\n",
            "  FutureWarning)\n"
          ],
          "name": "stderr"
        },
        {
          "output_type": "execute_result",
          "data": {
            "text/plain": [
              "[(6, 'WorfClass_cat_Private'),\n",
              " (5, 'Education NumCat_Medium'),\n",
              " (1, 'Education NumCat_High'),\n",
              " (1, 'AgeCat_Young'),\n",
              " (1, 'AgeCat_Middle_aged'),\n",
              " (4, 'Hours/WeekCat_Medium'),\n",
              " (1, 'Hours/WeekCat_High'),\n",
              " (1, 'Marital Status_cat_Single'),\n",
              " (1, 'Marital Status_cat_married'),\n",
              " (1, 'Occupa_cat_Highskill'),\n",
              " (1, 'Occupa_cat_Lowskill'),\n",
              " (3, 'Relationship_ Husband'),\n",
              " (2, 'Relationship_ Not-in-family'),\n",
              " (1, 'Sex_ Female'),\n",
              " (1, 'Sex_ Male')]"
            ]
          },
          "metadata": {
            "tags": []
          },
          "execution_count": 60
        }
      ]
    }
  ]
}