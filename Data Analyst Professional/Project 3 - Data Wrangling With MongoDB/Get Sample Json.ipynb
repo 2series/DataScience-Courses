{
 "cells": [
  {
   "cell_type": "code",
   "execution_count": 2,
   "metadata": {
    "collapsed": false
   },
   "outputs": [],
   "source": [
    "import json\n",
    "\n",
    "actual_data_file = open('data.json', 'r')\n",
    "\n",
    "data_from_file = json.loads(actual_data_file.read())\n",
    "\n",
    "with open('sample_cleaned_data.json', 'w') as write_file:\n",
    "    flag = 1\n",
    "    for record in data_from_file:\n",
    "        if flag == 10:\n",
    "            json.dump(record, write_file)\n",
    "            flag = 0\n",
    "        else:\n",
    "            flag += 1"
   ]
  }
 ],
 "metadata": {
  "kernelspec": {
   "display_name": "Python [Root]",
   "language": "python",
   "name": "Python [Root]"
  },
  "language_info": {
   "codemirror_mode": {
    "name": "ipython",
    "version": 2
   },
   "file_extension": ".py",
   "mimetype": "text/x-python",
   "name": "python",
   "nbconvert_exporter": "python",
   "pygments_lexer": "ipython2",
   "version": "2.7.12"
  }
 },
 "nbformat": 4,
 "nbformat_minor": 0
}
