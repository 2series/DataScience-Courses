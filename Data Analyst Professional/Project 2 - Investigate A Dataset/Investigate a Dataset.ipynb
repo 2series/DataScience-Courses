{
 "cells": [
  {
   "cell_type": "markdown",
   "metadata": {},
   "source": [
    "RIHAD VARIAWA, Data Scientist - Who has fun LEARNING, EXPLORING & GROWING\n",
    "## Investigate a Data set (Titanic Dataset Analysis)\n",
    "\n",
   ]
  },
  {
   "cell_type": "markdown",
   "metadata": {},
   "source": [
    "## 1. Introduction"
   ]
  },
  {
   "cell_type": "markdown",
   "metadata": {},
   "source": [
    ">This dataset contains demographics and passenger information from 891 of the 2224 passengers and crew on board the Titanic. You can view a description of this dataset on the Kaggle website, where the data was obtained (https://www.kaggle.com/c/titanic/data).\n",
    "\n",
    "> The purpose of this project is to perform analysis (cleaning, organizing, analysing questions or trends in the data) on the sample dataset\n",
    "\n",
    "> After analysing the dataset, I decided to investigate further on the following questions :\n",
    "1. Were social-economic standing a factor in survival rate?\n",
    "2. Which gender had a better chance of survival?\n",
    "3. Which age group survived the most?\n",
    "\n",
    "\n"
   ]
  },
  {
   "cell_type": "markdown",
   "metadata": {},
   "source": [
    "## 2. Importing necessary Libraries"
   ]
  },
  {
   "cell_type": "code",
   "execution_count": 1,
   "metadata": {
    "collapsed": false
   },
   "outputs": [
    {
     "name": "stdout",
     "output_type": "stream",
     "text": [
      "Populating the interactive namespace from numpy and matplotlib\n"
     ]
    }
   ],
   "source": [
    "import pandas as pd\n",
    "import numpy as np\n",
    "import seaborn as sns\n",
    "from matplotlib import pyplot as plt\n",
    "from pprint import pprint\n",
    "from scipy import stats\n",
    "from __future__ import division\n",
    "\n",
    "%pylab inline"
   ]
  },
  {
   "cell_type": "markdown",
   "metadata": {
    "collapsed": true
   },
   "source": [
    "## 3. Initial Data Analysis"
   ]
  },
  {
   "cell_type": "markdown",
   "metadata": {},
   "source": [
    "### 3.1 Reading the Data into Dataframe"
   ]
  },
  {
   "cell_type": "code",
   "execution_count": 2,
   "metadata": {
    "collapsed": false
   },
   "outputs": [],
   "source": [
    "titanic_data = pd.read_csv('titanic_data.csv')"
   ]
  },
  {
   "cell_type": "markdown",
   "metadata": {},
   "source": [
    "### 3.2 Data Description\n",
    "\n",
    "(from https://www.kaggle.com/c/titanic)\n",
    "\n",
    "* survival Survival (0 = No; 1 = Yes)\n",
    "* pclass Passenger Class (1 = 1st; 2 = 2nd; 3 = 3rd)\n",
    "* name Name\n",
    "* sex Sex\n",
    "* age Age\n",
    "* sibsp Number of Siblings/Spouses Aboard\n",
    "* parch Number of Parents/Children Aboard\n",
    "* ticket Ticket Number\n",
    "* fare Passenger Fare\n",
    "* cabin Cabin\n",
    "* embarked Port of Embarkation (C = Cherbourg; Q = Queenstown; S = Southampton)\n",
    "\n",
    "##### SPECIAL NOTES:\n",
    "\n",
    ">Pclass is a proxy for socio-economic status (SES) 1st ~ Upper; 2nd ~ Middle; 3rd ~ Lower\n",
    "\n",
    ">Age is in Years; Fractional if Age less than One (1) If the Age is Estimated, it is in the form xx.5\n",
    "\n",
    ">With respect to the family relation variables (i.e. sibsp and parch) some relations were ignored. The following are the definitions used for sibsp and parch.\n",
    "\n",
    "* Sibling: Brother, Sister, Stepbrother, or Stepsister of Passenger Aboard Titanic\n",
    "* Spouse: Husband or Wife of Passenger Aboard Titanic (Mistresses and Fiances Ignored)\n",
    "* Parent: Mother or Father of Passenger Aboard Titanic\n",
    "* Child: Son, Daughter, Stepson, or Stepdaughter of Passenger Aboard Titanic"
   ]
  },
  {
   "cell_type": "markdown",
   "metadata": {
    "collapsed": true
   },
   "source": [
    "### 3. Basic Structure of the Data"
   ]
  },
  {
   "cell_type": "code",
   "execution_count": 3,
   "metadata": {
    "collapsed": false
   },
   "outputs": [
    {
     "data": {
      "text/html": [
       "<div>\n",
       "<table border=\"1\" class=\"dataframe\">\n",
       "  <thead>\n",
       "    <tr style=\"text-align: right;\">\n",
       "      <th></th>\n",
       "      <th>PassengerId</th>\n",
       "      <th>Survived</th>\n",
       "      <th>Pclass</th>\n",
       "      <th>Name</th>\n",
       "      <th>Sex</th>\n",
       "      <th>Age</th>\n",
       "      <th>SibSp</th>\n",
       "      <th>Parch</th>\n",
       "      <th>Ticket</th>\n",
       "      <th>Fare</th>\n",
       "      <th>Cabin</th>\n",
       "      <th>Embarked</th>\n",
       "    </tr>\n",
       "  </thead>\n",
       "  <tbody>\n",
       "    <tr>\n",
       "      <th>0</th>\n",
       "      <td>1</td>\n",
       "      <td>0</td>\n",
       "      <td>3</td>\n",
       "      <td>Braund, Mr. Owen Harris</td>\n",
       "      <td>male</td>\n",
       "      <td>22.0</td>\n",
       "      <td>1</td>\n",
       "      <td>0</td>\n",
       "      <td>A/5 21171</td>\n",
       "      <td>7.2500</td>\n",
       "      <td>NaN</td>\n",
       "      <td>S</td>\n",
       "    </tr>\n",
       "    <tr>\n",
       "      <th>1</th>\n",
       "      <td>2</td>\n",
       "      <td>1</td>\n",
       "      <td>1</td>\n",
       "      <td>Cumings, Mrs. John Bradley (Florence Briggs Th...</td>\n",
       "      <td>female</td>\n",
       "      <td>38.0</td>\n",
       "      <td>1</td>\n",
       "      <td>0</td>\n",
       "      <td>PC 17599</td>\n",
       "      <td>71.2833</td>\n",
       "      <td>C85</td>\n",
       "      <td>C</td>\n",
       "    </tr>\n",
       "    <tr>\n",
       "      <th>2</th>\n",
       "      <td>3</td>\n",
       "      <td>1</td>\n",
       "      <td>3</td>\n",
       "      <td>Heikkinen, Miss. Laina</td>\n",
       "      <td>female</td>\n",
       "      <td>26.0</td>\n",
       "      <td>0</td>\n",
       "      <td>0</td>\n",
       "      <td>STON/O2. 3101282</td>\n",
       "      <td>7.9250</td>\n",
       "      <td>NaN</td>\n",
       "      <td>S</td>\n",
       "    </tr>\n",
       "    <tr>\n",
       "      <th>3</th>\n",
       "      <td>4</td>\n",
       "      <td>1</td>\n",
       "      <td>1</td>\n",
       "      <td>Futrelle, Mrs. Jacques Heath (Lily May Peel)</td>\n",
       "      <td>female</td>\n",
       "      <td>35.0</td>\n",
       "      <td>1</td>\n",
       "      <td>0</td>\n",
       "      <td>113803</td>\n",
       "      <td>53.1000</td>\n",
       "      <td>C123</td>\n",
       "      <td>S</td>\n",
       "    </tr>\n",
       "    <tr>\n",
       "      <th>4</th>\n",
       "      <td>5</td>\n",
       "      <td>0</td>\n",
       "      <td>3</td>\n",
       "      <td>Allen, Mr. William Henry</td>\n",
       "      <td>male</td>\n",
       "      <td>35.0</td>\n",
       "      <td>0</td>\n",
       "      <td>0</td>\n",
       "      <td>373450</td>\n",
       "      <td>8.0500</td>\n",
       "      <td>NaN</td>\n",
       "      <td>S</td>\n",
       "    </tr>\n",
       "  </tbody>\n",
       "</table>\n",
       "</div>"
      ],
      "text/plain": [
       "   PassengerId  Survived  Pclass  \\\n",
       "0            1         0       3   \n",
       "1            2         1       1   \n",
       "2            3         1       3   \n",
       "3            4         1       1   \n",
       "4            5         0       3   \n",
       "\n",
       "                                                Name     Sex   Age  SibSp  \\\n",
       "0                            Braund, Mr. Owen Harris    male  22.0      1   \n",
       "1  Cumings, Mrs. John Bradley (Florence Briggs Th...  female  38.0      1   \n",
       "2                             Heikkinen, Miss. Laina  female  26.0      0   \n",
       "3       Futrelle, Mrs. Jacques Heath (Lily May Peel)  female  35.0      1   \n",
       "4                           Allen, Mr. William Henry    male  35.0      0   \n",
       "\n",
       "   Parch            Ticket     Fare Cabin Embarked  \n",
       "0      0         A/5 21171   7.2500   NaN        S  \n",
       "1      0          PC 17599  71.2833   C85        C  \n",
       "2      0  STON/O2. 3101282   7.9250   NaN        S  \n",
       "3      0            113803  53.1000  C123        S  \n",
       "4      0            373450   8.0500   NaN        S  "
      ]
     },
     "execution_count": 3,
     "metadata": {},
     "output_type": "execute_result"
    }
   ],
   "source": [
    "titanic_data.head()"
   ]
  },
  {
   "cell_type": "code",
   "execution_count": 4,
   "metadata": {
    "collapsed": false
   },
   "outputs": [
    {
     "data": {
      "text/html": [
       "<div>\n",
       "<table border=\"1\" class=\"dataframe\">\n",
       "  <thead>\n",
       "    <tr style=\"text-align: right;\">\n",
       "      <th></th>\n",
       "      <th>PassengerId</th>\n",
       "      <th>Survived</th>\n",
       "      <th>Pclass</th>\n",
       "      <th>Name</th>\n",
       "      <th>Sex</th>\n",
       "      <th>Age</th>\n",
       "      <th>SibSp</th>\n",
       "      <th>Parch</th>\n",
       "      <th>Ticket</th>\n",
       "      <th>Fare</th>\n",
       "      <th>Cabin</th>\n",
       "      <th>Embarked</th>\n",
       "    </tr>\n",
       "  </thead>\n",
       "  <tbody>\n",
       "    <tr>\n",
       "      <th>886</th>\n",
       "      <td>887</td>\n",
       "      <td>0</td>\n",
       "      <td>2</td>\n",
       "      <td>Montvila, Rev. Juozas</td>\n",
       "      <td>male</td>\n",
       "      <td>27.0</td>\n",
       "      <td>0</td>\n",
       "      <td>0</td>\n",
       "      <td>211536</td>\n",
       "      <td>13.00</td>\n",
       "      <td>NaN</td>\n",
       "      <td>S</td>\n",
       "    </tr>\n",
       "    <tr>\n",
       "      <th>887</th>\n",
       "      <td>888</td>\n",
       "      <td>1</td>\n",
       "      <td>1</td>\n",
       "      <td>Graham, Miss. Margaret Edith</td>\n",
       "      <td>female</td>\n",
       "      <td>19.0</td>\n",
       "      <td>0</td>\n",
       "      <td>0</td>\n",
       "      <td>112053</td>\n",
       "      <td>30.00</td>\n",
       "      <td>B42</td>\n",
       "      <td>S</td>\n",
       "    </tr>\n",
       "    <tr>\n",
       "      <th>888</th>\n",
       "      <td>889</td>\n",
       "      <td>0</td>\n",
       "      <td>3</td>\n",
       "      <td>Johnston, Miss. Catherine Helen \"Carrie\"</td>\n",
       "      <td>female</td>\n",
       "      <td>NaN</td>\n",
       "      <td>1</td>\n",
       "      <td>2</td>\n",
       "      <td>W./C. 6607</td>\n",
       "      <td>23.45</td>\n",
       "      <td>NaN</td>\n",
       "      <td>S</td>\n",
       "    </tr>\n",
       "    <tr>\n",
       "      <th>889</th>\n",
       "      <td>890</td>\n",
       "      <td>1</td>\n",
       "      <td>1</td>\n",
       "      <td>Behr, Mr. Karl Howell</td>\n",
       "      <td>male</td>\n",
       "      <td>26.0</td>\n",
       "      <td>0</td>\n",
       "      <td>0</td>\n",
       "      <td>111369</td>\n",
       "      <td>30.00</td>\n",
       "      <td>C148</td>\n",
       "      <td>C</td>\n",
       "    </tr>\n",
       "    <tr>\n",
       "      <th>890</th>\n",
       "      <td>891</td>\n",
       "      <td>0</td>\n",
       "      <td>3</td>\n",
       "      <td>Dooley, Mr. Patrick</td>\n",
       "      <td>male</td>\n",
       "      <td>32.0</td>\n",
       "      <td>0</td>\n",
       "      <td>0</td>\n",
       "      <td>370376</td>\n",
       "      <td>7.75</td>\n",
       "      <td>NaN</td>\n",
       "      <td>Q</td>\n",
       "    </tr>\n",
       "  </tbody>\n",
       "</table>\n",
       "</div>"
      ],
      "text/plain": [
       "     PassengerId  Survived  Pclass                                      Name  \\\n",
       "886          887         0       2                     Montvila, Rev. Juozas   \n",
       "887          888         1       1              Graham, Miss. Margaret Edith   \n",
       "888          889         0       3  Johnston, Miss. Catherine Helen \"Carrie\"   \n",
       "889          890         1       1                     Behr, Mr. Karl Howell   \n",
       "890          891         0       3                       Dooley, Mr. Patrick   \n",
       "\n",
       "        Sex   Age  SibSp  Parch      Ticket   Fare Cabin Embarked  \n",
       "886    male  27.0      0      0      211536  13.00   NaN        S  \n",
       "887  female  19.0      0      0      112053  30.00   B42        S  \n",
       "888  female   NaN      1      2  W./C. 6607  23.45   NaN        S  \n",
       "889    male  26.0      0      0      111369  30.00  C148        C  \n",
       "890    male  32.0      0      0      370376   7.75   NaN        Q  "
      ]
     },
     "execution_count": 4,
     "metadata": {},
     "output_type": "execute_result"
    }
   ],
   "source": [
    "titanic_data.tail()"
   ]
  },
  {
   "cell_type": "markdown",
   "metadata": {
    "collapsed": true
   },
   "source": [
    "### 3.4 Summary of the Data set"
   ]
  },
  {
   "cell_type": "code",
   "execution_count": 5,
   "metadata": {
    "collapsed": false
   },
   "outputs": [
    {
     "data": {
      "text/html": [
       "<div>\n",
       "<table border=\"1\" class=\"dataframe\">\n",
       "  <thead>\n",
       "    <tr style=\"text-align: right;\">\n",
       "      <th></th>\n",
       "      <th>PassengerId</th>\n",
       "      <th>Survived</th>\n",
       "      <th>Pclass</th>\n",
       "      <th>Age</th>\n",
       "      <th>SibSp</th>\n",
       "      <th>Parch</th>\n",
       "      <th>Fare</th>\n",
       "    </tr>\n",
       "  </thead>\n",
       "  <tbody>\n",
       "    <tr>\n",
       "      <th>count</th>\n",
       "      <td>891.000000</td>\n",
       "      <td>891.000000</td>\n",
       "      <td>891.000000</td>\n",
       "      <td>714.000000</td>\n",
       "      <td>891.000000</td>\n",
       "      <td>891.000000</td>\n",
       "      <td>891.000000</td>\n",
       "    </tr>\n",
       "    <tr>\n",
       "      <th>mean</th>\n",
       "      <td>446.000000</td>\n",
       "      <td>0.383838</td>\n",
       "      <td>2.308642</td>\n",
       "      <td>29.699118</td>\n",
       "      <td>0.523008</td>\n",
       "      <td>0.381594</td>\n",
       "      <td>32.204208</td>\n",
       "    </tr>\n",
       "    <tr>\n",
       "      <th>std</th>\n",
       "      <td>257.353842</td>\n",
       "      <td>0.486592</td>\n",
       "      <td>0.836071</td>\n",
       "      <td>14.526497</td>\n",
       "      <td>1.102743</td>\n",
       "      <td>0.806057</td>\n",
       "      <td>49.693429</td>\n",
       "    </tr>\n",
       "    <tr>\n",
       "      <th>min</th>\n",
       "      <td>1.000000</td>\n",
       "      <td>0.000000</td>\n",
       "      <td>1.000000</td>\n",
       "      <td>0.420000</td>\n",
       "      <td>0.000000</td>\n",
       "      <td>0.000000</td>\n",
       "      <td>0.000000</td>\n",
       "    </tr>\n",
       "    <tr>\n",
       "      <th>25%</th>\n",
       "      <td>223.500000</td>\n",
       "      <td>0.000000</td>\n",
       "      <td>2.000000</td>\n",
       "      <td>20.125000</td>\n",
       "      <td>0.000000</td>\n",
       "      <td>0.000000</td>\n",
       "      <td>7.910400</td>\n",
       "    </tr>\n",
       "    <tr>\n",
       "      <th>50%</th>\n",
       "      <td>446.000000</td>\n",
       "      <td>0.000000</td>\n",
       "      <td>3.000000</td>\n",
       "      <td>28.000000</td>\n",
       "      <td>0.000000</td>\n",
       "      <td>0.000000</td>\n",
       "      <td>14.454200</td>\n",
       "    </tr>\n",
       "    <tr>\n",
       "      <th>75%</th>\n",
       "      <td>668.500000</td>\n",
       "      <td>1.000000</td>\n",
       "      <td>3.000000</td>\n",
       "      <td>38.000000</td>\n",
       "      <td>1.000000</td>\n",
       "      <td>0.000000</td>\n",
       "      <td>31.000000</td>\n",
       "    </tr>\n",
       "    <tr>\n",
       "      <th>max</th>\n",
       "      <td>891.000000</td>\n",
       "      <td>1.000000</td>\n",
       "      <td>3.000000</td>\n",
       "      <td>80.000000</td>\n",
       "      <td>8.000000</td>\n",
       "      <td>6.000000</td>\n",
       "      <td>512.329200</td>\n",
       "    </tr>\n",
       "  </tbody>\n",
       "</table>\n",
       "</div>"
      ],
      "text/plain": [
       "       PassengerId    Survived      Pclass         Age       SibSp  \\\n",
       "count   891.000000  891.000000  891.000000  714.000000  891.000000   \n",
       "mean    446.000000    0.383838    2.308642   29.699118    0.523008   \n",
       "std     257.353842    0.486592    0.836071   14.526497    1.102743   \n",
       "min       1.000000    0.000000    1.000000    0.420000    0.000000   \n",
       "25%     223.500000    0.000000    2.000000   20.125000    0.000000   \n",
       "50%     446.000000    0.000000    3.000000   28.000000    0.000000   \n",
       "75%     668.500000    1.000000    3.000000   38.000000    1.000000   \n",
       "max     891.000000    1.000000    3.000000   80.000000    8.000000   \n",
       "\n",
       "            Parch        Fare  \n",
       "count  891.000000  891.000000  \n",
       "mean     0.381594   32.204208  \n",
       "std      0.806057   49.693429  \n",
       "min      0.000000    0.000000  \n",
       "25%      0.000000    7.910400  \n",
       "50%      0.000000   14.454200  \n",
       "75%      0.000000   31.000000  \n",
       "max      6.000000  512.329200  "
      ]
     },
     "execution_count": 5,
     "metadata": {},
     "output_type": "execute_result"
    }
   ],
   "source": [
    "titanic_data.describe(exclude=[type(None)])"
   ]
  },
  {
   "cell_type": "markdown",
   "metadata": {},
   "source": [
    "## 4. Data Cleaning / Organizing / Wrangling"
   ]
  },
  {
   "cell_type": "markdown",
   "metadata": {},
   "source": [
    "### 4.1 Checking for Missing values"
   ]
  },
  {
   "cell_type": "code",
   "execution_count": 6,
   "metadata": {
    "collapsed": false
   },
   "outputs": [
    {
     "name": "stdout",
     "output_type": "stream",
     "text": [
      "<class 'pandas.core.frame.DataFrame'>\n",
      "RangeIndex: 891 entries, 0 to 890\n",
      "Data columns (total 12 columns):\n",
      "PassengerId    891 non-null int64\n",
      "Survived       891 non-null int64\n",
      "Pclass         891 non-null int64\n",
      "Name           891 non-null object\n",
      "Sex            891 non-null object\n",
      "Age            714 non-null float64\n",
      "SibSp          891 non-null int64\n",
      "Parch          891 non-null int64\n",
      "Ticket         891 non-null object\n",
      "Fare           891 non-null float64\n",
      "Cabin          204 non-null object\n",
      "Embarked       889 non-null object\n",
      "dtypes: float64(2), int64(5), object(5)\n",
      "memory usage: 83.6+ KB\n"
     ]
    }
   ],
   "source": [
    "titanic_data.info()"
   ]
  },
  {
   "cell_type": "code",
   "execution_count": 7,
   "metadata": {
    "collapsed": false
   },
   "outputs": [
    {
     "data": {
      "text/plain": [
       "PassengerId      0\n",
       "Survived         0\n",
       "Pclass           0\n",
       "Name             0\n",
       "Sex              0\n",
       "Age            177\n",
       "SibSp            0\n",
       "Parch            0\n",
       "Ticket           0\n",
       "Fare             0\n",
       "Cabin          687\n",
       "Embarked         2\n",
       "dtype: int64"
      ]
     },
     "execution_count": 7,
     "metadata": {},
     "output_type": "execute_result"
    }
   ],
   "source": [
    "titanic_data.isnull().sum()"
   ]
  },
  {
   "cell_type": "markdown",
   "metadata": {},
   "source": [
    "> The Age field has a lot of missing values, and the Embarked field also has a couple of nan values. We may replace them with the mean of the group so that they donot effect our calculations or remove them. We will decide on this at a later stage."
   ]
  },
  {
   "cell_type": "markdown",
   "metadata": {},
   "source": [
    "#### 4.1.1 Missing Ages"
   ]
  },
  {
   "cell_type": "code",
   "execution_count": 8,
   "metadata": {
    "collapsed": false
   },
   "outputs": [
    {
     "name": "stdout",
     "output_type": "stream",
     "text": [
      "Number of missing age of male :  124 \tSurvived :  16\n",
      "Number of missing age of female :  53 \tSurvived :  36\n"
     ]
    }
   ],
   "source": [
    "missing_age_male = titanic_data['Survived'][ (titanic_data.Sex =='male') & titanic_data.Age.isnull() ]\n",
    "\n",
    "missing_age_female = titanic_data['Survived'][ (titanic_data.Sex =='female') & titanic_data.Age.isnull() ]\n",
    "\n",
    "print 'Number of missing age of male : ',missing_age_male.count(), \n",
    "print '\\tSurvived : ', missing_age_male.sum()\n",
    "\n",
    "print 'Number of missing age of female : ',missing_age_female.count(), \n",
    "print '\\tSurvived : ', missing_age_female.sum()"
   ]
  },
  {
   "cell_type": "markdown",
   "metadata": {},
   "source": [
    ">Missing Age data will affect our third question of analysis (Which age group survived the most). But graphing and summations shouldn't be a problem since they will be not be considered during our calculations. We also can't replace them with the mean of the dataset as it would drastically increase the number of survivals in a particular age group. \n",
    "\n",
    ">However, 177 is roughly 20% of our 891 sample dataset which seems like a lot to remove from the dataset. \n",
    "We should keep note of the proportions across male and female...\n",
    "* Age missing in male data: 124\n",
    "* Age missing in female data: 53"
   ]
  },
  {
   "cell_type": "markdown",
   "metadata": {},
   "source": [
    "#### 4.1.2 Mising Embarkment port"
   ]
  },
  {
   "cell_type": "code",
   "execution_count": 9,
   "metadata": {
    "collapsed": false
   },
   "outputs": [
    {
     "data": {
      "text/html": [
       "<div>\n",
       "<table border=\"1\" class=\"dataframe\">\n",
       "  <thead>\n",
       "    <tr style=\"text-align: right;\">\n",
       "      <th></th>\n",
       "      <th>PassengerId</th>\n",
       "      <th>Survived</th>\n",
       "      <th>Pclass</th>\n",
       "      <th>Name</th>\n",
       "      <th>Sex</th>\n",
       "      <th>Age</th>\n",
       "      <th>SibSp</th>\n",
       "      <th>Parch</th>\n",
       "      <th>Ticket</th>\n",
       "      <th>Fare</th>\n",
       "      <th>Cabin</th>\n",
       "      <th>Embarked</th>\n",
       "    </tr>\n",
       "  </thead>\n",
       "  <tbody>\n",
       "    <tr>\n",
       "      <th>61</th>\n",
       "      <td>62</td>\n",
       "      <td>1</td>\n",
       "      <td>1</td>\n",
       "      <td>Icard, Miss. Amelie</td>\n",
       "      <td>female</td>\n",
       "      <td>38.0</td>\n",
       "      <td>0</td>\n",
       "      <td>0</td>\n",
       "      <td>113572</td>\n",
       "      <td>80.0</td>\n",
       "      <td>B28</td>\n",
       "      <td>NaN</td>\n",
       "    </tr>\n",
       "    <tr>\n",
       "      <th>829</th>\n",
       "      <td>830</td>\n",
       "      <td>1</td>\n",
       "      <td>1</td>\n",
       "      <td>Stone, Mrs. George Nelson (Martha Evelyn)</td>\n",
       "      <td>female</td>\n",
       "      <td>62.0</td>\n",
       "      <td>0</td>\n",
       "      <td>0</td>\n",
       "      <td>113572</td>\n",
       "      <td>80.0</td>\n",
       "      <td>B28</td>\n",
       "      <td>NaN</td>\n",
       "    </tr>\n",
       "  </tbody>\n",
       "</table>\n",
       "</div>"
      ],
      "text/plain": [
       "     PassengerId  Survived  Pclass                                       Name  \\\n",
       "61            62         1       1                        Icard, Miss. Amelie   \n",
       "829          830         1       1  Stone, Mrs. George Nelson (Martha Evelyn)   \n",
       "\n",
       "        Sex   Age  SibSp  Parch  Ticket  Fare Cabin Embarked  \n",
       "61   female  38.0      0      0  113572  80.0   B28      NaN  \n",
       "829  female  62.0      0      0  113572  80.0   B28      NaN  "
      ]
     },
     "execution_count": 9,
     "metadata": {},
     "output_type": "execute_result"
    }
   ],
   "source": [
    "titanic_data[titanic_data.Embarked.isnull()]"
   ]
  },
  {
   "cell_type": "markdown",
   "metadata": {},
   "source": [
    "> Two entries donot have the Embarked field specified. Since this is a very small portion of the dataset we can ignore this while performing our calculations."
   ]
  },
  {
   "cell_type": "markdown",
   "metadata": {},
   "source": [
    "### 4.2 Checking for unexpected data values"
   ]
  },
  {
   "cell_type": "code",
   "execution_count": 10,
   "metadata": {
    "collapsed": false
   },
   "outputs": [
    {
     "name": "stdout",
     "output_type": "stream",
     "text": [
      "[0 1]\n",
      "['male' 'female']\n",
      "[3 1 2]\n",
      "['S' 'C' 'Q' nan]\n"
     ]
    }
   ],
   "source": [
    "data_check = False\n",
    "\n",
    "check_survival =0\n",
    "check_sex = 0\n",
    "check_pclass = 0\n",
    "check_embarked = 0\n",
    "\n",
    "\n",
    "print titanic_data['Survived'].unique()\n",
    "print titanic_data['Sex'].unique()\n",
    "print titanic_data['Pclass'].unique()\n",
    "print titanic_data['Embarked'].unique()  "
   ]
  },
  {
   "cell_type": "markdown",
   "metadata": {},
   "source": [
    ">###### Result\n",
    ">* Sex Field contains only male and female values\n",
    ">* Survived field has only 0 and 1, no other values\n",
    ">* Pclass has 3, 2, 1 as it values no other classes \n",
    ">* We knew that the Embarked column has 2 nan values, all others are as expected."
   ]
  },
  {
   "cell_type": "markdown",
   "metadata": {},
   "source": [
    "### 4.3 Removing unwanted fields"
   ]
  },
  {
   "cell_type": "code",
   "execution_count": 11,
   "metadata": {
    "collapsed": false,
    "scrolled": true
   },
   "outputs": [
    {
     "data": {
      "text/html": [
       "<div>\n",
       "<table border=\"1\" class=\"dataframe\">\n",
       "  <thead>\n",
       "    <tr style=\"text-align: right;\">\n",
       "      <th></th>\n",
       "      <th>PassengerId</th>\n",
       "      <th>Survived</th>\n",
       "      <th>Pclass</th>\n",
       "      <th>Sex</th>\n",
       "      <th>Age</th>\n",
       "      <th>SibSp</th>\n",
       "      <th>Parch</th>\n",
       "      <th>Fare</th>\n",
       "      <th>Embarked</th>\n",
       "    </tr>\n",
       "  </thead>\n",
       "  <tbody>\n",
       "    <tr>\n",
       "      <th>0</th>\n",
       "      <td>1</td>\n",
       "      <td>0</td>\n",
       "      <td>3</td>\n",
       "      <td>male</td>\n",
       "      <td>22.0</td>\n",
       "      <td>1</td>\n",
       "      <td>0</td>\n",
       "      <td>7.2500</td>\n",
       "      <td>S</td>\n",
       "    </tr>\n",
       "    <tr>\n",
       "      <th>1</th>\n",
       "      <td>2</td>\n",
       "      <td>1</td>\n",
       "      <td>1</td>\n",
       "      <td>female</td>\n",
       "      <td>38.0</td>\n",
       "      <td>1</td>\n",
       "      <td>0</td>\n",
       "      <td>71.2833</td>\n",
       "      <td>C</td>\n",
       "    </tr>\n",
       "    <tr>\n",
       "      <th>2</th>\n",
       "      <td>3</td>\n",
       "      <td>1</td>\n",
       "      <td>3</td>\n",
       "      <td>female</td>\n",
       "      <td>26.0</td>\n",
       "      <td>0</td>\n",
       "      <td>0</td>\n",
       "      <td>7.9250</td>\n",
       "      <td>S</td>\n",
       "    </tr>\n",
       "    <tr>\n",
       "      <th>3</th>\n",
       "      <td>4</td>\n",
       "      <td>1</td>\n",
       "      <td>1</td>\n",
       "      <td>female</td>\n",
       "      <td>35.0</td>\n",
       "      <td>1</td>\n",
       "      <td>0</td>\n",
       "      <td>53.1000</td>\n",
       "      <td>S</td>\n",
       "    </tr>\n",
       "    <tr>\n",
       "      <th>4</th>\n",
       "      <td>5</td>\n",
       "      <td>0</td>\n",
       "      <td>3</td>\n",
       "      <td>male</td>\n",
       "      <td>35.0</td>\n",
       "      <td>0</td>\n",
       "      <td>0</td>\n",
       "      <td>8.0500</td>\n",
       "      <td>S</td>\n",
       "    </tr>\n",
       "  </tbody>\n",
       "</table>\n",
       "</div>"
      ],
      "text/plain": [
       "   PassengerId  Survived  Pclass     Sex   Age  SibSp  Parch     Fare Embarked\n",
       "0            1         0       3    male  22.0      1      0   7.2500        S\n",
       "1            2         1       1  female  38.0      1      0  71.2833        C\n",
       "2            3         1       3  female  26.0      0      0   7.9250        S\n",
       "3            4         1       1  female  35.0      1      0  53.1000        S\n",
       "4            5         0       3    male  35.0      0      0   8.0500        S"
      ]
     },
     "execution_count": 11,
     "metadata": {},
     "output_type": "execute_result"
    }
   ],
   "source": [
    "titanic_data = titanic_data.drop(['Name', 'Ticket', 'Cabin'], axis=1)\n",
    "titanic_data.head()"
   ]
  },
  {
   "cell_type": "markdown",
   "metadata": {},
   "source": [
    "> These fields donot have any importance with respect to the questions we are investigating on."
   ]
  },
  {
   "cell_type": "markdown",
   "metadata": {
    "collapsed": false
   },
   "source": [
    "### 4.4 Create new field - Age Bin "
   ]
  },
  {
   "cell_type": "markdown",
   "metadata": {},
   "source": [
    "> The field age bin would help us to investigate the group that survived the most without much effort."
   ]
  },
  {
   "cell_type": "code",
   "execution_count": 12,
   "metadata": {
    "collapsed": false
   },
   "outputs": [
    {
     "data": {
      "text/html": [
       "<div>\n",
       "<table border=\"1\" class=\"dataframe\">\n",
       "  <thead>\n",
       "    <tr style=\"text-align: right;\">\n",
       "      <th></th>\n",
       "      <th>PassengerId</th>\n",
       "      <th>Survived</th>\n",
       "      <th>Pclass</th>\n",
       "      <th>Sex</th>\n",
       "      <th>Age</th>\n",
       "      <th>SibSp</th>\n",
       "      <th>Parch</th>\n",
       "      <th>Fare</th>\n",
       "      <th>Embarked</th>\n",
       "      <th>Age Bin</th>\n",
       "    </tr>\n",
       "  </thead>\n",
       "  <tbody>\n",
       "    <tr>\n",
       "      <th>0</th>\n",
       "      <td>1</td>\n",
       "      <td>0</td>\n",
       "      <td>3</td>\n",
       "      <td>male</td>\n",
       "      <td>22.0</td>\n",
       "      <td>1</td>\n",
       "      <td>0</td>\n",
       "      <td>7.2500</td>\n",
       "      <td>S</td>\n",
       "      <td>18-35</td>\n",
       "    </tr>\n",
       "    <tr>\n",
       "      <th>1</th>\n",
       "      <td>2</td>\n",
       "      <td>1</td>\n",
       "      <td>1</td>\n",
       "      <td>female</td>\n",
       "      <td>38.0</td>\n",
       "      <td>1</td>\n",
       "      <td>0</td>\n",
       "      <td>71.2833</td>\n",
       "      <td>C</td>\n",
       "      <td>35-60</td>\n",
       "    </tr>\n",
       "    <tr>\n",
       "      <th>2</th>\n",
       "      <td>3</td>\n",
       "      <td>1</td>\n",
       "      <td>3</td>\n",
       "      <td>female</td>\n",
       "      <td>26.0</td>\n",
       "      <td>0</td>\n",
       "      <td>0</td>\n",
       "      <td>7.9250</td>\n",
       "      <td>S</td>\n",
       "      <td>18-35</td>\n",
       "    </tr>\n",
       "    <tr>\n",
       "      <th>3</th>\n",
       "      <td>4</td>\n",
       "      <td>1</td>\n",
       "      <td>1</td>\n",
       "      <td>female</td>\n",
       "      <td>35.0</td>\n",
       "      <td>1</td>\n",
       "      <td>0</td>\n",
       "      <td>53.1000</td>\n",
       "      <td>S</td>\n",
       "      <td>35-60</td>\n",
       "    </tr>\n",
       "    <tr>\n",
       "      <th>4</th>\n",
       "      <td>5</td>\n",
       "      <td>0</td>\n",
       "      <td>3</td>\n",
       "      <td>male</td>\n",
       "      <td>35.0</td>\n",
       "      <td>0</td>\n",
       "      <td>0</td>\n",
       "      <td>8.0500</td>\n",
       "      <td>S</td>\n",
       "      <td>35-60</td>\n",
       "    </tr>\n",
       "  </tbody>\n",
       "</table>\n",
       "</div>"
      ],
      "text/plain": [
       "   PassengerId  Survived  Pclass     Sex   Age  SibSp  Parch     Fare  \\\n",
       "0            1         0       3    male  22.0      1      0   7.2500   \n",
       "1            2         1       1  female  38.0      1      0  71.2833   \n",
       "2            3         1       3  female  26.0      0      0   7.9250   \n",
       "3            4         1       1  female  35.0      1      0  53.1000   \n",
       "4            5         0       3    male  35.0      0      0   8.0500   \n",
       "\n",
       "  Embarked Age Bin  \n",
       "0        S   18-35  \n",
       "1        C   35-60  \n",
       "2        S   18-35  \n",
       "3        S   35-60  \n",
       "4        S   35-60  "
      ]
     },
     "execution_count": 12,
     "metadata": {},
     "output_type": "execute_result"
    }
   ],
   "source": [
    "def map_age_bin(age):\n",
    "    if age < 18:\n",
    "        return '0-18'\n",
    "    if age < 35:\n",
    "        return '18-35'\n",
    "    elif age < 55:\n",
    "        return '35-60'\n",
    "    elif not math.isnan(age):\n",
    "        return '> 60'\n",
    "    \n",
    "titanic_data['Age Bin'] = titanic_data['Age'].apply(map_age_bin)\n",
    "titanic_data.head()"
   ]
  },
  {
   "cell_type": "markdown",
   "metadata": {},
   "source": [
    "### 4.5 Mapping Data Items to Values"
   ]
  },
  {
   "cell_type": "markdown",
   "metadata": {},
   "source": [
    "> In order to intrepret the data easier the following fields need to be modified:\n",
    "1. Survived - changed to boolean (1 = True, 0 = False)\n",
    "2. Pclass - changed to Socio-Economic status (1st - Upper Class, 2nd - Middle Class, 3rd - Lower Class)\n",
    "3. Embarked - changed to name of embarkation port (C = Cherbourg; Q = Queenstown; S = Southampton)\n"
   ]
  },
  {
   "cell_type": "code",
   "execution_count": 13,
   "metadata": {
    "collapsed": false
   },
   "outputs": [
    {
     "data": {
      "text/html": [
       "<div>\n",
       "<table border=\"1\" class=\"dataframe\">\n",
       "  <thead>\n",
       "    <tr style=\"text-align: right;\">\n",
       "      <th></th>\n",
       "      <th>PassengerId</th>\n",
       "      <th>Survived</th>\n",
       "      <th>Pclass</th>\n",
       "      <th>Sex</th>\n",
       "      <th>Age</th>\n",
       "      <th>SibSp</th>\n",
       "      <th>Parch</th>\n",
       "      <th>Fare</th>\n",
       "      <th>Embarked</th>\n",
       "      <th>Age Bin</th>\n",
       "    </tr>\n",
       "  </thead>\n",
       "  <tbody>\n",
       "    <tr>\n",
       "      <th>0</th>\n",
       "      <td>1</td>\n",
       "      <td>False</td>\n",
       "      <td>Lower Class</td>\n",
       "      <td>male</td>\n",
       "      <td>22.0</td>\n",
       "      <td>1</td>\n",
       "      <td>0</td>\n",
       "      <td>7.2500</td>\n",
       "      <td>Southampton</td>\n",
       "      <td>18-35</td>\n",
       "    </tr>\n",
       "    <tr>\n",
       "      <th>1</th>\n",
       "      <td>2</td>\n",
       "      <td>True</td>\n",
       "      <td>Upper Class</td>\n",
       "      <td>female</td>\n",
       "      <td>38.0</td>\n",
       "      <td>1</td>\n",
       "      <td>0</td>\n",
       "      <td>71.2833</td>\n",
       "      <td>Cherbourg</td>\n",
       "      <td>35-60</td>\n",
       "    </tr>\n",
       "    <tr>\n",
       "      <th>2</th>\n",
       "      <td>3</td>\n",
       "      <td>True</td>\n",
       "      <td>Lower Class</td>\n",
       "      <td>female</td>\n",
       "      <td>26.0</td>\n",
       "      <td>0</td>\n",
       "      <td>0</td>\n",
       "      <td>7.9250</td>\n",
       "      <td>Southampton</td>\n",
       "      <td>18-35</td>\n",
       "    </tr>\n",
       "    <tr>\n",
       "      <th>3</th>\n",
       "      <td>4</td>\n",
       "      <td>True</td>\n",
       "      <td>Upper Class</td>\n",
       "      <td>female</td>\n",
       "      <td>35.0</td>\n",
       "      <td>1</td>\n",
       "      <td>0</td>\n",
       "      <td>53.1000</td>\n",
       "      <td>Southampton</td>\n",
       "      <td>35-60</td>\n",
       "    </tr>\n",
       "    <tr>\n",
       "      <th>4</th>\n",
       "      <td>5</td>\n",
       "      <td>False</td>\n",
       "      <td>Lower Class</td>\n",
       "      <td>male</td>\n",
       "      <td>35.0</td>\n",
       "      <td>0</td>\n",
       "      <td>0</td>\n",
       "      <td>8.0500</td>\n",
       "      <td>Southampton</td>\n",
       "      <td>35-60</td>\n",
       "    </tr>\n",
       "  </tbody>\n",
       "</table>\n",
       "</div>"
      ],
      "text/plain": [
       "   PassengerId Survived       Pclass     Sex   Age  SibSp  Parch     Fare  \\\n",
       "0            1    False  Lower Class    male  22.0      1      0   7.2500   \n",
       "1            2     True  Upper Class  female  38.0      1      0  71.2833   \n",
       "2            3     True  Lower Class  female  26.0      0      0   7.9250   \n",
       "3            4     True  Upper Class  female  35.0      1      0  53.1000   \n",
       "4            5    False  Lower Class    male  35.0      0      0   8.0500   \n",
       "\n",
       "      Embarked Age Bin  \n",
       "0  Southampton   18-35  \n",
       "1    Cherbourg   35-60  \n",
       "2  Southampton   18-35  \n",
       "3  Southampton   35-60  \n",
       "4  Southampton   35-60  "
      ]
     },
     "execution_count": 13,
     "metadata": {},
     "output_type": "execute_result"
    }
   ],
   "source": [
    "def map_values(df):\n",
    "    \n",
    "    # survived \n",
    "    survived_values = {0: False, 1: True}\n",
    "    df['Survived'] = df['Survived'].map(survived_values)\n",
    "\n",
    "    # PClass \n",
    "    pclass_values = {1: 'Upper Class', 2: 'Middle Class', 3: 'Lower Class'}\n",
    "    df['Pclass'] = df['Pclass'].map(pclass_values)\n",
    "\n",
    "    # Embarkation port \n",
    "    port_values = {'S': 'Southampton', 'C': 'Cherbourg','Q':'Queenstown'}\n",
    "    df['Embarked'] = df['Embarked'].map(port_values)\n",
    "    \n",
    "    return df\n",
    "\n",
    "titanic_data = map_values(titanic_data)\n",
    "titanic_data.head()"
   ]
  },
  {
   "cell_type": "markdown",
   "metadata": {},
   "source": [
    "### 4.6 A few functions to help in further calculations"
   ]
  },
  {
   "cell_type": "code",
   "execution_count": 14,
   "metadata": {
    "collapsed": false
   },
   "outputs": [],
   "source": [
    "def calculate_percentages_and_counts(field):\n",
    "    \n",
    "    survived_by_field = titanic_data[ titanic_data.Survived == True].groupby([field]).size()\n",
    "    non_survived_by_field = titanic_data[ titanic_data.Survived == False].groupby([field]).size()\n",
    "    totals = survived_by_field + non_survived_by_field\n",
    "\n",
    "    survival_counts = survived_by_field.values\n",
    "    non_survival_counts = non_survived_by_field.values\n",
    "    survival_percentage = survival_counts*100/totals\n",
    "    non_survival_percentage = non_survival_counts*100/totals\n",
    "    \n",
    "    return [survival_counts, non_survival_counts, survival_percentage, non_survival_percentage]\n",
    "\n",
    "def x_indices(size):\n",
    "    \n",
    "    return np.arange(size) + 0.4\n",
    "        \n",
    "    \n",
    "\n",
    "def plot_bar_chart(survival, non_survival, x_ticks, plt1):\n",
    "    \n",
    "    p1 = plt1.bar( range(len(x_ticks)), survival, color = 'g', alpha = 0.6)\n",
    "    p2 = plt1.bar( range(len(x_ticks)), non_survival, bottom = survival, color = 'r', alpha = 0.6)\n",
    "    plt1.set_xticks( x_indices( len(x_ticks) ) )\n",
    "    plt1.set_xticklabels(x_ticks)\n",
    "    plt1.legend((p1[0], p2[0]), ('Survived', 'Did not Survive'), loc='upper left')\n",
    "    \n",
    "    return plt1\n",
    "    \n",
    "    "
   ]
  },
  {
   "cell_type": "markdown",
   "metadata": {
    "collapsed": true
   },
   "source": [
    "## 5. Analysing the Data set"
   ]
  },
  {
   "cell_type": "markdown",
   "metadata": {
    "collapsed": true
   },
   "source": [
    "### Q1. Were social-economic standing a factor in survival rate?"
   ]
  },
  {
   "cell_type": "markdown",
   "metadata": {},
   "source": [
    "##### Over view of the data divided by Passenger's Class\n",
    "\n",
    "* Pclass is used as a proxy to determine passenger's social-economic status"
   ]
  },
  {
   "cell_type": "code",
   "execution_count": 15,
   "metadata": {
    "collapsed": false
   },
   "outputs": [
    {
     "data": {
      "text/html": [
       "<div>\n",
       "<table border=\"1\" class=\"dataframe\">\n",
       "  <thead>\n",
       "    <tr style=\"text-align: right;\">\n",
       "      <th></th>\n",
       "      <th></th>\n",
       "      <th>Passengers</th>\n",
       "    </tr>\n",
       "    <tr>\n",
       "      <th>Pclass</th>\n",
       "      <th>Survived</th>\n",
       "      <th></th>\n",
       "    </tr>\n",
       "  </thead>\n",
       "  <tbody>\n",
       "    <tr>\n",
       "      <th rowspan=\"2\" valign=\"top\">Lower Class</th>\n",
       "      <th>False</th>\n",
       "      <td>372</td>\n",
       "    </tr>\n",
       "    <tr>\n",
       "      <th>True</th>\n",
       "      <td>119</td>\n",
       "    </tr>\n",
       "    <tr>\n",
       "      <th rowspan=\"2\" valign=\"top\">Middle Class</th>\n",
       "      <th>False</th>\n",
       "      <td>97</td>\n",
       "    </tr>\n",
       "    <tr>\n",
       "      <th>True</th>\n",
       "      <td>87</td>\n",
       "    </tr>\n",
       "    <tr>\n",
       "      <th rowspan=\"2\" valign=\"top\">Upper Class</th>\n",
       "      <th>False</th>\n",
       "      <td>80</td>\n",
       "    </tr>\n",
       "    <tr>\n",
       "      <th>True</th>\n",
       "      <td>136</td>\n",
       "    </tr>\n",
       "  </tbody>\n",
       "</table>\n",
       "</div>"
      ],
      "text/plain": [
       "                       Passengers\n",
       "Pclass       Survived            \n",
       "Lower Class  False            372\n",
       "             True             119\n",
       "Middle Class False             97\n",
       "             True              87\n",
       "Upper Class  False             80\n",
       "             True             136"
      ]
     },
     "execution_count": 15,
     "metadata": {},
     "output_type": "execute_result"
    }
   ],
   "source": [
    "survived_data = titanic_data[ ['Survived', 'Pclass', 'PassengerId'] ].rename(columns = { 'PassengerId' : 'Passengers'})\n",
    "survived_data.groupby(['Pclass', 'Survived']).count()"
   ]
  },
  {
   "cell_type": "markdown",
   "metadata": {},
   "source": [
    "##### Distribution by each class"
   ]
  },
  {
   "cell_type": "code",
   "execution_count": 16,
   "metadata": {
    "collapsed": false
   },
   "outputs": [
    {
     "data": {
      "text/plain": [
       "<matplotlib.text.Text at 0xbd10eb8>"
      ]
     },
     "execution_count": 16,
     "metadata": {},
     "output_type": "execute_result"
    },
    {
     "data": {
      "image/png": "iVBORw0KGgoAAAANSUhEUgAAAYQAAAFKCAYAAAAdXygXAAAABHNCSVQICAgIfAhkiAAAAAlwSFlz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\nECRJhYEgSQIMBElSYSBIkgD4Pypc4bFKixn7AAAAAElFTkSuQmCC\n",
      "text/plain": [
       "<matplotlib.figure.Figure at 0xbd09b38>"
      ]
     },
     "metadata": {},
     "output_type": "display_data"
    }
   ],
   "source": [
    "count_plot = survived_data.groupby(['Pclass'])['Survived'].count().plot(kind = 'bar', title = 'Passengers by Pclass')\n",
    "count_plot.set_ylabel('count')"
   ]
  },
  {
   "cell_type": "markdown",
   "metadata": {},
   "source": [
    "##### Proportion of persons who survived in each class"
   ]
  },
  {
   "cell_type": "code",
   "execution_count": 17,
   "metadata": {
    "collapsed": false
   },
   "outputs": [
    {
     "data": {
      "text/plain": [
       "Pclass\n",
       "Lower Class     0.242363\n",
       "Middle Class    0.472826\n",
       "Upper Class     0.629630\n",
       "Name: Survived, dtype: float64"
      ]
     },
     "execution_count": 17,
     "metadata": {},
     "output_type": "execute_result"
    }
   ],
   "source": [
    "survived_data.groupby(['Pclass'])['Survived'].mean()"
   ]
  },
  {
   "cell_type": "markdown",
   "metadata": {},
   "source": [
    "##### Visualuzations"
   ]
  },
  {
   "cell_type": "code",
   "execution_count": 18,
   "metadata": {
    "collapsed": false
   },
   "outputs": [
    {
     "data": {
      "image/png": "iVBORw0KGgoAAAANSUhEUgAAAtIAAAF6CAYAAAA0zb+0AAAABHNCSVQICAgIfAhkiAAAAAlwSFlz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\nSEuSJEkVWEhLkiRJFfx/2/kKmbTV96oAAAAASUVORK5CYII=\n",
      "text/plain": [
       "<matplotlib.figure.Figure at 0xbac20f0>"
      ]
     },
     "metadata": {},
     "output_type": "display_data"
    }
   ],
   "source": [
    "survival_counts, non_survival_counts, survival_percentage, non_survival_percentage = calculate_percentages_and_counts('Pclass')\n",
    "\n",
    "classes = ['Lower Class', 'Middle Class', 'Upper Class']\n",
    "\n",
    "fig, (plt1, plt2) = plt.subplots(1, 2)\n",
    "fig.set_size_inches(12, 6)\n",
    "\n",
    "plt1 = plot_bar_chart(survival_counts, non_survival_counts, classes, plt1)\n",
    "plt1.set_title('Survival by Passengers class ')\n",
    "plt1.set_ylabel('count')\n",
    "\n",
    "plt2 = plot_bar_chart(survival_percentage, non_survival_percentage, classes, plt2)\n",
    "plt2.set_title('Survival Percentages by Passengers class ')\n",
    "plt2.set_ylabel('Percentage')\n",
    "\n",
    "plt.show()"
   ]
  },
  {
   "cell_type": "markdown",
   "metadata": {},
   "source": [
    "> The Visuals clearly point out that as we move towards the upper classes, chances of survival increases. To check if our intution is correct, we can perform a chi-squared test to see if the results are statistically significatnt.\n",
    "\n",
    "> More on chi-test : https://en.wikipedia.org/wiki/Chi-squared_test\n",
    "\n",
    "> Chi-squared Table : <img src=\"http://ib.bioninja.com.au/_Media/chi-table_med.jpeg\" width=\"500px\" height=\"500px\" />"
   ]
  },
  {
   "cell_type": "markdown",
   "metadata": {},
   "source": [
    "##### Hypothesis\n",
    "\n",
    "* Null Hypothesis      Ho = Social-Economic status has no impact on survival chances of a person\n",
    "\n",
    "* Alternate Hypothesis Ha = Social-Economic status does impact the chances of survival chances of a person"
   ]
  },
  {
   "cell_type": "code",
   "execution_count": 19,
   "metadata": {
    "collapsed": false
   },
   "outputs": [
    {
     "name": "stdout",
     "output_type": "stream",
     "text": [
      "Chi-squared value :\t102.888988757\n",
      "P Value :\t4.5492517113e-23\n"
     ]
    }
   ],
   "source": [
    "chi_result = stats.chi2_contingency([ survival_counts, non_survival_counts])\n",
    "\n",
    "print \"Chi-squared value :\\t\", chi_result[0]\n",
    "print \"P Value :\\t\", chi_result[1]"
   ]
  },
  {
   "cell_type": "markdown",
   "metadata": {},
   "source": [
    "#### Conclusion\n",
    "> Since P value < 0.05 and looking at the chi-table we can figure out that the chi-value lies in the significant region. So We reject the null hypothesis.<br/>\n",
    "\n",
    "> Thus social-economic status of a person effects the survival chances of a person. A person in upper class is more likely to survive than the ones in the lower ones."
   ]
  },
  {
   "cell_type": "markdown",
   "metadata": {
    "collapsed": true
   },
   "source": [
    "### Q2. Which gender had a better chance of survival?"
   ]
  },
  {
   "cell_type": "markdown",
   "metadata": {},
   "source": [
    "##### Number of Survivors by sex"
   ]
  },
  {
   "cell_type": "code",
   "execution_count": 20,
   "metadata": {
    "collapsed": false
   },
   "outputs": [
    {
     "data": {
      "text/html": [
       "<div>\n",
       "<table border=\"1\" class=\"dataframe\">\n",
       "  <thead>\n",
       "    <tr style=\"text-align: right;\">\n",
       "      <th></th>\n",
       "      <th></th>\n",
       "      <th>Passengers</th>\n",
       "    </tr>\n",
       "    <tr>\n",
       "      <th>Sex</th>\n",
       "      <th>Survived</th>\n",
       "      <th></th>\n",
       "    </tr>\n",
       "  </thead>\n",
       "  <tbody>\n",
       "    <tr>\n",
       "      <th rowspan=\"2\" valign=\"top\">female</th>\n",
       "      <th>False</th>\n",
       "      <td>81</td>\n",
       "    </tr>\n",
       "    <tr>\n",
       "      <th>True</th>\n",
       "      <td>233</td>\n",
       "    </tr>\n",
       "    <tr>\n",
       "      <th rowspan=\"2\" valign=\"top\">male</th>\n",
       "      <th>False</th>\n",
       "      <td>468</td>\n",
       "    </tr>\n",
       "    <tr>\n",
       "      <th>True</th>\n",
       "      <td>109</td>\n",
       "    </tr>\n",
       "  </tbody>\n",
       "</table>\n",
       "</div>"
      ],
      "text/plain": [
       "                 Passengers\n",
       "Sex    Survived            \n",
       "female False             81\n",
       "       True             233\n",
       "male   False            468\n",
       "       True             109"
      ]
     },
     "execution_count": 20,
     "metadata": {},
     "output_type": "execute_result"
    }
   ],
   "source": [
    "survived_data = titanic_data[ ['Sex', 'Survived', 'PassengerId'] ].rename(columns = { 'PassengerId' : 'Passengers'})\n",
    "survived_data.groupby(['Sex', 'Survived']).count()"
   ]
  },
  {
   "cell_type": "markdown",
   "metadata": {},
   "source": [
    "##### Proportion of Men and Women survived"
   ]
  },
  {
   "cell_type": "code",
   "execution_count": 21,
   "metadata": {
    "collapsed": false
   },
   "outputs": [
    {
     "data": {
      "text/plain": [
       "Sex\n",
       "female    0.742038\n",
       "male      0.188908\n",
       "Name: Survived, dtype: float64"
      ]
     },
     "execution_count": 21,
     "metadata": {},
     "output_type": "execute_result"
    }
   ],
   "source": [
    "survived_data.groupby('Sex')['Survived'].mean()"
   ]
  },
  {
   "cell_type": "markdown",
   "metadata": {},
   "source": [
    "##### Visualizations"
   ]
  },
  {
   "cell_type": "code",
   "execution_count": 22,
   "metadata": {
    "collapsed": false
   },
   "outputs": [
    {
     "data": {
      "image/png": "iVBORw0KGgoAAAANSUhEUgAAAtIAAAF6CAYAAAA0zb+0AAAABHNCSVQICAgIfAhkiAAAAAlwSFlz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\n",
      "text/plain": [
       "<matplotlib.figure.Figure at 0xbb5e2b0>"
      ]
     },
     "metadata": {},
     "output_type": "display_data"
    }
   ],
   "source": [
    "survival_counts, non_survival_counts, survival_percentage, non_survival_percentage = calculate_percentages_and_counts('Sex')\n",
    "\n",
    "genders = ['Female', 'Male']\n",
    "\n",
    "fig, (plt1, plt2) = plt.subplots(1, 2)\n",
    "fig.set_size_inches(12, 6)\n",
    "\n",
    "plt1 = plot_bar_chart(survival_counts, non_survival_counts, genders, plt1)\n",
    "plt1.set_title('Survival by Gender')\n",
    "plt1.set_ylabel('count')\n",
    "\n",
    "plt2 = plot_bar_chart(survival_percentage, non_survival_percentage, genders, plt2)\n",
    "plt2.set_title('Survival Percentages by Gender')\n",
    "plt2.set_ylabel('Percentage')\n",
    "\n",
    "plt.show()"
   ]
  },
  {
   "cell_type": "markdown",
   "metadata": {},
   "source": [
    "> Thus, we observe a difference of more than 50% for survival rate between the two genders.To check if the result is significant we can carry out chi-squared test to calculate the p-value for the data as it is a categorical data."
   ]
  },
  {
   "cell_type": "markdown",
   "metadata": {},
   "source": [
    "##### Hypothesis\n",
    "\n",
    "* Null Hypothesis      Ho = Gender has no impact on survival chances of a person\n",
    "\n",
    "* Alternate Hypothesis Ha = Gender does impact the chances of survival chances of a person"
   ]
  },
  {
   "cell_type": "code",
   "execution_count": 23,
   "metadata": {
    "collapsed": false
   },
   "outputs": [
    {
     "name": "stdout",
     "output_type": "stream",
     "text": [
      "Chi-squared value :\t260.717020167\n",
      "P Value :\t1.19735706278e-58\n"
     ]
    }
   ],
   "source": [
    "chi_result = stats.chi2_contingency([ survival_counts, non_survival_counts])\n",
    "\n",
    "print \"Chi-squared value :\\t\", chi_result[0]\n",
    "print \"P Value :\\t\", chi_result[1]"
   ]
  },
  {
   "cell_type": "markdown",
   "metadata": {},
   "source": [
    "#### Conclusion\n",
    "> Since P value < 0.05 and looking at the chi-table we can figure out that the chi-value lies in the significant region. So We reject the null hypothesis.<br/>\n",
    "Thus, we can conclude that Women had a better chance of survival, maybe due to the fact that during evacuations women and children are given preference over men."
   ]
  },
  {
   "cell_type": "markdown",
   "metadata": {},
   "source": [
    "### Visualization : Survival by 'Sex' and 'Age Bin' both"
   ]
  },
  {
   "cell_type": "code",
   "execution_count": 24,
   "metadata": {
    "collapsed": false
   },
   "outputs": [
    {
     "data": {
      "image/png": "iVBORw0KGgoAAAANSUhEUgAAAX4AAAEZCAYAAACQK04eAAAABHNCSVQICAgIfAhkiAAAAAlwSFlz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\ngg==\n",
      "text/plain": [
       "<matplotlib.figure.Figure at 0xcf2a780>"
      ]
     },
     "metadata": {},
     "output_type": "display_data"
    }
   ],
   "source": [
    "male_data_by_agebin = titanic_data[ titanic_data.Sex == 'male'].groupby('Age Bin')['Survived'].mean()*100\n",
    "female_data_by_agebin = titanic_data[ titanic_data.Sex == 'female'].groupby('Age Bin')['Survived'].mean()*100\n",
    "\n",
    "age_bins = ['Children', 'Young Aged', 'Middle Aged', 'Old Aged']\n",
    "\n",
    "plt1 = plt.subplot()\n",
    "male_index = np.array(range(len(age_bins)))\n",
    "female_index = np.array(range(len(age_bins)))+0.4\n",
    "p1 = plt1.bar(male_index, male_data_by_agebin, width=0.4, color='b', alpha = 0.6)\n",
    "p2 = plt1.bar(female_index, female_data_by_agebin, width=0.4, color='r', alpha = 0.6)\n",
    "plt.xticks( np.array(range( len(age_bins))) + 0.4,  age_bins)\n",
    "plt1.set_ylabel(\"Percentage\")\n",
    "plt1.set_xlabel(\"Age Bin\")\n",
    "plt1.set_title(\"Percentage of survivors by agebin and gender\")\n",
    "plt1.legend((p1[0], p2[0]), ('Male', 'Female'), loc='upper left')\n",
    "plt.show()"
   ]
  },
  {
   "cell_type": "markdown",
   "metadata": {},
   "source": [
    "##### Conclusion\n",
    "> We also observe that females have a higher chances of survival over each age group and the difference is quite significant."
   ]
  },
  {
   "cell_type": "markdown",
   "metadata": {
    "collapsed": true
   },
   "source": [
    "### Q3. Which age group survived the most?"
   ]
  },
  {
   "cell_type": "markdown",
   "metadata": {},
   "source": [
    "##### Number of Survivors in each age group"
   ]
  },
  {
   "cell_type": "code",
   "execution_count": 25,
   "metadata": {
    "collapsed": false
   },
   "outputs": [
    {
     "data": {
      "text/html": [
       "<div>\n",
       "<table border=\"1\" class=\"dataframe\">\n",
       "  <thead>\n",
       "    <tr style=\"text-align: right;\">\n",
       "      <th></th>\n",
       "      <th></th>\n",
       "      <th>Passengers</th>\n",
       "    </tr>\n",
       "    <tr>\n",
       "      <th>Age Bin</th>\n",
       "      <th>Survived</th>\n",
       "      <th></th>\n",
       "    </tr>\n",
       "  </thead>\n",
       "  <tbody>\n",
       "    <tr>\n",
       "      <th rowspan=\"2\" valign=\"top\">0-18</th>\n",
       "      <th>False</th>\n",
       "      <td>52</td>\n",
       "    </tr>\n",
       "    <tr>\n",
       "      <th>True</th>\n",
       "      <td>61</td>\n",
       "    </tr>\n",
       "    <tr>\n",
       "      <th rowspan=\"2\" valign=\"top\">18-35</th>\n",
       "      <th>False</th>\n",
       "      <td>231</td>\n",
       "    </tr>\n",
       "    <tr>\n",
       "      <th>True</th>\n",
       "      <td>135</td>\n",
       "    </tr>\n",
       "    <tr>\n",
       "      <th rowspan=\"2\" valign=\"top\">35-60</th>\n",
       "      <th>False</th>\n",
       "      <td>112</td>\n",
       "    </tr>\n",
       "    <tr>\n",
       "      <th>True</th>\n",
       "      <td>81</td>\n",
       "    </tr>\n",
       "    <tr>\n",
       "      <th rowspan=\"2\" valign=\"top\">&gt; 60</th>\n",
       "      <th>False</th>\n",
       "      <td>29</td>\n",
       "    </tr>\n",
       "    <tr>\n",
       "      <th>True</th>\n",
       "      <td>13</td>\n",
       "    </tr>\n",
       "  </tbody>\n",
       "</table>\n",
       "</div>"
      ],
      "text/plain": [
       "                  Passengers\n",
       "Age Bin Survived            \n",
       "0-18    False             52\n",
       "        True              61\n",
       "18-35   False            231\n",
       "        True             135\n",
       "35-60   False            112\n",
       "        True              81\n",
       "> 60    False             29\n",
       "        True              13"
      ]
     },
     "execution_count": 25,
     "metadata": {},
     "output_type": "execute_result"
    }
   ],
   "source": [
    "survived_data = titanic_data[ ['Survived', 'Age Bin', 'PassengerId'] ].rename(columns = { 'PassengerId' : 'Passengers'})\n",
    "survived_data.groupby(['Age Bin', 'Survived']).count()"
   ]
  },
  {
   "cell_type": "markdown",
   "metadata": {},
   "source": [
    "##### Distribution of passengers by age bin"
   ]
  },
  {
   "cell_type": "code",
   "execution_count": 26,
   "metadata": {
    "collapsed": false
   },
   "outputs": [
    {
     "data": {
      "text/plain": [
       "<matplotlib.text.Text at 0xd206588>"
      ]
     },
     "execution_count": 26,
     "metadata": {},
     "output_type": "execute_result"
    },
    {
     "data": {
      "image/png": "iVBORw0KGgoAAAANSUhEUgAAAYQAAAEqCAYAAAAVqydNAAAABHNCSVQICAgIfAhkiAAAAAlwSFlz\nAAALEgAACxIB0t1+/AAAIABJREFUeJzt3X2cXGV9/vFPHgCJu8REF35VxAiFi7YWIVEURAJYUFQE\nbH/6a0XFFqKIiFqxNRYV2wAtguWhRYUIarUWKA8qRZBCgaAggk9RvAjGtNpKie6SZA2Yx98f514y\nWTabTTJnz072er9eee3MmTNnvnNmcq657/s8TFi/fj0RERETmy4gIiLGhgRCREQACYSIiCgSCBER\nASQQIiKiSCBERASQQBhXJD1P0jpJfzpo+p9LuqKNr/NTSTPbtbzNvFa3pLsl/UDS8aPxmp1E0lsl\nfaXpOjalfB+nDzH9GEl/30RN49nkpguIUbcO+LikO20/3DK9Uw9IOQDosb1P04WMYWP5sx2yNttf\nAcZskG2vEgjjz+PA+cCXJL3U9prWB0tL4Qe2Lxh8X9JPgS8CrwGmAx8FXgbMAlYBr7P9SFnUuyS9\nENgRuMD2FWV5rwX+CtgBWAm83/a9kj4CHAT8FvA9228ZVNdxwIepWrXLgT8HlgHzgWdLegA4yPZv\nWp5zO/Aj4EXAM4F/sv3R8thc4FhgJ+DppY4bJKkscydgAjDf9qWbmt6yrNeX2pYA77T9SHn9b5Z1\ntAdw18D7knQi8BdlHdwOnG57hxEsrxcQcCnwP2Vdri3/zrC9gKd6tqSbgGeX5Z1c3scPgefYXlFe\n18Af2f5ByzqcUl5rb6rPfAXwJ7YXSdoL+AwwDXikrJfP2/6cpIOBc4EpVD9CzrJ94xC1TQDOlvTi\ncvtM2zdKemup5Zjh1mO0V7qMxp/1tucBvwbO2Yrn72R7f+D9wKeBT5T7PwdObJlvpe1ZwFHAuZJ+\nR9JvA2cDR5fH3g5cJ2nn8pw9gP2HCIOBDeDx5bU+AtxAtUE8CfiJ7ZmtYdBiD6qgmQW8UdKrJe0B\nHAEcWpb3V8DHyvxnAF+2/WKq4Hv5cNMlvRn4feBA2zOBm6iCY8CetmeXeY6QNFvS71BtLI8o62E5\n5f+ipLdsZnm9tl9g+x+A84BTbB8InAkcNsT7h2pj/k7bLwQWAhfa/hlwK/Cm8rpHAL9sDYPiaKDP\n9sG29wW+DbyrPPZ54Au29wPeXdYzkp5BFRQn2H4RVfBeKmn3TdT3cFkPbwY+K+mZZXpr6+Ep63ET\ny4ptkBbC+HUC8ICkm7fwef9a/v4E+IXthS33W/uCPwVg+xeSvga8gupX7G8B/y5pQplvDfDb5fY9\ntofqQjgCuNX2f5Zl3i7pf6k28pvzKdvrgGWSrgZeafvfyi/0E0pIvRToKvNfR7VRegnVBvPdm5n+\nWuDFwP1VbjERGAg4KN0etvslPVzW0QHAzbZ/Uea5mCrkoAqb4ZZ3V8vtfwaul3Qj8HXg7zaxDm61\n/dNyez7wrXL7H4G/BT4JzKEK3Y3Y/ldJiyW9i+pzOgz4RtnoH0gJRts/lvTv5WkDLb3rWz7ntcB+\nVD8cBvtkWcYPJf2wPH+wodZjtFlaCONU+YV4CvBZ4FktD62naroP2HHQU1t/ha8e5iXWttyeWOad\nRLVxmmn7ANsHAAdTdV0A9G9iWUN9TydRdTttTmuX2ERgraQDgG8A3cDNVBvFCQClW2Nv4F+A/YGF\nkp4/aPoBZfqepY6/bXk/LwIOaXnNx1tuD6zbNYPe07pB72u45T25jmyfSbX+7qNqnd2ziXUw1GeB\n7VuBKaV18HLgqsFPlHQKVYj8GvgCVQhNKMsc/F0ZeJ1JwI+G+JyH+vGxftD7f7K+QYZaj9FmCYTx\n58n/SLavoeqSeE/L40upNkJIehYbuky21IllGXsAfwD8O3AbcFTpAkLSq4HvUfVnD2fgeTPK844A\ndgfuHUEdJ0iaIGka8AaqX5qHAvfZ/nvgTuB4qo0Ykr4A/D/bVwGnUo1TPHfQ9HeW6btTbeROktRd\nXu9vqLpShnMz8ApJv1XunzTosc0uT9KkMqbTZfvTpaZ9JQ0Vkoe3dNe8g+ozH3ApcDlV18+qIZ57\nFHBFGQNaBBwDTCrjDncDf1rqeT5VK3A9VTDtLWmgW23/8txnD7H8CWz4rsykaoWM5HONGiQQxp/B\nXTLvphpoHJh+MdUg5INUG6Lbh3nucK/xNEn3A18F3mX7Yds/ouqa+JKk7wBnAcfYfnyYZWH7QaoN\n3nWSvk81DvHagcHQzdiZqovkG8Altm+n+pXbU7onvk3Vhz9d0tOBvwbeVOq7B7jW9p3DTL+8vMd7\nJP0AeAHw1pb1MHi9YHsR8D7gFknfAvalGlxmpMuzvRY4HfhiWc9XAW+zPdSv6+8DnynLe2557QGf\nowq2T21i/X0ceEcZtP86cD8buvjeCryhrJOLgcVUY0e/BP4QOE/Sd6laoW8qrdLB1gN7luV/Gnij\n7ceGmGe4+9EmE3L669helb1TLrZ9bdO1tCotnbfY/li5fzzwAdtD9Z3XXcsfUw3+vmYrnjsXuMb2\nQ5J2oWrtHW37x+2uM0ZH7YPKknal+hX2B1R9jFdS9RkutH1qmedkql+Oq4F5m9g9LWJLjdVfOz+n\naoUtpBpPeIzS9TKaSmDuSvVrfms8BFwlaR1Vl9s5CYPOVmsLQdJkqqbs7wKvo9pN7uO275J0KfA1\nqub314GZVPssLwBmbaLpGxERNal7DOHjbDiAZgIw0/bAbnM3AUdS7bq2wPYa28upBp/2q7muiIgY\npLZAKPt5P2r762zYs6X19VYAu1Dt+resZXo/MLWuuiIiYmh1jiG8DVgn6UjghVR7M/S0PN5N1Xe6\nnCoYBk8f1po1a9dPnjypfdVGRIwPmzyGY1T2MpJ0G9X+z+cB59u+s4wh3Ea1H/gtVEdn7kx1zpL9\nN7FP9JOWLl0xVgcMN9LT083SpSPZOzJGIuuzfbIu26tT1mdPT/cmA2G0T13xfuCycvDMg1S7rK2X\ndBHVYPIEYO7mwiAiItqvY49DSAthfMr6bJ+sy/bqlPU5XAshRypHRASQQIiIiCKBEBERQAIhIiKK\nBEJERAAJhIiIKBIIEREBJBAiIqJIIEREBJBAiIiIIoEQERFAAiEiIooEQkREAAmEiIgoRvt6CDFO\nrF27liVLFrd9uX19XfT29rd1mTNm7MmkSbn6XkQCIWqxZMliTj/vy0yZumvTpQxr5bJHufCM17HX\nXns3XUpE4xIIUZspU3ela9pzmi4jIkYoYwgREQEkECIiokggREQEUPMYgqSJwGWAgHXAO4Adga8C\nD5XZLrV9taSTgTnAamCe7RvrrC0iIjZW96DyMcB624dImg2cDXwFON/2JwZmkrQbcBowE5gCLJB0\ni+3VNdcXERFFrYFg+wZJXyl3ZwB9wCxAko6jaiW8FzgQWGB7DbBc0iJgP+D+OuuLiIgNah9DsL1O\n0pXAhcAXgHuB99ueDSwGPgLsAixreVo/MLXu2iIiYoNROQ7B9omSdgW+BRxk+xfloeuBi4A7qEJh\nQDfw2HDLnDZtCpMnd8bRpT093U2XMOr6+rqaLmHEpk/vGpefEYzP72adOn191j2ofAKwu+1zgSeo\nBpavlfRu2/cBr6DqFroPmCdpR2BnYF9g4XDL7utbWWfpbdPT083SpSuaLmPUtfv0EnXq7e0fl5/R\neP1u1qVT1udwoVV3C+Fa4ApJd5TXOh34GXCJpFXAI8Ac2/2SLgIWABOAubZX1VxbRES0qHtQeSXw\nxiEeOmSIeecD8+usJyIiNi0HpkVEBJBAiIiIIoEQERFAAiEiIooEQkREAAmEiIgoEggREQEkECIi\nokggREQEkECIiIgigRAREUACISIiigRCREQACYSIiCgSCBERASQQIiKiSCBERASQQIiIiCKBEBER\nQAIhIiKKyXUuXNJE4DJAwDrgHcBvgCvL/YW2Ty3zngzMAVYD82zfWGdtERGxsbpbCMcA620fApwJ\nnA1cAMy1PRuYKOlYSbsBpwEHAa8CzpG0Q821RUREi1oDwfYNVL/6AZ4H9AEzbd9Vpt0EHAkcCCyw\nvcb2cmARsF+dtUVExMZqH0OwvU7SlcBFwBeBCS0PrwB2AbqBZS3T+4GpddcWEREb1DqGMMD2iZJ2\nBe4Ddm55qBt4DFhOFQyDp2/StGlTmDx5UrtLrUVPT3fTJYy6vr6upksYsenTu8blZwTj87tZp05f\nn3UPKp8A7G77XOAJYC3wbUmzbd8BHA3cRhUU8yTtSBUY+wILh1t2X9/KOktvm56ebpYuXdF0GaOu\nt7e/6RJGrLe3f1x+RuP1u1mXTlmfw4VW3S2Ea4ErJN1RXuvdwI+By8ug8YPANbbXS7oIWEDVpTTX\n9qqaa4uIiBa1BoLtlcAbh3josCHmnQ/Mr7OeiIjYtByYFhERQAIhIiKKBEJERAAJhIiIKBIIEREB\nJBAiIqJIIEREBJBAiIiIIoEQERFAAiEiIooEQkREAAmEiIgoEggREQEkECIiokggREQEkECIiIgi\ngRAREUACISIiigRCREQANV5TWdJk4DPADGBHYB7wM+CrwENltkttXy3pZGAOsBqYZ/vGuuqKiIih\n1RYIwAnAL22/RdI04LvAWcD5tj8xMJOk3YDTgJnAFGCBpFtsr66xtoiIGKTOQLgKuLrcnkj1638W\nsK+k46haCe8FDgQW2F4DLJe0CNgPuL/G2iIiYpDaxhBsr7T9a0ndVMHwV8C3gPfbng0sBj4C7AIs\na3lqPzC1rroiImJodbYQkPRc4FrgEttfkjTV9sDG/3rgIuAOqlAY0A08trllT5s2hcmTJ7W75Fr0\n9HQ3XcKo6+vrarqEEZs+vWtcfkYwPr+bder09VnnoPJuwM3AqbZvL5NvlvQu298GXkHVLXQfME/S\njsDOwL7Aws0tv69vZT2Ft1lPTzdLl65ouoxR19vb33QJI9bb2z8uP6Px+t2sS6esz+FCq84WwgeB\nZwBnSvowsJ5qzODvJa0CHgHm2O6XdBGwAJgAzLW9qsa6IiJiCLUFgu33AO8Z4qFDhph3PjC/rloi\nImLzcmBaREQACYSIiCgSCBERASQQIiKiSCBERASQQIiIiCKBEBERQAIhIiKKBEJERAAJhIiIKBII\nEREBJBAiIqJIIEREBDDCQJB08RDTPtv+ciIioinDnv5a0uXAnsCLJP1ey0M7kMtcRkRsVzZ3PYS/\nAWYAFwJntUxfAzxYU00REdGAYQPB9hJgCfBCSbtQtQomlIe7gN46i4uIiNEzoiumSfog1SUxf9Uy\neT1Vd1JERGwHRnoJzZOAvWwvrbOYiIhozkh3O/0v0j0UEbFdG2kLYRGwQNLtwBMDE21/bFNPkDQZ\n+AzVoPSOwDzgR8CVwDpgoe1Ty7wnA3OA1cA82zdu6RuJiIhtM9IWwn8DXwN+QzWoPPBvOCcAv7R9\nKPAq4BLgAmCu7dnAREnHStoNOA04qMx3jqQdtvidRETENhlRC8H2WZuf6ymuAq4utydR7ao60/Zd\nZdpNwFFUrYUFttcAyyUtAvYD7t+K14yIiK000r2M1lHtVdTqf2w/d1PPsb2yPLebKhg+BHy8ZZYV\nwC5AN7CsZXo/OegtImLUjbSF8GTXUunOOY6qi2dYkp4LXAtcYvtLkv6u5eFu4DFgOVUwDJ4+rGnT\npjB58qSRlN+4np7upksYdX19XU2XMGLTp3eNy88Ixud3s06dvj5HOqj8JNurgaslfWi4+crYwM3A\nqbZvL5O/I+lQ23cCRwO3AfcB8yTtCOwM7Ass3FwdfX0rt7T0RvT0dLN06Yqmyxh1vb39TZcwYr29\n/ePyMxqv3826dMr6HC60Rtpl9JaWuxOA3wNWbeZpHwSeAZwp6cNUXU6nAxeXVsaDwDW210u6CFhQ\nlj3X9uaWHRERbTbSFsLhLbfXA78E3jjcE2y/B3jPEA8dNsS884H5I6wlYlxZu3YtS5Ysbvty+/q6\n2t6SmzFjTyZN6oyu3HiqkY4hvK38qld5zsKyV1BE1GzJksWcft6XmTJ116ZLGdbKZY9y4RmvY6+9\n9m66lNhKI+0ymgX8K9W5jCYCu0k63va9dRYXEZUpU3ela9pzmi4jtnMj7TK6CHjjQABIeilwMXBg\nXYVFRMToGumRyl2trQHb9wBPq6ekiIhowkgDoVfSsQN3JB3HxqfCjoiIDjfSLqM5wFclzafaNXQ9\ncHBtVUVExKgbaQvhaGAl8DyqXVCXMsTuoxER0blGGghzgJfZ/rXt7wOzqM5QGhER24mRBsIObHxk\n8iqeerK7iIjoYCMdQ7geuE3SVeX+64Eb6ikpIiKaMKIWgu2/oDoWQcCewEW2z6yzsIiIGF0jPtup\n7WuAa2qsJSIiGjTSMYSIiNjOJRAiIgJIIERERJFAiIgIIIEQERFFAiEiIoAEQkREFAmEiIgAtuDA\ntK0l6SXAubYPl7Q/8FXgofLwpbavlnQy1Qn0VgPzbN9Yd10REbGxWgNB0hnAm4H+MmkWcL7tT7TM\nsxvVmVNnAlOABZJusb26ztoiImJjdbcQHgaOBz5f7s8C9ilXXHsIeC/VdZkX2F4DLJe0CNgPuL/m\n2iIiokWtYwi2rwPWtEy6FzjD9mxgMfARYBdgWcs8/cDUOuuKiIinqn0MYZDrbQ9s/K+nOoPqHVSh\nMKAbeGxzC5o2bQqTJ09qf4U16OnpbrqEUdfX19V0CSM2fXrXmP6Msi47R6e/99EOhJslvcv2t4FX\nUHUL3QfMk7QjsDOwL7Bwcwvq61tZa6Ht0tPTzdKlK5ouY9T19vZvfqYxore3f0x/RlmXnaFT/q8P\nF1qjHQinABdLWgU8Asyx3S/pImABMAGYa3vVcAuJiIj2qz0QbP8ncHC5/R3gkCHmmQ/Mr7uWiIjY\ntByYFhERQAIhIiKKBEJERAAJhIiIKBIIEREBJBAiIqJIIEREBJBAiIiIIoEQERFAAiEiIooEQkRE\nAAmEiIgoEggREQEkECIiokggREQEkECIiIhitK+YNmatXbuWJUsWt325fX1dbb8E4owZezJpUmdc\nTzoiOkcCoViyZDGnn/dlpkzdtelShrVy2aNceMbr2GuvvZsuJSK2MwmEFlOm7krXtOc0XUZERCMy\nhhAREcAotBAkvQQ41/bhkvYCrgTWAQttn1rmORmYA6wG5tm+se66IiJiY7W2ECSdAVwG7FQmXQDM\ntT0bmCjpWEm7AacBBwGvAs6RtEOddUVExFPV3WX0MHB8y/1Ztu8qt28CjgQOBBbYXmN7ObAI2K/m\nuiIiYpBaA8H2dcCalkkTWm6vAHYBuoFlLdP7gal11hUREU812nsZrWu53Q08BiynCobB04c1bdoU\nJk9u3774fX1dbVtW3aZP76Knp7vpMoaV9dk+WZedo9Pf+2gHwgOSDrV9J3A0cBtwHzBP0o7AzsC+\nwMLNLaivb2VbC2v3wWN16u3tZ+nSFU2XMaysz/bJuuwMPT3dHfHehwut0Q6E9wOXlUHjB4FrbK+X\ndBGwgKpLaa7tVaNcV0TEuFd7INj+T+DgcnsRcNgQ88wH5tddS0REbFoOTIuICCCBEBERRQIhIiKA\nBEJERBQJhIiIABIIERFRJBAiIgJIIERERJFAiIgIIIEQERFFAiEiIoAEQkREFAmEiIgAEggREVEk\nECIiAkggREREkUCIiAgggRAREUUCISIigARCREQUk5t4UUn3A8vK3Z8CZwNXAuuAhbZPbaKuiIjx\nbNRbCJJ2ArB9RPn3Z8AFwFzbs4GJko4d7boiIsa7JloILwSeLulmYBLwIWCm7bvK4zcBRwI3NFBb\nRMS41cQYwkrgPNuvBE4BvgBMaHl8BTC1gboiIsa1JloIDwEPA9heJOlXwMyWx7uBxza3kGnTpjB5\n8qS2FdXX19W2ZdVt+vQuenq6my5jWFmf7ZN12Tk6/b03EQh/Cvw+cKqkZwO7ALdImm37DuBo4LbN\nLaSvb2Vbi+rt7W/r8urU29vP0qUrmi5jWFmf7ZN12Rl6ero74r0PF1pNBMJ84ApJd1HtVXQi8Cvg\nckk7AA8C1zRQV0TEuDbqgWB7NXDCEA8dNsqlRMQ4tHbtWpYsWdz25fb1dbW9NTdjxp5MmtS+rvHN\naeQ4hIiIpixZspjTz/syU6bu2nQpw1q57FEuPON17LXX3qP2mgmEiBh3pkzdla5pz2m6jDEnp66I\niAgggRAREUUCISIigARCREQUCYSIiAASCBERUSQQIiICSCBERESRQIiICCCBEBERRQIhIiKABEJE\nRBQJhIiIABIIERFRJBAiIgJIIERERJFAiIgIIIEQERHFmLmEpqQJwD8CLwSeAE6y3f4rYUdExJDG\nUgvhOGAn2wcDHwQuaLieiIhxZSwFwiHA1wBs3wu8qNlyIiLGlzHTZQTsAixrub9G0kTb60argJXL\nHh2tl9pqnVDjgE6otRNqhM6osxNqHNAJtTZR44T169eP+osORdL5wDdtX1Pu/5ftPRouKyJi3BhL\nXUZ3A68GkPRS4AfNlhMRMb6MpS6j64AjJd1d7r+tyWIiIsabMdNlFBERzRpLXUYREdGgBEJERAAJ\nhIiIKBIIEREBjK29jCIiOoqkZwJTgcds9zZdz7bKXkYR44SkHYD9KBswYKHtVc1W1ZkkvRj4B2AS\n0A90AxOAU21/o8natkVaCG0m6TXAauA/qE7Q9wxgru3/arKuTiSp2/aKcvsFVGfCfcD2g81W1nnK\n9/IcYBEbNmD7Sppr+/pGi+tMnwD+0PbPBiZI2gO4GnhJY1VtowRCG0m6HHga1X+2s4DPA/8DXAa8\nssHSOtUNwBGS3ga8E7gNeKekz9r+dLOldZwPAYfYXj4wQdJU4FYggbDldmgNg+JnQEd3uSQQ2msf\n24eWazv80PY/Akg6veG6Ot2fAYfb7i/dHrcDCYQtswOwctC0x+nwDViDbpR0K3AL1Uk5dwGOAv6t\n0aq2UQKhvXaQ9ErgWcBukvYFVlD9Z4wt1y1pOvAIsKZMWwPs2FxJHevTwAOSFrBhA3YIcFGjVXUo\n2x+TdADVOnwW1Tr9C9sPNFvZtslup+31DuDtwPOBU4E7gK8DH2iyqA52N1W30SHA+yR1Ad8F/qXR\nqjqQ7cuAI4GbgIXl71G25zdaWIeSNI3qh8klVN3CvwO8RFJH/8jOXkYx5pUuuKcDvwZk+8cNl9Rx\nJD0f2JdqZ4e/pLoA1ULgbNvLhnlqDEHSzcAngYOA6cBXgUOB3Wy/qcnatkVaCDFmSZoo6VhgNlW3\n2xXAGZJ2a7ayjvQ5qjGDC6m63T4E/DfwxSaL6mA72b4OeLHtk2xfb/t9VL0DHaujmzdjjaTbgZ0G\nTZ4ArC/Xio4tcznV+vs/wDOBT1GNyVwOHNNgXZ1ore3/kPQh23PKtO9KekOjVXWu1ZIOBO6WdKjt\nOyW9DFjbdGHbIoHQXn9JtYvp8WwYBI2tt7ftl0vakeogqvkAkt7ecF2d6DFJf0S1d8xbgK9QXZBq\n8J5HMTLvoBqo3xWYK2k58BBwUqNVbaMEQhvZvlfS54H9SnMytpGkl9m+W9IflPu/zVNbYbF5JwN/\nB7wMmAH8ElhAh2/AmmL7J8ArJD2Nagyh1/YTDZe1zTKoHGOWpN8F5gGvt72+TLsBOMf2PY0W1+Ek\nzez0XSSj/RIINZL0QdvnNF3H9kLSAba/03Qd2wNJt9k+ouk6YmzJXkb1OrLpArYz5zddwHZkQtMF\nbC8k7d/pxx8MSCDURFLWbftlI9Y+FzddwPZA0jOozrH1+qZraYdstNpI0p6Srpf0c2Ax8PuSbpS0\nT9O1bScuabqATiXp/5a/T5d0HtVJAs8tR3/H1nsT8FHgxGbLaI8EQntdTjXgubvtGbZ7gL+mOqAq\ntoKk10g6qux6erikfyqnGY4tc0r5eyHQB5wG/JycJHBbvYFqHf5K0t5NF7OtEgjt9TTb97ZOyN4w\nW6+cTvyP2XBeqB8B11Ad6xFbZ2/bZ9t+0PYlVAf9xVaQ9FKqsxo/QfVjcM5mnjLmbRcDIWPI9yR9\nBvga1dkPu6kO/vl+o1V1rpxOvH32kfReYM3A3lrlql85c+zWm0J1oRxs37E9dA0nENrrncBxVGfn\n3AVYTnXSqxyktnVyOvH2eS0wCzCwn6RHqE59fcqwz4pNsn3boPsd33JNILRROXjqOhIA7XIK8GHg\nO2zoNvoV1VG3sWVWUZ3/qY/qpHbfBNYBz6U6pXhEDkyLGA8k3QmcSXXaiguBfYAngJtsv6zB0mIM\nSQshxqxNnD0WgJw9dotNtH0HcIekw20/CiApJ2GMJyUQYizL2WPbx2WvrTm2TwSQ9JdUlyeNABII\nMYbl7LFtdTJwjO11LdN+Tq6pHC0yhhAREUAOTIuIiCKBEBERQAIhIiKKDCpHDCLpBVSnG/nDdgxm\nS7oCOILqoLpJwG+AU23fJ2kW8PaWC99HNCaBEPFUJwJXU11IvV17N51p+3MAko6lOpX3S2zfz3Zw\nUrTYPiQQIlpImgScQHU+qm9Ker7tn0o6jGoXzdXAPcDv2j5c0l7ApVQXWl8JvNv2UKeCaL24zzMo\n+/9Lmg18tCzrduBbwMupzt90mu2b63ifEUPJGELExl4LLLH9MFXr4O3l8oifA/7Y9iyqUBjYX/uz\nwBm2XwS8HfjSJpb7MUkPSHoI+CQbX+yndd/vHcpR2O8D5rXrTUWMRAIhYmMnAv9cbl8NvA04APhf\n2z8s0z8D1dXHgBcDV0j6DvBFYIqkaUMs90zbM23vAxwEXCPpeUPM97XydyEw1HIiapMuo4hCUg/V\n9StmlWsuTKTq3jmaoX88TQIetz2zZRnPsd033OvY/q6kn1CdjvpXgx5+ovxdT64hHaMsLYSIDd4M\n3Gp7D9t72p5B1W3zSmBa2fsI4E+A9baXA4skvQlA0pFUp+geypMb99IymAF8bzP1JBBiVKWFELHB\nW4EPDpp2KfAB4Cjgc5LWUl1k5vHy+AnAJyV9gGp30jdsYtlnlVbHBOBpwJ/b/omk3VvmGXwemZxX\nJkZVzmUUMQKS/pZqb6DHy6Uon237jKbrimintBAiRqYX+LakVcBPgT9ruJ6ItksLISIigAwqR0RE\nkUCIiAhZbyQJAAAAHElEQVQggRAREUUCISIigARCREQUCYSIiADg/wMVjTMzk7qGegAAAABJRU5E\nrkJggg==\n",
      "text/plain": [
       "<matplotlib.figure.Figure at 0xbd09eb8>"
      ]
     },
     "metadata": {},
     "output_type": "display_data"
    }
   ],
   "source": [
    "count_plot = survived_data.groupby(['Age Bin'])['Survived'].count().plot(kind = 'bar', title = 'Number of passengers by age bin')\n",
    "count_plot.set_ylabel('count')"
   ]
  },
  {
   "cell_type": "markdown",
   "metadata": {},
   "source": [
    "##### Proportion of people who survived"
   ]
  },
  {
   "cell_type": "code",
   "execution_count": 27,
   "metadata": {
    "collapsed": false
   },
   "outputs": [
    {
     "data": {
      "text/plain": [
       "Age Bin\n",
       "0-18     0.539823\n",
       "18-35    0.368852\n",
       "35-60    0.419689\n",
       "> 60     0.309524\n",
       "Name: Survived, dtype: float64"
      ]
     },
     "execution_count": 27,
     "metadata": {},
     "output_type": "execute_result"
    }
   ],
   "source": [
    "survived_data.groupby(['Age Bin'])['Survived'].mean()"
   ]
  },
  {
   "cell_type": "markdown",
   "metadata": {},
   "source": [
    "##### Visualizations"
   ]
  },
  {
   "cell_type": "code",
   "execution_count": 28,
   "metadata": {
    "collapsed": false
   },
   "outputs": [
    {
     "data": {
      "image/png": "iVBORw0KGgoAAAANSUhEUgAAAtIAAAF6CAYAAAA0zb+0AAAABHNCSVQICAgIfAhkiAAAAAlwSFlz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\nRK5CYII=\n",
      "text/plain": [
       "<matplotlib.figure.Figure at 0xce1e9b0>"
      ]
     },
     "metadata": {},
     "output_type": "display_data"
    }
   ],
   "source": [
    "survival_counts, non_survival_counts, survival_percentage, non_survival_percentage = calculate_percentages_and_counts('Age Bin')\n",
    "\n",
    "age_bins = ['Children', 'Young Aged', 'Middle Aged', 'Old Aged']\n",
    "\n",
    "fig, (plt1, plt2) = plt.subplots(1, 2)\n",
    "fig.set_size_inches(12, 6)\n",
    "\n",
    "plt1 = plot_bar_chart(survival_counts, non_survival_counts, age_bins, plt1)\n",
    "plt1.set_title('Survival by Passengers class ')\n",
    "plt1.set_ylabel('count')\n",
    "\n",
    "plt2 = plot_bar_chart(survival_percentage, non_survival_percentage, age_bins, plt2)\n",
    "plt2.set_title('Survival Percentages by Passengers class ')\n",
    "plt2.set_ylabel('Percentage')\n",
    "\n",
    "plt.show()"
   ]
  },
  {
   "cell_type": "markdown",
   "metadata": {},
   "source": [
    ">Children (age group 0-18) seem to have a higher survival rate than the other groups. To check if the difference is statistically significant, we can carry out a ch-squared test."
   ]
  },
  {
   "cell_type": "markdown",
   "metadata": {},
   "source": [
    "##### Hypothesis test\n",
    "\n",
    "* Null Hypothesis : Ho -> Age of a person doesn't effect the chances of his survial\n",
    "* Alternative Hypothesis : Ha -> Age of a person does effect the chances of his survial\n",
    "\n",
    "##### Chi - Test"
   ]
  },
  {
   "cell_type": "code",
   "execution_count": 29,
   "metadata": {
    "collapsed": false
   },
   "outputs": [
    {
     "name": "stdout",
     "output_type": "stream",
     "text": [
      "Chi-squared value :\t12.25483429\n",
      "P Value :\t0.00655928759607\n"
     ]
    }
   ],
   "source": [
    "chi_result = stats.chi2_contingency([ survival_counts, non_survival_counts])\n",
    "\n",
    "print \"Chi-squared value :\\t\", chi_result[0]\n",
    "print \"P Value :\\t\", chi_result[1]"
   ]
  },
  {
   "cell_type": "markdown",
   "metadata": {},
   "source": [
    "##### Conclusion\n",
    "\n",
    ">Since P value is far less than 0.05 and looking at the chi-table we can figure out that the chi-value lies in the significant region. So We reject the null hypothesis.\n",
    "Thus, age of a person does effect the survival rate of a person. We can see from the graph that children had better chances of survival than any other group."
   ]
  },
  {
   "cell_type": "markdown",
   "metadata": {},
   "source": [
    "### Additional Analysis : Fare for a person by his age"
   ]
  },
  {
   "cell_type": "markdown",
   "metadata": {},
   "source": [
    "##### Visualization : Median Fare vs Age Bin"
   ]
  },
  {
   "cell_type": "code",
   "execution_count": 30,
   "metadata": {
    "collapsed": false
   },
   "outputs": [
    {
     "data": {
      "text/plain": [
       "<matplotlib.text.Text at 0xcc962b0>"
      ]
     },
     "execution_count": 30,
     "metadata": {},
     "output_type": "execute_result"
    },
    {
     "data": {
      "image/png": "iVBORw0KGgoAAAANSUhEUgAAAYkAAAEcCAYAAAAydkhNAAAABHNCSVQICAgIfAhkiAAAAAlwSFlz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\nIiJS1v8BXszjiq1IaJAAAAAASUVORK5CYII=\n",
      "text/plain": [
       "<matplotlib.figure.Figure at 0xcc15a58>"
      ]
     },
     "metadata": {},
     "output_type": "display_data"
    }
   ],
   "source": [
    "def create_new_age_bin(age):\n",
    "    x_labels = ['0-9', '10-19', '20-29', '30-39', '40-49', '50-59', '60-69', '70-79', '80-89']\n",
    "    \n",
    "    if not np.isnan(age):\n",
    "        return x_labels[int(age/10)]\n",
    "    \n",
    "titanic_data['new_age_bin'] = titanic_data['Age'].apply(create_new_age_bin)\n",
    "ages_and_fares_plot = titanic_data[ ['new_age_bin', 'Fare'] ].boxplot(by = \"new_age_bin\")\n",
    "ages_and_fares_plot.set_ylim([0, 80])\n",
    "ages_and_fares_plot.set_xlabel('Age Bin')\n",
    "ages_and_fares_plot.set_ylabel('Fares in USD')"
   ]
  },
  {
   "cell_type": "markdown",
   "metadata": {},
   "source": [
    "> No specific trend can be observed, probably different classes of the passenger is the reason why we don't see a specific pattern. Let us draw some more visualizations."
   ]
  },
  {
   "cell_type": "markdown",
   "metadata": {},
   "source": [
    "##### Median Fare by Pclass"
   ]
  },
  {
   "cell_type": "code",
   "execution_count": 31,
   "metadata": {
    "collapsed": false
   },
   "outputs": [
    {
     "data": {
      "text/plain": [
       "<matplotlib.text.Text at 0xd45ccc0>"
      ]
     },
     "execution_count": 31,
     "metadata": {},
     "output_type": "execute_result"
    },
    {
     "data": {
      "image/png": "iVBORw0KGgoAAAANSUhEUgAAAY4AAAEcCAYAAADQqlM0AAAABHNCSVQICAgIfAhkiAAAAAlwSFlz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\n",
      "text/plain": [
       "<matplotlib.figure.Figure at 0xdb10978>"
      ]
     },
     "metadata": {},
     "output_type": "display_data"
    }
   ],
   "source": [
    "ages_and_fares_plot = titanic_data[ ['Pclass', 'Fare'] ].boxplot(by = \"Pclass\")\n",
    "ages_and_fares_plot.set_ylabel('Median Fare for the group')\n",
    "ages_and_fares_plot.set_ylim([0, 100])\n",
    "ages_and_fares_plot.set_xlabel('Pclass')"
   ]
  },
  {
   "cell_type": "markdown",
   "metadata": {},
   "source": [
    "> Clearly upper class fares are higher than the lower ones."
   ]
  },
  {
   "cell_type": "markdown",
   "metadata": {},
   "source": [
    "##### Median Fare by age and class of the person"
   ]
  },
  {
   "cell_type": "code",
   "execution_count": 32,
   "metadata": {
    "collapsed": false
   },
   "outputs": [
    {
     "data": {
      "text/plain": [
       "<matplotlib.text.Text at 0xdfb1518>"
      ]
     },
     "execution_count": 32,
     "metadata": {},
     "output_type": "execute_result"
    },
    {
     "data": {
      "image/png": "iVBORw0KGgoAAAANSUhEUgAAAYQAAAFwCAYAAAC4vgzcAAAABHNCSVQICAgIfAhkiAAAAAlwSFlz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\nBsBvFyUHbr6uLocAAAAASUVORK5CYII=\n",
      "text/plain": [
       "<matplotlib.figure.Figure at 0xdfbe9b0>"
      ]
     },
     "metadata": {},
     "output_type": "display_data"
    }
   ],
   "source": [
    "\n",
    "fares_plot = titanic_data.groupby(['Pclass', 'new_age_bin'])['Fare'].median().plot(kind = 'bar', title = 'Fare by passenger class and age group')\n",
    "fares_plot.set_ylabel('Median Fare for the group')"
   ]
  },
  {
   "cell_type": "markdown",
   "metadata": {},
   "source": [
    "> Quite surprisingly, fares for children are higher in each class. Probably they require extra care and must have been provided with some better facilities. But, the actual reason for this trend is not known."
   ]
  },
  {
   "cell_type": "markdown",
   "metadata": {},
   "source": [
    "### Final Conclusion\n",
    "\n",
    ">The results of the analysis, although tentative, would appear to indicate that class and sex, namely, being a female with upper social-economic standing (first class), would give one the best chance of survival when the tragedy occurred on the Titanic. Age did not seem to be a major factor although children had better chances of survival. While being a man in third class, gave one the lowest chance of survival.Quite surprisingly, we found out that fares for children were higher that others in each class.\n",
    "\n",
    ">#### Issues :\n",
    "* A portion of men and women did not have Age data and were removed from calculations which could have skewed some numbers.\n",
    "* The category of 'children' was assumed to be anyone under the age of 18, using today's North American standard for adulthood which was certainly not the case in the 1900s.\n",
    "* Survivor Bias : The data was collected after the titanic sank, since we have the survivors available, it was easier to get more and much accurate information about the survivors rather than those who died.\n",
    "* The dataset used is just a part (sample) of the actual data. The actual data might show a bit variation from the one we are using."
   ]
  }
 ],
 "metadata": {
  "anaconda-cloud": {},
  "kernelspec": {
   "display_name": "Python [Root]",
   "language": "python",
   "name": "Python [Root]"
  },
  "language_info": {
   "codemirror_mode": {
    "name": "ipython",
    "version": 2
   },
   "file_extension": ".py",
   "mimetype": "text/x-python",
   "name": "python",
   "nbconvert_exporter": "python",
   "pygments_lexer": "ipython2",
   "version": "2.7.12"
  }
 },
 "nbformat": 4,
 "nbformat_minor": 0
}
