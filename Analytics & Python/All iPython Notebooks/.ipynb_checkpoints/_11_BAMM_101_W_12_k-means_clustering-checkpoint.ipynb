{
 "cells": [
  {
   "cell_type": "markdown",
   "metadata": {},
   "source": [
    "<h1>Clustering Algorithms</h1>\n",
    "<h3>Unsupervised learning</h3>\n",
    "In unsupervised learning, we do something slightly different.\n",
    "We say, all right, here's our space of independent variables.\n",
    "Now try and see the many features that we have.\n",
    "And now try and see what values of these features\n",
    "will make subsets of these cases closer together\n",
    "by some estimate.\n",
    "OK, how do they fit closer together?\n",
    "<ul>\n",
    "<li>The algorithm tries to group similar data together (clusters) using the values of the feature space.</li>\n",
    "\n",
    "You can think of having a vast--\n",
    "data points sitting all over the place.\n",
    "And you want to find planes that cut through the space, that can\n",
    "group these data points together in a similar way.\n",
    "OK, they're called clusters.\n",
    "And they use only value the feature space.\n",
    "Of course, what we do is we, again,\n",
    "work our way through a training and testing sample.\n",
    "And in the training sample, we give it\n",
    "the independent variables, and it groups them.\n",
    "And then we want to measure how well that's\n",
    "done by looking whether these groups map\n",
    "onto something in the real world that makes sense to us, right.\n",
    "So, for example, we could take physical characteristics\n",
    "of people and say, can we differentiate\n",
    "between these physical characteristics\n",
    "and put them into two groups?\n",
    "If we put them into two groups, maybe we\n",
    "can figure out men versus women, something like that.\n",
    "But we don't say that this case corresponds\n",
    "to a man or this set of features corresponds to women.\n",
    "We let the algorithm use the features to differentiate\n",
    "between the two groups of people.\n",
    "</ul>\n",
    "<h3>K-Means Clusterng</h3>\n",
    "\n",
    "A popular algorithm for doing clustering\n",
    "is __K-means clustering__, what it does\n",
    "is it partitions the dataspace into clusters.\n",
    "And it minimizes the distance between the mean of a cluster\n",
    "and the data points.\n",
    "\n",
    "So every data point is sitting in n-dimensional space, where\n",
    "__each dimension is a feature__.\n",
    "And so you can measure the distance between one data\n",
    "point and another data point.\n",
    "And we want to find clusters where\n",
    "the __mean distance between data points in each cluster\n",
    "is minimal__.\n",
    "\n",
    "So we want to minimize that distance.\n",
    "And what you need to know in advance\n",
    "is how many clusters you're going to have in your data\n",
    "set, in your domain, right.\n",
    "Like, if you're doing men versus women, you have two clusters.\n",
    "You know that.\n",
    "Tou can't say _find me the number of clusters in that case_.\n",
    "You need to actually tell the K-means algorithm\n",
    "how many clusters to use.\n",
    "\n",
    "<ul>\n",
    "<li>partitions the dataspace into clusters\n",
    "<li>minimizes distance between the mean of a cluster and the data points\n",
    "<li>the desired number of clusters must be known in advance\n",
    "</ul>\n",
    "\n",
    "<h2>Image recognition dataset</h2>\n",
    "<ul>\n",
    "<li>Digits 0-9 pixelated into 64 quadrants\n",
    "<li>Each value represents the area that is shaded\n"
   ]
  },
  {
   "cell_type": "code",
   "execution_count": 1,
   "metadata": {
    "collapsed": true
   },
   "outputs": [],
   "source": [
    "import numpy as np\n",
    "import matplotlib.pyplot as plt\n",
    "%matplotlib inline\n",
    "from sklearn.datasets import load_digits\n",
    "from sklearn.preprocessing import scale"
   ]
  },
  {
   "cell_type": "code",
   "execution_count": 2,
   "metadata": {
    "collapsed": true
   },
   "outputs": [
    {
     "data": {
      "text/plain": [
       "{'DESCR': \"Optical Recognition of Handwritten Digits Data Set\\n===================================================\\n\\nNotes\\n-----\\nData Set Characteristics:\\n    :Number of Instances: 5620\\n    :Number of Attributes: 64\\n    :Attribute Information: 8x8 image of integer pixels in the range 0..16.\\n    :Missing Attribute Values: None\\n    :Creator: E. Alpaydin (alpaydin '@' boun.edu.tr)\\n    :Date: July; 1998\\n\\nThis is a copy of the test set of the UCI ML hand-written digits datasets\\nhttp://archive.ics.uci.edu/ml/datasets/Optical+Recognition+of+Handwritten+Digits\\n\\nThe data set contains images of hand-written digits: 10 classes where\\neach class refers to a digit.\\n\\nPreprocessing programs made available by NIST were used to extract\\nnormalized bitmaps of handwritten digits from a preprinted form. From a\\ntotal of 43 people, 30 contributed to the training set and different 13\\nto the test set. 32x32 bitmaps are divided into nonoverlapping blocks of\\n4x4 and the number of on pixels are counted in each block. This generates\\nan input matrix of 8x8 where each element is an integer in the range\\n0..16. This reduces dimensionality and gives invariance to small\\ndistortions.\\n\\nFor info on NIST preprocessing routines, see M. D. Garris, J. L. Blue, G.\\nT. Candela, D. L. Dimmick, J. Geist, P. J. Grother, S. A. Janet, and C.\\nL. Wilson, NIST Form-Based Handprint Recognition System, NISTIR 5469,\\n1994.\\n\\nReferences\\n----------\\n  - C. Kaynak (1995) Methods of Combining Multiple Classifiers and Their\\n    Applications to Handwritten Digit Recognition, MSc Thesis, Institute of\\n    Graduate Studies in Science and Engineering, Bogazici University.\\n  - E. Alpaydin, C. Kaynak (1998) Cascading Classifiers, Kybernetika.\\n  - Ken Tang and Ponnuthurai N. Suganthan and Xi Yao and A. Kai Qin.\\n    Linear dimensionalityreduction using relevance weighted LDA. School of\\n    Electrical and Electronic Engineering Nanyang Technological University.\\n    2005.\\n  - Claudio Gentile. A New Approximate Maximal Margin Classification\\n    Algorithm. NIPS. 2000.\\n\",\n",
       " 'data': array([[  0.,   0.,   5., ...,   0.,   0.,   0.],\n",
       "        [  0.,   0.,   0., ...,  10.,   0.,   0.],\n",
       "        [  0.,   0.,   0., ...,  16.,   9.,   0.],\n",
       "        ..., \n",
       "        [  0.,   0.,   1., ...,   6.,   0.,   0.],\n",
       "        [  0.,   0.,   2., ...,  12.,   0.,   0.],\n",
       "        [  0.,   0.,  10., ...,  12.,   1.,   0.]]),\n",
       " 'images': array([[[  0.,   0.,   5., ...,   1.,   0.,   0.],\n",
       "         [  0.,   0.,  13., ...,  15.,   5.,   0.],\n",
       "         [  0.,   3.,  15., ...,  11.,   8.,   0.],\n",
       "         ..., \n",
       "         [  0.,   4.,  11., ...,  12.,   7.,   0.],\n",
       "         [  0.,   2.,  14., ...,  12.,   0.,   0.],\n",
       "         [  0.,   0.,   6., ...,   0.,   0.,   0.]],\n",
       " \n",
       "        [[  0.,   0.,   0., ...,   5.,   0.,   0.],\n",
       "         [  0.,   0.,   0., ...,   9.,   0.,   0.],\n",
       "         [  0.,   0.,   3., ...,   6.,   0.,   0.],\n",
       "         ..., \n",
       "         [  0.,   0.,   1., ...,   6.,   0.,   0.],\n",
       "         [  0.,   0.,   1., ...,   6.,   0.,   0.],\n",
       "         [  0.,   0.,   0., ...,  10.,   0.,   0.]],\n",
       " \n",
       "        [[  0.,   0.,   0., ...,  12.,   0.,   0.],\n",
       "         [  0.,   0.,   3., ...,  14.,   0.,   0.],\n",
       "         [  0.,   0.,   8., ...,  16.,   0.,   0.],\n",
       "         ..., \n",
       "         [  0.,   9.,  16., ...,   0.,   0.,   0.],\n",
       "         [  0.,   3.,  13., ...,  11.,   5.,   0.],\n",
       "         [  0.,   0.,   0., ...,  16.,   9.,   0.]],\n",
       " \n",
       "        ..., \n",
       "        [[  0.,   0.,   1., ...,   1.,   0.,   0.],\n",
       "         [  0.,   0.,  13., ...,   2.,   1.,   0.],\n",
       "         [  0.,   0.,  16., ...,  16.,   5.,   0.],\n",
       "         ..., \n",
       "         [  0.,   0.,  16., ...,  15.,   0.,   0.],\n",
       "         [  0.,   0.,  15., ...,  16.,   0.,   0.],\n",
       "         [  0.,   0.,   2., ...,   6.,   0.,   0.]],\n",
       " \n",
       "        [[  0.,   0.,   2., ...,   0.,   0.,   0.],\n",
       "         [  0.,   0.,  14., ...,  15.,   1.,   0.],\n",
       "         [  0.,   4.,  16., ...,  16.,   7.,   0.],\n",
       "         ..., \n",
       "         [  0.,   0.,   0., ...,  16.,   2.,   0.],\n",
       "         [  0.,   0.,   4., ...,  16.,   2.,   0.],\n",
       "         [  0.,   0.,   5., ...,  12.,   0.,   0.]],\n",
       " \n",
       "        [[  0.,   0.,  10., ...,   1.,   0.,   0.],\n",
       "         [  0.,   2.,  16., ...,   1.,   0.,   0.],\n",
       "         [  0.,   0.,  15., ...,  15.,   0.,   0.],\n",
       "         ..., \n",
       "         [  0.,   4.,  16., ...,  16.,   6.,   0.],\n",
       "         [  0.,   8.,  16., ...,  16.,   8.,   0.],\n",
       "         [  0.,   1.,   8., ...,  12.,   1.,   0.]]]),\n",
       " 'target': array([0, 1, 2, ..., 8, 9, 8]),\n",
       " 'target_names': array([0, 1, 2, 3, 4, 5, 6, 7, 8, 9])}"
      ]
     },
     "execution_count": 2,
     "metadata": {},
     "output_type": "execute_result"
    }
   ],
   "source": [
    "digits = load_digits()\n",
    "digits"
   ]
  },
  {
   "cell_type": "code",
   "execution_count": 6,
   "metadata": {
    "collapsed": false
   },
   "outputs": [
    {
     "data": {
      "text/plain": [
       "sklearn.datasets.base.Bunch"
      ]
     },
     "execution_count": 6,
     "metadata": {},
     "output_type": "execute_result"
    }
   ],
   "source": [
    "type(digits)"
   ]
  },
  {
   "cell_type": "code",
   "execution_count": 7,
   "metadata": {
    "collapsed": false
   },
   "outputs": [
    {
     "name": "stdout",
     "output_type": "stream",
     "text": [
      "data\n",
      "target\n",
      "target_names\n",
      "images\n",
      "DESCR\n"
     ]
    }
   ],
   "source": [
    "for item in digits:\n",
    "    print(item)"
   ]
  },
  {
   "cell_type": "code",
   "execution_count": 9,
   "metadata": {
    "collapsed": false
   },
   "outputs": [
    {
     "data": {
      "text/plain": [
       "1797"
      ]
     },
     "execution_count": 9,
     "metadata": {},
     "output_type": "execute_result"
    }
   ],
   "source": [
    "len(digits.data)"
   ]
  },
  {
   "cell_type": "code",
   "execution_count": 10,
   "metadata": {
    "collapsed": false
   },
   "outputs": [
    {
     "data": {
      "text/plain": [
       "array([  0.,   0.,   5.,  13.,   9.,   1.,   0.,   0.,   0.,   0.,  13.,\n",
       "        15.,  10.,  15.,   5.,   0.,   0.,   3.,  15.,   2.,   0.,  11.,\n",
       "         8.,   0.,   0.,   4.,  12.,   0.,   0.,   8.,   8.,   0.,   0.,\n",
       "         5.,   8.,   0.,   0.,   9.,   8.,   0.,   0.,   4.,  11.,   0.,\n",
       "         1.,  12.,   7.,   0.,   0.,   2.,  14.,   5.,  10.,  12.,   0.,\n",
       "         0.,   0.,   0.,   6.,  13.,  10.,   0.,   0.,   0.])"
      ]
     },
     "execution_count": 10,
     "metadata": {},
     "output_type": "execute_result"
    }
   ],
   "source": [
    "digits.data[0]"
   ]
  },
  {
   "cell_type": "code",
   "execution_count": 11,
   "metadata": {
    "collapsed": false
   },
   "outputs": [
    {
     "data": {
      "text/plain": [
       "array([[  0.,   0.,   5.,  13.,   9.,   1.,   0.,   0.],\n",
       "       [  0.,   0.,  13.,  15.,  10.,  15.,   5.,   0.],\n",
       "       [  0.,   3.,  15.,   2.,   0.,  11.,   8.,   0.],\n",
       "       [  0.,   4.,  12.,   0.,   0.,   8.,   8.,   0.],\n",
       "       [  0.,   5.,   8.,   0.,   0.,   9.,   8.,   0.],\n",
       "       [  0.,   4.,  11.,   0.,   1.,  12.,   7.,   0.],\n",
       "       [  0.,   2.,  14.,   5.,  10.,  12.,   0.,   0.],\n",
       "       [  0.,   0.,   6.,  13.,  10.,   0.,   0.,   0.]])"
      ]
     },
     "execution_count": 11,
     "metadata": {},
     "output_type": "execute_result"
    }
   ],
   "source": [
    "digits.images[0]"
   ]
  },
  {
   "cell_type": "code",
   "execution_count": 12,
   "metadata": {
    "collapsed": false
   },
   "outputs": [
    {
     "data": {
      "text/plain": [
       "1797"
      ]
     },
     "execution_count": 12,
     "metadata": {},
     "output_type": "execute_result"
    }
   ],
   "source": [
    "len(digits.target)"
   ]
  },
  {
   "cell_type": "code",
   "execution_count": 13,
   "metadata": {
    "collapsed": false
   },
   "outputs": [
    {
     "data": {
      "text/plain": [
       "0"
      ]
     },
     "execution_count": 13,
     "metadata": {},
     "output_type": "execute_result"
    }
   ],
   "source": [
    "digits.target[10]"
   ]
  },
  {
   "cell_type": "code",
   "execution_count": 14,
   "metadata": {
    "collapsed": false
   },
   "outputs": [
    {
     "data": {
      "text/plain": [
       "array([0, 1, 2, 3, 4, 5, 6, 7, 8, 9])"
      ]
     },
     "execution_count": 14,
     "metadata": {},
     "output_type": "execute_result"
    }
   ],
   "source": [
    "digits.target_names"
   ]
  },
  {
   "cell_type": "markdown",
   "metadata": {},
   "source": [
    "### Scale the data to normal distribution\n",
    "\n",
    "[Standardization of datasets](http://scikit-learn.org/stable/modules/preprocessing.html#preprocessing-scaler) is a common requirement for many machine learning estimators implemented in scikit-learn; they might behave badly if the individual features do not more or less look like standard normally distributed data: Gaussian with zero mean and unit variance.\n",
    "\n",
    "In practice we often ignore the shape of the distribution and just transform the data to center it by removing the mean value of each feature, then scale it by dividing non-constant features by their standard deviation.\n",
    "\n",
    "For instance, many elements used in the objective function of a learning algorithm (such as the RBF kernel of Support Vector Machines or the l1 and l2 regularizers of linear models) assume that all features are centered around zero and have variance in the same order. If a feature has a variance that is orders of magnitude larger than others, it might dominate the objective function and make the estimator unable to learn from other features correctly as expected.\n",
    "\n",
    "The function scale provides a quick and easy way to perform this operation on a single array-like dataset:"
   ]
  },
  {
   "cell_type": "code",
   "execution_count": 15,
   "metadata": {
    "collapsed": false
   },
   "outputs": [
    {
     "data": {
      "text/plain": [
       "array([[ 0.        , -0.33501649, -0.04308102, ..., -1.14664746,\n",
       "        -0.5056698 , -0.19600752],\n",
       "       [ 0.        , -0.33501649, -1.09493684, ...,  0.54856067,\n",
       "        -0.5056698 , -0.19600752],\n",
       "       [ 0.        , -0.33501649, -1.09493684, ...,  1.56568555,\n",
       "         1.6951369 , -0.19600752],\n",
       "       ..., \n",
       "       [ 0.        , -0.33501649, -0.88456568, ..., -0.12952258,\n",
       "        -0.5056698 , -0.19600752],\n",
       "       [ 0.        , -0.33501649, -0.67419451, ...,  0.8876023 ,\n",
       "        -0.5056698 , -0.19600752],\n",
       "       [ 0.        , -0.33501649,  1.00877481, ...,  0.8876023 ,\n",
       "        -0.26113572, -0.19600752]])"
      ]
     },
     "execution_count": 15,
     "metadata": {},
     "output_type": "execute_result"
    }
   ],
   "source": [
    "data = scale(digits.data)\n",
    "data"
   ]
  },
  {
   "cell_type": "markdown",
   "metadata": {},
   "source": [
    "#### Scaled data has zero mean and unit variance:"
   ]
  },
  {
   "cell_type": "code",
   "execution_count": 16,
   "metadata": {
    "collapsed": true
   },
   "outputs": [
    {
     "data": {
      "text/plain": [
       "array([  0.00000000e+00,  -2.56086502e-16,  -2.34771702e-16,\n",
       "        -3.05326777e-16,   1.39689163e-16,  -3.16941798e-16,\n",
       "        -9.59598443e-16,   6.06946633e-16,  -4.62368967e-16,\n",
       "         7.55084971e-17,  -5.33796713e-17,   5.71483749e-17,\n",
       "         4.52862258e-17,  -1.49512505e-17,   8.96580775e-16,\n",
       "        -2.17719863e-16,  -6.87973761e-16,  -7.70421876e-17,\n",
       "         2.59978769e-16,   2.32547550e-16,   1.05878949e-16,\n",
       "        -1.40863021e-16,  -1.15408826e-16,  -2.26477465e-16,\n",
       "         4.51109193e-16,   3.79341646e-17,  -7.71657517e-17,\n",
       "        -9.60092699e-17,  -8.72980041e-17,  -1.50624582e-16,\n",
       "        -1.05597840e-15,  -2.52140175e-16,   0.00000000e+00,\n",
       "         3.42148865e-16,   1.21710593e-16,  -1.07871419e-16,\n",
       "        -2.00606242e-16,  -1.09354188e-17,  -7.12964591e-17,\n",
       "         0.00000000e+00,   3.00716294e-16,  -1.74657790e-16,\n",
       "         4.03436636e-16,   1.92111213e-16,   2.61337974e-17,\n",
       "         5.38739275e-17,   4.71396866e-17,   8.63759074e-16,\n",
       "         2.62048467e-16,   3.33128689e-16,   8.36528645e-17,\n",
       "         1.98775949e-16,   4.61017485e-16,   5.01670059e-17,\n",
       "         4.71582212e-16,  -4.92032063e-16,   2.25353805e-16,\n",
       "         3.44125890e-16,   5.95269830e-17,  -6.11460582e-16,\n",
       "        -5.19092591e-16,   1.69529882e-16,   1.78797186e-16,\n",
       "        -6.83896148e-16])"
      ]
     },
     "execution_count": 16,
     "metadata": {},
     "output_type": "execute_result"
    }
   ],
   "source": [
    "data.mean(axis=0)"
   ]
  },
  {
   "cell_type": "code",
   "execution_count": 17,
   "metadata": {
    "collapsed": false
   },
   "outputs": [
    {
     "data": {
      "text/plain": [
       "array([ 0.,  1.,  1.,  1.,  1.,  1.,  1.,  1.,  1.,  1.,  1.,  1.,  1.,\n",
       "        1.,  1.,  1.,  1.,  1.,  1.,  1.,  1.,  1.,  1.,  1.,  1.,  1.,\n",
       "        1.,  1.,  1.,  1.,  1.,  1.,  0.,  1.,  1.,  1.,  1.,  1.,  1.,\n",
       "        0.,  1.,  1.,  1.,  1.,  1.,  1.,  1.,  1.,  1.,  1.,  1.,  1.,\n",
       "        1.,  1.,  1.,  1.,  1.,  1.,  1.,  1.,  1.,  1.,  1.,  1.])"
      ]
     },
     "execution_count": 17,
     "metadata": {},
     "output_type": "execute_result"
    }
   ],
   "source": [
    "data.std(axis=0)"
   ]
  },
  {
   "cell_type": "markdown",
   "metadata": {},
   "source": [
    "### Render the digit images and their associated values"
   ]
  },
  {
   "cell_type": "code",
   "execution_count": 254,
   "metadata": {
    "collapsed": false
   },
   "outputs": [
    {
     "data": {
      "image/png": "[encoded data removed]",
      "text/plain": [
       "<matplotlib.figure.Figure at 0x26d506660f0>"
      ]
     },
     "metadata": {},
     "output_type": "display_data"
    }
   ],
   "source": [
    "def print_digits(images,y,max_n=16):\n",
    "    # set up the figure size in inches\n",
    "    fig = plt.figure(figsize=(12, 12))\n",
    "    fig.subplots_adjust(left=0, right=1, bottom=0, top=1,\n",
    "           hspace=.05, wspace=.5)\n",
    "    i = 0\n",
    "    while i < max_n and i < digits.images.shape[0]:\n",
    "        # plot the images in a matrix of 20x20\n",
    "        p = fig.add_subplot(20, 20, i + 1, xticks=[],yticks=[])\n",
    "        p.imshow(images[i], cmap=plt.cm.bone)\n",
    "        # label the image with the target value\n",
    "        p.text(0, 14, str(y[i]))\n",
    "        i = i + 1\n",
    "print_digits(digits.images, digits.target, max_n=16)"
   ]
  },
  {
   "cell_type": "markdown",
   "metadata": {},
   "source": [
    "### Training and testing samples\n",
    "\n",
    "Learning the parameters of a prediction function and testing it on the same data is a methodological mistake: a model that would just repeat the labels of the samples that it has just seen would have a perfect score but would fail to predict anything useful on yet-unseen data. This situation is called overfitting. To avoid it, it is common practice when performing a (supervised) machine learning experiment to hold out part of the available data as a test set X_test, y_test. Note that the word “experiment” is not intended to denote academic use only, because even in commercial settings machine learning usually starts out experimentally.\n",
    "\n",
    "In scikit-learn a random split into training and test sets can be quickly computed with the [train_test_split](http://scikit-learn.org/stable/modules/cross_validation.html#cross-validation) helper function.\n",
    "<img src='scexamp1.png'>"
   ]
  },
  {
   "cell_type": "code",
   "execution_count": 243,
   "metadata": {
    "collapsed": false
   },
   "outputs": [
    {
     "data": {
      "text/plain": [
       "10"
      ]
     },
     "execution_count": 243,
     "metadata": {},
     "output_type": "execute_result"
    }
   ],
   "source": [
    "from sklearn.model_selection import train_test_split\n",
    "\n",
    "X_train,\n",
    "X_test,\n",
    "y_train,\n",
    "y_test,\n",
    "images_train,\n",
    "images_test = train_test_split(data,\n",
    "                               digits.target,\n",
    "                               digits.images,\n",
    "                               test_size=0.25,\n",
    "                               random_state=42)\n",
    "\n",
    "n_samples,n_features = X_train.shape\n",
    "n_digits = len(np.unique(y_train))\n",
    "labels = y_train\n",
    "\n",
    "len(np.unique(y_train))"
   ]
  },
  {
   "cell_type": "markdown",
   "metadata": {},
   "source": [
    "### Create the model and fit the data\n",
    "\n",
    "And the last thing we do, which we do always\n",
    "is always the same thing, is we import the cluster algorithm--\n",
    "the cluster library, a module, and create a k-means clustering\n",
    "algorithm from that.\n",
    "\n",
    "We tell it to initialize it by doing some initialization\n",
    "stuff.\n",
    "So what it-- k-means works better when you initialize it,\n",
    "so we initialize it initially.\n",
    "We run this pre-algorithm, you can think of,\n",
    "to do the initialization.\n",
    "And to start with a-- well, what k-means does\n",
    "is it starts by randomly allocating the digits, right?\n",
    "So it'll say, all right, I need 10 categories,\n",
    "and that's the number of clusters, 10.\n",
    "And it'll randomly assign the data to 10 categories.\n",
    "But if you can sort of intelligently\n",
    "start off and use some knowledge about the data,\n",
    "like maybe the means inside the values, all that kind of stuff,\n",
    "then you're better off.\n",
    "So you can use this __k-means-plus-plus__ to actually start the algorithm at a better point.\n",
    "And so that's the k-means.\n",
    "\n",
    "The [__KMeans__](http://scikit-learn.org/stable/modules/clustering.html#k-means) algorithm clusters data by trying to separate samples in n groups of equal variance, minimizing a criterion known as the inertia or within-cluster sum-of-squares. This algorithm requires the number of clusters to be specified. It scales well to large number of samples and has been used across a large range of application areas in many different fields.\n",
    "\n",
    "__The k-means algorithm divides a set of N samples X into K disjoint clusters C__, each described by the mean _mu-j_ of the samples in the cluster. The means are commonly called the cluster “centroids”; note that they are not, in general, points from X, although they live in the same space. The K-means algorithm aims to choose centroids that minimise the inertia, or within-cluster sum of squared criterion"
   ]
  },
  {
   "cell_type": "code",
   "execution_count": 244,
   "metadata": {
    "collapsed": true
   },
   "outputs": [],
   "source": [
    "from sklearn import cluster\n",
    "clf = cluster.KMeans(init='k-means++',n_clusters=10,random_state=42)"
   ]
  },
  {
   "cell_type": "markdown",
   "metadata": {},
   "source": [
    "k-means++ runs an initializer before using the k-means algorithm"
   ]
  },
  {
   "cell_type": "code",
   "execution_count": 245,
   "metadata": {
    "collapsed": false
   },
   "outputs": [
    {
     "data": {
      "text/plain": [
       "KMeans(algorithm='auto', copy_x=True, init='k-means++', max_iter=300,\n",
       "    n_clusters=10, n_init=10, n_jobs=1, precompute_distances='auto',\n",
       "    random_state=42, tol=0.0001, verbose=0)"
      ]
     },
     "execution_count": 245,
     "metadata": {},
     "output_type": "execute_result"
    }
   ],
   "source": [
    "clf.fit(X_train)"
   ]
  },
  {
   "cell_type": "code",
   "execution_count": 246,
   "metadata": {
    "collapsed": false
   },
   "outputs": [],
   "source": [
    "#images_train"
   ]
  },
  {
   "cell_type": "markdown",
   "metadata": {},
   "source": [
    "## Call print_digits with training images, and computed labels\n",
    "### Returned labels are cluster numbers\n",
    "\n",
    "So we've written our model so our model now has predictions\n",
    "on--\n",
    "not predictions, but really it's assigned\n",
    "cluster numbers, to groups of to each individual data points.\n",
    "So we've told our model to make 10 clusters.\n",
    "So it's assigned 10 cluster numbers 0, 1, 2, to 9,\n",
    "to each individual data point.\n",
    "And those numbers are in this CLF, as our model,\n",
    "in this attribute called Labels_._\n",
    "\n",
    "So what we're going to do now is we're\n",
    "going to take a look at our training data set\n",
    "and look at the first 20 cases, and see what cluster numbers\n",
    "were assigned to each case.\n",
    "And we'll look at the actual image itself."
   ]
  },
  {
   "cell_type": "code",
   "execution_count": 247,
   "metadata": {
    "collapsed": false
   },
   "outputs": [
    {
     "data": {
      "image/png": "[encoded data removed]",
      "text/plain": [
       "<matplotlib.figure.Figure at 0x26d49566ba8>"
      ]
     },
     "metadata": {},
     "output_type": "display_data"
    }
   ],
   "source": [
    "print_digits(images_train,clf.labels_,max_n=20)"
   ]
  },
  {
   "cell_type": "markdown",
   "metadata": {},
   "source": [
    "So what we want to do then is, we\n",
    "want to use the test sample now to generate predictions.\n",
    "So we've got our training sample.\n",
    "We've trained our model to differentiate\n",
    "among these things by looking at data points.\n",
    "And now we give it the testing sample.\n",
    "And it's going to use the feature values and the trained\n",
    "clustering that we did before to predict\n",
    "which cluster things belong to.\n"
   ]
  },
  {
   "cell_type": "code",
   "execution_count": 248,
   "metadata": {
    "collapsed": false
   },
   "outputs": [],
   "source": [
    "y_pred=clf.predict(X_test)\n",
    "#y_pred"
   ]
  },
  {
   "cell_type": "code",
   "execution_count": 257,
   "metadata": {
    "collapsed": true
   },
   "outputs": [],
   "source": [
    "def print_cluster(images,y_pred,cluster_number):\n",
    "    img=[]\n",
    "    lbl=[]\n",
    "    for i in range(len(images)):\n",
    "        if y_pred[i]==cluster_number:\n",
    "            img.append(images[i])\n",
    "            lbl.append(y_pred[i])\n",
    "#    images=images[y_pred==cluster_number]\n",
    "#    y_pred = y_pred[y_pred==cluster_number]\n",
    "    print_digits(img,lbl,max_n=6)\n",
    "    "
   ]
  },
  {
   "cell_type": "code",
   "execution_count": 258,
   "metadata": {
    "collapsed": false
   },
   "outputs": [
    {
     "data": {
      "image/png": "[encoded data removed]",
      "text/plain": [
       "<matplotlib.figure.Figure at 0x26d4be4d320>"
      ]
     },
     "metadata": {},
     "output_type": "display_data"
    },
    {
     "data": {
      "image/png": "[encoded data removed]",
      "text/plain": [
       "<matplotlib.figure.Figure at 0x26d5067b780>"
      ]
     },
     "metadata": {},
     "output_type": "display_data"
    },
    {
     "data": {
      "image/png": "[encoded data removed]",
      "text/plain": [
       "<matplotlib.figure.Figure at 0x26d4c446cf8>"
      ]
     },
     "metadata": {},
     "output_type": "display_data"
    },
    {
     "data": {
      "image/png": "[encoded data removed]",
      "text/plain": [
       "<matplotlib.figure.Figure at 0x26d53cd0898>"
      ]
     },
     "metadata": {},
     "output_type": "display_data"
    },
    {
     "data": {
      "image/png": "[encoded data removed]",
      "text/plain": [
       "<matplotlib.figure.Figure at 0x26d4d6754e0>"
      ]
     },
     "metadata": {},
     "output_type": "display_data"
    },
    {
     "data": {
      "image/png": "[encoded data removed]",
      "text/plain": [
       "<matplotlib.figure.Figure at 0x26d478712e8>"
      ]
     },
     "metadata": {},
     "output_type": "display_data"
    },
    {
     "data": {
      "image/png": "[encoded data removed]",
      "text/plain": [
       "<matplotlib.figure.Figure at 0x26d51fefd68>"
      ]
     },
     "metadata": {},
     "output_type": "display_data"
    },
    {
     "data": {
      "image/png": "[encoded data removed]",
      "text/plain": [
       "<matplotlib.figure.Figure at 0x26d49c459e8>"
      ]
     },
     "metadata": {},
     "output_type": "display_data"
    },
    {
     "data": {
      "image/png": "[encoded data removed]",
      "text/plain": [
       "<matplotlib.figure.Figure at 0x26d4f3f74e0>"
      ]
     },
     "metadata": {},
     "output_type": "display_data"
    },
    {
     "data": {
      "image/png": "[encoded data removed]",
      "text/plain": [
       "<matplotlib.figure.Figure at 0x26d53b2c4a8>"
      ]
     },
     "metadata": {},
     "output_type": "display_data"
    }
   ],
   "source": [
    "\n",
    "for k in range(10):\n",
    "    print_cluster(images_test[5],y_pred,k)"
   ]
  },
  {
   "cell_type": "markdown",
   "metadata": {},
   "source": [
    "<h1>Evaluating the model</h1>\n",
    "\n",
    "So let's evaluate the model.\n",
    "For evaluating the model, we use something called __Adjusted Rand\n",
    "Index__.\n",
    "It's a measure of the __similarity between two groups__.\n",
    "\n",
    "So the goal here is to-- we have a group\n",
    "of actual test data, that is the actual numbers that we have.\n",
    "So we know that each case in our dataset,\n",
    "we know what the number is.\n",
    "We know whether it's a 1, or a 2, or a 3.\n",
    "And we also have the predictions.\n",
    "That's what our model is predicting.\n",
    "And we want to see what's the similarity between these two\n",
    "sets.\n",
    "Are they reasonably similar?\n",
    "We don't look at actual values.\n",
    "We're seeing whether the differentiation is similar\n",
    "or not.\n",
    "\n",
    "So if it's 0.0, then there's no similarity at all.\n",
    "And it's completely random, any overlap in that.\n",
    "And 1.0 indicates that the two groups are identical.\n",
    "\n",
    "<li>Adjusted rand index: A measure of the similarity between two groups</li>\n",
    "<li>We'll use it to see how similar the y_test actuals and predicted groupings are</li>\n",
    "<li>http://scikit-learn.org/stable/modules/generated/sklearn.metrics.adjusted_rand_score.html</li>\n",
    "<li>0.0 indicates that there is no similarity and any overlap is explainable as totally random</li>\n",
    "<li>1.0 indicates that the two groups are identical</li>"
   ]
  },
  {
   "cell_type": "code",
   "execution_count": 259,
   "metadata": {
    "collapsed": false
   },
   "outputs": [
    {
     "name": "stdout",
     "output_type": "stream",
     "text": [
      "Adjusted rand score: 0.5674467844660916\n"
     ]
    }
   ],
   "source": [
    "from sklearn import metrics\n",
    "\n",
    "print(\"Adjusted rand score: {0:2}\".\n",
    "      format(metrics.adjusted_rand_score(y_test, y_pred)))"
   ]
  },
  {
   "cell_type": "markdown",
   "metadata": {},
   "source": [
    "<h2>Confusion matrix</h2>\n",
    "\n",
    "So what this _confusion matrix_ is doing is,\n",
    "we have a cluster number and actual prediction.\n",
    "So what this does is, each row in this corresponds\n",
    "to a number in the test sample.\n",
    "So each role is--\n",
    "so this is Row 0 in the test sample.\n",
    "And each column is the cluster assigned to that case\n",
    "by the model.\n",
    "So what this is saying is that for our actual 0s, none of them\n",
    "were put in Cluster 0.\n",
    "None of them were put in Cluster 1, so none of them\n",
    "into Cluster 0, none of them into Cluster 1.\n",
    "43 were assigned to Cluster 2, and none of them\n",
    "into any other clusters.\n",
    "So if you're looking at 0s, we've\n",
    "done a great job of identifying them.\n",
    "If we get a Cluster 2, we are reasonably\n",
    "confident that it's a 0.\n",
    "Let me rephrase that.\n",
    "If our model is saying it's 0, then it's\n",
    "going to put it inside Cluster 2.\n",
    "So that's a great number.\n",
    "That's our testing sample.\n",
    "It's not the training sample.\n",
    "Can it tell us confidently the other way?\n",
    "Well, almost, because if we find that we have Cluster 2, then\n",
    "the only case in Cluster 2 that's not identified as 0,\n",
    "is this one here, which is 0, 1, 2, 3, 4, 5 6.\n",
    "In one case, it took a 6 that was actually a 6,\n",
    "and identified it as a-- put it in Cluster 2, which is a 0.\n",
    "So with 0s, we've done a very good job.\n",
    "So given a 0, we can, with reasonable confidence--\n",
    "and Cluster Number 2-- we can, with extreme confidence,\n",
    "actually, say, hey, that's a 0.\n",
    "\n",
    "<li>Each row corresponds to a number (y_test)\n",
    "<li>Each column to y_pred (the cluster number)\n",
    "<li>Data is the number of times y_test was assigned to the corresponding y_pred\n",
    "<li>For example, 0 is fully assigned to cluster 2 (Row 0, Column 2)\n",
    "<li>8 is assigned to cluster 0  21 times (Row 8, Column 0)\n",
    "<li>7, which is cluster 6 is assigned to cluster 6 34 times (Row 7, Column 6)\n"
   ]
  },
  {
   "cell_type": "code",
   "execution_count": 260,
   "metadata": {
    "collapsed": false
   },
   "outputs": [
    {
     "name": "stdout",
     "output_type": "stream",
     "text": [
      "[[ 0  0 43  0  0  0  0  0  0  0]\n",
      " [20  0  0  7  0  0  0 10  0  0]\n",
      " [ 5  0  0 31  0  0  0  1  1  0]\n",
      " [ 1  0  0  1  0  1  4  0 39  0]\n",
      " [ 1 50  0  0  0  0  1  2  0  1]\n",
      " [ 1  0  0  0  1 41  0  0 16  0]\n",
      " [ 0  0  1  0 44  0  0  0  0  0]\n",
      " [ 0  0  0  0  0  1 34  1  0  5]\n",
      " [21  0  0  0  0  3  1  2 11  0]\n",
      " [ 0  0  0  0  0  2  3  3 40  0]]\n"
     ]
    }
   ],
   "source": [
    "print(metrics.confusion_matrix(y_test, y_pred))"
   ]
  },
  {
   "cell_type": "markdown",
   "metadata": {},
   "source": [
    "Let's look at this one.\n",
    "So that's-- let's look at this one here.\n",
    "There's 0, 1, 2, 3.\n",
    "Let's look at a 3.\n",
    "So the 3-- if this is the row for 3s--\n",
    "so 3s get assigned to Cluster 0 in one case, Cluster 3 in one\n",
    "case, and so on, and so forth, but Cluster 8 in 39 cases.\n",
    "So in 39 cases, we're getting a 3 in Cluster 8.\n",
    "And in 4 plus 1, 5 plus 1, 6 plus 1, 7 cases,\n",
    "we're getting a 3 in some other cluster.\n",
    "So again, that means that we have a precision, essentially,\n",
    "of up 39 divided by 39 plus whatever the denominator is--\n",
    "4, 5, 6, 7.\n",
    "\n",
    "However, if you look at the other way around,\n",
    "and we look at the column-- that is Column Number 8 over here--\n",
    "we find that in Column 8, in Cluster 8, 39 of them are 3s.\n",
    "But one is a 2, 16 are 5s, 11 are 8, and 40 are 9s.\n",
    "So if given that we get a cluster value of 8\n",
    "for a figure, can we with confidence say it's a 3?\n",
    "Not really, because we have so many cases where it\n",
    "could be a 9 or it could be 8.\n",
    "In fact, there are more 9s than there are 3s in that cluster.\n",
    "So that's done a very poor job of identifying\n",
    "the cluster correctly.\n",
    "\n",
    "So this is what do you want to do with a confusion matrix.\n",
    "You want to see how well it's actually figured\n",
    "out the clusters themselves.\n",
    "So you look at this stuff, and you can then\n",
    "decide for each digit how well it's been doing,\n",
    "maybe try to get more data or higher pixel rate,\n",
    "higher resolution, before you actually work and say,\n",
    "hey, maybe we get a better bet.\n",
    "\n",
    "But we can see our 56% Rand score is coming from the fact\n",
    "that we are doing well on some numbers.\n",
    "We're doing well on 0.\n",
    "We're probably doing well on 0, 1, 2, 3, 4.\n",
    "Yep, we're doing well on 4, because 4,\n",
    "we have 0, 1, 2, 3, 4, 50 cases that are in Cluster 1.\n",
    "Here, 50 cases in Cluster 1, and only 2 plus 1, 3 plus 1,\n",
    "4 cases that are--\n",
    "5 cases, actually, that are in other clusters.\n",
    "And even more important, Cluster 1\n",
    "doesn't contain anything except 4s.\n",
    "So if you get a Cluster 1, you can say, hey, that's a 4,\n",
    "even though you may not recognize every 4 correctly.\n",
    "\n",
    "So that's how you sort of analyze\n",
    "the results of your clustering analysis\n",
    "and looking at this confusion matrix."
   ]
  },
  {
   "cell_type": "markdown",
   "metadata": {},
   "source": [
    "## Graphical view of the clusters¶\n",
    "<li>First reduce the x dimensions to 2 using principle component analysis PCA</li>\n",
    "\n",
    "[PCA](http://scikit-learn.org/stable/modules/decomposition.html#pca) is used to decompose a multivariate dataset in a set of successive orthogonal components that explain a maximum amount of the variance. In scikit-learn, PCA is implemented as a transformer object that learns n components in its fit method, and can be used on new data to project it on these components.\n",
    "\n",
    "The optional parameter whiten=True makes it possible to project the data onto the singular space while scaling each component to unit variance. This is often useful if the models down-stream make strong assumptions on the isotropy of the signal: this is for example the case for Support Vector Machines with the RBF kernel and the K-Means clustering algorithm.\n",
    "\n",
    "<li>https://en.wikipedia.org/wiki/Principal_component_analysis</li>\n",
    "<li>Then figure out the range of values and define the grid</li>\n",
    "<li>Run k-means on the reduced (2 component) data set</li>\n",
    "<li>Draw a color map and plot the pca points on this map</li>\n",
    "<li>Find the cluster centroids and plot them on the color map</li>\n"
   ]
  },
  {
   "cell_type": "code",
   "execution_count": 261,
   "metadata": {
    "collapsed": false
   },
   "outputs": [
    {
     "data": {
      "image/png": "[encoded data removed]",
      "text/plain": [
       "<matplotlib.figure.Figure at 0x26d45663240>"
      ]
     },
     "metadata": {},
     "output_type": "display_data"
    }
   ],
   "source": [
    "from sklearn import decomposition\n",
    "pca = decomposition.PCA(n_components=2).fit(X_train)\n",
    "reduced_X_train = pca.transform(X_train)\n",
    "# Step size of the mesh. \n",
    "h = .01     \n",
    "# point in the mesh [x_min, m_max]x[y_min, y_max].\n",
    "x_min, x_max = reduced_X_train[:, 0].min() + 1, reduced_X_train[:, 0].max() - 1\n",
    "y_min, y_max = reduced_X_train[:, 1].min() + 1, reduced_X_train[:, 1].max() - 1\n",
    "xx, yy = np.meshgrid(np.arange(x_min, x_max, h), \n",
    "    np.arange(y_min, y_max, h))\n",
    "kmeans = cluster.KMeans(init='k-means++', n_clusters=n_digits, \n",
    "    n_init=10)\n",
    "kmeans.fit(reduced_X_train)\n",
    "Z = kmeans.predict(np.c_[xx.ravel(), yy.ravel()])\n",
    "# Put the result into a color plot\n",
    "Z = Z.reshape(xx.shape)\n",
    "plt.figure(1)\n",
    "plt.clf()\n",
    "plt.imshow(Z, interpolation='nearest', extent=(xx.min(), xx.max(), yy.min(), yy.max()), cmap=plt.cm.Paired, aspect='auto', origin='lower')\n",
    "plt.plot(reduced_X_train[:, 0], reduced_X_train[:, 1], 'k.', \n",
    "    markersize=2)\n",
    "# Plot the centroids as a white X\n",
    "centroids = kmeans.cluster_centers_\n",
    "plt.scatter(centroids[:, 0], centroids[:, 1],marker='.', \n",
    "    s=169, linewidths=3, color='w', zorder=10)\n",
    "plt.title('K-means clustering on the digits dataset (PCA reduced data)\\nCentroids are marked with white dots')\n",
    "plt.xlim(x_min, x_max)\n",
    "plt.ylim(y_min, y_max)\n",
    "plt.xticks(())\n",
    "plt.yticks(())\n",
    "plt.show()"
   ]
  }
 ],
 "metadata": {
  "kernelspec": {
   "display_name": "Python 3",
   "language": "python",
   "name": "python3"
  },
  "language_info": {
   "codemirror_mode": {
    "name": "ipython",
    "version": 3
   },
   "file_extension": ".py",
   "mimetype": "text/x-python",
   "name": "python",
   "nbconvert_exporter": "python",
   "pygments_lexer": "ipython3",
   "version": "3.6.0"
  }
 },
 "nbformat": 4,
 "nbformat_minor": 2
}
