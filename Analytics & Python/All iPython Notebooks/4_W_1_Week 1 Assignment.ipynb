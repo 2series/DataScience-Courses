{
 "cells": [
  {
   "cell_type": "code",
   "execution_count": 2,
   "metadata": {
    "collapsed": false
   },
   "outputs": [
    {
     "data": {
      "text/plain": [
       "'Hey bodega! How are bodega?'"
      ]
     },
     "execution_count": 2,
     "metadata": {},
     "output_type": "execute_result"
    }
   ],
   "source": [
    "\"\"\"\n",
    "Modify the following replace function so that any occurence of \n",
    "replace_string in test_string is replaced by bodega.\n",
    "\n",
    "Tests:\n",
    "\n",
    "replace(\"Hi how are you?\", \"you\") should return \"Hi how are bodega?\"\n",
    "\n",
    "replace(\"Love is in the air\", \"air\") should return \"Love is in the bodega\"\n",
    "\"\"\"\n",
    "\n",
    "def count_overlapping_substrings(haystack, needle):\n",
    "    count = 0\n",
    "    i = -1\n",
    "    while True:\n",
    "        i = haystack.find(needle, i+1)\n",
    "        if i == -1:\n",
    "            return count\n",
    "        count += 1\n",
    "\n",
    "def replace(test_string, replace_string):\n",
    "    count = count_overlapping_substrings(test_string, replace_string)\n",
    "    for i in range(count):\n",
    "        test_string = test_string[0:test_string.find(replace_string)] + \"bodega\" \\\n",
    "        + test_string[test_string.find(replace_string)+len(replace_string):]\n",
    "        \n",
    "    transformed_string = test_string\n",
    "    return transformed_string # you can change the name of the variable\n",
    "\n",
    "replace(\"Hey you! How are you?\", \"you\")"
   ]
  },
  {
   "cell_type": "code",
   "execution_count": null,
   "metadata": {
    "collapsed": true
   },
   "outputs": [],
   "source": []
  }
 ],
 "metadata": {
  "kernelspec": {
   "display_name": "Python 3",
   "language": "python",
   "name": "python3"
  },
  "language_info": {
   "codemirror_mode": {
    "name": "ipython",
    "version": 3
   },
   "file_extension": ".py",
   "mimetype": "text/x-python",
   "name": "python",
   "nbconvert_exporter": "python",
   "pygments_lexer": "ipython3",
   "version": "3.6.0"
  }
 },
 "nbformat": 4,
 "nbformat_minor": 2
}
