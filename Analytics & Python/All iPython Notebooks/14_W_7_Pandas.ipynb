{
 "cells": [
  {
   "cell_type": "markdown",
   "metadata": {},
   "source": [
    "<h1>Pandas</h1>"
   ]
  },
  {
   "cell_type": "code",
   "execution_count": 1,
   "metadata": {
    "collapsed": false
   },
   "outputs": [
    {
     "name": "stdout",
     "output_type": "stream",
     "text": [
      "Requirement already satisfied: pandas-datareader in c:\\users\\vadymserpak\\anaconda3\\lib\\site-packages\n",
      "Requirement already satisfied: pandas>=0.19.2 in c:\\users\\vadymserpak\\anaconda3\\lib\\site-packages (from pandas-datareader)\n",
      "Requirement already satisfied: requests-file in c:\\users\\vadymserpak\\anaconda3\\lib\\site-packages (from pandas-datareader)\n",
      "Requirement already satisfied: requests-ftp in c:\\users\\vadymserpak\\anaconda3\\lib\\site-packages (from pandas-datareader)\n",
      "Requirement already satisfied: lxml in c:\\users\\vadymserpak\\anaconda3\\lib\\site-packages (from pandas-datareader)\n",
      "Requirement already satisfied: wrapt in c:\\users\\vadymserpak\\anaconda3\\lib\\site-packages (from pandas-datareader)\n",
      "Requirement already satisfied: requests>=2.3.0 in c:\\users\\vadymserpak\\anaconda3\\lib\\site-packages (from pandas-datareader)\n",
      "Requirement already satisfied: python-dateutil>=2 in c:\\users\\vadymserpak\\anaconda3\\lib\\site-packages (from pandas>=0.19.2->pandas-datareader)\n",
      "Requirement already satisfied: pytz>=2011k in c:\\users\\vadymserpak\\anaconda3\\lib\\site-packages (from pandas>=0.19.2->pandas-datareader)\n",
      "Requirement already satisfied: numpy>=1.7.0 in c:\\users\\vadymserpak\\anaconda3\\lib\\site-packages (from pandas>=0.19.2->pandas-datareader)\n",
      "Requirement already satisfied: six in c:\\users\\vadymserpak\\anaconda3\\lib\\site-packages (from requests-file->pandas-datareader)\n",
      "Requirement already up-to-date: html5lib==1.0b8 in c:\\users\\vadymserpak\\anaconda3\\lib\\site-packages\n",
      "Requirement already up-to-date: six in c:\\users\\vadymserpak\\anaconda3\\lib\\site-packages (from html5lib==1.0b8)\n"
     ]
    }
   ],
   "source": [
    "#installing pandas libraries\n",
    "!pip install pandas-datareader\n",
    "!pip install --upgrade html5lib==1.0b8\n",
    "\n",
    "#There is a bug in the latest version of html5lib so install an earlier version\n",
    "#Restart kernel after installing html5lib"
   ]
  },
  {
   "cell_type": "markdown",
   "metadata": {},
   "source": [
    "<h2>Imports</h2>"
   ]
  },
  {
   "cell_type": "code",
   "execution_count": 2,
   "metadata": {
    "collapsed": false
   },
   "outputs": [],
   "source": [
    "import pandas as pd #pandas library\n",
    "from pandas_datareader import data #data readers (google, html, etc.)\n",
    "#The following line ensures that graphs are rendered in the notebook\n",
    "%matplotlib inline \n",
    "import numpy as np\n",
    "import matplotlib.pyplot as plt #Plotting library\n",
    "import datetime as dt #datetime for timeseries support"
   ]
  },
  {
   "cell_type": "markdown",
   "metadata": {},
   "source": [
    "<h2>The structure of a dataframe</h2>"
   ]
  },
  {
   "cell_type": "code",
   "execution_count": 3,
   "metadata": {
    "collapsed": false
   },
   "outputs": [
    {
     "data": {
      "text/html": [
       "<div>\n",
       "<table border=\"1\" class=\"dataframe\">\n",
       "  <thead>\n",
       "    <tr style=\"text-align: right;\">\n",
       "      <th></th>\n",
       "      <th>A</th>\n",
       "      <th>B</th>\n",
       "      <th>C</th>\n",
       "    </tr>\n",
       "  </thead>\n",
       "  <tbody>\n",
       "    <tr>\n",
       "      <th>0</th>\n",
       "      <td>1</td>\n",
       "      <td>2</td>\n",
       "      <td>3</td>\n",
       "    </tr>\n",
       "    <tr>\n",
       "      <th>1</th>\n",
       "      <td>1</td>\n",
       "      <td>2</td>\n",
       "      <td>3</td>\n",
       "    </tr>\n",
       "  </tbody>\n",
       "</table>\n",
       "</div>"
      ],
      "text/plain": [
       "   A  B  C\n",
       "0  1  2  3\n",
       "1  1  2  3"
      ]
     },
     "execution_count": 3,
     "metadata": {},
     "output_type": "execute_result"
    }
   ],
   "source": [
    "pd.DataFrame([[1,2,3],[1,2,3]],columns=['A','B','C'])"
   ]
  },
  {
   "cell_type": "markdown",
   "metadata": {},
   "source": [
    "<h3>Accessing columns and rows</h3>\n",
    "\n",
    "My data frame is unchanged because I've\n",
    "created a new data frame.\n",
    "I could call this X equals this and do\n",
    "print X. You see X has row_label as a separate index,\n",
    "but df is unchanged.\n",
    "So the in-place equals true is kind of helpful\n",
    "if you don't want to create a new data frame, which\n",
    "is probably advisable.\n",
    "I mean, if you have a data frame that contains, say, three\n",
    "or four gigabytes of data, you don't\n",
    "want to create another data frame that\n",
    "contains three or four gigabytes of data,\n",
    "or maybe 100 gigabytes of data.\n",
    "It's going to just use up memory for no reason at all.\n",
    "So in-place may be not a bad idea."
   ]
  },
  {
   "cell_type": "code",
   "execution_count": 4,
   "metadata": {
    "collapsed": false
   },
   "outputs": [
    {
     "name": "stdout",
     "output_type": "stream",
     "text": [
      "1407174210504\n",
      "  row_label   A   B   C\n",
      "0        r1  00  01  02\n",
      "1        r2  10  11  12\n",
      "2        r3  20  21  22\n",
      "1407174210504\n"
     ]
    },
    {
     "data": {
      "text/html": [
       "<div>\n",
       "<table border=\"1\" class=\"dataframe\">\n",
       "  <thead>\n",
       "    <tr style=\"text-align: right;\">\n",
       "      <th></th>\n",
       "      <th>row_label</th>\n",
       "      <th>A</th>\n",
       "      <th>B</th>\n",
       "      <th>C</th>\n",
       "    </tr>\n",
       "  </thead>\n",
       "  <tbody>\n",
       "    <tr>\n",
       "      <th>0</th>\n",
       "      <td>r1</td>\n",
       "      <td>00</td>\n",
       "      <td>01</td>\n",
       "      <td>02</td>\n",
       "    </tr>\n",
       "    <tr>\n",
       "      <th>1</th>\n",
       "      <td>r2</td>\n",
       "      <td>10</td>\n",
       "      <td>11</td>\n",
       "      <td>12</td>\n",
       "    </tr>\n",
       "    <tr>\n",
       "      <th>2</th>\n",
       "      <td>r3</td>\n",
       "      <td>20</td>\n",
       "      <td>21</td>\n",
       "      <td>22</td>\n",
       "    </tr>\n",
       "  </tbody>\n",
       "</table>\n",
       "</div>"
      ],
      "text/plain": [
       "  row_label   A   B   C\n",
       "0        r1  00  01  02\n",
       "1        r2  10  11  12\n",
       "2        r3  20  21  22"
      ]
     },
     "execution_count": 4,
     "metadata": {},
     "output_type": "execute_result"
    }
   ],
   "source": [
    "df = pd.DataFrame([['r1','00','01','02'],['r2','10','11','12'],['r3','20','21','22']],columns=['row_label','A','B','C'])\n",
    "print(id(df))\n",
    "print(df)\n",
    "df.set_index('row_label')#,inplace=True)\n",
    "print(id(df))\n",
    "df"
   ]
  },
  {
   "cell_type": "code",
   "execution_count": 27,
   "metadata": {
    "collapsed": false
   },
   "outputs": [
    {
     "name": "stdout",
     "output_type": "stream",
     "text": [
      "1934554703520\n"
     ]
    },
    {
     "data": {
      "text/html": [
       "<div>\n",
       "<table border=\"1\" class=\"dataframe\">\n",
       "  <thead>\n",
       "    <tr style=\"text-align: right;\">\n",
       "      <th></th>\n",
       "      <th>A</th>\n",
       "      <th>B</th>\n",
       "      <th>C</th>\n",
       "    </tr>\n",
       "    <tr>\n",
       "      <th>row_label</th>\n",
       "      <th></th>\n",
       "      <th></th>\n",
       "      <th></th>\n",
       "    </tr>\n",
       "  </thead>\n",
       "  <tbody>\n",
       "    <tr>\n",
       "      <th>r1</th>\n",
       "      <td>00</td>\n",
       "      <td>01</td>\n",
       "      <td>02</td>\n",
       "    </tr>\n",
       "    <tr>\n",
       "      <th>r2</th>\n",
       "      <td>10</td>\n",
       "      <td>11</td>\n",
       "      <td>12</td>\n",
       "    </tr>\n",
       "    <tr>\n",
       "      <th>r3</th>\n",
       "      <td>20</td>\n",
       "      <td>21</td>\n",
       "      <td>22</td>\n",
       "    </tr>\n",
       "  </tbody>\n",
       "</table>\n",
       "</div>"
      ],
      "text/plain": [
       "            A   B   C\n",
       "row_label            \n",
       "r1         00  01  02\n",
       "r2         10  11  12\n",
       "r3         20  21  22"
      ]
     },
     "execution_count": 27,
     "metadata": {},
     "output_type": "execute_result"
    }
   ],
   "source": [
    "df.set_index('row_label',inplace=True)\n",
    "print(id(df))\n",
    "df"
   ]
  },
  {
   "cell_type": "markdown",
   "metadata": {},
   "source": [
    "<h3>Getting column data</h3>"
   ]
  },
  {
   "cell_type": "code",
   "execution_count": 28,
   "metadata": {
    "collapsed": false
   },
   "outputs": [
    {
     "data": {
      "text/plain": [
       "row_label\n",
       "r1    01\n",
       "r2    11\n",
       "r3    21\n",
       "Name: B, dtype: object"
      ]
     },
     "execution_count": 28,
     "metadata": {},
     "output_type": "execute_result"
    }
   ],
   "source": [
    "df['B']"
   ]
  },
  {
   "cell_type": "markdown",
   "metadata": {},
   "source": [
    "<h3>Getting row data</h3>"
   ]
  },
  {
   "cell_type": "code",
   "execution_count": 29,
   "metadata": {
    "collapsed": false
   },
   "outputs": [
    {
     "data": {
      "text/plain": [
       "A    00\n",
       "B    01\n",
       "C    02\n",
       "Name: r1, dtype: object"
      ]
     },
     "execution_count": 29,
     "metadata": {},
     "output_type": "execute_result"
    }
   ],
   "source": [
    "df.loc['r1']"
   ]
  },
  {
   "cell_type": "markdown",
   "metadata": {},
   "source": [
    "<h3>Getting a row by row number</h3>"
   ]
  },
  {
   "cell_type": "code",
   "execution_count": 30,
   "metadata": {
    "collapsed": false
   },
   "outputs": [
    {
     "data": {
      "text/plain": [
       "A    00\n",
       "B    01\n",
       "C    02\n",
       "Name: r1, dtype: object"
      ]
     },
     "execution_count": 30,
     "metadata": {},
     "output_type": "execute_result"
    }
   ],
   "source": [
    "df.iloc[0]"
   ]
  },
  {
   "cell_type": "markdown",
   "metadata": {},
   "source": [
    "<h3>Getting multiple columns<h3>"
   ]
  },
  {
   "cell_type": "code",
   "execution_count": 31,
   "metadata": {
    "collapsed": false
   },
   "outputs": [
    {
     "data": {
      "text/html": [
       "<div>\n",
       "<table border=\"1\" class=\"dataframe\">\n",
       "  <thead>\n",
       "    <tr style=\"text-align: right;\">\n",
       "      <th></th>\n",
       "      <th>B</th>\n",
       "      <th>A</th>\n",
       "    </tr>\n",
       "    <tr>\n",
       "      <th>row_label</th>\n",
       "      <th></th>\n",
       "      <th></th>\n",
       "    </tr>\n",
       "  </thead>\n",
       "  <tbody>\n",
       "    <tr>\n",
       "      <th>r1</th>\n",
       "      <td>01</td>\n",
       "      <td>00</td>\n",
       "    </tr>\n",
       "    <tr>\n",
       "      <th>r2</th>\n",
       "      <td>11</td>\n",
       "      <td>10</td>\n",
       "    </tr>\n",
       "    <tr>\n",
       "      <th>r3</th>\n",
       "      <td>21</td>\n",
       "      <td>20</td>\n",
       "    </tr>\n",
       "  </tbody>\n",
       "</table>\n",
       "</div>"
      ],
      "text/plain": [
       "            B   A\n",
       "row_label        \n",
       "r1         01  00\n",
       "r2         11  10\n",
       "r3         21  20"
      ]
     },
     "execution_count": 31,
     "metadata": {},
     "output_type": "execute_result"
    }
   ],
   "source": [
    "df[['B','A']] #Note that the column identifiers are in a list"
   ]
  },
  {
   "cell_type": "markdown",
   "metadata": {},
   "source": [
    "<h3>Getting a specific cell</h3>"
   ]
  },
  {
   "cell_type": "code",
   "execution_count": 32,
   "metadata": {
    "collapsed": false
   },
   "outputs": [
    {
     "data": {
      "text/plain": [
       "'11'"
      ]
     },
     "execution_count": 32,
     "metadata": {},
     "output_type": "execute_result"
    }
   ],
   "source": [
    "df.loc['r2','B']"
   ]
  },
  {
   "cell_type": "code",
   "execution_count": 33,
   "metadata": {
    "collapsed": false
   },
   "outputs": [
    {
     "data": {
      "text/plain": [
       "'10'"
      ]
     },
     "execution_count": 33,
     "metadata": {},
     "output_type": "execute_result"
    }
   ],
   "source": [
    "df.loc['r2']['A']"
   ]
  },
  {
   "cell_type": "markdown",
   "metadata": {},
   "source": [
    "<h3>Slicing</h3>"
   ]
  },
  {
   "cell_type": "code",
   "execution_count": 34,
   "metadata": {
    "collapsed": false
   },
   "outputs": [
    {
     "data": {
      "text/html": [
       "<div>\n",
       "<table border=\"1\" class=\"dataframe\">\n",
       "  <thead>\n",
       "    <tr style=\"text-align: right;\">\n",
       "      <th></th>\n",
       "      <th>A</th>\n",
       "      <th>B</th>\n",
       "      <th>C</th>\n",
       "    </tr>\n",
       "    <tr>\n",
       "      <th>row_label</th>\n",
       "      <th></th>\n",
       "      <th></th>\n",
       "      <th></th>\n",
       "    </tr>\n",
       "  </thead>\n",
       "  <tbody>\n",
       "    <tr>\n",
       "      <th>r1</th>\n",
       "      <td>00</td>\n",
       "      <td>01</td>\n",
       "      <td>02</td>\n",
       "    </tr>\n",
       "    <tr>\n",
       "      <th>r2</th>\n",
       "      <td>10</td>\n",
       "      <td>11</td>\n",
       "      <td>12</td>\n",
       "    </tr>\n",
       "  </tbody>\n",
       "</table>\n",
       "</div>"
      ],
      "text/plain": [
       "            A   B   C\n",
       "row_label            \n",
       "r1         00  01  02\n",
       "r2         10  11  12"
      ]
     },
     "execution_count": 34,
     "metadata": {},
     "output_type": "execute_result"
    }
   ],
   "source": [
    "df.loc['r1':'r2']"
   ]
  },
  {
   "cell_type": "code",
   "execution_count": 35,
   "metadata": {
    "collapsed": false
   },
   "outputs": [
    {
     "data": {
      "text/html": [
       "<div>\n",
       "<table border=\"1\" class=\"dataframe\">\n",
       "  <thead>\n",
       "    <tr style=\"text-align: right;\">\n",
       "      <th></th>\n",
       "      <th>B</th>\n",
       "      <th>C</th>\n",
       "    </tr>\n",
       "    <tr>\n",
       "      <th>row_label</th>\n",
       "      <th></th>\n",
       "      <th></th>\n",
       "    </tr>\n",
       "  </thead>\n",
       "  <tbody>\n",
       "    <tr>\n",
       "      <th>r1</th>\n",
       "      <td>01</td>\n",
       "      <td>02</td>\n",
       "    </tr>\n",
       "    <tr>\n",
       "      <th>r2</th>\n",
       "      <td>11</td>\n",
       "      <td>12</td>\n",
       "    </tr>\n",
       "  </tbody>\n",
       "</table>\n",
       "</div>"
      ],
      "text/plain": [
       "            B   C\n",
       "row_label        \n",
       "r1         01  02\n",
       "r2         11  12"
      ]
     },
     "execution_count": 35,
     "metadata": {},
     "output_type": "execute_result"
    }
   ],
   "source": [
    "df.loc['r1':'r2','B':'C']"
   ]
  },
  {
   "cell_type": "markdown",
   "metadata": {},
   "source": [
    "<h2>Pandas datareader</h2>\n",
    "<li>Access data from html tables on any web page</li>\n",
    "<li>Get data from google finance</li>\n",
    "<li>Get data from the federal reserve</li>"
   ]
  },
  {
   "cell_type": "markdown",
   "metadata": {},
   "source": [
    "<h3>HTML Tables</h3>\n",
    "<li>Pandas datareader can read a table in an html page into a dataframe\n",
    "<li>the read_html function returns a list of all dataframes with one dataframe for each html table on the page"
   ]
  },
  {
   "cell_type": "markdown",
   "metadata": {},
   "source": [
    "<h4>Example: Read the tables on the google finance page</h4>"
   ]
  },
  {
   "cell_type": "code",
   "execution_count": 6,
   "metadata": {
    "collapsed": false
   },
   "outputs": [
    {
     "name": "stdout",
     "output_type": "stream",
     "text": [
      "1\n"
     ]
    }
   ],
   "source": [
    "df_list = pd.read_html('http://www.bloomberg.com/markets/currencies/major')\n",
    "print(len(df_list))"
   ]
  },
  {
   "cell_type": "markdown",
   "metadata": {},
   "source": [
    "<h4>The page contains only one table so the read_html function returns a list of one element</h4>"
   ]
  },
  {
   "cell_type": "code",
   "execution_count": 7,
   "metadata": {
    "collapsed": false
   },
   "outputs": [
    {
     "name": "stdout",
     "output_type": "stream",
     "text": [
      "   Currency      Value  Change Net Change Time (EDT)  2 Day\n",
      "0   EUR-USD     1.2288 -0.0017     -0.14%    2:04 PM    NaN\n",
      "1   USD-JPY   106.1100 -0.2300     -0.22%    2:04 PM    NaN\n",
      "2   GBP-USD     1.3937  0.0000      0.00%    2:04 PM    NaN\n",
      "3   AUD-USD     0.7719 -0.0079     -1.01%    2:05 PM    NaN\n",
      "4   USD-CAD     1.3091  0.0039     +0.30%    2:05 PM    NaN\n",
      "5   USD-CHF     0.9527  0.0013     +0.14%    2:04 PM    NaN\n",
      "6   EUR-JPY   130.3900 -0.4600     -0.35%    2:04 PM    NaN\n",
      "7   EUR-GBP     0.8817 -0.0013     -0.14%    2:04 PM    NaN\n",
      "8   USD-HKD     7.8421  0.0002     +0.00%    2:04 PM    NaN\n",
      "9   EUR-CHF     1.1706 -0.0001     -0.01%    2:04 PM    NaN\n",
      "10  USD-KRW  1066.1500  0.6500     +0.06%    2:29 AM    NaN\n"
     ]
    }
   ],
   "source": [
    "df = df_list[0]\n",
    "print(df)"
   ]
  },
  {
   "cell_type": "markdown",
   "metadata": {},
   "source": [
    "<h4>Note that the read_html function has automatically detected the header columns</h4>\n",
    "<h4>If an index is necessary, we need to explicitly specify it</h4>"
   ]
  },
  {
   "cell_type": "code",
   "execution_count": 8,
   "metadata": {
    "collapsed": false
   },
   "outputs": [
    {
     "name": "stdout",
     "output_type": "stream",
     "text": [
      "              Value  Change Net Change Time (EDT)  2 Day\n",
      "Currency                                                \n",
      "EUR-USD      1.2288 -0.0017     -0.14%    2:04 PM    NaN\n",
      "USD-JPY    106.1100 -0.2300     -0.22%    2:04 PM    NaN\n",
      "GBP-USD      1.3937  0.0000      0.00%    2:04 PM    NaN\n",
      "AUD-USD      0.7719 -0.0079     -1.01%    2:05 PM    NaN\n",
      "USD-CAD      1.3091  0.0039     +0.30%    2:05 PM    NaN\n",
      "USD-CHF      0.9527  0.0013     +0.14%    2:04 PM    NaN\n",
      "EUR-JPY    130.3900 -0.4600     -0.35%    2:04 PM    NaN\n",
      "EUR-GBP      0.8817 -0.0013     -0.14%    2:04 PM    NaN\n",
      "USD-HKD      7.8421  0.0002     +0.00%    2:04 PM    NaN\n",
      "EUR-CHF      1.1706 -0.0001     -0.01%    2:04 PM    NaN\n",
      "USD-KRW   1066.1500  0.6500     +0.06%    2:29 AM    NaN\n"
     ]
    }
   ],
   "source": [
    "df.set_index('Currency',inplace=True)\n",
    "print(df)"
   ]
  },
  {
   "cell_type": "markdown",
   "metadata": {},
   "source": [
    "<h4>Now we can use .loc to extract specific currency rates</h4>"
   ]
  },
  {
   "cell_type": "code",
   "execution_count": 7,
   "metadata": {
    "collapsed": false
   },
   "outputs": [
    {
     "data": {
      "text/plain": [
       "1.1686000000000001"
      ]
     },
     "execution_count": 7,
     "metadata": {},
     "output_type": "execute_result"
    }
   ],
   "source": [
    "df.loc['EUR-CHF','Value']"
   ]
  },
  {
   "cell_type": "markdown",
   "metadata": {},
   "source": [
    "<h3>Working with views and copies</h3>"
   ]
  },
  {
   "cell_type": "markdown",
   "metadata": {},
   "source": [
    "<h4>Chained indexing creates a copy and changes to the copy won't be reflected in the original dataframe</h4>"
   ]
  },
  {
   "cell_type": "code",
   "execution_count": 8,
   "metadata": {
    "collapsed": false
   },
   "outputs": [
    {
     "name": "stdout",
     "output_type": "stream",
     "text": [
      "-0.0024\n",
      "-0.0024\n"
     ]
    },
    {
     "name": "stderr",
     "output_type": "stream",
     "text": [
      "C:\\Users\\VadymSerpak\\Anaconda3\\lib\\site-packages\\ipykernel_launcher.py:2: SettingWithCopyWarning: \n",
      "A value is trying to be set on a copy of a slice from a DataFrame\n",
      "\n",
      "See the caveats in the documentation: http://pandas.pydata.org/pandas-docs/stable/indexing.html#indexing-view-versus-copy\n",
      "  \n"
     ]
    }
   ],
   "source": [
    "eur_usd = df.loc['EUR-USD']['Change'] #This is chained indexing\n",
    "df.loc['EUR-USD']['Change'] = 1.0 #Here we are changing a value in a copy of the dataframe\n",
    "print(eur_usd)\n",
    "print(df.loc['EUR-USD']['Change']) #Neither eur_usd, nor the dataframe are changed"
   ]
  },
  {
   "cell_type": "code",
   "execution_count": 9,
   "metadata": {
    "collapsed": false
   },
   "outputs": [
    {
     "name": "stdout",
     "output_type": "stream",
     "text": [
      "-0.0024\n",
      "1.0\n"
     ]
    }
   ],
   "source": [
    "eur_usd = df.loc['EUR-USD','Change'] #eur_usd points to the value inside the dataframe\n",
    "df.loc['EUR-USD','Change'] = 1.0 #Change the value in the view \n",
    "print(eur_usd) #eur_usd is changed (because it points to the view)\n",
    "print(df.loc['EUR-USD']['Change']) #The dataframe has been correctly updated"
   ]
  },
  {
   "cell_type": "markdown",
   "metadata": {},
   "source": [
    "<h2>Getting historical stock prices from Google financs</h2>\n",
    "Usage: DataReader(ticker,source,startdate,enddate)<br>\n",
    "Unfortunately, the Yahoo finance datareader has stopped working because of a change to Yahoo's website\n"
   ]
  },
  {
   "cell_type": "code",
   "execution_count": 10,
   "metadata": {
    "collapsed": false
   },
   "outputs": [
    {
     "name": "stdout",
     "output_type": "stream",
     "text": [
      "2017-01-01 00:00:00 2018-03-14 22:30:50.820027\n"
     ]
    },
    {
     "name": "stderr",
     "output_type": "stream",
     "text": [
      "C:\\Users\\VadymSerpak\\Anaconda3\\lib\\site-packages\\pandas_datareader\\google\\daily.py:40: UnstableAPIWarning: \n",
      "The Google Finance API has not been stable since late 2017. Requests seem\n",
      "to fail at random. Failure is especially common when bulk downloading.\n",
      "\n",
      "  warnings.warn(UNSTABLE_WARNING, UnstableAPIWarning)\n"
     ]
    }
   ],
   "source": [
    "from pandas_datareader import data\n",
    "import datetime as dt\n",
    "start=dt.datetime(2017, 1, 1)\n",
    "end=dt.datetime.today()\n",
    "\n",
    "\n",
    "print(start,end)\n",
    "\n",
    "\n",
    "df = data.DataReader('IBM', 'google', start, end)\n"
   ]
  },
  {
   "cell_type": "code",
   "execution_count": 11,
   "metadata": {
    "collapsed": false,
    "scrolled": true
   },
   "outputs": [
    {
     "data": {
      "text/html": [
       "<div>\n",
       "<table border=\"1\" class=\"dataframe\">\n",
       "  <thead>\n",
       "    <tr style=\"text-align: right;\">\n",
       "      <th></th>\n",
       "      <th>Open</th>\n",
       "      <th>High</th>\n",
       "      <th>Low</th>\n",
       "      <th>Close</th>\n",
       "      <th>Volume</th>\n",
       "    </tr>\n",
       "    <tr>\n",
       "      <th>Date</th>\n",
       "      <th></th>\n",
       "      <th></th>\n",
       "      <th></th>\n",
       "      <th></th>\n",
       "      <th></th>\n",
       "    </tr>\n",
       "  </thead>\n",
       "  <tbody>\n",
       "    <tr>\n",
       "      <th>2017-01-03</th>\n",
       "      <td>167.00</td>\n",
       "      <td>167.87</td>\n",
       "      <td>166.01</td>\n",
       "      <td>167.19</td>\n",
       "      <td>2934299</td>\n",
       "    </tr>\n",
       "    <tr>\n",
       "      <th>2017-01-04</th>\n",
       "      <td>167.77</td>\n",
       "      <td>169.87</td>\n",
       "      <td>167.36</td>\n",
       "      <td>169.26</td>\n",
       "      <td>3381432</td>\n",
       "    </tr>\n",
       "    <tr>\n",
       "      <th>2017-01-05</th>\n",
       "      <td>169.25</td>\n",
       "      <td>169.39</td>\n",
       "      <td>167.26</td>\n",
       "      <td>168.70</td>\n",
       "      <td>2682301</td>\n",
       "    </tr>\n",
       "    <tr>\n",
       "      <th>2017-01-06</th>\n",
       "      <td>168.69</td>\n",
       "      <td>169.92</td>\n",
       "      <td>167.52</td>\n",
       "      <td>169.53</td>\n",
       "      <td>2945536</td>\n",
       "    </tr>\n",
       "    <tr>\n",
       "      <th>2017-01-09</th>\n",
       "      <td>169.47</td>\n",
       "      <td>169.80</td>\n",
       "      <td>167.62</td>\n",
       "      <td>167.65</td>\n",
       "      <td>3189891</td>\n",
       "    </tr>\n",
       "    <tr>\n",
       "      <th>2017-01-10</th>\n",
       "      <td>167.98</td>\n",
       "      <td>168.09</td>\n",
       "      <td>165.34</td>\n",
       "      <td>165.52</td>\n",
       "      <td>4118694</td>\n",
       "    </tr>\n",
       "    <tr>\n",
       "      <th>2017-01-11</th>\n",
       "      <td>166.05</td>\n",
       "      <td>167.76</td>\n",
       "      <td>165.60</td>\n",
       "      <td>167.75</td>\n",
       "      <td>3599464</td>\n",
       "    </tr>\n",
       "    <tr>\n",
       "      <th>2017-01-12</th>\n",
       "      <td>167.77</td>\n",
       "      <td>168.01</td>\n",
       "      <td>165.56</td>\n",
       "      <td>167.95</td>\n",
       "      <td>2927973</td>\n",
       "    </tr>\n",
       "    <tr>\n",
       "      <th>2017-01-13</th>\n",
       "      <td>167.97</td>\n",
       "      <td>168.48</td>\n",
       "      <td>166.88</td>\n",
       "      <td>167.34</td>\n",
       "      <td>2875433</td>\n",
       "    </tr>\n",
       "    <tr>\n",
       "      <th>2017-01-17</th>\n",
       "      <td>166.69</td>\n",
       "      <td>168.18</td>\n",
       "      <td>166.12</td>\n",
       "      <td>167.89</td>\n",
       "      <td>3315655</td>\n",
       "    </tr>\n",
       "    <tr>\n",
       "      <th>2017-01-18</th>\n",
       "      <td>167.45</td>\n",
       "      <td>168.59</td>\n",
       "      <td>166.69</td>\n",
       "      <td>166.80</td>\n",
       "      <td>4007779</td>\n",
       "    </tr>\n",
       "    <tr>\n",
       "      <th>2017-01-19</th>\n",
       "      <td>166.96</td>\n",
       "      <td>167.45</td>\n",
       "      <td>165.80</td>\n",
       "      <td>166.81</td>\n",
       "      <td>6963386</td>\n",
       "    </tr>\n",
       "    <tr>\n",
       "      <th>2017-01-20</th>\n",
       "      <td>167.81</td>\n",
       "      <td>170.64</td>\n",
       "      <td>166.00</td>\n",
       "      <td>170.55</td>\n",
       "      <td>12690029</td>\n",
       "    </tr>\n",
       "    <tr>\n",
       "      <th>2017-01-23</th>\n",
       "      <td>170.08</td>\n",
       "      <td>171.25</td>\n",
       "      <td>170.01</td>\n",
       "      <td>171.03</td>\n",
       "      <td>5478224</td>\n",
       "    </tr>\n",
       "    <tr>\n",
       "      <th>2017-01-24</th>\n",
       "      <td>171.36</td>\n",
       "      <td>176.00</td>\n",
       "      <td>171.16</td>\n",
       "      <td>175.90</td>\n",
       "      <td>6952369</td>\n",
       "    </tr>\n",
       "    <tr>\n",
       "      <th>2017-01-25</th>\n",
       "      <td>176.26</td>\n",
       "      <td>179.25</td>\n",
       "      <td>176.13</td>\n",
       "      <td>178.29</td>\n",
       "      <td>5922462</td>\n",
       "    </tr>\n",
       "    <tr>\n",
       "      <th>2017-01-26</th>\n",
       "      <td>178.06</td>\n",
       "      <td>178.88</td>\n",
       "      <td>177.51</td>\n",
       "      <td>178.66</td>\n",
       "      <td>3063924</td>\n",
       "    </tr>\n",
       "    <tr>\n",
       "      <th>2017-01-27</th>\n",
       "      <td>178.47</td>\n",
       "      <td>179.20</td>\n",
       "      <td>177.30</td>\n",
       "      <td>177.30</td>\n",
       "      <td>3482311</td>\n",
       "    </tr>\n",
       "    <tr>\n",
       "      <th>2017-01-30</th>\n",
       "      <td>176.98</td>\n",
       "      <td>177.07</td>\n",
       "      <td>174.58</td>\n",
       "      <td>175.80</td>\n",
       "      <td>4094755</td>\n",
       "    </tr>\n",
       "    <tr>\n",
       "      <th>2017-01-31</th>\n",
       "      <td>175.05</td>\n",
       "      <td>175.58</td>\n",
       "      <td>173.61</td>\n",
       "      <td>174.52</td>\n",
       "      <td>4138962</td>\n",
       "    </tr>\n",
       "    <tr>\n",
       "      <th>2017-02-01</th>\n",
       "      <td>175.00</td>\n",
       "      <td>175.70</td>\n",
       "      <td>172.89</td>\n",
       "      <td>174.29</td>\n",
       "      <td>2795745</td>\n",
       "    </tr>\n",
       "    <tr>\n",
       "      <th>2017-02-02</th>\n",
       "      <td>174.23</td>\n",
       "      <td>174.97</td>\n",
       "      <td>173.55</td>\n",
       "      <td>174.58</td>\n",
       "      <td>2620526</td>\n",
       "    </tr>\n",
       "    <tr>\n",
       "      <th>2017-02-03</th>\n",
       "      <td>175.00</td>\n",
       "      <td>176.34</td>\n",
       "      <td>174.89</td>\n",
       "      <td>175.82</td>\n",
       "      <td>3309288</td>\n",
       "    </tr>\n",
       "    <tr>\n",
       "      <th>2017-02-06</th>\n",
       "      <td>175.31</td>\n",
       "      <td>175.98</td>\n",
       "      <td>174.38</td>\n",
       "      <td>175.86</td>\n",
       "      <td>2650785</td>\n",
       "    </tr>\n",
       "    <tr>\n",
       "      <th>2017-02-07</th>\n",
       "      <td>176.00</td>\n",
       "      <td>178.62</td>\n",
       "      <td>175.90</td>\n",
       "      <td>178.46</td>\n",
       "      <td>3873455</td>\n",
       "    </tr>\n",
       "    <tr>\n",
       "      <th>2017-02-08</th>\n",
       "      <td>177.50</td>\n",
       "      <td>177.50</td>\n",
       "      <td>175.88</td>\n",
       "      <td>176.17</td>\n",
       "      <td>2913126</td>\n",
       "    </tr>\n",
       "    <tr>\n",
       "      <th>2017-02-09</th>\n",
       "      <td>176.17</td>\n",
       "      <td>177.80</td>\n",
       "      <td>175.91</td>\n",
       "      <td>177.21</td>\n",
       "      <td>3090710</td>\n",
       "    </tr>\n",
       "    <tr>\n",
       "      <th>2017-02-10</th>\n",
       "      <td>177.37</td>\n",
       "      <td>178.87</td>\n",
       "      <td>176.76</td>\n",
       "      <td>178.68</td>\n",
       "      <td>2930710</td>\n",
       "    </tr>\n",
       "    <tr>\n",
       "      <th>2017-02-13</th>\n",
       "      <td>179.24</td>\n",
       "      <td>179.90</td>\n",
       "      <td>178.84</td>\n",
       "      <td>179.36</td>\n",
       "      <td>3093372</td>\n",
       "    </tr>\n",
       "    <tr>\n",
       "      <th>2017-02-14</th>\n",
       "      <td>178.57</td>\n",
       "      <td>180.13</td>\n",
       "      <td>178.35</td>\n",
       "      <td>180.13</td>\n",
       "      <td>2776528</td>\n",
       "    </tr>\n",
       "    <tr>\n",
       "      <th>...</th>\n",
       "      <td>...</td>\n",
       "      <td>...</td>\n",
       "      <td>...</td>\n",
       "      <td>...</td>\n",
       "      <td>...</td>\n",
       "    </tr>\n",
       "    <tr>\n",
       "      <th>2018-01-30</th>\n",
       "      <td>166.21</td>\n",
       "      <td>166.77</td>\n",
       "      <td>163.16</td>\n",
       "      <td>163.62</td>\n",
       "      <td>4902341</td>\n",
       "    </tr>\n",
       "    <tr>\n",
       "      <th>2018-01-31</th>\n",
       "      <td>163.75</td>\n",
       "      <td>164.99</td>\n",
       "      <td>162.76</td>\n",
       "      <td>163.70</td>\n",
       "      <td>4072830</td>\n",
       "    </tr>\n",
       "    <tr>\n",
       "      <th>2018-02-01</th>\n",
       "      <td>163.19</td>\n",
       "      <td>164.13</td>\n",
       "      <td>161.90</td>\n",
       "      <td>162.40</td>\n",
       "      <td>4434242</td>\n",
       "    </tr>\n",
       "    <tr>\n",
       "      <th>2018-02-02</th>\n",
       "      <td>161.70</td>\n",
       "      <td>162.00</td>\n",
       "      <td>158.87</td>\n",
       "      <td>159.03</td>\n",
       "      <td>5251938</td>\n",
       "    </tr>\n",
       "    <tr>\n",
       "      <th>2018-02-05</th>\n",
       "      <td>157.89</td>\n",
       "      <td>158.50</td>\n",
       "      <td>150.00</td>\n",
       "      <td>152.53</td>\n",
       "      <td>8746599</td>\n",
       "    </tr>\n",
       "    <tr>\n",
       "      <th>2018-02-06</th>\n",
       "      <td>150.29</td>\n",
       "      <td>155.49</td>\n",
       "      <td>149.11</td>\n",
       "      <td>155.34</td>\n",
       "      <td>9867678</td>\n",
       "    </tr>\n",
       "    <tr>\n",
       "      <th>2018-02-07</th>\n",
       "      <td>154.17</td>\n",
       "      <td>155.34</td>\n",
       "      <td>153.28</td>\n",
       "      <td>153.85</td>\n",
       "      <td>6149207</td>\n",
       "    </tr>\n",
       "    <tr>\n",
       "      <th>2018-02-08</th>\n",
       "      <td>152.48</td>\n",
       "      <td>153.16</td>\n",
       "      <td>147.50</td>\n",
       "      <td>147.59</td>\n",
       "      <td>6779095</td>\n",
       "    </tr>\n",
       "    <tr>\n",
       "      <th>2018-02-09</th>\n",
       "      <td>148.60</td>\n",
       "      <td>150.54</td>\n",
       "      <td>144.40</td>\n",
       "      <td>149.51</td>\n",
       "      <td>7828290</td>\n",
       "    </tr>\n",
       "    <tr>\n",
       "      <th>2018-02-12</th>\n",
       "      <td>150.90</td>\n",
       "      <td>152.40</td>\n",
       "      <td>150.30</td>\n",
       "      <td>151.40</td>\n",
       "      <td>5881377</td>\n",
       "    </tr>\n",
       "    <tr>\n",
       "      <th>2018-02-13</th>\n",
       "      <td>150.90</td>\n",
       "      <td>151.18</td>\n",
       "      <td>149.64</td>\n",
       "      <td>150.75</td>\n",
       "      <td>4891010</td>\n",
       "    </tr>\n",
       "    <tr>\n",
       "      <th>2018-02-14</th>\n",
       "      <td>150.19</td>\n",
       "      <td>155.00</td>\n",
       "      <td>150.00</td>\n",
       "      <td>154.76</td>\n",
       "      <td>5479033</td>\n",
       "    </tr>\n",
       "    <tr>\n",
       "      <th>2018-02-15</th>\n",
       "      <td>155.50</td>\n",
       "      <td>156.86</td>\n",
       "      <td>153.70</td>\n",
       "      <td>156.01</td>\n",
       "      <td>5623581</td>\n",
       "    </tr>\n",
       "    <tr>\n",
       "      <th>2018-02-16</th>\n",
       "      <td>155.71</td>\n",
       "      <td>157.79</td>\n",
       "      <td>155.69</td>\n",
       "      <td>156.18</td>\n",
       "      <td>4282908</td>\n",
       "    </tr>\n",
       "    <tr>\n",
       "      <th>2018-02-20</th>\n",
       "      <td>155.79</td>\n",
       "      <td>155.96</td>\n",
       "      <td>153.87</td>\n",
       "      <td>155.16</td>\n",
       "      <td>4489604</td>\n",
       "    </tr>\n",
       "    <tr>\n",
       "      <th>2018-02-21</th>\n",
       "      <td>155.43</td>\n",
       "      <td>156.79</td>\n",
       "      <td>153.90</td>\n",
       "      <td>153.96</td>\n",
       "      <td>3728571</td>\n",
       "    </tr>\n",
       "    <tr>\n",
       "      <th>2018-02-22</th>\n",
       "      <td>154.50</td>\n",
       "      <td>155.04</td>\n",
       "      <td>152.79</td>\n",
       "      <td>153.18</td>\n",
       "      <td>4024627</td>\n",
       "    </tr>\n",
       "    <tr>\n",
       "      <th>2018-02-23</th>\n",
       "      <td>154.30</td>\n",
       "      <td>155.86</td>\n",
       "      <td>154.07</td>\n",
       "      <td>155.52</td>\n",
       "      <td>3256074</td>\n",
       "    </tr>\n",
       "    <tr>\n",
       "      <th>2018-02-26</th>\n",
       "      <td>155.81</td>\n",
       "      <td>158.88</td>\n",
       "      <td>155.51</td>\n",
       "      <td>158.58</td>\n",
       "      <td>3610292</td>\n",
       "    </tr>\n",
       "    <tr>\n",
       "      <th>2018-02-27</th>\n",
       "      <td>158.46</td>\n",
       "      <td>159.78</td>\n",
       "      <td>156.53</td>\n",
       "      <td>156.55</td>\n",
       "      <td>4237283</td>\n",
       "    </tr>\n",
       "    <tr>\n",
       "      <th>2018-02-28</th>\n",
       "      <td>157.50</td>\n",
       "      <td>158.14</td>\n",
       "      <td>155.80</td>\n",
       "      <td>155.83</td>\n",
       "      <td>3803512</td>\n",
       "    </tr>\n",
       "    <tr>\n",
       "      <th>2018-03-01</th>\n",
       "      <td>155.53</td>\n",
       "      <td>156.97</td>\n",
       "      <td>152.79</td>\n",
       "      <td>153.81</td>\n",
       "      <td>4039339</td>\n",
       "    </tr>\n",
       "    <tr>\n",
       "      <th>2018-03-02</th>\n",
       "      <td>152.79</td>\n",
       "      <td>154.76</td>\n",
       "      <td>151.88</td>\n",
       "      <td>154.49</td>\n",
       "      <td>3261141</td>\n",
       "    </tr>\n",
       "    <tr>\n",
       "      <th>2018-03-05</th>\n",
       "      <td>154.12</td>\n",
       "      <td>157.49</td>\n",
       "      <td>153.75</td>\n",
       "      <td>156.95</td>\n",
       "      <td>3670630</td>\n",
       "    </tr>\n",
       "    <tr>\n",
       "      <th>2018-03-06</th>\n",
       "      <td>157.28</td>\n",
       "      <td>157.89</td>\n",
       "      <td>155.16</td>\n",
       "      <td>155.72</td>\n",
       "      <td>3685736</td>\n",
       "    </tr>\n",
       "    <tr>\n",
       "      <th>2018-03-07</th>\n",
       "      <td>155.00</td>\n",
       "      <td>158.83</td>\n",
       "      <td>154.73</td>\n",
       "      <td>158.32</td>\n",
       "      <td>4607677</td>\n",
       "    </tr>\n",
       "    <tr>\n",
       "      <th>2018-03-08</th>\n",
       "      <td>159.00</td>\n",
       "      <td>159.57</td>\n",
       "      <td>155.07</td>\n",
       "      <td>156.21</td>\n",
       "      <td>6455612</td>\n",
       "    </tr>\n",
       "    <tr>\n",
       "      <th>2018-03-09</th>\n",
       "      <td>157.47</td>\n",
       "      <td>159.58</td>\n",
       "      <td>157.30</td>\n",
       "      <td>159.31</td>\n",
       "      <td>5022238</td>\n",
       "    </tr>\n",
       "    <tr>\n",
       "      <th>2018-03-12</th>\n",
       "      <td>159.64</td>\n",
       "      <td>161.02</td>\n",
       "      <td>158.87</td>\n",
       "      <td>160.26</td>\n",
       "      <td>5060708</td>\n",
       "    </tr>\n",
       "    <tr>\n",
       "      <th>2018-03-13</th>\n",
       "      <td>160.09</td>\n",
       "      <td>162.11</td>\n",
       "      <td>158.81</td>\n",
       "      <td>159.32</td>\n",
       "      <td>4185590</td>\n",
       "    </tr>\n",
       "  </tbody>\n",
       "</table>\n",
       "<p>300 rows × 5 columns</p>\n",
       "</div>"
      ],
      "text/plain": [
       "              Open    High     Low   Close    Volume\n",
       "Date                                                \n",
       "2017-01-03  167.00  167.87  166.01  167.19   2934299\n",
       "2017-01-04  167.77  169.87  167.36  169.26   3381432\n",
       "2017-01-05  169.25  169.39  167.26  168.70   2682301\n",
       "2017-01-06  168.69  169.92  167.52  169.53   2945536\n",
       "2017-01-09  169.47  169.80  167.62  167.65   3189891\n",
       "2017-01-10  167.98  168.09  165.34  165.52   4118694\n",
       "2017-01-11  166.05  167.76  165.60  167.75   3599464\n",
       "2017-01-12  167.77  168.01  165.56  167.95   2927973\n",
       "2017-01-13  167.97  168.48  166.88  167.34   2875433\n",
       "2017-01-17  166.69  168.18  166.12  167.89   3315655\n",
       "2017-01-18  167.45  168.59  166.69  166.80   4007779\n",
       "2017-01-19  166.96  167.45  165.80  166.81   6963386\n",
       "2017-01-20  167.81  170.64  166.00  170.55  12690029\n",
       "2017-01-23  170.08  171.25  170.01  171.03   5478224\n",
       "2017-01-24  171.36  176.00  171.16  175.90   6952369\n",
       "2017-01-25  176.26  179.25  176.13  178.29   5922462\n",
       "2017-01-26  178.06  178.88  177.51  178.66   3063924\n",
       "2017-01-27  178.47  179.20  177.30  177.30   3482311\n",
       "2017-01-30  176.98  177.07  174.58  175.80   4094755\n",
       "2017-01-31  175.05  175.58  173.61  174.52   4138962\n",
       "2017-02-01  175.00  175.70  172.89  174.29   2795745\n",
       "2017-02-02  174.23  174.97  173.55  174.58   2620526\n",
       "2017-02-03  175.00  176.34  174.89  175.82   3309288\n",
       "2017-02-06  175.31  175.98  174.38  175.86   2650785\n",
       "2017-02-07  176.00  178.62  175.90  178.46   3873455\n",
       "2017-02-08  177.50  177.50  175.88  176.17   2913126\n",
       "2017-02-09  176.17  177.80  175.91  177.21   3090710\n",
       "2017-02-10  177.37  178.87  176.76  178.68   2930710\n",
       "2017-02-13  179.24  179.90  178.84  179.36   3093372\n",
       "2017-02-14  178.57  180.13  178.35  180.13   2776528\n",
       "...            ...     ...     ...     ...       ...\n",
       "2018-01-30  166.21  166.77  163.16  163.62   4902341\n",
       "2018-01-31  163.75  164.99  162.76  163.70   4072830\n",
       "2018-02-01  163.19  164.13  161.90  162.40   4434242\n",
       "2018-02-02  161.70  162.00  158.87  159.03   5251938\n",
       "2018-02-05  157.89  158.50  150.00  152.53   8746599\n",
       "2018-02-06  150.29  155.49  149.11  155.34   9867678\n",
       "2018-02-07  154.17  155.34  153.28  153.85   6149207\n",
       "2018-02-08  152.48  153.16  147.50  147.59   6779095\n",
       "2018-02-09  148.60  150.54  144.40  149.51   7828290\n",
       "2018-02-12  150.90  152.40  150.30  151.40   5881377\n",
       "2018-02-13  150.90  151.18  149.64  150.75   4891010\n",
       "2018-02-14  150.19  155.00  150.00  154.76   5479033\n",
       "2018-02-15  155.50  156.86  153.70  156.01   5623581\n",
       "2018-02-16  155.71  157.79  155.69  156.18   4282908\n",
       "2018-02-20  155.79  155.96  153.87  155.16   4489604\n",
       "2018-02-21  155.43  156.79  153.90  153.96   3728571\n",
       "2018-02-22  154.50  155.04  152.79  153.18   4024627\n",
       "2018-02-23  154.30  155.86  154.07  155.52   3256074\n",
       "2018-02-26  155.81  158.88  155.51  158.58   3610292\n",
       "2018-02-27  158.46  159.78  156.53  156.55   4237283\n",
       "2018-02-28  157.50  158.14  155.80  155.83   3803512\n",
       "2018-03-01  155.53  156.97  152.79  153.81   4039339\n",
       "2018-03-02  152.79  154.76  151.88  154.49   3261141\n",
       "2018-03-05  154.12  157.49  153.75  156.95   3670630\n",
       "2018-03-06  157.28  157.89  155.16  155.72   3685736\n",
       "2018-03-07  155.00  158.83  154.73  158.32   4607677\n",
       "2018-03-08  159.00  159.57  155.07  156.21   6455612\n",
       "2018-03-09  157.47  159.58  157.30  159.31   5022238\n",
       "2018-03-12  159.64  161.02  158.87  160.26   5060708\n",
       "2018-03-13  160.09  162.11  158.81  159.32   4185590\n",
       "\n",
       "[300 rows x 5 columns]"
      ]
     },
     "execution_count": 11,
     "metadata": {},
     "output_type": "execute_result"
    }
   ],
   "source": [
    "df"
   ]
  },
  {
   "cell_type": "markdown",
   "metadata": {},
   "source": [
    "<h2>Datareader documentation</h2>\n",
    "http://pandas-datareader.readthedocs.io/en/latest/</h2>"
   ]
  },
  {
   "cell_type": "markdown",
   "metadata": {},
   "source": [
    "<h3>Working with a timeseries data frame</h3>\n",
    "<li>The data is organized by time with the index serving as the timeline\n"
   ]
  },
  {
   "cell_type": "markdown",
   "metadata": {},
   "source": [
    "<h4>Creating new columns</h4>\n",
    "<li>Add a column to a dataframe\n",
    "<li>Base the elements of the column on some combination of data in the existing columns\n",
    "<h4>Example: Number of Days that the stock closed higher than it opened\n",
    "<li>We'll create a new column with the header \"UP\"\n",
    "<li>And use np.where to decide what to put in the column"
   ]
  },
  {
   "cell_type": "code",
   "execution_count": 12,
   "metadata": {
    "collapsed": false,
    "scrolled": true
   },
   "outputs": [
    {
     "data": {
      "text/html": [
       "<div>\n",
       "<table border=\"1\" class=\"dataframe\">\n",
       "  <thead>\n",
       "    <tr style=\"text-align: right;\">\n",
       "      <th></th>\n",
       "      <th>Open</th>\n",
       "      <th>High</th>\n",
       "      <th>Low</th>\n",
       "      <th>Close</th>\n",
       "      <th>Volume</th>\n",
       "      <th>UP</th>\n",
       "    </tr>\n",
       "    <tr>\n",
       "      <th>Date</th>\n",
       "      <th></th>\n",
       "      <th></th>\n",
       "      <th></th>\n",
       "      <th></th>\n",
       "      <th></th>\n",
       "      <th></th>\n",
       "    </tr>\n",
       "  </thead>\n",
       "  <tbody>\n",
       "    <tr>\n",
       "      <th>2017-01-03</th>\n",
       "      <td>167.00</td>\n",
       "      <td>167.87</td>\n",
       "      <td>166.01</td>\n",
       "      <td>167.19</td>\n",
       "      <td>2934299</td>\n",
       "      <td>1</td>\n",
       "    </tr>\n",
       "    <tr>\n",
       "      <th>2017-01-04</th>\n",
       "      <td>167.77</td>\n",
       "      <td>169.87</td>\n",
       "      <td>167.36</td>\n",
       "      <td>169.26</td>\n",
       "      <td>3381432</td>\n",
       "      <td>1</td>\n",
       "    </tr>\n",
       "    <tr>\n",
       "      <th>2017-01-05</th>\n",
       "      <td>169.25</td>\n",
       "      <td>169.39</td>\n",
       "      <td>167.26</td>\n",
       "      <td>168.70</td>\n",
       "      <td>2682301</td>\n",
       "      <td>0</td>\n",
       "    </tr>\n",
       "    <tr>\n",
       "      <th>2017-01-06</th>\n",
       "      <td>168.69</td>\n",
       "      <td>169.92</td>\n",
       "      <td>167.52</td>\n",
       "      <td>169.53</td>\n",
       "      <td>2945536</td>\n",
       "      <td>1</td>\n",
       "    </tr>\n",
       "    <tr>\n",
       "      <th>2017-01-09</th>\n",
       "      <td>169.47</td>\n",
       "      <td>169.80</td>\n",
       "      <td>167.62</td>\n",
       "      <td>167.65</td>\n",
       "      <td>3189891</td>\n",
       "      <td>0</td>\n",
       "    </tr>\n",
       "    <tr>\n",
       "      <th>2017-01-10</th>\n",
       "      <td>167.98</td>\n",
       "      <td>168.09</td>\n",
       "      <td>165.34</td>\n",
       "      <td>165.52</td>\n",
       "      <td>4118694</td>\n",
       "      <td>0</td>\n",
       "    </tr>\n",
       "    <tr>\n",
       "      <th>2017-01-11</th>\n",
       "      <td>166.05</td>\n",
       "      <td>167.76</td>\n",
       "      <td>165.60</td>\n",
       "      <td>167.75</td>\n",
       "      <td>3599464</td>\n",
       "      <td>1</td>\n",
       "    </tr>\n",
       "    <tr>\n",
       "      <th>2017-01-12</th>\n",
       "      <td>167.77</td>\n",
       "      <td>168.01</td>\n",
       "      <td>165.56</td>\n",
       "      <td>167.95</td>\n",
       "      <td>2927973</td>\n",
       "      <td>1</td>\n",
       "    </tr>\n",
       "    <tr>\n",
       "      <th>2017-01-13</th>\n",
       "      <td>167.97</td>\n",
       "      <td>168.48</td>\n",
       "      <td>166.88</td>\n",
       "      <td>167.34</td>\n",
       "      <td>2875433</td>\n",
       "      <td>0</td>\n",
       "    </tr>\n",
       "    <tr>\n",
       "      <th>2017-01-17</th>\n",
       "      <td>166.69</td>\n",
       "      <td>168.18</td>\n",
       "      <td>166.12</td>\n",
       "      <td>167.89</td>\n",
       "      <td>3315655</td>\n",
       "      <td>1</td>\n",
       "    </tr>\n",
       "    <tr>\n",
       "      <th>2017-01-18</th>\n",
       "      <td>167.45</td>\n",
       "      <td>168.59</td>\n",
       "      <td>166.69</td>\n",
       "      <td>166.80</td>\n",
       "      <td>4007779</td>\n",
       "      <td>0</td>\n",
       "    </tr>\n",
       "    <tr>\n",
       "      <th>2017-01-19</th>\n",
       "      <td>166.96</td>\n",
       "      <td>167.45</td>\n",
       "      <td>165.80</td>\n",
       "      <td>166.81</td>\n",
       "      <td>6963386</td>\n",
       "      <td>0</td>\n",
       "    </tr>\n",
       "    <tr>\n",
       "      <th>2017-01-20</th>\n",
       "      <td>167.81</td>\n",
       "      <td>170.64</td>\n",
       "      <td>166.00</td>\n",
       "      <td>170.55</td>\n",
       "      <td>12690029</td>\n",
       "      <td>1</td>\n",
       "    </tr>\n",
       "    <tr>\n",
       "      <th>2017-01-23</th>\n",
       "      <td>170.08</td>\n",
       "      <td>171.25</td>\n",
       "      <td>170.01</td>\n",
       "      <td>171.03</td>\n",
       "      <td>5478224</td>\n",
       "      <td>1</td>\n",
       "    </tr>\n",
       "    <tr>\n",
       "      <th>2017-01-24</th>\n",
       "      <td>171.36</td>\n",
       "      <td>176.00</td>\n",
       "      <td>171.16</td>\n",
       "      <td>175.90</td>\n",
       "      <td>6952369</td>\n",
       "      <td>1</td>\n",
       "    </tr>\n",
       "    <tr>\n",
       "      <th>2017-01-25</th>\n",
       "      <td>176.26</td>\n",
       "      <td>179.25</td>\n",
       "      <td>176.13</td>\n",
       "      <td>178.29</td>\n",
       "      <td>5922462</td>\n",
       "      <td>1</td>\n",
       "    </tr>\n",
       "    <tr>\n",
       "      <th>2017-01-26</th>\n",
       "      <td>178.06</td>\n",
       "      <td>178.88</td>\n",
       "      <td>177.51</td>\n",
       "      <td>178.66</td>\n",
       "      <td>3063924</td>\n",
       "      <td>1</td>\n",
       "    </tr>\n",
       "    <tr>\n",
       "      <th>2017-01-27</th>\n",
       "      <td>178.47</td>\n",
       "      <td>179.20</td>\n",
       "      <td>177.30</td>\n",
       "      <td>177.30</td>\n",
       "      <td>3482311</td>\n",
       "      <td>0</td>\n",
       "    </tr>\n",
       "    <tr>\n",
       "      <th>2017-01-30</th>\n",
       "      <td>176.98</td>\n",
       "      <td>177.07</td>\n",
       "      <td>174.58</td>\n",
       "      <td>175.80</td>\n",
       "      <td>4094755</td>\n",
       "      <td>0</td>\n",
       "    </tr>\n",
       "    <tr>\n",
       "      <th>2017-01-31</th>\n",
       "      <td>175.05</td>\n",
       "      <td>175.58</td>\n",
       "      <td>173.61</td>\n",
       "      <td>174.52</td>\n",
       "      <td>4138962</td>\n",
       "      <td>0</td>\n",
       "    </tr>\n",
       "    <tr>\n",
       "      <th>2017-02-01</th>\n",
       "      <td>175.00</td>\n",
       "      <td>175.70</td>\n",
       "      <td>172.89</td>\n",
       "      <td>174.29</td>\n",
       "      <td>2795745</td>\n",
       "      <td>0</td>\n",
       "    </tr>\n",
       "    <tr>\n",
       "      <th>2017-02-02</th>\n",
       "      <td>174.23</td>\n",
       "      <td>174.97</td>\n",
       "      <td>173.55</td>\n",
       "      <td>174.58</td>\n",
       "      <td>2620526</td>\n",
       "      <td>1</td>\n",
       "    </tr>\n",
       "    <tr>\n",
       "      <th>2017-02-03</th>\n",
       "      <td>175.00</td>\n",
       "      <td>176.34</td>\n",
       "      <td>174.89</td>\n",
       "      <td>175.82</td>\n",
       "      <td>3309288</td>\n",
       "      <td>1</td>\n",
       "    </tr>\n",
       "    <tr>\n",
       "      <th>2017-02-06</th>\n",
       "      <td>175.31</td>\n",
       "      <td>175.98</td>\n",
       "      <td>174.38</td>\n",
       "      <td>175.86</td>\n",
       "      <td>2650785</td>\n",
       "      <td>1</td>\n",
       "    </tr>\n",
       "    <tr>\n",
       "      <th>2017-02-07</th>\n",
       "      <td>176.00</td>\n",
       "      <td>178.62</td>\n",
       "      <td>175.90</td>\n",
       "      <td>178.46</td>\n",
       "      <td>3873455</td>\n",
       "      <td>1</td>\n",
       "    </tr>\n",
       "    <tr>\n",
       "      <th>2017-02-08</th>\n",
       "      <td>177.50</td>\n",
       "      <td>177.50</td>\n",
       "      <td>175.88</td>\n",
       "      <td>176.17</td>\n",
       "      <td>2913126</td>\n",
       "      <td>0</td>\n",
       "    </tr>\n",
       "    <tr>\n",
       "      <th>2017-02-09</th>\n",
       "      <td>176.17</td>\n",
       "      <td>177.80</td>\n",
       "      <td>175.91</td>\n",
       "      <td>177.21</td>\n",
       "      <td>3090710</td>\n",
       "      <td>1</td>\n",
       "    </tr>\n",
       "    <tr>\n",
       "      <th>2017-02-10</th>\n",
       "      <td>177.37</td>\n",
       "      <td>178.87</td>\n",
       "      <td>176.76</td>\n",
       "      <td>178.68</td>\n",
       "      <td>2930710</td>\n",
       "      <td>1</td>\n",
       "    </tr>\n",
       "    <tr>\n",
       "      <th>2017-02-13</th>\n",
       "      <td>179.24</td>\n",
       "      <td>179.90</td>\n",
       "      <td>178.84</td>\n",
       "      <td>179.36</td>\n",
       "      <td>3093372</td>\n",
       "      <td>1</td>\n",
       "    </tr>\n",
       "    <tr>\n",
       "      <th>2017-02-14</th>\n",
       "      <td>178.57</td>\n",
       "      <td>180.13</td>\n",
       "      <td>178.35</td>\n",
       "      <td>180.13</td>\n",
       "      <td>2776528</td>\n",
       "      <td>1</td>\n",
       "    </tr>\n",
       "    <tr>\n",
       "      <th>...</th>\n",
       "      <td>...</td>\n",
       "      <td>...</td>\n",
       "      <td>...</td>\n",
       "      <td>...</td>\n",
       "      <td>...</td>\n",
       "      <td>...</td>\n",
       "    </tr>\n",
       "    <tr>\n",
       "      <th>2018-01-30</th>\n",
       "      <td>166.21</td>\n",
       "      <td>166.77</td>\n",
       "      <td>163.16</td>\n",
       "      <td>163.62</td>\n",
       "      <td>4902341</td>\n",
       "      <td>0</td>\n",
       "    </tr>\n",
       "    <tr>\n",
       "      <th>2018-01-31</th>\n",
       "      <td>163.75</td>\n",
       "      <td>164.99</td>\n",
       "      <td>162.76</td>\n",
       "      <td>163.70</td>\n",
       "      <td>4072830</td>\n",
       "      <td>0</td>\n",
       "    </tr>\n",
       "    <tr>\n",
       "      <th>2018-02-01</th>\n",
       "      <td>163.19</td>\n",
       "      <td>164.13</td>\n",
       "      <td>161.90</td>\n",
       "      <td>162.40</td>\n",
       "      <td>4434242</td>\n",
       "      <td>0</td>\n",
       "    </tr>\n",
       "    <tr>\n",
       "      <th>2018-02-02</th>\n",
       "      <td>161.70</td>\n",
       "      <td>162.00</td>\n",
       "      <td>158.87</td>\n",
       "      <td>159.03</td>\n",
       "      <td>5251938</td>\n",
       "      <td>0</td>\n",
       "    </tr>\n",
       "    <tr>\n",
       "      <th>2018-02-05</th>\n",
       "      <td>157.89</td>\n",
       "      <td>158.50</td>\n",
       "      <td>150.00</td>\n",
       "      <td>152.53</td>\n",
       "      <td>8746599</td>\n",
       "      <td>0</td>\n",
       "    </tr>\n",
       "    <tr>\n",
       "      <th>2018-02-06</th>\n",
       "      <td>150.29</td>\n",
       "      <td>155.49</td>\n",
       "      <td>149.11</td>\n",
       "      <td>155.34</td>\n",
       "      <td>9867678</td>\n",
       "      <td>1</td>\n",
       "    </tr>\n",
       "    <tr>\n",
       "      <th>2018-02-07</th>\n",
       "      <td>154.17</td>\n",
       "      <td>155.34</td>\n",
       "      <td>153.28</td>\n",
       "      <td>153.85</td>\n",
       "      <td>6149207</td>\n",
       "      <td>0</td>\n",
       "    </tr>\n",
       "    <tr>\n",
       "      <th>2018-02-08</th>\n",
       "      <td>152.48</td>\n",
       "      <td>153.16</td>\n",
       "      <td>147.50</td>\n",
       "      <td>147.59</td>\n",
       "      <td>6779095</td>\n",
       "      <td>0</td>\n",
       "    </tr>\n",
       "    <tr>\n",
       "      <th>2018-02-09</th>\n",
       "      <td>148.60</td>\n",
       "      <td>150.54</td>\n",
       "      <td>144.40</td>\n",
       "      <td>149.51</td>\n",
       "      <td>7828290</td>\n",
       "      <td>1</td>\n",
       "    </tr>\n",
       "    <tr>\n",
       "      <th>2018-02-12</th>\n",
       "      <td>150.90</td>\n",
       "      <td>152.40</td>\n",
       "      <td>150.30</td>\n",
       "      <td>151.40</td>\n",
       "      <td>5881377</td>\n",
       "      <td>1</td>\n",
       "    </tr>\n",
       "    <tr>\n",
       "      <th>2018-02-13</th>\n",
       "      <td>150.90</td>\n",
       "      <td>151.18</td>\n",
       "      <td>149.64</td>\n",
       "      <td>150.75</td>\n",
       "      <td>4891010</td>\n",
       "      <td>0</td>\n",
       "    </tr>\n",
       "    <tr>\n",
       "      <th>2018-02-14</th>\n",
       "      <td>150.19</td>\n",
       "      <td>155.00</td>\n",
       "      <td>150.00</td>\n",
       "      <td>154.76</td>\n",
       "      <td>5479033</td>\n",
       "      <td>1</td>\n",
       "    </tr>\n",
       "    <tr>\n",
       "      <th>2018-02-15</th>\n",
       "      <td>155.50</td>\n",
       "      <td>156.86</td>\n",
       "      <td>153.70</td>\n",
       "      <td>156.01</td>\n",
       "      <td>5623581</td>\n",
       "      <td>1</td>\n",
       "    </tr>\n",
       "    <tr>\n",
       "      <th>2018-02-16</th>\n",
       "      <td>155.71</td>\n",
       "      <td>157.79</td>\n",
       "      <td>155.69</td>\n",
       "      <td>156.18</td>\n",
       "      <td>4282908</td>\n",
       "      <td>1</td>\n",
       "    </tr>\n",
       "    <tr>\n",
       "      <th>2018-02-20</th>\n",
       "      <td>155.79</td>\n",
       "      <td>155.96</td>\n",
       "      <td>153.87</td>\n",
       "      <td>155.16</td>\n",
       "      <td>4489604</td>\n",
       "      <td>0</td>\n",
       "    </tr>\n",
       "    <tr>\n",
       "      <th>2018-02-21</th>\n",
       "      <td>155.43</td>\n",
       "      <td>156.79</td>\n",
       "      <td>153.90</td>\n",
       "      <td>153.96</td>\n",
       "      <td>3728571</td>\n",
       "      <td>0</td>\n",
       "    </tr>\n",
       "    <tr>\n",
       "      <th>2018-02-22</th>\n",
       "      <td>154.50</td>\n",
       "      <td>155.04</td>\n",
       "      <td>152.79</td>\n",
       "      <td>153.18</td>\n",
       "      <td>4024627</td>\n",
       "      <td>0</td>\n",
       "    </tr>\n",
       "    <tr>\n",
       "      <th>2018-02-23</th>\n",
       "      <td>154.30</td>\n",
       "      <td>155.86</td>\n",
       "      <td>154.07</td>\n",
       "      <td>155.52</td>\n",
       "      <td>3256074</td>\n",
       "      <td>1</td>\n",
       "    </tr>\n",
       "    <tr>\n",
       "      <th>2018-02-26</th>\n",
       "      <td>155.81</td>\n",
       "      <td>158.88</td>\n",
       "      <td>155.51</td>\n",
       "      <td>158.58</td>\n",
       "      <td>3610292</td>\n",
       "      <td>1</td>\n",
       "    </tr>\n",
       "    <tr>\n",
       "      <th>2018-02-27</th>\n",
       "      <td>158.46</td>\n",
       "      <td>159.78</td>\n",
       "      <td>156.53</td>\n",
       "      <td>156.55</td>\n",
       "      <td>4237283</td>\n",
       "      <td>0</td>\n",
       "    </tr>\n",
       "    <tr>\n",
       "      <th>2018-02-28</th>\n",
       "      <td>157.50</td>\n",
       "      <td>158.14</td>\n",
       "      <td>155.80</td>\n",
       "      <td>155.83</td>\n",
       "      <td>3803512</td>\n",
       "      <td>0</td>\n",
       "    </tr>\n",
       "    <tr>\n",
       "      <th>2018-03-01</th>\n",
       "      <td>155.53</td>\n",
       "      <td>156.97</td>\n",
       "      <td>152.79</td>\n",
       "      <td>153.81</td>\n",
       "      <td>4039339</td>\n",
       "      <td>0</td>\n",
       "    </tr>\n",
       "    <tr>\n",
       "      <th>2018-03-02</th>\n",
       "      <td>152.79</td>\n",
       "      <td>154.76</td>\n",
       "      <td>151.88</td>\n",
       "      <td>154.49</td>\n",
       "      <td>3261141</td>\n",
       "      <td>1</td>\n",
       "    </tr>\n",
       "    <tr>\n",
       "      <th>2018-03-05</th>\n",
       "      <td>154.12</td>\n",
       "      <td>157.49</td>\n",
       "      <td>153.75</td>\n",
       "      <td>156.95</td>\n",
       "      <td>3670630</td>\n",
       "      <td>1</td>\n",
       "    </tr>\n",
       "    <tr>\n",
       "      <th>2018-03-06</th>\n",
       "      <td>157.28</td>\n",
       "      <td>157.89</td>\n",
       "      <td>155.16</td>\n",
       "      <td>155.72</td>\n",
       "      <td>3685736</td>\n",
       "      <td>0</td>\n",
       "    </tr>\n",
       "    <tr>\n",
       "      <th>2018-03-07</th>\n",
       "      <td>155.00</td>\n",
       "      <td>158.83</td>\n",
       "      <td>154.73</td>\n",
       "      <td>158.32</td>\n",
       "      <td>4607677</td>\n",
       "      <td>1</td>\n",
       "    </tr>\n",
       "    <tr>\n",
       "      <th>2018-03-08</th>\n",
       "      <td>159.00</td>\n",
       "      <td>159.57</td>\n",
       "      <td>155.07</td>\n",
       "      <td>156.21</td>\n",
       "      <td>6455612</td>\n",
       "      <td>0</td>\n",
       "    </tr>\n",
       "    <tr>\n",
       "      <th>2018-03-09</th>\n",
       "      <td>157.47</td>\n",
       "      <td>159.58</td>\n",
       "      <td>157.30</td>\n",
       "      <td>159.31</td>\n",
       "      <td>5022238</td>\n",
       "      <td>1</td>\n",
       "    </tr>\n",
       "    <tr>\n",
       "      <th>2018-03-12</th>\n",
       "      <td>159.64</td>\n",
       "      <td>161.02</td>\n",
       "      <td>158.87</td>\n",
       "      <td>160.26</td>\n",
       "      <td>5060708</td>\n",
       "      <td>1</td>\n",
       "    </tr>\n",
       "    <tr>\n",
       "      <th>2018-03-13</th>\n",
       "      <td>160.09</td>\n",
       "      <td>162.11</td>\n",
       "      <td>158.81</td>\n",
       "      <td>159.32</td>\n",
       "      <td>4185590</td>\n",
       "      <td>0</td>\n",
       "    </tr>\n",
       "  </tbody>\n",
       "</table>\n",
       "<p>300 rows × 6 columns</p>\n",
       "</div>"
      ],
      "text/plain": [
       "              Open    High     Low   Close    Volume  UP\n",
       "Date                                                    \n",
       "2017-01-03  167.00  167.87  166.01  167.19   2934299   1\n",
       "2017-01-04  167.77  169.87  167.36  169.26   3381432   1\n",
       "2017-01-05  169.25  169.39  167.26  168.70   2682301   0\n",
       "2017-01-06  168.69  169.92  167.52  169.53   2945536   1\n",
       "2017-01-09  169.47  169.80  167.62  167.65   3189891   0\n",
       "2017-01-10  167.98  168.09  165.34  165.52   4118694   0\n",
       "2017-01-11  166.05  167.76  165.60  167.75   3599464   1\n",
       "2017-01-12  167.77  168.01  165.56  167.95   2927973   1\n",
       "2017-01-13  167.97  168.48  166.88  167.34   2875433   0\n",
       "2017-01-17  166.69  168.18  166.12  167.89   3315655   1\n",
       "2017-01-18  167.45  168.59  166.69  166.80   4007779   0\n",
       "2017-01-19  166.96  167.45  165.80  166.81   6963386   0\n",
       "2017-01-20  167.81  170.64  166.00  170.55  12690029   1\n",
       "2017-01-23  170.08  171.25  170.01  171.03   5478224   1\n",
       "2017-01-24  171.36  176.00  171.16  175.90   6952369   1\n",
       "2017-01-25  176.26  179.25  176.13  178.29   5922462   1\n",
       "2017-01-26  178.06  178.88  177.51  178.66   3063924   1\n",
       "2017-01-27  178.47  179.20  177.30  177.30   3482311   0\n",
       "2017-01-30  176.98  177.07  174.58  175.80   4094755   0\n",
       "2017-01-31  175.05  175.58  173.61  174.52   4138962   0\n",
       "2017-02-01  175.00  175.70  172.89  174.29   2795745   0\n",
       "2017-02-02  174.23  174.97  173.55  174.58   2620526   1\n",
       "2017-02-03  175.00  176.34  174.89  175.82   3309288   1\n",
       "2017-02-06  175.31  175.98  174.38  175.86   2650785   1\n",
       "2017-02-07  176.00  178.62  175.90  178.46   3873455   1\n",
       "2017-02-08  177.50  177.50  175.88  176.17   2913126   0\n",
       "2017-02-09  176.17  177.80  175.91  177.21   3090710   1\n",
       "2017-02-10  177.37  178.87  176.76  178.68   2930710   1\n",
       "2017-02-13  179.24  179.90  178.84  179.36   3093372   1\n",
       "2017-02-14  178.57  180.13  178.35  180.13   2776528   1\n",
       "...            ...     ...     ...     ...       ...  ..\n",
       "2018-01-30  166.21  166.77  163.16  163.62   4902341   0\n",
       "2018-01-31  163.75  164.99  162.76  163.70   4072830   0\n",
       "2018-02-01  163.19  164.13  161.90  162.40   4434242   0\n",
       "2018-02-02  161.70  162.00  158.87  159.03   5251938   0\n",
       "2018-02-05  157.89  158.50  150.00  152.53   8746599   0\n",
       "2018-02-06  150.29  155.49  149.11  155.34   9867678   1\n",
       "2018-02-07  154.17  155.34  153.28  153.85   6149207   0\n",
       "2018-02-08  152.48  153.16  147.50  147.59   6779095   0\n",
       "2018-02-09  148.60  150.54  144.40  149.51   7828290   1\n",
       "2018-02-12  150.90  152.40  150.30  151.40   5881377   1\n",
       "2018-02-13  150.90  151.18  149.64  150.75   4891010   0\n",
       "2018-02-14  150.19  155.00  150.00  154.76   5479033   1\n",
       "2018-02-15  155.50  156.86  153.70  156.01   5623581   1\n",
       "2018-02-16  155.71  157.79  155.69  156.18   4282908   1\n",
       "2018-02-20  155.79  155.96  153.87  155.16   4489604   0\n",
       "2018-02-21  155.43  156.79  153.90  153.96   3728571   0\n",
       "2018-02-22  154.50  155.04  152.79  153.18   4024627   0\n",
       "2018-02-23  154.30  155.86  154.07  155.52   3256074   1\n",
       "2018-02-26  155.81  158.88  155.51  158.58   3610292   1\n",
       "2018-02-27  158.46  159.78  156.53  156.55   4237283   0\n",
       "2018-02-28  157.50  158.14  155.80  155.83   3803512   0\n",
       "2018-03-01  155.53  156.97  152.79  153.81   4039339   0\n",
       "2018-03-02  152.79  154.76  151.88  154.49   3261141   1\n",
       "2018-03-05  154.12  157.49  153.75  156.95   3670630   1\n",
       "2018-03-06  157.28  157.89  155.16  155.72   3685736   0\n",
       "2018-03-07  155.00  158.83  154.73  158.32   4607677   1\n",
       "2018-03-08  159.00  159.57  155.07  156.21   6455612   0\n",
       "2018-03-09  157.47  159.58  157.30  159.31   5022238   1\n",
       "2018-03-12  159.64  161.02  158.87  160.26   5060708   1\n",
       "2018-03-13  160.09  162.11  158.81  159.32   4185590   0\n",
       "\n",
       "[300 rows x 6 columns]"
      ]
     },
     "execution_count": 12,
     "metadata": {},
     "output_type": "execute_result"
    }
   ],
   "source": [
    "df['UP']=np.where(df['Close']>df['Open'],1,0)\n",
    "df"
   ]
  },
  {
   "cell_type": "markdown",
   "metadata": {},
   "source": [
    "<h3>Get summary statistics</h3>\n",
    "<li>The \"describe\" function returns a dataframe containing summary stats for all numerical columns\n",
    "<li>Columns containing non-numerical data are ignored"
   ]
  },
  {
   "cell_type": "code",
   "execution_count": 13,
   "metadata": {
    "collapsed": false
   },
   "outputs": [
    {
     "data": {
      "text/html": [
       "<div>\n",
       "<table border=\"1\" class=\"dataframe\">\n",
       "  <thead>\n",
       "    <tr style=\"text-align: right;\">\n",
       "      <th></th>\n",
       "      <th>Open</th>\n",
       "      <th>High</th>\n",
       "      <th>Low</th>\n",
       "      <th>Close</th>\n",
       "      <th>Volume</th>\n",
       "      <th>UP</th>\n",
       "    </tr>\n",
       "  </thead>\n",
       "  <tbody>\n",
       "    <tr>\n",
       "      <th>count</th>\n",
       "      <td>299.000000</td>\n",
       "      <td>300.000000</td>\n",
       "      <td>299.000000</td>\n",
       "      <td>300.000000</td>\n",
       "      <td>3.000000e+02</td>\n",
       "      <td>300.000000</td>\n",
       "    </tr>\n",
       "    <tr>\n",
       "      <th>mean</th>\n",
       "      <td>158.001706</td>\n",
       "      <td>158.852267</td>\n",
       "      <td>157.024348</td>\n",
       "      <td>157.886633</td>\n",
       "      <td>4.517339e+06</td>\n",
       "      <td>0.446667</td>\n",
       "    </tr>\n",
       "    <tr>\n",
       "      <th>std</th>\n",
       "      <td>11.260978</td>\n",
       "      <td>11.356502</td>\n",
       "      <td>11.192935</td>\n",
       "      <td>11.309058</td>\n",
       "      <td>2.746712e+06</td>\n",
       "      <td>0.497978</td>\n",
       "    </tr>\n",
       "    <tr>\n",
       "      <th>min</th>\n",
       "      <td>139.590000</td>\n",
       "      <td>140.420000</td>\n",
       "      <td>139.130000</td>\n",
       "      <td>139.700000</td>\n",
       "      <td>2.542560e+05</td>\n",
       "      <td>0.000000</td>\n",
       "    </tr>\n",
       "    <tr>\n",
       "      <th>25%</th>\n",
       "      <td>150.645000</td>\n",
       "      <td>151.465000</td>\n",
       "      <td>149.880000</td>\n",
       "      <td>150.615000</td>\n",
       "      <td>3.205205e+06</td>\n",
       "      <td>0.000000</td>\n",
       "    </tr>\n",
       "    <tr>\n",
       "      <th>50%</th>\n",
       "      <td>154.340000</td>\n",
       "      <td>155.340000</td>\n",
       "      <td>153.520000</td>\n",
       "      <td>154.175000</td>\n",
       "      <td>3.795813e+06</td>\n",
       "      <td>0.000000</td>\n",
       "    </tr>\n",
       "    <tr>\n",
       "      <th>75%</th>\n",
       "      <td>166.720000</td>\n",
       "      <td>167.787500</td>\n",
       "      <td>165.580000</td>\n",
       "      <td>166.800000</td>\n",
       "      <td>4.951449e+06</td>\n",
       "      <td>1.000000</td>\n",
       "    </tr>\n",
       "    <tr>\n",
       "      <th>max</th>\n",
       "      <td>182.000000</td>\n",
       "      <td>182.790000</td>\n",
       "      <td>180.920000</td>\n",
       "      <td>181.950000</td>\n",
       "      <td>3.049019e+07</td>\n",
       "      <td>1.000000</td>\n",
       "    </tr>\n",
       "  </tbody>\n",
       "</table>\n",
       "</div>"
      ],
      "text/plain": [
       "             Open        High         Low       Close        Volume  \\\n",
       "count  299.000000  300.000000  299.000000  300.000000  3.000000e+02   \n",
       "mean   158.001706  158.852267  157.024348  157.886633  4.517339e+06   \n",
       "std     11.260978   11.356502   11.192935   11.309058  2.746712e+06   \n",
       "min    139.590000  140.420000  139.130000  139.700000  2.542560e+05   \n",
       "25%    150.645000  151.465000  149.880000  150.615000  3.205205e+06   \n",
       "50%    154.340000  155.340000  153.520000  154.175000  3.795813e+06   \n",
       "75%    166.720000  167.787500  165.580000  166.800000  4.951449e+06   \n",
       "max    182.000000  182.790000  180.920000  181.950000  3.049019e+07   \n",
       "\n",
       "               UP  \n",
       "count  300.000000  \n",
       "mean     0.446667  \n",
       "std      0.497978  \n",
       "min      0.000000  \n",
       "25%      0.000000  \n",
       "50%      0.000000  \n",
       "75%      1.000000  \n",
       "max      1.000000  "
      ]
     },
     "execution_count": 13,
     "metadata": {},
     "output_type": "execute_result"
    }
   ],
   "source": [
    "df.describe()"
   ]
  },
  {
   "cell_type": "markdown",
   "metadata": {},
   "source": [
    "<h4>Calculate the percentage of days that the stock has closed higher than its open</h4>"
   ]
  },
  {
   "cell_type": "code",
   "execution_count": 14,
   "metadata": {
    "collapsed": false
   },
   "outputs": [
    {
     "data": {
      "text/plain": [
       "0.44666666666666666"
      ]
     },
     "execution_count": 14,
     "metadata": {},
     "output_type": "execute_result"
    }
   ],
   "source": [
    "df['UP'].sum()/df['UP'].count()"
   ]
  },
  {
   "cell_type": "markdown",
   "metadata": {},
   "source": [
    "<h4>Calculate percent changes</h4>\n",
    "<li>The function pct_change computes a percent change between successive rows (times in  timeseries data)\n",
    "<li>Defaults to a single time delta\n",
    "<li>With an argument, the time delta can be changed"
   ]
  },
  {
   "cell_type": "code",
   "execution_count": 15,
   "metadata": {
    "collapsed": false,
    "scrolled": true
   },
   "outputs": [
    {
     "data": {
      "text/plain": [
       "Date\n",
       "2017-01-03         NaN\n",
       "2017-01-04    0.012381\n",
       "2017-01-05   -0.003309\n",
       "2017-01-06    0.004920\n",
       "2017-01-09   -0.011089\n",
       "2017-01-10   -0.012705\n",
       "2017-01-11    0.013473\n",
       "2017-01-12    0.001192\n",
       "2017-01-13   -0.003632\n",
       "2017-01-17    0.003287\n",
       "2017-01-18   -0.006492\n",
       "2017-01-19    0.000060\n",
       "2017-01-20    0.022421\n",
       "2017-01-23    0.002814\n",
       "2017-01-24    0.028475\n",
       "2017-01-25    0.013587\n",
       "2017-01-26    0.002075\n",
       "2017-01-27   -0.007612\n",
       "2017-01-30   -0.008460\n",
       "2017-01-31   -0.007281\n",
       "2017-02-01   -0.001318\n",
       "2017-02-02    0.001664\n",
       "2017-02-03    0.007103\n",
       "2017-02-06    0.000228\n",
       "2017-02-07    0.014784\n",
       "2017-02-08   -0.012832\n",
       "2017-02-09    0.005903\n",
       "2017-02-10    0.008295\n",
       "2017-02-13    0.003806\n",
       "2017-02-14    0.004293\n",
       "                ...   \n",
       "2018-01-30   -0.019065\n",
       "2018-01-31    0.000489\n",
       "2018-02-01   -0.007941\n",
       "2018-02-02   -0.020751\n",
       "2018-02-05   -0.040873\n",
       "2018-02-06    0.018423\n",
       "2018-02-07   -0.009592\n",
       "2018-02-08   -0.040689\n",
       "2018-02-09    0.013009\n",
       "2018-02-12    0.012641\n",
       "2018-02-13   -0.004293\n",
       "2018-02-14    0.026600\n",
       "2018-02-15    0.008077\n",
       "2018-02-16    0.001090\n",
       "2018-02-20   -0.006531\n",
       "2018-02-21   -0.007734\n",
       "2018-02-22   -0.005066\n",
       "2018-02-23    0.015276\n",
       "2018-02-26    0.019676\n",
       "2018-02-27   -0.012801\n",
       "2018-02-28   -0.004599\n",
       "2018-03-01   -0.012963\n",
       "2018-03-02    0.004421\n",
       "2018-03-05    0.015923\n",
       "2018-03-06   -0.007837\n",
       "2018-03-07    0.016697\n",
       "2018-03-08   -0.013327\n",
       "2018-03-09    0.019845\n",
       "2018-03-12    0.005963\n",
       "2018-03-13   -0.005865\n",
       "Name: Close, dtype: float64"
      ]
     },
     "execution_count": 15,
     "metadata": {},
     "output_type": "execute_result"
    }
   ],
   "source": [
    "df['Close'].pct_change() #One timeperiod percent change"
   ]
  },
  {
   "cell_type": "code",
   "execution_count": 16,
   "metadata": {
    "collapsed": false,
    "scrolled": true
   },
   "outputs": [
    {
     "data": {
      "text/plain": [
       "Date\n",
       "2017-01-03         NaN\n",
       "2017-01-04         NaN\n",
       "2017-01-05         NaN\n",
       "2017-01-06         NaN\n",
       "2017-01-09         NaN\n",
       "2017-01-10         NaN\n",
       "2017-01-11         NaN\n",
       "2017-01-12         NaN\n",
       "2017-01-13         NaN\n",
       "2017-01-17         NaN\n",
       "2017-01-18         NaN\n",
       "2017-01-19         NaN\n",
       "2017-01-20         NaN\n",
       "2017-01-23    0.022968\n",
       "2017-01-24    0.039230\n",
       "2017-01-25    0.056846\n",
       "2017-01-26    0.053855\n",
       "2017-01-27    0.057560\n",
       "2017-01-30    0.062107\n",
       "2017-01-31    0.040358\n",
       "2017-02-01    0.037749\n",
       "2017-02-02    0.043265\n",
       "2017-02-03    0.047233\n",
       "2017-02-06    0.054317\n",
       "2017-02-07    0.069840\n",
       "2017-02-08    0.032952\n",
       "2017-02-09    0.036134\n",
       "2017-02-10    0.015804\n",
       "2017-02-13    0.006001\n",
       "2017-02-14    0.008228\n",
       "                ...   \n",
       "2018-01-30   -0.003411\n",
       "2018-01-31   -0.003045\n",
       "2018-02-01   -0.004536\n",
       "2018-02-02   -0.029417\n",
       "2018-02-05   -0.095583\n",
       "2018-02-06   -0.081481\n",
       "2018-02-07   -0.052473\n",
       "2018-02-08   -0.092312\n",
       "2018-02-09   -0.100692\n",
       "2018-02-12   -0.084477\n",
       "2018-02-13   -0.088959\n",
       "2018-02-14   -0.075176\n",
       "2018-02-15   -0.064688\n",
       "2018-02-16   -0.045471\n",
       "2018-02-20   -0.052169\n",
       "2018-02-21   -0.051970\n",
       "2018-02-22   -0.036786\n",
       "2018-02-23    0.019603\n",
       "2018-02-26    0.020857\n",
       "2018-02-27    0.017550\n",
       "2018-02-28    0.055830\n",
       "2018-03-01    0.028761\n",
       "2018-03-02    0.020410\n",
       "2018-03-05    0.041128\n",
       "2018-03-06    0.006203\n",
       "2018-03-07    0.014807\n",
       "2018-03-08    0.000192\n",
       "2018-03-09    0.026747\n",
       "2018-03-12    0.040920\n",
       "2018-03-13    0.040084\n",
       "Name: Close, dtype: float64"
      ]
     },
     "execution_count": 16,
     "metadata": {},
     "output_type": "execute_result"
    }
   ],
   "source": [
    "n=13\n",
    "df['Close'].pct_change(n) #n timeperiods percent change"
   ]
  },
  {
   "cell_type": "markdown",
   "metadata": {},
   "source": [
    "<h3>NaN support</h3>\n",
    "Pandas functions can ignore NaNs"
   ]
  },
  {
   "cell_type": "code",
   "execution_count": 58,
   "metadata": {
    "collapsed": false
   },
   "outputs": [
    {
     "data": {
      "text/plain": [
       "-0.0023784633175897812"
      ]
     },
     "execution_count": 58,
     "metadata": {},
     "output_type": "execute_result"
    }
   ],
   "source": [
    "n=13\n",
    "df['Close'].pct_change(n).mean()"
   ]
  },
  {
   "cell_type": "markdown",
   "metadata": {},
   "source": [
    "<h3>Rolling windows</h3>\n",
    "<li>\"rolling\" function extracts rolling windows\n",
    "<li>For example, the 21 period rolling window of the 13 period percent change "
   ]
  },
  {
   "cell_type": "code",
   "execution_count": 59,
   "metadata": {
    "collapsed": false
   },
   "outputs": [
    {
     "data": {
      "text/plain": [
       "Rolling [window=21,center=False,axis=0]"
      ]
     },
     "execution_count": 59,
     "metadata": {},
     "output_type": "execute_result"
    }
   ],
   "source": [
    "df['Close'].pct_change(n).rolling(21)"
   ]
  },
  {
   "cell_type": "markdown",
   "metadata": {},
   "source": [
    "<h4>Calculate something on the rolling windows</h4>"
   ]
  },
  {
   "cell_type": "markdown",
   "metadata": {},
   "source": [
    "<h4>Example: mean (the 21 day moving average of the 13 day percent change)"
   ]
  },
  {
   "cell_type": "code",
   "execution_count": 60,
   "metadata": {
    "collapsed": false,
    "scrolled": true
   },
   "outputs": [
    {
     "data": {
      "text/plain": [
       "Date\n",
       "2017-01-03         NaN\n",
       "2017-01-04         NaN\n",
       "2017-01-05         NaN\n",
       "2017-01-06         NaN\n",
       "2017-01-09         NaN\n",
       "2017-01-10         NaN\n",
       "2017-01-11         NaN\n",
       "2017-01-12         NaN\n",
       "2017-01-13         NaN\n",
       "2017-01-17         NaN\n",
       "2017-01-18         NaN\n",
       "2017-01-19         NaN\n",
       "2017-01-20         NaN\n",
       "2017-01-23         NaN\n",
       "2017-01-24         NaN\n",
       "2017-01-25         NaN\n",
       "2017-01-26         NaN\n",
       "2017-01-27         NaN\n",
       "2017-01-30         NaN\n",
       "2017-01-31         NaN\n",
       "2017-02-01         NaN\n",
       "2017-02-02         NaN\n",
       "2017-02-03         NaN\n",
       "2017-02-06         NaN\n",
       "2017-02-07         NaN\n",
       "2017-02-08         NaN\n",
       "2017-02-09         NaN\n",
       "2017-02-10         NaN\n",
       "2017-02-13         NaN\n",
       "2017-02-14         NaN\n",
       "                ...   \n",
       "2018-01-29    0.047122\n",
       "2018-01-30    0.047196\n",
       "2018-01-31    0.047661\n",
       "2018-02-01    0.048201\n",
       "2018-02-02    0.045384\n",
       "2018-02-05    0.038451\n",
       "2018-02-06    0.031452\n",
       "2018-02-07    0.025804\n",
       "2018-02-08    0.018114\n",
       "2018-02-09    0.009823\n",
       "2018-02-12    0.001808\n",
       "2018-02-13   -0.005750\n",
       "2018-02-14   -0.012764\n",
       "2018-02-15   -0.020671\n",
       "2018-02-16   -0.027498\n",
       "2018-02-20   -0.032760\n",
       "2018-02-21   -0.037812\n",
       "2018-02-22   -0.041896\n",
       "2018-02-23   -0.042043\n",
       "2018-02-26   -0.041923\n",
       "2018-02-27   -0.042215\n",
       "2018-02-28   -0.040419\n",
       "2018-03-01   -0.038887\n",
       "2018-03-02   -0.037770\n",
       "2018-03-05   -0.035596\n",
       "2018-03-06   -0.033900\n",
       "2018-03-07   -0.028643\n",
       "2018-03-08   -0.024754\n",
       "2018-03-09   -0.020982\n",
       "2018-03-12   -0.014637\n",
       "Name: Close, dtype: float64"
      ]
     },
     "execution_count": 60,
     "metadata": {},
     "output_type": "execute_result"
    }
   ],
   "source": [
    "n=13\n",
    "df['Close'].pct_change(n).rolling(21).mean()"
   ]
  },
  {
   "cell_type": "markdown",
   "metadata": {},
   "source": [
    "<h4>Calculate several moving averages and graph them</h4>"
   ]
  },
  {
   "cell_type": "code",
   "execution_count": null,
   "metadata": {
    "collapsed": true
   },
   "outputs": [],
   "source": [
    "ma_8 = df['Close'].pct_change(n).rolling(window=8).mean()\n",
    "ma_13= df['Close'].pct_change(n).rolling(window=13).mean()\n",
    "ma_21= df['Close'].pct_change(n).rolling(window=21).mean()\n",
    "ma_34= df['Close'].pct_change(n).rolling(window=34).mean()\n",
    "ma_55= df['Close'].pct_change(n).rolling(window=55).mean()"
   ]
  },
  {
   "cell_type": "code",
   "execution_count": null,
   "metadata": {
    "collapsed": false
   },
   "outputs": [],
   "source": [
    "ma_8.plot()\n",
    "ma_34.plot()"
   ]
  },
  {
   "cell_type": "markdown",
   "metadata": {},
   "source": [
    "<h2>Linear regression with pandas</h2>\n",
    "<h4>Example: TAN is the ticker for a solar ETF. FSLR, RGSE, and SCTY are tickers of companies that build or lease solar panels. Each has a different business model. We'll use pandas to study the risk reward tradeoff between the 4 investments and also see how correlated they are</h4>"
   ]
  },
  {
   "cell_type": "code",
   "execution_count": null,
   "metadata": {
    "collapsed": false
   },
   "outputs": [],
   "source": [
    "import datetime\n",
    "import pandas_datareader as data\n",
    "start = datetime.datetime(2015,7,1)\n",
    "end = datetime.datetime(2016,6,1)\n",
    "solar_df = data.DataReader(['FSLR', 'TAN','RGSE','SCTY'],'google', start=start,end=end)['Close']"
   ]
  },
  {
   "cell_type": "code",
   "execution_count": null,
   "metadata": {
    "collapsed": false
   },
   "outputs": [],
   "source": [
    "solar_df"
   ]
  },
  {
   "cell_type": "markdown",
   "metadata": {},
   "source": [
    "<h4>Let's calculate returns (the 1 day percent change)</h4>"
   ]
  },
  {
   "cell_type": "code",
   "execution_count": null,
   "metadata": {
    "collapsed": false
   },
   "outputs": [],
   "source": [
    "rets = solar_df.pct_change()\n",
    "print(rets)"
   ]
  },
  {
   "cell_type": "markdown",
   "metadata": {},
   "source": [
    "<h4>Let's visualize the relationship between each stock and the ETF</h4>"
   ]
  },
  {
   "cell_type": "code",
   "execution_count": null,
   "metadata": {
    "collapsed": false
   },
   "outputs": [],
   "source": [
    "import matplotlib.pyplot as plt\n",
    "plt.scatter(rets.FSLR,rets.TAN)"
   ]
  },
  {
   "cell_type": "code",
   "execution_count": null,
   "metadata": {
    "collapsed": false
   },
   "outputs": [],
   "source": [
    "plt.scatter(rets.RGSE,rets.TAN)"
   ]
  },
  {
   "cell_type": "code",
   "execution_count": null,
   "metadata": {
    "collapsed": false
   },
   "outputs": [],
   "source": [
    "plt.scatter(rets.SCTY,rets.TAN)"
   ]
  },
  {
   "cell_type": "markdown",
   "metadata": {},
   "source": [
    "<h4>The correlation matrix</h4>"
   ]
  },
  {
   "cell_type": "code",
   "execution_count": null,
   "metadata": {
    "collapsed": false
   },
   "outputs": [],
   "source": [
    "solar_corr = rets.corr()\n",
    "print(solar_corr)"
   ]
  },
  {
   "cell_type": "markdown",
   "metadata": {},
   "source": [
    "<h3>Basic risk analysis</h3>\n",
    "<h4>We'll plot the mean and std or returns for each ticker to get a sense of the risk return profile</h4>"
   ]
  },
  {
   "cell_type": "code",
   "execution_count": null,
   "metadata": {
    "collapsed": false
   },
   "outputs": [],
   "source": [
    "plt.scatter(rets.mean(), rets.std())\n",
    "plt.xlabel('Expected returns')\n",
    "plt.ylabel('Standard deviations')\n",
    "for label, x, y in zip(rets.columns, rets.mean(), rets.std()):\n",
    "    plt.annotate(\n",
    "        label, \n",
    "        xy = (x, y), xytext = (20, -20),\n",
    "        textcoords = 'offset points', ha = 'right', va = 'bottom',\n",
    "        bbox = dict(boxstyle = 'round,pad=0.5', fc = 'yellow', alpha = 0.5),\n",
    "        arrowprops = dict(arrowstyle = '->', connectionstyle = 'arc3,rad=0'))\n",
    "plt.show()\n"
   ]
  },
  {
   "cell_type": "markdown",
   "metadata": {},
   "source": [
    "<h2>Regressions</h2>\n",
    "http://statsmodels.sourceforge.net/"
   ]
  },
  {
   "cell_type": "markdown",
   "metadata": {},
   "source": [
    "<h3>Steps for regression</h3>\n",
    "<li>Construct y (dependent variable series)\n",
    "<li>Construct matrix (dataframe) of X (independent variable series)\n",
    "<li>Add intercept\n",
    "<li>Model the regression\n",
    "<li>Get the results\n",
    "<h3>The statsmodels library contains various regression packages. We'll use the OLS (Ordinary Least Squares) model"
   ]
  },
  {
   "cell_type": "code",
   "execution_count": null,
   "metadata": {
    "collapsed": false
   },
   "outputs": [],
   "source": [
    "import numpy as np\n",
    "import statsmodels.api as sm\n",
    "X=solar_df[['FSLR','RGSE','SCTY']]\n",
    "X = sm.add_constant(X)\n",
    "y=solar_df['TAN']\n",
    "model = sm.OLS(y,X,missing='drop')\n",
    "result = model.fit()\n",
    "print(result.summary())"
   ]
  },
  {
   "cell_type": "markdown",
   "metadata": {},
   "source": [
    "<h4>Finally plot the fitted line with the actual y values"
   ]
  },
  {
   "cell_type": "code",
   "execution_count": null,
   "metadata": {
    "collapsed": false
   },
   "outputs": [],
   "source": [
    "fig, ax = plt.subplots(figsize=(8,6))\n",
    "ax.plot(y)\n",
    "ax.plot(result.fittedvalues)"
   ]
  },
  {
   "cell_type": "code",
   "execution_count": null,
   "metadata": {
    "collapsed": true
   },
   "outputs": [],
   "source": []
  }
 ],
 "metadata": {
  "kernelspec": {
   "display_name": "Python 3",
   "language": "python",
   "name": "python3"
  },
  "language_info": {
   "codemirror_mode": {
    "name": "ipython",
    "version": 3
   },
   "file_extension": ".py",
   "mimetype": "text/x-python",
   "name": "python",
   "nbconvert_exporter": "python",
   "pygments_lexer": "ipython3",
   "version": "3.6.0"
  }
 },
 "nbformat": 4,
 "nbformat_minor": 2
}
