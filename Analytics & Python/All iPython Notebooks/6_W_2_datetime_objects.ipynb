{
 "cells": [
  {
   "cell_type": "markdown",
   "metadata": {},
   "source": [
    "<h1>datetime library</h1>"
   ]
  },
  {
   "cell_type": "markdown",
   "metadata": {},
   "source": [
    "<li>Time is linear\n",
    "<li>progresses as a straightline trajectory from the big bag\n",
    "<li>to now and into the future"
   ]
  },
  {
   "cell_type": "markdown",
   "metadata": {},
   "source": [
    "<h3>Reasoning about time is important in data analysis</h3>\n",
    "<li>Analyzing financial timeseries data\n",
    "<li>Looking at commuter transit passenger flows by time of day \n",
    "<li>Understanding web traffic by time of day \n",
    "<li>Examining seaonality in department store purchases"
   ]
  },
  {
   "cell_type": "markdown",
   "metadata": {},
   "source": [
    "<h3>The datetime library</h3>\n",
    "<li>understands the relationship between different points of time\n",
    "<li>understands how to do operations on time"
   ]
  },
  {
   "cell_type": "markdown",
   "metadata": {},
   "source": [
    "<h3>Example:</h3>\n",
    "<li>Which is greater? \"10/24/2017\" or \"11/24/2016\""
   ]
  },
  {
   "cell_type": "code",
   "execution_count": 1,
   "metadata": {
    "collapsed": false
   },
   "outputs": [
    {
     "data": {
      "text/plain": [
       "'11/24/2016'"
      ]
     },
     "execution_count": 1,
     "metadata": {},
     "output_type": "execute_result"
    }
   ],
   "source": [
    "d1 = \"10/24/2017\"\n",
    "d2 = \"11/24/2016\"\n",
    "max(d1,d2)"
   ]
  },
  {
   "cell_type": "markdown",
   "metadata": {},
   "source": [
    "<li>How much time has passed?"
   ]
  },
  {
   "cell_type": "code",
   "execution_count": 2,
   "metadata": {
    "collapsed": false
   },
   "outputs": [
    {
     "ename": "TypeError",
     "evalue": "unsupported operand type(s) for -: 'str' and 'str'",
     "output_type": "error",
     "traceback": [
      "\u001b[0;31m---------------------------------------------------------------------------\u001b[0m",
      "\u001b[0;31mTypeError\u001b[0m                                 Traceback (most recent call last)",
      "\u001b[0;32m<ipython-input-2-8e72eafee703>\u001b[0m in \u001b[0;36m<module>\u001b[0;34m()\u001b[0m\n\u001b[0;32m----> 1\u001b[0;31m \u001b[0md1\u001b[0m \u001b[1;33m-\u001b[0m \u001b[0md2\u001b[0m\u001b[1;33m\u001b[0m\u001b[0m\n\u001b[0m",
      "\u001b[0;31mTypeError\u001b[0m: unsupported operand type(s) for -: 'str' and 'str'"
     ]
    }
   ],
   "source": [
    "d1 - d2"
   ]
  },
  {
   "cell_type": "markdown",
   "metadata": {},
   "source": [
    "<h4>Obviously that's not going to work. </h4>\n",
    "<h4>We can't do date operations on strings</h4>\n",
    "<h4>Let's see what happens with datetime</h4>"
   ]
  },
  {
   "cell_type": "code",
   "execution_count": 3,
   "metadata": {
    "collapsed": false
   },
   "outputs": [
    {
     "data": {
      "text/plain": [
       "datetime.date(2017, 10, 24)"
      ]
     },
     "execution_count": 3,
     "metadata": {},
     "output_type": "execute_result"
    }
   ],
   "source": [
    "import datetime\n",
    "d1 = datetime.date(2016,11,24)\n",
    "d2 = datetime.date(2017,10,24)\n",
    "max(d1,d2)"
   ]
  },
  {
   "cell_type": "code",
   "execution_count": 4,
   "metadata": {
    "collapsed": false
   },
   "outputs": [
    {
     "name": "stdout",
     "output_type": "stream",
     "text": [
      "334 days, 0:00:00\n"
     ]
    }
   ],
   "source": [
    "print(d2 - d1)"
   ]
  },
  {
   "cell_type": "markdown",
   "metadata": {
    "collapsed": false
   },
   "source": [
    "<li>datetime objects understand time"
   ]
  },
  {
   "cell_type": "markdown",
   "metadata": {},
   "source": [
    "<h3>The datetime library contains several useful types</h3>\n",
    "<li>date: stores the date (month,day,year)\n",
    "<li>time: stores the time (hours,minutes,seconds)\n",
    "<li>datetime: stores the date as well as the time (month,day,year,hours,minutes,seconds)\n",
    "<li>timedelta: duration between two datetime or date objects"
   ]
  },
  {
   "cell_type": "markdown",
   "metadata": {},
   "source": [
    "<h3>datetime.date</h3>"
   ]
  },
  {
   "cell_type": "code",
   "execution_count": 5,
   "metadata": {
    "collapsed": false
   },
   "outputs": [
    {
     "name": "stdout",
     "output_type": "stream",
     "text": [
      "2000-01-01 2018-02-05\n",
      "We are 6610 days, 0:00:00 days into this century\n"
     ]
    }
   ],
   "source": [
    "import datetime\n",
    "century_start = datetime.date(2000,1,1)\n",
    "today = datetime.date.today()\n",
    "print(century_start,today)\n",
    "print(\"We are\",today-century_start,\"days into this century\")"
   ]
  },
  {
   "cell_type": "markdown",
   "metadata": {},
   "source": [
    "<h3>For a cleaner output</h3>"
   ]
  },
  {
   "cell_type": "code",
   "execution_count": 6,
   "metadata": {
    "collapsed": false
   },
   "outputs": [
    {
     "name": "stdout",
     "output_type": "stream",
     "text": [
      "We are 6610 days into this century\n"
     ]
    }
   ],
   "source": [
    "print(\"We are\",(today-century_start).days,\"days into this century\")"
   ]
  },
  {
   "cell_type": "markdown",
   "metadata": {},
   "source": [
    "<h3>datetime.datetime</h3>"
   ]
  },
  {
   "cell_type": "code",
   "execution_count": 11,
   "metadata": {
    "collapsed": false
   },
   "outputs": [
    {
     "name": "stdout",
     "output_type": "stream",
     "text": [
      "2000-01-01 00:00:00 2018-02-05 15:15:21.037762\n",
      "we are 6610 days, 15:15:21.037762 days, hour, minutes and seconds into this century\n"
     ]
    }
   ],
   "source": [
    "century_start = datetime.datetime(2000,1,1,0,0,0)\n",
    "time_now = datetime.datetime.now()\n",
    "print(century_start,time_now)\n",
    "print(\"we are\",time_now - century_start,\"days, hour, minutes and seconds into this century\")"
   ]
  },
  {
   "cell_type": "markdown",
   "metadata": {},
   "source": [
    "<h4>datetime objects can check validity</h4>\n",
    "<li>A ValueError exception is raised if the object is invalid</li>"
   ]
  },
  {
   "cell_type": "code",
   "execution_count": 12,
   "metadata": {
    "collapsed": false
   },
   "outputs": [
    {
     "ename": "ValueError",
     "evalue": "day is out of range for month",
     "output_type": "error",
     "traceback": [
      "\u001b[0;31m---------------------------------------------------------------------------\u001b[0m",
      "\u001b[0;31mValueError\u001b[0m                                Traceback (most recent call last)",
      "\u001b[0;32m<ipython-input-12-16e372a33db1>\u001b[0m in \u001b[0;36m<module>\u001b[0;34m()\u001b[0m\n\u001b[0;32m----> 1\u001b[0;31m \u001b[0msome_date\u001b[0m\u001b[1;33m=\u001b[0m\u001b[0mdatetime\u001b[0m\u001b[1;33m.\u001b[0m\u001b[0mdate\u001b[0m\u001b[1;33m(\u001b[0m\u001b[1;36m2015\u001b[0m\u001b[1;33m,\u001b[0m\u001b[1;36m2\u001b[0m\u001b[1;33m,\u001b[0m\u001b[1;36m29\u001b[0m\u001b[1;33m)\u001b[0m\u001b[1;33m\u001b[0m\u001b[0m\n\u001b[0m\u001b[1;32m      2\u001b[0m \u001b[1;31m#some_date =datetime.date(2016,2,29)\u001b[0m\u001b[1;33m\u001b[0m\u001b[1;33m\u001b[0m\u001b[0m\n\u001b[1;32m      3\u001b[0m \u001b[1;31m#some_time=datetime.datetime(2015,2,28,23,60,0)\u001b[0m\u001b[1;33m\u001b[0m\u001b[1;33m\u001b[0m\u001b[0m\n",
      "\u001b[0;31mValueError\u001b[0m: day is out of range for month"
     ]
    }
   ],
   "source": [
    "some_date=datetime.date(2015,2,29)\n",
    "#some_date =datetime.date(2016,2,29)\n",
    "#some_time=datetime.datetime(2015,2,28,23,60,0)"
   ]
  },
  {
   "cell_type": "markdown",
   "metadata": {},
   "source": [
    "<h3>datetime.timedelta</h3>\n",
    "<h4>Used to store the duration between two points in time</h4>"
   ]
  },
  {
   "cell_type": "code",
   "execution_count": 13,
   "metadata": {
    "collapsed": false
   },
   "outputs": [
    {
     "name": "stdout",
     "output_type": "stream",
     "text": [
      "days since century start 6610\n",
      "seconds since century start 571158959.157264\n",
      "minutes since century start 9519315.9859544\n",
      "hours since century start 158655.26643257335\n"
     ]
    }
   ],
   "source": [
    "century_start = datetime.datetime(2000,1,1,0,0,0)\n",
    "time_now = datetime.datetime.now()\n",
    "time_since_century_start = time_now - century_start\n",
    "print(\"days since century start\",time_since_century_start.days)\n",
    "print(\"seconds since century start\",time_since_century_start.total_seconds())\n",
    "print(\"minutes since century start\",time_since_century_start.total_seconds()/60)\n",
    "print(\"hours since century start\",time_since_century_start.total_seconds()/60/60)"
   ]
  },
  {
   "cell_type": "markdown",
   "metadata": {},
   "source": [
    "<h3>datetime.time</h3>"
   ]
  },
  {
   "cell_type": "code",
   "execution_count": 14,
   "metadata": {
    "collapsed": false
   },
   "outputs": [
    {
     "name": "stdout",
     "output_type": "stream",
     "text": [
      "15:18:47.417919\n"
     ]
    }
   ],
   "source": [
    "date_and_time_now = datetime.datetime.now()\n",
    "time_now = date_and_time_now.time()\n",
    "print(time_now)"
   ]
  },
  {
   "cell_type": "markdown",
   "metadata": {},
   "source": [
    "<h4>You can do arithmetic operations on datetime objects</h4>\n",
    "<li>You can use timedelta objects to calculate new dates or times from a given date"
   ]
  },
  {
   "cell_type": "code",
   "execution_count": 15,
   "metadata": {
    "collapsed": false
   },
   "outputs": [
    {
     "name": "stdout",
     "output_type": "stream",
     "text": [
      "2018-02-10\n"
     ]
    }
   ],
   "source": [
    "\n",
    "today=datetime.date.today()\n",
    "five_days_later=today+datetime.timedelta(days=5)\n",
    "print(five_days_later)\n"
   ]
  },
  {
   "cell_type": "code",
   "execution_count": 16,
   "metadata": {
    "collapsed": false
   },
   "outputs": [
    {
     "name": "stdout",
     "output_type": "stream",
     "text": [
      "2018-02-05 15:24:11.209741\n"
     ]
    }
   ],
   "source": [
    "now=datetime.datetime.today()\n",
    "five_minutes_and_five_seconds_later = now + datetime.timedelta(minutes=5,seconds=5)\n",
    "print(five_minutes_and_five_seconds_later)"
   ]
  },
  {
   "cell_type": "code",
   "execution_count": 17,
   "metadata": {
    "collapsed": false
   },
   "outputs": [
    {
     "name": "stdout",
     "output_type": "stream",
     "text": [
      "2018-02-05 15:14:04.273248\n"
     ]
    }
   ],
   "source": [
    "now=datetime.datetime.today()\n",
    "five_minutes_and_five_seconds_earlier = now+datetime.timedelta(minutes=-5,seconds=-5)\n",
    "print(five_minutes_and_five_seconds_earlier)"
   ]
  },
  {
   "cell_type": "markdown",
   "metadata": {},
   "source": [
    "<li>But you can't use timedelta on time objects. If you do, you'll get a TypeError exception"
   ]
  },
  {
   "cell_type": "code",
   "execution_count": 18,
   "metadata": {
    "collapsed": false
   },
   "outputs": [
    {
     "name": "stdout",
     "output_type": "stream",
     "text": [
      "15:19:17.713624\n"
     ]
    },
    {
     "ename": "TypeError",
     "evalue": "unsupported operand type(s) for +: 'datetime.time' and 'datetime.timedelta'",
     "output_type": "error",
     "traceback": [
      "\u001b[0;31m---------------------------------------------------------------------------\u001b[0m",
      "\u001b[0;31mTypeError\u001b[0m                                 Traceback (most recent call last)",
      "\u001b[0;32m<ipython-input-18-2dea49afbdf4>\u001b[0m in \u001b[0;36m<module>\u001b[0;34m()\u001b[0m\n\u001b[1;32m      2\u001b[0m \u001b[0mprint\u001b[0m\u001b[1;33m(\u001b[0m\u001b[0mtime_now\u001b[0m\u001b[1;33m)\u001b[0m\u001b[1;33m\u001b[0m\u001b[0m\n\u001b[1;32m      3\u001b[0m \u001b[0mthirty_seconds\u001b[0m\u001b[1;33m=\u001b[0m\u001b[0mdatetime\u001b[0m\u001b[1;33m.\u001b[0m\u001b[0mtimedelta\u001b[0m\u001b[1;33m(\u001b[0m\u001b[0mseconds\u001b[0m\u001b[1;33m=\u001b[0m\u001b[1;36m30\u001b[0m\u001b[1;33m)\u001b[0m\u001b[1;33m\u001b[0m\u001b[0m\n\u001b[0;32m----> 4\u001b[0;31m \u001b[0mtime_later\u001b[0m\u001b[1;33m=\u001b[0m\u001b[0mtime_now\u001b[0m\u001b[1;33m+\u001b[0m\u001b[0mthirty_seconds\u001b[0m\u001b[1;33m\u001b[0m\u001b[0m\n\u001b[0m\u001b[1;32m      5\u001b[0m \u001b[1;31m#Bug or feature?\u001b[0m\u001b[1;33m\u001b[0m\u001b[1;33m\u001b[0m\u001b[0m\n",
      "\u001b[0;31mTypeError\u001b[0m: unsupported operand type(s) for +: 'datetime.time' and 'datetime.timedelta'"
     ]
    }
   ],
   "source": [
    "time_now=datetime.datetime.now().time() #Returns the time component (drops the day)\n",
    "print(time_now)\n",
    "thirty_seconds=datetime.timedelta(seconds=30)\n",
    "time_later=time_now+thirty_seconds\n",
    "#Bug or feature?"
   ]
  },
  {
   "cell_type": "code",
   "execution_count": 19,
   "metadata": {
    "collapsed": false
   },
   "outputs": [],
   "source": [
    "#But this is Python\n",
    "#And we can always get around something by writing a new function!\n",
    "#Let's write a small function to get around this problem\n",
    "def add_to_time(time_object,time_delta):\n",
    "    import datetime\n",
    "    temp_datetime_object = datetime.datetime(500,1,1,time_object.hour,time_object.minute,time_object.second)\n",
    "    #print(temp_datetime_object)\n",
    "    return (temp_datetime_object+time_delta).time()\n",
    "    \n",
    "    \n"
   ]
  },
  {
   "cell_type": "code",
   "execution_count": 20,
   "metadata": {
    "collapsed": false
   },
   "outputs": [
    {
     "name": "stdout",
     "output_type": "stream",
     "text": [
      "15:19:33.529665 15:20:03\n"
     ]
    }
   ],
   "source": [
    "#And test it\n",
    "time_now=datetime.datetime.now().time()\n",
    "thirty_seconds=datetime.timedelta(seconds=30)\n",
    "print(time_now,add_to_time(time_now,thirty_seconds))"
   ]
  },
  {
   "cell_type": "markdown",
   "metadata": {},
   "source": [
    "<h2>datetime and strings</h2>"
   ]
  },
  {
   "cell_type": "raw",
   "metadata": {},
   "source": [
    "More often than not, the program will need to get the date or time from a string:\n",
    "    From a website (bus/train timings)\n",
    "    From a file (date or datetime associated with a stock price)\n",
    "    From the user (from the input statement)\n",
    "\n",
    "Python needs to parse the string so that it correctly creates a date or time object\n"
   ]
  },
  {
   "cell_type": "markdown",
   "metadata": {},
   "source": [
    "<h4>datetime.strptime</h4>\n",
    "<li>datetime.strptime(): grabs time from a string and creates a date or datetime or time object\n",
    "<li>The programmer needs to tell the function what format the string is using\n",
    "<li> See http://pubs.opengroup.org/onlinepubs/009695399/functions/strptime.html for how to specify the format"
   ]
  },
  {
   "cell_type": "code",
   "execution_count": 21,
   "metadata": {
    "collapsed": false
   },
   "outputs": [
    {
     "name": "stdout",
     "output_type": "stream",
     "text": [
      "2003-04-01 00:00:00\n"
     ]
    }
   ],
   "source": [
    "date='01-Apr-03'\n",
    "date_object=datetime.datetime.strptime(date,'%d-%b-%y')\n",
    "print(date_object)"
   ]
  },
  {
   "cell_type": "code",
   "execution_count": 22,
   "metadata": {
    "collapsed": false
   },
   "outputs": [
    {
     "name": "stdout",
     "output_type": "stream",
     "text": [
      "2:15:30\n"
     ]
    }
   ],
   "source": [
    "#Unfortunately, there is no similar thing for time delta\n",
    "#So we have to be creative!\n",
    "bus_travel_time='2:15:30'\n",
    "hours,minutes,seconds=bus_travel_time.split(':')\n",
    "x=datetime.timedelta(hours=int(hours),minutes=int(minutes),seconds=int(seconds))\n",
    "print(x)"
   ]
  },
  {
   "cell_type": "code",
   "execution_count": 23,
   "metadata": {
    "collapsed": true
   },
   "outputs": [],
   "source": [
    "#Or write a function that will do this for a particular format\n",
    "def get_timedelta(time_string):\n",
    "    hours,minutes,seconds = time_string.split(':')\n",
    "    import datetime\n",
    "    return datetime.timedelta(hours=int(hours),minutes=int(minutes),seconds=int(seconds))"
   ]
  },
  {
   "cell_type": "markdown",
   "metadata": {},
   "source": [
    "<h4>datetime.strftime</h4>\n",
    "<li>The strftime function flips the strptime function. It converts a datetime object to a string \n",
    "<li>with the specified format"
   ]
  },
  {
   "cell_type": "code",
   "execution_count": 24,
   "metadata": {
    "collapsed": false
   },
   "outputs": [
    {
     "name": "stdout",
     "output_type": "stream",
     "text": [
      "2018-02-06 14:04:34.264964 02/06/18 14:04:34\n",
      "2018-02-06 14:04:34.264964\n"
     ]
    }
   ],
   "source": [
    "now = datetime.datetime.now()\n",
    "string_now = datetime.datetime.strftime(now,'%m/%d/%y %H:%M:%S')\n",
    "print(now,string_now)\n",
    "print(str(now)) #Or you can use the default conversion\n"
   ]
  },
  {
   "cell_type": "code",
   "execution_count": null,
   "metadata": {
    "collapsed": true
   },
   "outputs": [],
   "source": []
  },
  {
   "cell_type": "code",
   "execution_count": null,
   "metadata": {
    "collapsed": true
   },
   "outputs": [],
   "source": []
  }
 ],
 "metadata": {
  "kernelspec": {
   "display_name": "Python 3",
   "language": "python",
   "name": "python3"
  },
  "language_info": {
   "codemirror_mode": {
    "name": "ipython",
    "version": 3
   },
   "file_extension": ".py",
   "mimetype": "text/x-python",
   "name": "python",
   "nbconvert_exporter": "python",
   "pygments_lexer": "ipython3",
   "version": "3.6.0"
  }
 },
 "nbformat": 4,
 "nbformat_minor": 0
}
