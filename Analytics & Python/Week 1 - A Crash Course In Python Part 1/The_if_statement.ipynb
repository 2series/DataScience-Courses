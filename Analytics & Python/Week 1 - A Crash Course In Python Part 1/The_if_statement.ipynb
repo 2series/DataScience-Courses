{
 "cells": [
  {
   "cell_type": "markdown",
   "metadata": {},
   "source": [
    "<h1>Controling execution using the if statement</h1>"
   ]
  },
  {
   "cell_type": "code",
   "execution_count": 1,
   "metadata": {
    "collapsed": false
   },
   "outputs": [
    {
     "name": "stdout",
     "output_type": "stream",
     "text": [
      "Enter an integer: 9\n",
      "Enter a second integer3\n",
      "9 is divisible by 3\n"
     ]
    }
   ],
   "source": [
    "x = int(input(\"Enter an integer: \"))\n",
    "y = int(input(\"Enter a second integer\"))\n",
    "if x%y == 0:\n",
    "    print(x,\"is divisible by\",y) #This block will execute if the remainder of x/y is zero\n",
    "else:\n",
    "    print(x,\"is not divisible by\",y)"
   ]
  },
  {
   "cell_type": "code",
   "execution_count": 2,
   "metadata": {
    "collapsed": false
   },
   "outputs": [
    {
     "name": "stdout",
     "output_type": "stream",
     "text": [
      "Enter the purchase price of the stock: 9\n",
      "Enter the current price of the stock: 8\n",
      "STOP LOSS: Sell the stock! \n"
     ]
    }
   ],
   "source": [
    "purchase_price = float(input(\"Enter the purchase price of the stock: \"))\n",
    "price_now = float(input(\"Enter the current price of the stock: \"))\n",
    "if price_now < purchase_price * 0.9:\n",
    "    print(\"STOP LOSS: Sell the stock! \")\n",
    "elif price_now > purchase_price * 1.2:\n",
    "    print(\"PROFIT TAKING: Sell the stock!\")\n",
    "else:\n",
    "    print(\"HOLD: Don't do anything!\")"
   ]
  },
  {
   "cell_type": "code",
   "execution_count": 3,
   "metadata": {
    "collapsed": false
   },
   "outputs": [
    {
     "name": "stdout",
     "output_type": "stream",
     "text": [
      "Enter the purchase price of the stock: 8\n",
      "Enter the current price of the stock: 8\n",
      "HOLD: Don't do anything!\n",
      "Your unrealized profit is 0.0 Dollars per share\n",
      "Hope you enjoyed this program!\n"
     ]
    }
   ],
   "source": [
    "purchase_price = float(input(\"Enter the purchase price of the stock: \"))\n",
    "price_now = float(input(\"Enter the current price of the stock: \"))\n",
    "if price_now < purchase_price * 0.9:\n",
    "    print(\"STOP LOSS: Sell the stock! \")\n",
    "    print(\"You've lost\",purchase_price-price_now,\"Dollars per share\")\n",
    "elif price_now > purchase_price * 1.2:\n",
    "    print(\"PROFIT TAKING: Sell the stock!\")\n",
    "    print(\"You've gained\",price_now-purchase_price,\"Dollars per share\")\n",
    "\n",
    "else:\n",
    "    print(\"HOLD: Don't do anything!\")\n",
    "    print(\"Your unrealized profit is\",price_now-purchase_price,\"Dollars per share\")\n",
    "print(\"Hope you enjoyed this program!\")"
   ]
  },
  {
   "cell_type": "code",
   "execution_count": 4,
   "metadata": {
    "collapsed": false
   },
   "outputs": [
    {
     "data": {
      "text/plain": [
       "18.0"
      ]
     },
     "execution_count": 4,
     "metadata": {},
     "output_type": "execute_result"
    }
   ],
   "source": [
    "len(\"Hi there!\")*2**3/4"
   ]
  },
  {
   "cell_type": "code",
   "execution_count": 5,
   "metadata": {
    "collapsed": false
   },
   "outputs": [
    {
     "data": {
      "text/plain": [
       "1"
      ]
     },
     "execution_count": 5,
     "metadata": {},
     "output_type": "execute_result"
    }
   ],
   "source": [
    "5%2"
   ]
  },
  {
   "cell_type": "code",
   "execution_count": null,
   "metadata": {
    "collapsed": true
   },
   "outputs": [],
   "source": []
  }
 ],
 "metadata": {
  "kernelspec": {
   "display_name": "Python 3",
   "language": "python",
   "name": "python3"
  },
  "language_info": {
   "codemirror_mode": {
    "name": "ipython",
    "version": 3
   },
   "file_extension": ".py",
   "mimetype": "text/x-python",
   "name": "python",
   "nbconvert_exporter": "python",
   "pygments_lexer": "ipython3",
   "version": "3.6.0"
  }
 },
 "nbformat": 4,
 "nbformat_minor": 2
}
