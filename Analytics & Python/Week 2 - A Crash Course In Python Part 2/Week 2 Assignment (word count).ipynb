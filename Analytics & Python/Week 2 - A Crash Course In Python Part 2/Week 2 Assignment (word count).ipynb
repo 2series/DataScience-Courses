{
 "cells": [
  {
   "cell_type": "markdown",
   "metadata": {},
   "source": [
    "__INSTRUCTIONS__\n",
    "\n",
    "This assignment test whether you have a basic level of competency in Python. The assignment has one required part. Note that you will have an unlimited amount of submissions.\n",
    "\n",
    "## __I. Word Count (100 points)__\n",
    "\n",
    "The question can be answered using material we've covered in class and with the help of the functions listed in the Notes to the question. \n",
    "\n",
    "__I. Counting the frequency of Words__\n",
    "In this assignment, you will write a function named word_distribution that takes a string as an input and returns a dictionary containing the frequency of each word in the text. Your function should convert all words to lower case and should remove punctuation that occurs at the end of a word. \n",
    "\n",
    "For example if the argument to the function is: \n",
    "\n",
    " \n",
    "\n",
    "text_string = “Hello. How are you? Please say hello if you don’t love me!”\n",
    "\n",
    "your function should return (note that dictionaries are unordered and you may see a different ordering of keys in what your function returns):\n",
    "\n",
    " \n",
    "\n",
    "_{‘hello’: 2, ‘how’:1, ‘are’:1, ‘you’:2, ’please’:1, “don’t”: 1, 'say':1, 'if':1, 'love':1,'me':1}_\n",
    "\n",
    " \n",
    "\n",
    "For the purposes of this assignment, you can assume that words have at most one punctuation symbol at the end or one punctuation symbol at the beginning and ignore punctuation that appears anywhere else. For example:\n",
    "\n",
    "_text_string = \"That's when I saw Jane (John's sister)!\"_\n",
    "\n",
    "should return:\n",
    "\n",
    "\n",
    "_{\"that's\":1, \"when\":1,\"i\":1,\"saw\":1,\"jane\":1, \"john's\":1, \"sister)\":1}_\n",
    "\n",
    "Though __sister)__ is not really a word, we'll accept it for the purposes of this assignment. Don't try to remove more than 1 punctuation symbol at the end of the words, because it would be rejected by the grader.\n",
    "\n",
    " \n",
    "\n",
    "Notes:\n",
    " \n",
    "\n",
    "1. __word.split()__ splits a string on spaces and returns a list. Note that this will concatenate punctuation with words. For the above example, you will get:\n",
    "\n",
    "[‘Hello.’,’How’,’are’,’you?’,…]\n",
    "\n",
    "2. __word = word.lower()__ converts a string into lower case. \n",
    "\n",
    "3. __x.isalpha()__ returns __True__ if a character is a letter of the alphabet and __False__ otherwise\n",
    "\n",
    "<u>What To Submit</u>. wordcount.py which should behave as specified above. Before you submit, the RUN button on Vocareum should help you determine whether or not your program executes correctly on the platform. Submit only one solution for the problem.\n",
    "\n"
   ]
  },
  {
   "cell_type": "code",
   "execution_count": 197,
   "metadata": {
    "collapsed": false
   },
   "outputs": [
    {
     "data": {
      "text/plain": [
       "'Hello. How are you? Please say hello if you don’t love me!'"
      ]
     },
     "execution_count": 197,
     "metadata": {},
     "output_type": "execute_result"
    }
   ],
   "source": [
    "text_string = \"Hello. How are you? Please say hello if you don’t love me!\"\n",
    "#text_string = \"That's when I saw Jane (John's sister)!\"\n",
    "text_string"
   ]
  },
  {
   "cell_type": "code",
   "execution_count": 184,
   "metadata": {
    "collapsed": false
   },
   "outputs": [],
   "source": [
    "words_list = text_string.split()\n",
    "#words_list"
   ]
  },
  {
   "cell_type": "code",
   "execution_count": 185,
   "metadata": {
    "collapsed": false
   },
   "outputs": [],
   "source": [
    "words_list = [words_list[i].lower() for i in range(len(words_list))]\n",
    "#words_list"
   ]
  },
  {
   "cell_type": "code",
   "execution_count": 186,
   "metadata": {
    "collapsed": false
   },
   "outputs": [
    {
     "name": "stdout",
     "output_type": "stream",
     "text": [
      "that's\n",
      "----------\n",
      "(john's\n",
      "----------\n",
      "sister)!\n",
      "----------\n"
     ]
    },
    {
     "data": {
      "text/plain": [
       "[\"that's\", 'when', 'i', 'saw', 'jane', \"john's\", 'sister!']"
      ]
     },
     "execution_count": 186,
     "metadata": {},
     "output_type": "execute_result"
    }
   ],
   "source": [
    "for i in range(len(words_list)):\n",
    "    if not words_list[i].isalpha():\n",
    "        word = words_list[i]\n",
    "        print(word)\n",
    "        for j in word:\n",
    "            if j != \"\\'\" and not j.isalpha():\n",
    "                idx = word.find(j)\n",
    "                words_list[i] = word.replace(word[idx],\"\")\n",
    "                break\n",
    "        print('----------')\n",
    "words_list"
   ]
  },
  {
   "cell_type": "code",
   "execution_count": 173,
   "metadata": {
    "collapsed": false
   },
   "outputs": [
    {
     "name": "stdout",
     "output_type": "stream",
     "text": [
      "{'hello': 2, 'how': 1, 'are': 1, 'you': 2, 'please': 1, 'say': 1, 'if': 1, 'don’t': 1, 'love': 1, 'me': 1}\n"
     ]
    }
   ],
   "source": [
    "words_dict = {}\n",
    "#words_count\n",
    "for word in words_list:\n",
    "    if word in words_dict:\n",
    "        words_dict[word] += 1\n",
    "    else:\n",
    "        words_dict[word] = 1\n",
    "print(words_dict)\n"
   ]
  },
  {
   "cell_type": "markdown",
   "metadata": {},
   "source": [
    "## Project 2 Assignment"
   ]
  },
  {
   "cell_type": "code",
   "execution_count": 208,
   "metadata": {
    "collapsed": false
   },
   "outputs": [],
   "source": [
    "text_string = \"Hello. How are you? Please say hello if you don’t love me!\"\n",
    "text_string = \"That's when I saw Jane (John's sister)!\"\n",
    "text_string\n",
    "\n",
    "def word_distribution(text_string):    \n",
    "    words_list = text_string.split()\n",
    "    words_list = [words_list[i].lower() for i in range(len(words_list))]\n",
    "    for i in range(len(words_list)):\n",
    "        if not words_list[i].isalpha():\n",
    "            word = words_list[i]\n",
    "            for j in word:\n",
    "                if j != \"\\'\" and j != \"’\" and not j.isalpha():\n",
    "                    idx = word.find(j)\n",
    "                    words_list[i] = word.replace(word[idx],\"\")\n",
    "                    #break\n",
    "    words_dict = {}\n",
    "    for word in words_list:\n",
    "        if word in words_dict:\n",
    "            words_dict[word] += 1\n",
    "        else:\n",
    "            words_dict[word] = 1\n",
    "    print(words_dict)    \n",
    "    result = words_dict\n",
    "    return result\n",
    "\n"
   ]
  },
  {
   "cell_type": "code",
   "execution_count": 209,
   "metadata": {
    "collapsed": false
   },
   "outputs": [
    {
     "name": "stdout",
     "output_type": "stream",
     "text": [
      "{\"that's\": 1, 'when': 1, 'i': 1, 'saw': 1, 'jane': 1, \"john's\": 1, 'sister)': 1}\n"
     ]
    },
    {
     "data": {
      "text/plain": [
       "{'i': 1,\n",
       " 'jane': 1,\n",
       " \"john's\": 1,\n",
       " 'saw': 1,\n",
       " 'sister)': 1,\n",
       " \"that's\": 1,\n",
       " 'when': 1}"
      ]
     },
     "execution_count": 209,
     "metadata": {},
     "output_type": "execute_result"
    }
   ],
   "source": [
    "word_distribution(text_string)"
   ]
  },
  {
   "cell_type": "code",
   "execution_count": null,
   "metadata": {
    "collapsed": true
   },
   "outputs": [],
   "source": [
    "{‘hello’: 2, ‘how’:1, ‘are’:1, ‘you’:2, ’please’:1, “don’t”: 1, 'say':1, 'if':1, 'love':1,'me':1}\n",
    "{\"that's\":1, \"when\":1,\"i\":1,\"saw\":1,\"jane\":1, \"john's\":1, \"sister)\":1}"
   ]
  }
 ],
 "metadata": {
  "kernelspec": {
   "display_name": "Python 3",
   "language": "python",
   "name": "python3"
  },
  "language_info": {
   "codemirror_mode": {
    "name": "ipython",
    "version": 3
   },
   "file_extension": ".py",
   "mimetype": "text/x-python",
   "name": "python",
   "nbconvert_exporter": "python",
   "pygments_lexer": "ipython3",
   "version": "3.6.0"
  }
 },
 "nbformat": 4,
 "nbformat_minor": 2
}
