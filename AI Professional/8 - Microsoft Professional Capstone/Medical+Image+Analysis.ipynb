{
 "cells": [
  {
   "cell_type": "markdown",
   "metadata": {},
   "source": [
    "### Deep learning for identifying the orientation Scanned images\n",
    "\n",
    "First we will load the train and test data and create a CTF file"
   ]
  },
  {
   "cell_type": "code",
   "execution_count": 1,
   "metadata": {},
   "outputs": [],
   "source": [
    "import os\n",
    "from PIL import Image\n",
    "import numpy as np\n",
    "import itertools\n",
    "import random\n",
    "import time\n",
    "import matplotlib.pyplot as plt\n",
    "\n",
    "import cntk as C\n",
    "\n",
    "\n",
    "def split_line(line):\n",
    "    splits = line.strip().split(',')\n",
    "    return (splits[0], int(splits[1]))\n",
    "\n",
    "def load_labels_dict(labels_file):\n",
    "    with open(labels_file) as f:\n",
    "        return dict([split_line(line) for line in f.readlines()[1:]])\n",
    "\n",
    "def load_data(data_dir, labels_dict):\n",
    "    for f in os.listdir(data_dir):\n",
    "        key = f[:-4]\n",
    "        label = labels_dict[key]\n",
    "        image = np.array(Image.open(os.path.join(data_dir, f)), dtype = np.int16).flatten()\n",
    "        yield np.hstack([image, int(label)])\n",
    "        \n",
    "def write_to_ctf_file(generator, test_file_name, train_file_name, pct_train = 0.9, rng_seed = 0):\n",
    "    random.seed(rng_seed)\n",
    "    labels = [l for l in map(' '.join, np.eye(4, dtype = np.int16).astype(str))]\n",
    "    with open(test_file_name, 'w') as testf:\n",
    "        with open(train_file_name, 'w') as trainf:\n",
    "            lines = 0\n",
    "            for entry in generator:\n",
    "                rand_num = random.random()\n",
    "                formatted_line = '|labels {} |features {}\\n'.format(labels[int(entry[-1])], ' '.join(entry[:-1].astype(str)))\n",
    "                if rand_num <= pct_train:\n",
    "                    trainf.write(formatted_line)\n",
    "                else:\n",
    "                    testf.write(formatted_line)\n",
    "\n",
    "                lines += 1\n",
    "                if lines % 1000 == 0:                    \n",
    "                    print('Processed {} entries'.format(str(lines)))"
   ]
  },
  {
   "cell_type": "code",
   "execution_count": 2,
   "metadata": {},
   "outputs": [
    {
     "name": "stdout",
     "output_type": "stream",
     "text": [
      "Test and training CTF Files exists, not recreating them again\n",
      "All data CTF Files exists, not recreating it again\n"
     ]
    }
   ],
   "source": [
    "train_data_dir = os.path.join('data', 'train')\n",
    "labels_file = os.path.join('data', 'train_labels.csv')\n",
    "\n",
    "train_file = 'train_data.ctf'\n",
    "test_file = 'test_data.ctf'\n",
    "all_data_file = 'all_data.ctf'\n",
    "\n",
    "labels_dict = load_labels_dict(labels_file)\n",
    "if os.path.exists(train_file) and os.path.exists(test_file):\n",
    "    print(\"Test and training CTF Files exists, not recreating them again\")\n",
    "else:\n",
    "    generator = load_data(train_data_dir, labels_dict)\n",
    "    write_to_ctf_file(generator, test_file, train_file)\n",
    "    \n",
    "    \n",
    "#Created only to enable testing on entire test data to hoping to improve the submission score\n",
    "if os.path.exists(all_data_file):\n",
    "    print(\"All data CTF Files exists, not recreating it again\")\n",
    "else:\n",
    "    generator = load_data(train_data_dir, labels_dict)\n",
    "    labels = [l for l in map(' '.join, np.eye(4, dtype = np.int16).astype(str))]\n",
    "    with open(all_data_file, 'w') as f:\n",
    "            lines = 0\n",
    "            for entry in generator:\n",
    "                formatted_line = '|labels {} |features {}\\n'.format(labels[int(entry[-1])], ' '.join(entry[:-1].astype(str)))\n",
    "                f.write(formatted_line)\n",
    "                lines += 1\n",
    "                if lines % 1000 == 0:                    \n",
    "                    print('Processed {} entries'.format(str(lines)))\n"
   ]
  },
  {
   "cell_type": "code",
   "execution_count": 3,
   "metadata": {},
   "outputs": [],
   "source": [
    "np.random.seed(0)\n",
    "C.cntk_py.set_fixed_random_seed(1)\n",
    "C.cntk_py.force_deterministic_algorithms()\n",
    "num_output_classes = 4\n",
    "input_dim_model = (1, 64, 64)\n",
    "\n",
    "def create_reader(file_path, is_training):\n",
    "    print('Creating reader from file ' + file_path)\n",
    "    ctf = C.io.CTFDeserializer(file_path, C.io.StreamDefs(\n",
    "        labels = C.io.StreamDef(field='labels', shape = 4, is_sparse=False),\n",
    "        features = C.io.StreamDef(field='features', shape = 64 * 64, is_sparse=False),\n",
    "    ))\n",
    "    \n",
    "    return C.io.MinibatchSource(ctf, randomize = is_training, max_sweeps = C.io.INFINITELY_REPEAT if is_training else 1)"
   ]
  },
  {
   "cell_type": "code",
   "execution_count": 4,
   "metadata": {},
   "outputs": [],
   "source": [
    "x = C.input_variable(input_dim_model)\n",
    "y = C.input_variable(num_output_classes)\n",
    "\n",
    "def create_model(features):\n",
    "    with C.layers.default_options(init = C.glorot_uniform(), activation = C.relu):\n",
    "            h = features\n",
    "            h = C.layers.Convolution2D(filter_shape=(5, 5), \n",
    "                           num_filters = 32, \n",
    "                           strides=(2, 2), \n",
    "                           pad=True, name='first_conv')(h)\n",
    "            \n",
    "            h = C.layers.MaxPooling(filter_shape = (5, 5), strides = (2, 2), name = 'pool1')(h)\n",
    "\n",
    "            h = C.layers.Convolution2D(filter_shape=(5, 5), \n",
    "                                       num_filters = 64,\n",
    "                                       strides=(2, 2),\n",
    "                                       pad=True, name='second_conv')(h)\n",
    "            \n",
    "            h = C.layers.MaxPooling(filter_shape = (3, 3), strides = (2, 2), name = 'pool2')(h)\n",
    "\n",
    "            r = C.layers.Dense(num_output_classes, activation = None, name='classify')(h)\n",
    "            return r"
   ]
  },
  {
   "cell_type": "code",
   "execution_count": 5,
   "metadata": {
    "collapsed": true
   },
   "outputs": [],
   "source": [
    "def print_training_progress(trainer, mb, frequency, verbose=1):\n",
    "    training_loss = \"NA\"\n",
    "    eval_error = \"NA\"\n",
    "\n",
    "    if mb % frequency == 0:\n",
    "        training_loss = trainer.previous_minibatch_loss_average\n",
    "        eval_error = trainer.previous_minibatch_evaluation_average\n",
    "        if verbose: \n",
    "            print (\"Minibatch: {0}, Loss: {1:.4f}, Error: {2:.2f}%\".format(mb, training_loss, eval_error*100))        \n",
    "    "
   ]
  },
  {
   "cell_type": "code",
   "execution_count": 6,
   "metadata": {
    "collapsed": true
   },
   "outputs": [],
   "source": [
    "def train_test(train_reader, test_reader, model_func, num_sweeps_to_train_with=10):\n",
    "    \n",
    "    model = model_func(x/255)\n",
    "    \n",
    "    # Instantiate the loss and error function\n",
    "    loss = C.cross_entropy_with_softmax(model, y)\n",
    "    label_error = C.classification_error(model, y)\n",
    "    \n",
    "    # Initialize the parameters for the trainer\n",
    "    minibatch_size = 64    \n",
    "    num_samples_per_sweep = 60000\n",
    "    num_minibatches_to_train = (num_samples_per_sweep * num_sweeps_to_train_with) / minibatch_size\n",
    "   \n",
    "    learning_rate = 0.1\n",
    "    lr_schedule = C.learning_rate_schedule(learning_rate, C.UnitType.minibatch)\n",
    "    learner = C.sgd(model.parameters, lr_schedule)\n",
    "    \n",
    "    trainer = C.Trainer(model, (loss, label_error), [learner])\n",
    "    \n",
    "    \n",
    "    input_map={\n",
    "        y  : train_reader.streams.labels,\n",
    "        x  : train_reader.streams.features\n",
    "    } \n",
    "    \n",
    "    training_progress_output_freq = 500\n",
    "     \n",
    "    \n",
    "    start = time.time()\n",
    "\n",
    "    for i in range(0, int(num_minibatches_to_train)):        \n",
    "        data=train_reader.next_minibatch(minibatch_size, input_map = input_map) \n",
    "        trainer.train_minibatch(data)\n",
    "        print_training_progress(trainer, i, training_progress_output_freq, verbose=1)\n",
    "     \n",
    "    \n",
    "    print(\"Training took {:.1f} sec\".format(time.time() - start))\n",
    "    \n",
    "    \n",
    "    test_input_map = {\n",
    "        y  : test_reader.streams.labels,\n",
    "        x  : test_reader.streams.features\n",
    "    }\n",
    "    \n",
    "    test_minibatch_size = 64\n",
    "    num_samples = 2000\n",
    "    num_minibatches_to_test = num_samples // test_minibatch_size\n",
    "\n",
    "    test_result = 0.0 \n",
    "    for i in range(num_minibatches_to_test):    \n",
    "        data = test_reader.next_minibatch(test_minibatch_size, input_map=test_input_map)        \n",
    "        eval_error = trainer.test_minibatch(data)\n",
    "        test_result = test_result + eval_error\n",
    "\n",
    "    # Average of evaluation errors of all test minibatches\n",
    "    print(\"Average test error: {0:.2f}%\".format(test_result*100 / num_minibatches_to_test))\n",
    "\n",
    "\n"
   ]
  },
  {
   "cell_type": "code",
   "execution_count": 7,
   "metadata": {
    "collapsed": true
   },
   "outputs": [],
   "source": [
    "def do_train_test(model, train_on_all_data = False):    \n",
    "    if train_on_all_data:\n",
    "        reader_train = create_reader(all_data_file, True)\n",
    "    else:\n",
    "        reader_train = create_reader(train_file, True)\n",
    "        \n",
    "    reader_test = create_reader(test_file, False)\n",
    "    train_test(reader_train, reader_test, model)"
   ]
  },
  {
   "cell_type": "code",
   "execution_count": 8,
   "metadata": {},
   "outputs": [
    {
     "name": "stdout",
     "output_type": "stream",
     "text": [
      "pool2 shape is (64, 3, 3)\n",
      "Training 54404 parameters in 6 parameter tensors.\n",
      "Creating reader from file train_data.ctf\n",
      "Creating reader from file test_data.ctf\n",
      "Minibatch: 0, Loss: 1.4199, Error: 78.12%\n",
      "Minibatch: 500, Loss: 0.0753, Error: 1.56%\n",
      "Minibatch: 1000, Loss: 0.0280, Error: 0.00%\n",
      "Minibatch: 1500, Loss: 0.0063, Error: 0.00%\n",
      "Minibatch: 2000, Loss: 0.0069, Error: 0.00%\n",
      "Minibatch: 2500, Loss: 0.0154, Error: 1.56%\n",
      "Minibatch: 3000, Loss: 0.0024, Error: 0.00%\n",
      "Minibatch: 3500, Loss: 0.0089, Error: 0.00%\n",
      "Minibatch: 4000, Loss: 0.0015, Error: 0.00%\n",
      "Minibatch: 4500, Loss: 0.0031, Error: 0.00%\n",
      "Minibatch: 5000, Loss: 0.0121, Error: 0.00%\n",
      "Minibatch: 5500, Loss: 0.0013, Error: 0.00%\n",
      "Minibatch: 6000, Loss: 0.0006, Error: 0.00%\n",
      "Minibatch: 6500, Loss: 0.0010, Error: 0.00%\n",
      "Minibatch: 7000, Loss: 0.0006, Error: 0.00%\n",
      "Minibatch: 7500, Loss: 0.0003, Error: 0.00%\n",
      "Minibatch: 8000, Loss: 0.0001, Error: 0.00%\n",
      "Minibatch: 8500, Loss: 0.0006, Error: 0.00%\n",
      "Minibatch: 9000, Loss: 0.0002, Error: 0.00%\n",
      "Training took 1720.1 sec\n",
      "Average test error: 0.05%\n"
     ]
    }
   ],
   "source": [
    "C.cntk_py.set_fixed_random_seed(1)\n",
    "C.cntk_py.force_deterministic_algorithms()\n",
    "model = create_model(x)\n",
    "print('pool2 shape is ' + str(model.pool2.shape))\n",
    "C.logging.log_number_of_parameters(model)\n",
    "do_train_test(model, train_on_all_data = False)\n",
    "\n",
    "#Test data not relevant here in case we use all data, the tests won't be out of sample\n",
    "#Just done as an attempt improve the submission score using all possible test data after we find the best model \n",
    "#that gave minimum error on validation set\n",
    "#Surprisingly, it didn't improve the score but reduced the score by a fraction.\n",
    "#do_train_test(model, train_on_all_data = True)"
   ]
  },
  {
   "cell_type": "code",
   "execution_count": 9,
   "metadata": {},
   "outputs": [
    {
     "name": "stdout",
     "output_type": "stream",
     "text": [
      "Creating reader from file test_data.ctf\n"
     ]
    },
    {
     "name": "stderr",
     "output_type": "stream",
     "text": [
      "/root/anaconda3/envs/cntk-py35/lib/python3.5/site-packages/cntk/core.py:401: UserWarning: you provided the minibatch data as a list, but your corresponding input variable (uid \"Input3\") has only one dynamic axis (batch axis). To speed up graph execution, please convert the data beforehand into one NumPy array to speed up training.\n",
      "  'training.' % var.uid)\n"
     ]
    }
   ],
   "source": [
    "#Accumulate and display the misclassified \n",
    "#TODO: FIX this\n",
    "test_reader = create_reader(test_file, False)\n",
    "labels = []\n",
    "predictions = []\n",
    "all_images = []\n",
    "for i in range(0, 2000, 500):    \n",
    "    validation_data = test_reader.next_minibatch(500)\n",
    "    features = validation_data[test_reader.streams.features].as_sequences()\n",
    "    all_images += features\n",
    "    l = validation_data[test_reader.streams.labels].as_sequences()\n",
    "    labels += [np.argmax(i.flatten()) for i in l]\n",
    "    images = [i.reshape(1, 64, 64) for i in features]    \n",
    "    preds = model(images)\n",
    "    predictions += [np.argmax(i.flatten()) for i in preds]\n",
    "\n",
    "\n",
    "predictions = np.array(predictions)\n",
    "labels = np.array(labels)\n",
    "mask = predictions != labels\n",
    "mismatch = np.array(all_images)[mask]\n",
    "expected_label = labels[mask]\n",
    "mismatch_pred = predictions[mask]\n",
    "mismatch_images = np.array(all_images)[mask]"
   ]
  },
  {
   "cell_type": "code",
   "execution_count": 10,
   "metadata": {
    "scrolled": false
   },
   "outputs": [
    {
     "data": {
      "image/png": "[encoded data removed]",
      "text/plain": [
       "<matplotlib.figure.Figure at 0x7f61eefded30>"
      ]
     },
     "metadata": {},
     "output_type": "display_data"
    }
   ],
   "source": [
    "%matplotlib inline\n",
    "\n",
    "for i in range(len(expected_label)):\n",
    "    fig = plt.figure(figsize = (8, 6))\n",
    "    ax = fig.gca()\n",
    "    ax.set_title('Expected label ' + str(expected_label[i]) + ', got label ' + str(mismatch_pred[i]))\n",
    "    image = mismatch_images[i]\n",
    "    plt.imshow(image.reshape(64, 64), cmap = 'gray')\n",
    "    plt.axis('off')\n",
    "\n",
    "\n"
   ]
  },
  {
   "cell_type": "code",
   "execution_count": 11,
   "metadata": {},
   "outputs": [
    {
     "name": "stderr",
     "output_type": "stream",
     "text": [
      "/root/anaconda3/envs/cntk-py35/lib/python3.5/site-packages/cntk/core.py:401: UserWarning: you provided the minibatch data as a list, but your corresponding input variable (uid \"Input3\") has only one dynamic axis (batch axis). To speed up graph execution, please convert the data beforehand into one NumPy array to speed up training.\n",
      "  'training.' % var.uid)\n"
     ]
    }
   ],
   "source": [
    "submission_data_dir = os.path.join('data', 'test')\n",
    "submission_file = 'submission_data.ctf'\n",
    "\n",
    "def file_to_ndarray(file_root, imfile):\n",
    "    return (imfile[:-4], np.array(Image.open(os.path.join(file_root, imfile))).reshape((-1, 64, 64)))\n",
    "\n",
    "submission_images = [file_to_ndarray(submission_data_dir, f) for f in os.listdir(submission_data_dir)]\n",
    "submission_images = sorted(submission_images, key = lambda x: x[0])\n",
    "input_images = [x[1].astype(np.float32) / 255 for x in submission_images]\n",
    "\n",
    "all_predictions = []\n",
    "\n",
    "submission_mini_batch_size = 50\n",
    "\n",
    "for i in range(0, 20000, submission_mini_batch_size):\n",
    "    predictions = model(input_images[i:(i + submission_mini_batch_size)])\n",
    "    all_predictions.append(np.argmax(predictions, axis = 1))\n",
    "    \n",
    "all_predictions = [item for sl in all_predictions for item in sl]\n",
    "\n",
    "with open('submission.csv', 'w') as f:\n",
    "    f.write('id,orientation\\n')\n",
    "    for i in range(20000):\n",
    "        f.write(submission_images[i][0] + \",\" + str(all_predictions[i]) + \"\\n\")\n"
   ]
  },
  {
   "cell_type": "code",
   "execution_count": null,
   "metadata": {
    "collapsed": true
   },
   "outputs": [],
   "source": []
  }
 ],
 "metadata": {
  "kernelspec": {
   "display_name": "Python 3",
   "language": "python",
   "name": "python3"
  },
  "language_info": {
   "codemirror_mode": {
    "name": "ipython",
    "version": 3
   },
   "file_extension": ".py",
   "mimetype": "text/x-python",
   "name": "python",
   "nbconvert_exporter": "python",
   "pygments_lexer": "ipython3",
   "version": "3.5.2"
  }
 },
 "nbformat": 4,
 "nbformat_minor": 2
}
