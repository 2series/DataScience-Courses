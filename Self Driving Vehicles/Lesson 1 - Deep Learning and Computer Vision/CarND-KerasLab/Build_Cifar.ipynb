{
 "cells": [
  {
   "cell_type": "code",
   "execution_count": 1,
   "metadata": {
    "collapsed": false
   },
   "outputs": [
    {
     "name": "stdout",
     "output_type": "stream",
     "text": [
      "Modules loaded.\n"
     ]
    }
   ],
   "source": [
    "import pickle\n",
    "import numpy as np\n",
    "import math\n",
    "\n",
    "# Fix error with TF and Keras\n",
    "import tensorflow as tf\n",
    "tf.python.control_flow_ops = tf\n",
    "\n",
    "print('Modules loaded.')"
   ]
  },
  {
   "cell_type": "code",
   "execution_count": 2,
   "metadata": {
    "collapsed": false
   },
   "outputs": [
    {
     "name": "stderr",
     "output_type": "stream",
     "text": [
      "Using TensorFlow backend.\n"
     ]
    }
   ],
   "source": [
    "from keras.models import Sequential \n",
    "from keras.datasets import cifar10\n",
    "(X_train, y_train), (X_test, y_test) = cifar10.load_data()"
   ]
  },
  {
   "cell_type": "code",
   "execution_count": 3,
   "metadata": {
    "collapsed": false
   },
   "outputs": [
    {
     "name": "stdout",
     "output_type": "stream",
     "text": [
      "0 255\n"
     ]
    }
   ],
   "source": [
    "# Check if input is normalized\n",
    "print(np.min(X_train), np.max(X_train))"
   ]
  },
  {
   "cell_type": "code",
   "execution_count": 4,
   "metadata": {
    "collapsed": false
   },
   "outputs": [
    {
     "name": "stdout",
     "output_type": "stream",
     "text": [
      "-0.5 0.5\n"
     ]
    }
   ],
   "source": [
    "# TODO: Normalize the data features to the variable X_normalized\n",
    "def normalize_grayscale(image_data):\n",
    "    a = -0.5\n",
    "    b = 0.5\n",
    "    grayscale_min = 0\n",
    "    grayscale_max = 255\n",
    "    return a + ( ( (image_data - grayscale_min)*(b - a) )/( grayscale_max - grayscale_min ) )\n",
    "\n",
    "X_train_norm= normalize_grayscale(X_train)\n",
    "X_test_norm= normalize_grayscale(X_test)\n",
    "\n",
    "print(np.min(X_train_norm), np.max(X_train_norm))"
   ]
  },
  {
   "cell_type": "code",
   "execution_count": 10,
   "metadata": {
    "collapsed": false
   },
   "outputs": [
    {
     "name": "stdout",
     "output_type": "stream",
     "text": [
      "[[0 0 0 0 0 0 1 0 0 0]\n",
      " [0 0 0 0 0 0 0 0 0 1]\n",
      " [0 0 0 0 0 0 0 0 0 1]\n",
      " [0 0 0 0 1 0 0 0 0 0]\n",
      " [0 1 0 0 0 0 0 0 0 0]\n",
      " [0 1 0 0 0 0 0 0 0 0]\n",
      " [0 0 1 0 0 0 0 0 0 0]\n",
      " [0 0 0 0 0 0 0 1 0 0]\n",
      " [0 0 0 0 0 0 0 0 1 0]\n",
      " [0 0 0 1 0 0 0 0 0 0]]\n"
     ]
    }
   ],
   "source": [
    "# TODO: One Hot encode the labels to the variable y_one_hot\n",
    "from sklearn.preprocessing import LabelBinarizer\n",
    "label_binarizer = LabelBinarizer()\n",
    "y_train_one_hot = label_binarizer.fit_transform(y_train)\n",
    "y_test_one_hot = label_binarizer.fit_transform(y_test)\n",
    "print(y_train_one_hot[:10])"
   ]
  },
  {
   "cell_type": "code",
   "execution_count": 9,
   "metadata": {
    "collapsed": false
   },
   "outputs": [
    {
     "name": "stdout",
     "output_type": "stream",
     "text": [
      "Train on 40000 samples, validate on 10000 samples\n",
      "Epoch 1/10\n",
      "40000/40000 [==============================] - 16s - loss: 1.5973 - acc: 0.4201 - val_loss: 1.3271 - val_acc: 0.5338\n",
      "Epoch 2/10\n",
      "40000/40000 [==============================] - 15s - loss: 1.3301 - acc: 0.5199 - val_loss: 1.2124 - val_acc: 0.5734\n",
      "Epoch 3/10\n",
      "40000/40000 [==============================] - 15s - loss: 1.2338 - acc: 0.5594 - val_loss: 1.1190 - val_acc: 0.6143\n",
      "Epoch 4/10\n",
      "40000/40000 [==============================] - 15s - loss: 1.1632 - acc: 0.5859 - val_loss: 1.0489 - val_acc: 0.6389\n",
      "Epoch 5/10\n",
      "40000/40000 [==============================] - 15s - loss: 1.1108 - acc: 0.6076 - val_loss: 1.0002 - val_acc: 0.6601\n",
      "Epoch 6/10\n",
      "40000/40000 [==============================] - 15s - loss: 1.0660 - acc: 0.6227 - val_loss: 0.9695 - val_acc: 0.6664\n",
      "Epoch 7/10\n",
      "40000/40000 [==============================] - 15s - loss: 1.0302 - acc: 0.6353 - val_loss: 0.9877 - val_acc: 0.6648\n",
      "Epoch 8/10\n",
      "40000/40000 [==============================] - 14s - loss: 1.0078 - acc: 0.6440 - val_loss: 0.9172 - val_acc: 0.6821\n",
      "Epoch 9/10\n",
      "40000/40000 [==============================] - 14s - loss: 0.9862 - acc: 0.6513 - val_loss: 0.9003 - val_acc: 0.6955\n",
      "Epoch 10/10\n",
      "40000/40000 [==============================] - 15s - loss: 0.9583 - acc: 0.6616 - val_loss: 0.8832 - val_acc: 0.7041\n"
     ]
    }
   ],
   "source": [
    "# TODO: Build a model\n",
    "from keras.models import Sequential\n",
    "from keras.models import Sequential\n",
    "from keras.layers.core import Dense, Activation, Flatten, Dropout\n",
    "from keras.layers.convolutional import Convolution2D\n",
    "from keras.layers.pooling import MaxPooling2D\n",
    "\n",
    "model = Sequential()\n",
    "model.add(Convolution2D(32, 3, 3, input_shape=(32, 32, 3)))\n",
    "model.add(MaxPooling2D((2, 2)))\n",
    "model.add(Dropout(0.5))\n",
    "model.add(Activation('relu'))\n",
    "model.add(Convolution2D(32, 3, 3, input_shape=(32, 32, 3)))\n",
    "model.add(MaxPooling2D((2, 2)))\n",
    "model.add(Dropout(0.5))\n",
    "model.add(Activation('relu'))\n",
    "model.add(Flatten())\n",
    "model.add(Dense(128))\n",
    "model.add(Activation('relu'))\n",
    "model.add(Dense(10))\n",
    "model.add(Activation('softmax'))\n",
    "\n",
    "# TODO: Compile and train the model\n",
    "model.compile('adam', 'categorical_crossentropy', ['accuracy'])\n",
    "history = model.fit(X_train_norm, y_train_one_hot, nb_epoch=10, validation_split=0.2)"
   ]
  },
  {
   "cell_type": "code",
   "execution_count": 11,
   "metadata": {
    "collapsed": false
   },
   "outputs": [
    {
     "name": "stdout",
     "output_type": "stream",
     "text": [
      " 9952/10000 [============================>.] - ETA: 0sloss: 0.9002282526016235\n",
      "acc: 0.691\n"
     ]
    }
   ],
   "source": [
    "# TODO: Evaluate model on test data\n",
    "metrics = model.evaluate(X_test_norm, y_test_one_hot)\n",
    "for metric_i in range(len(model.metrics_names)):\n",
    "    metric_name = model.metrics_names[metric_i]\n",
    "    metric_value = metrics[metric_i]\n",
    "    print('{}: {}'.format(metric_name, metric_value))"
   ]
  },
  {
   "cell_type": "code",
   "execution_count": null,
   "metadata": {
    "collapsed": true
   },
   "outputs": [],
   "source": []
  }
 ],
 "metadata": {
  "anaconda-cloud": {},
  "kernelspec": {
   "display_name": "Python [conda env:conda3]",
   "language": "python",
   "name": "conda-env-conda3-py"
  },
  "language_info": {
   "codemirror_mode": {
    "name": "ipython",
    "version": 3
   },
   "file_extension": ".py",
   "mimetype": "text/x-python",
   "name": "python",
   "nbconvert_exporter": "python",
   "pygments_lexer": "ipython3",
   "version": "3.5.2"
  }
 },
 "nbformat": 4,
 "nbformat_minor": 1
}
